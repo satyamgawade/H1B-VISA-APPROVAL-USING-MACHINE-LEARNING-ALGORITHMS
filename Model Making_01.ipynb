{
 "cells": [
  {
   "cell_type": "code",
   "execution_count": 1,
   "id": "d32516f1",
   "metadata": {},
   "outputs": [],
   "source": [
    "# importing necessary libraries\n",
    "import pandas as pd\n",
    "import numpy as np\n",
    "import matplotlib.pyplot as plt\n",
    "import seaborn as sns\n",
    "import warnings as wn"
   ]
  },
  {
   "cell_type": "code",
   "execution_count": 2,
   "id": "b863b4a1",
   "metadata": {},
   "outputs": [],
   "source": [
    "wn.filterwarnings(action='ignore')"
   ]
  },
  {
   "cell_type": "code",
   "execution_count": 3,
   "id": "d52c65b1",
   "metadata": {},
   "outputs": [],
   "source": [
    "from sklearn.model_selection import train_test_split\n",
    "from sklearn.preprocessing import LabelEncoder, OneHotEncoder, StandardScaler, OrdinalEncoder\n",
    "from sklearn.model_selection import GridSearchCV\n",
    "from sklearn.linear_model import LogisticRegressionCV\n",
    "from sklearn.tree import DecisionTreeClassifier\n",
    "from sklearn.ensemble import RandomForestClassifier\n",
    "from sklearn.ensemble import GradientBoostingClassifier\n",
    "from sklearn.ensemble import AdaBoostClassifier\n",
    "from xgboost import XGBClassifier"
   ]
  },
  {
   "cell_type": "code",
   "execution_count": 4,
   "id": "e875a17a",
   "metadata": {},
   "outputs": [],
   "source": [
    "# importing the preprocessed dataset for model making\n",
    "df_input = pd.read_csv('./h1b_for_model_making_01.csv',index_col= None)"
   ]
  },
  {
   "cell_type": "code",
   "execution_count": 5,
   "id": "2f08bdd2",
   "metadata": {},
   "outputs": [
    {
     "data": {
      "text/html": [
       "<div>\n",
       "<style scoped>\n",
       "    .dataframe tbody tr th:only-of-type {\n",
       "        vertical-align: middle;\n",
       "    }\n",
       "\n",
       "    .dataframe tbody tr th {\n",
       "        vertical-align: top;\n",
       "    }\n",
       "\n",
       "    .dataframe thead th {\n",
       "        text-align: right;\n",
       "    }\n",
       "</style>\n",
       "<table border=\"1\" class=\"dataframe\">\n",
       "  <thead>\n",
       "    <tr style=\"text-align: right;\">\n",
       "      <th></th>\n",
       "      <th>Unnamed: 0</th>\n",
       "      <th>CASE_STATUS</th>\n",
       "      <th>EMPLOYER_NAME</th>\n",
       "      <th>SOC_NAME</th>\n",
       "      <th>FULL_TIME_POSITION</th>\n",
       "      <th>PREVAILING_WAGE</th>\n",
       "      <th>YEAR</th>\n",
       "      <th>WORKSITE</th>\n",
       "      <th>DATE</th>\n",
       "      <th>WAGE_CATERGORIZED</th>\n",
       "    </tr>\n",
       "  </thead>\n",
       "  <tbody>\n",
       "    <tr>\n",
       "      <th>0</th>\n",
       "      <td>1373320</td>\n",
       "      <td>CERTIFIED</td>\n",
       "      <td>other</td>\n",
       "      <td>IT Profession</td>\n",
       "      <td>Y</td>\n",
       "      <td>58011.0</td>\n",
       "      <td>2014.0</td>\n",
       "      <td>other</td>\n",
       "      <td>2014-01-01</td>\n",
       "      <td>MEDIUM</td>\n",
       "    </tr>\n",
       "    <tr>\n",
       "      <th>1</th>\n",
       "      <td>1926007</td>\n",
       "      <td>CERTIFIED</td>\n",
       "      <td>infosys limited</td>\n",
       "      <td>IT Profession</td>\n",
       "      <td>Y</td>\n",
       "      <td>70948.8</td>\n",
       "      <td>2013.0</td>\n",
       "      <td>california</td>\n",
       "      <td>2013-01-01</td>\n",
       "      <td>HIGH</td>\n",
       "    </tr>\n",
       "    <tr>\n",
       "      <th>2</th>\n",
       "      <td>1601710</td>\n",
       "      <td>CERTIFIED</td>\n",
       "      <td>tata consultancy services limited</td>\n",
       "      <td>IT Profession</td>\n",
       "      <td>Y</td>\n",
       "      <td>41558.0</td>\n",
       "      <td>2014.0</td>\n",
       "      <td>ohio</td>\n",
       "      <td>2014-01-01</td>\n",
       "      <td>MEDIUM</td>\n",
       "    </tr>\n",
       "    <tr>\n",
       "      <th>3</th>\n",
       "      <td>2417561</td>\n",
       "      <td>CERTIFIED</td>\n",
       "      <td>other</td>\n",
       "      <td>IT Profession</td>\n",
       "      <td>Y</td>\n",
       "      <td>47570.0</td>\n",
       "      <td>2012.0</td>\n",
       "      <td>other</td>\n",
       "      <td>2012-01-01</td>\n",
       "      <td>MEDIUM</td>\n",
       "    </tr>\n",
       "    <tr>\n",
       "      <th>4</th>\n",
       "      <td>2420331</td>\n",
       "      <td>CERTIFIED</td>\n",
       "      <td>other</td>\n",
       "      <td>Architecture &amp; Engineering</td>\n",
       "      <td>Y</td>\n",
       "      <td>55598.0</td>\n",
       "      <td>2012.0</td>\n",
       "      <td>illinois</td>\n",
       "      <td>2012-01-01</td>\n",
       "      <td>MEDIUM</td>\n",
       "    </tr>\n",
       "    <tr>\n",
       "      <th>...</th>\n",
       "      <td>...</td>\n",
       "      <td>...</td>\n",
       "      <td>...</td>\n",
       "      <td>...</td>\n",
       "      <td>...</td>\n",
       "      <td>...</td>\n",
       "      <td>...</td>\n",
       "      <td>...</td>\n",
       "      <td>...</td>\n",
       "      <td>...</td>\n",
       "    </tr>\n",
       "    <tr>\n",
       "      <th>79577</th>\n",
       "      <td>3002354</td>\n",
       "      <td>DENIED</td>\n",
       "      <td>other</td>\n",
       "      <td>Teaching</td>\n",
       "      <td>Y</td>\n",
       "      <td>33134.0</td>\n",
       "      <td>2011.0</td>\n",
       "      <td>ohio</td>\n",
       "      <td>2011-01-01</td>\n",
       "      <td>MEDIUM</td>\n",
       "    </tr>\n",
       "    <tr>\n",
       "      <th>79578</th>\n",
       "      <td>3002355</td>\n",
       "      <td>DENIED</td>\n",
       "      <td>other</td>\n",
       "      <td>IT Profession</td>\n",
       "      <td>Y</td>\n",
       "      <td>43368.0</td>\n",
       "      <td>2011.0</td>\n",
       "      <td>other</td>\n",
       "      <td>2011-01-01</td>\n",
       "      <td>MEDIUM</td>\n",
       "    </tr>\n",
       "    <tr>\n",
       "      <th>79579</th>\n",
       "      <td>3002357</td>\n",
       "      <td>DENIED</td>\n",
       "      <td>other</td>\n",
       "      <td>IT Profession</td>\n",
       "      <td>Y</td>\n",
       "      <td>46488.0</td>\n",
       "      <td>2011.0</td>\n",
       "      <td>texas</td>\n",
       "      <td>2011-01-01</td>\n",
       "      <td>MEDIUM</td>\n",
       "    </tr>\n",
       "    <tr>\n",
       "      <th>79580</th>\n",
       "      <td>3002365</td>\n",
       "      <td>DENIED</td>\n",
       "      <td>other</td>\n",
       "      <td>Medical</td>\n",
       "      <td>Y</td>\n",
       "      <td>38496.0</td>\n",
       "      <td>2011.0</td>\n",
       "      <td>california</td>\n",
       "      <td>2011-01-01</td>\n",
       "      <td>MEDIUM</td>\n",
       "    </tr>\n",
       "    <tr>\n",
       "      <th>79581</th>\n",
       "      <td>3002368</td>\n",
       "      <td>DENIED</td>\n",
       "      <td>other</td>\n",
       "      <td>Medical</td>\n",
       "      <td>Y</td>\n",
       "      <td>50357.0</td>\n",
       "      <td>2011.0</td>\n",
       "      <td>other</td>\n",
       "      <td>2011-01-01</td>\n",
       "      <td>MEDIUM</td>\n",
       "    </tr>\n",
       "  </tbody>\n",
       "</table>\n",
       "<p>79582 rows × 10 columns</p>\n",
       "</div>"
      ],
      "text/plain": [
       "       Unnamed: 0 CASE_STATUS                      EMPLOYER_NAME  \\\n",
       "0         1373320   CERTIFIED                              other   \n",
       "1         1926007   CERTIFIED                    infosys limited   \n",
       "2         1601710   CERTIFIED  tata consultancy services limited   \n",
       "3         2417561   CERTIFIED                              other   \n",
       "4         2420331   CERTIFIED                              other   \n",
       "...           ...         ...                                ...   \n",
       "79577     3002354      DENIED                              other   \n",
       "79578     3002355      DENIED                              other   \n",
       "79579     3002357      DENIED                              other   \n",
       "79580     3002365      DENIED                              other   \n",
       "79581     3002368      DENIED                              other   \n",
       "\n",
       "                         SOC_NAME FULL_TIME_POSITION  PREVAILING_WAGE    YEAR  \\\n",
       "0                   IT Profession                  Y          58011.0  2014.0   \n",
       "1                   IT Profession                  Y          70948.8  2013.0   \n",
       "2                   IT Profession                  Y          41558.0  2014.0   \n",
       "3                   IT Profession                  Y          47570.0  2012.0   \n",
       "4      Architecture & Engineering                  Y          55598.0  2012.0   \n",
       "...                           ...                ...              ...     ...   \n",
       "79577                    Teaching                  Y          33134.0  2011.0   \n",
       "79578               IT Profession                  Y          43368.0  2011.0   \n",
       "79579               IT Profession                  Y          46488.0  2011.0   \n",
       "79580                     Medical                  Y          38496.0  2011.0   \n",
       "79581                     Medical                  Y          50357.0  2011.0   \n",
       "\n",
       "         WORKSITE        DATE WAGE_CATERGORIZED  \n",
       "0           other  2014-01-01            MEDIUM  \n",
       "1      california  2013-01-01              HIGH  \n",
       "2            ohio  2014-01-01            MEDIUM  \n",
       "3           other  2012-01-01            MEDIUM  \n",
       "4        illinois  2012-01-01            MEDIUM  \n",
       "...           ...         ...               ...  \n",
       "79577        ohio  2011-01-01            MEDIUM  \n",
       "79578       other  2011-01-01            MEDIUM  \n",
       "79579       texas  2011-01-01            MEDIUM  \n",
       "79580  california  2011-01-01            MEDIUM  \n",
       "79581       other  2011-01-01            MEDIUM  \n",
       "\n",
       "[79582 rows x 10 columns]"
      ]
     },
     "execution_count": 5,
     "metadata": {},
     "output_type": "execute_result"
    }
   ],
   "source": [
    "df_input"
   ]
  },
  {
   "cell_type": "code",
   "execution_count": 6,
   "id": "bd2bd465",
   "metadata": {},
   "outputs": [
    {
     "data": {
      "text/plain": [
       "Index(['Unnamed: 0', 'CASE_STATUS', 'EMPLOYER_NAME', 'SOC_NAME',\n",
       "       'FULL_TIME_POSITION', 'PREVAILING_WAGE', 'YEAR', 'WORKSITE', 'DATE',\n",
       "       'WAGE_CATERGORIZED'],\n",
       "      dtype='object')"
      ]
     },
     "execution_count": 6,
     "metadata": {},
     "output_type": "execute_result"
    }
   ],
   "source": [
    "df_input.columns"
   ]
  },
  {
   "cell_type": "code",
   "execution_count": 7,
   "id": "a4a1ae2c",
   "metadata": {},
   "outputs": [],
   "source": [
    "df = df_input.drop('Unnamed: 0', axis=1)"
   ]
  },
  {
   "cell_type": "code",
   "execution_count": 8,
   "id": "2e41a1e0",
   "metadata": {},
   "outputs": [
    {
     "data": {
      "text/plain": [
       "Index(['CASE_STATUS', 'EMPLOYER_NAME', 'SOC_NAME', 'FULL_TIME_POSITION',\n",
       "       'PREVAILING_WAGE', 'YEAR', 'WORKSITE', 'DATE', 'WAGE_CATERGORIZED'],\n",
       "      dtype='object')"
      ]
     },
     "execution_count": 8,
     "metadata": {},
     "output_type": "execute_result"
    }
   ],
   "source": [
    "df.columns"
   ]
  },
  {
   "cell_type": "code",
   "execution_count": 9,
   "id": "612f79bc",
   "metadata": {},
   "outputs": [],
   "source": [
    "# Encoding Categorical Data"
   ]
  },
  {
   "cell_type": "code",
   "execution_count": 10,
   "id": "2fa3ed41",
   "metadata": {},
   "outputs": [],
   "source": [
    "le_cols = ['CASE_STATUS', 'EMPLOYER_NAME', 'SOC_NAME', 'WORKSITE', 'FULL_TIME_POSITION', 'WAGE_CATERGORIZED']\n",
    "# we will use label encoder for converting categorical columns to numerical columns"
   ]
  },
  {
   "cell_type": "code",
   "execution_count": 11,
   "id": "64100a9a",
   "metadata": {},
   "outputs": [],
   "source": [
    "le_case_status = LabelEncoder()\n",
    "le_case_status.fit(df['CASE_STATUS'])\n",
    "df['CASE_STATUS_ENCODED'] = le_case_status.transform(df['CASE_STATUS'])"
   ]
  },
  {
   "cell_type": "code",
   "execution_count": 12,
   "id": "ac748ee9",
   "metadata": {},
   "outputs": [
    {
     "name": "stdout",
     "output_type": "stream",
     "text": [
      "['CERTIFIED' 'DENIED']\n",
      "[0 1]\n",
      "2\n"
     ]
    }
   ],
   "source": [
    "print(le_case_status.classes_)\n",
    "print(df['CASE_STATUS_ENCODED'].unique())\n",
    "print(df['CASE_STATUS_ENCODED'].nunique())"
   ]
  },
  {
   "cell_type": "code",
   "execution_count": 13,
   "id": "16218774",
   "metadata": {},
   "outputs": [],
   "source": [
    "le_emp_name = LabelEncoder()\n",
    "le_emp_name.fit(df['EMPLOYER_NAME'])\n",
    "df['EMPLOYER_NAME_ENCODED'] = le_emp_name.transform(df['EMPLOYER_NAME'])"
   ]
  },
  {
   "cell_type": "code",
   "execution_count": 14,
   "id": "19fea03f",
   "metadata": {},
   "outputs": [
    {
     "name": "stdout",
     "output_type": "stream",
     "text": [
      "['accenture llp' 'capgemini america inc'\n",
      " 'cognizant technology solutions us corporation' 'deloitte and touche llp'\n",
      " 'deloitte consulting llp' 'ernst and young us llp' 'fujitsu america inc'\n",
      " 'hcl america inc' 'ibm corporation' 'ibm india private limited'\n",
      " 'igate technologies inc' 'infosys limited' 'intel corporation'\n",
      " 'larsen and toubro infotech limited' 'microsoft corporation' 'other'\n",
      " 'tata consultancy services limited' 'tech mahindra americas inc'\n",
      " 'tech mahindra americasinc' 'ust global inc' 'wipro limited']\n",
      "[15 11 16  9  1  4  6 20  3  2 17 12 13 10  0  5 19  8 18 14  7]\n",
      "21\n"
     ]
    }
   ],
   "source": [
    "print(le_emp_name.classes_)\n",
    "print(df['EMPLOYER_NAME_ENCODED'].unique())\n",
    "print(df['EMPLOYER_NAME_ENCODED'].nunique())"
   ]
  },
  {
   "cell_type": "code",
   "execution_count": 15,
   "id": "67d9ed27",
   "metadata": {},
   "outputs": [],
   "source": [
    "le_soc_name = LabelEncoder()\n",
    "le_soc_name.fit(df['SOC_NAME'])\n",
    "df['SOC_NAME_ENCODED'] = le_soc_name.transform(df['SOC_NAME'])"
   ]
  },
  {
   "cell_type": "code",
   "execution_count": 16,
   "id": "b26f1c14",
   "metadata": {},
   "outputs": [
    {
     "name": "stdout",
     "output_type": "stream",
     "text": [
      "['Advance Science' 'Architecture & Engineering' 'Fashion & Entertainment'\n",
      " 'Finance' 'Food & Service' 'IT Profession' 'Lawyer' 'Management'\n",
      " 'Marketing' 'Mathematician' 'Medical' 'Others' 'Teaching' 'Technician'\n",
      " 'actuaries' 'geographers' 'internists general' 'librarians'\n",
      " 'operation research analysts' 'other' 'psychologists ']\n",
      "[ 5  1 12  7 10  8  3  9 18  0  2  4 16 13 11 19 14 20  6 17 15]\n",
      "21\n"
     ]
    }
   ],
   "source": [
    "print(le_soc_name.classes_)\n",
    "print(df['SOC_NAME_ENCODED'].unique())\n",
    "print(df['SOC_NAME_ENCODED'].nunique())"
   ]
  },
  {
   "cell_type": "code",
   "execution_count": 17,
   "id": "cb638a17",
   "metadata": {},
   "outputs": [],
   "source": [
    "le_worksite = LabelEncoder()\n",
    "le_worksite.fit(df['WORKSITE'])\n",
    "df['WORKSITE_ENCODED'] = le_worksite.transform(df['WORKSITE'])"
   ]
  },
  {
   "cell_type": "code",
   "execution_count": 18,
   "id": "02f3fae1",
   "metadata": {
    "scrolled": true
   },
   "outputs": [
    {
     "name": "stdout",
     "output_type": "stream",
     "text": [
      "['arizona' 'california' 'connecticut' 'florida' 'georgia' 'illinois'\n",
      " 'maryland' 'massachusetts' 'michigan' 'minnesota' 'missouri' 'newjersey'\n",
      " 'newyork' 'northcarolina' 'ohio' 'other' 'pennsylvania' 'texas'\n",
      " 'virginia' 'washington' 'wisconsin']\n",
      "[15  1 14  5 12 17  8 16  7  4  0  2  3 11 13 18 10 20  9 19  6]\n",
      "21\n"
     ]
    }
   ],
   "source": [
    "print(le_worksite.classes_)\n",
    "print(df['WORKSITE_ENCODED'].unique())\n",
    "print(df['WORKSITE_ENCODED'].nunique())"
   ]
  },
  {
   "cell_type": "code",
   "execution_count": 19,
   "id": "0fe46d35",
   "metadata": {},
   "outputs": [],
   "source": [
    "le_fulltime = LabelEncoder()\n",
    "le_fulltime.fit(df['FULL_TIME_POSITION'])\n",
    "df['FULL_TIME_POSITION_ENCODED'] = le_fulltime.transform(df['FULL_TIME_POSITION'])"
   ]
  },
  {
   "cell_type": "code",
   "execution_count": 20,
   "id": "22252009",
   "metadata": {
    "scrolled": true
   },
   "outputs": [
    {
     "name": "stdout",
     "output_type": "stream",
     "text": [
      "['N' 'Y']\n",
      "[1 0]\n",
      "2\n"
     ]
    }
   ],
   "source": [
    "print(le_fulltime.classes_)\n",
    "print(df['FULL_TIME_POSITION_ENCODED'].unique())\n",
    "print(df['FULL_TIME_POSITION_ENCODED'].nunique())"
   ]
  },
  {
   "cell_type": "code",
   "execution_count": 21,
   "id": "5296cf09",
   "metadata": {},
   "outputs": [],
   "source": [
    "oe_wagecat = OrdinalEncoder(categories=[['LOW','MEDIUM','HIGH']], dtype=np.int64)\n",
    "oe_wagecat.fit(df[['WAGE_CATERGORIZED']])\n",
    "df['WAGE_ENCODED'] = oe_wagecat.transform(df[['WAGE_CATERGORIZED']])"
   ]
  },
  {
   "cell_type": "code",
   "execution_count": 22,
   "id": "81ced832",
   "metadata": {},
   "outputs": [
    {
     "name": "stdout",
     "output_type": "stream",
     "text": [
      "[['LOW', 'MEDIUM', 'HIGH']]\n",
      "[1 2 0]\n",
      "3\n"
     ]
    }
   ],
   "source": [
    "print(oe_wagecat.categories)\n",
    "print(df['WAGE_ENCODED'].unique())\n",
    "print(df['WAGE_ENCODED'].nunique())"
   ]
  },
  {
   "cell_type": "code",
   "execution_count": 23,
   "id": "6d5388de",
   "metadata": {
    "scrolled": true
   },
   "outputs": [
    {
     "data": {
      "text/html": [
       "<div>\n",
       "<style scoped>\n",
       "    .dataframe tbody tr th:only-of-type {\n",
       "        vertical-align: middle;\n",
       "    }\n",
       "\n",
       "    .dataframe tbody tr th {\n",
       "        vertical-align: top;\n",
       "    }\n",
       "\n",
       "    .dataframe thead th {\n",
       "        text-align: right;\n",
       "    }\n",
       "</style>\n",
       "<table border=\"1\" class=\"dataframe\">\n",
       "  <thead>\n",
       "    <tr style=\"text-align: right;\">\n",
       "      <th></th>\n",
       "      <th>CASE_STATUS</th>\n",
       "      <th>EMPLOYER_NAME</th>\n",
       "      <th>SOC_NAME</th>\n",
       "      <th>FULL_TIME_POSITION</th>\n",
       "      <th>PREVAILING_WAGE</th>\n",
       "      <th>YEAR</th>\n",
       "      <th>WORKSITE</th>\n",
       "      <th>DATE</th>\n",
       "      <th>WAGE_CATERGORIZED</th>\n",
       "      <th>CASE_STATUS_ENCODED</th>\n",
       "      <th>EMPLOYER_NAME_ENCODED</th>\n",
       "      <th>SOC_NAME_ENCODED</th>\n",
       "      <th>WORKSITE_ENCODED</th>\n",
       "      <th>FULL_TIME_POSITION_ENCODED</th>\n",
       "      <th>WAGE_ENCODED</th>\n",
       "    </tr>\n",
       "  </thead>\n",
       "  <tbody>\n",
       "    <tr>\n",
       "      <th>0</th>\n",
       "      <td>CERTIFIED</td>\n",
       "      <td>other</td>\n",
       "      <td>IT Profession</td>\n",
       "      <td>Y</td>\n",
       "      <td>58011.0</td>\n",
       "      <td>2014.0</td>\n",
       "      <td>other</td>\n",
       "      <td>2014-01-01</td>\n",
       "      <td>MEDIUM</td>\n",
       "      <td>0</td>\n",
       "      <td>15</td>\n",
       "      <td>5</td>\n",
       "      <td>15</td>\n",
       "      <td>1</td>\n",
       "      <td>1</td>\n",
       "    </tr>\n",
       "    <tr>\n",
       "      <th>1</th>\n",
       "      <td>CERTIFIED</td>\n",
       "      <td>infosys limited</td>\n",
       "      <td>IT Profession</td>\n",
       "      <td>Y</td>\n",
       "      <td>70948.8</td>\n",
       "      <td>2013.0</td>\n",
       "      <td>california</td>\n",
       "      <td>2013-01-01</td>\n",
       "      <td>HIGH</td>\n",
       "      <td>0</td>\n",
       "      <td>11</td>\n",
       "      <td>5</td>\n",
       "      <td>1</td>\n",
       "      <td>1</td>\n",
       "      <td>2</td>\n",
       "    </tr>\n",
       "    <tr>\n",
       "      <th>2</th>\n",
       "      <td>CERTIFIED</td>\n",
       "      <td>tata consultancy services limited</td>\n",
       "      <td>IT Profession</td>\n",
       "      <td>Y</td>\n",
       "      <td>41558.0</td>\n",
       "      <td>2014.0</td>\n",
       "      <td>ohio</td>\n",
       "      <td>2014-01-01</td>\n",
       "      <td>MEDIUM</td>\n",
       "      <td>0</td>\n",
       "      <td>16</td>\n",
       "      <td>5</td>\n",
       "      <td>14</td>\n",
       "      <td>1</td>\n",
       "      <td>1</td>\n",
       "    </tr>\n",
       "    <tr>\n",
       "      <th>3</th>\n",
       "      <td>CERTIFIED</td>\n",
       "      <td>other</td>\n",
       "      <td>IT Profession</td>\n",
       "      <td>Y</td>\n",
       "      <td>47570.0</td>\n",
       "      <td>2012.0</td>\n",
       "      <td>other</td>\n",
       "      <td>2012-01-01</td>\n",
       "      <td>MEDIUM</td>\n",
       "      <td>0</td>\n",
       "      <td>15</td>\n",
       "      <td>5</td>\n",
       "      <td>15</td>\n",
       "      <td>1</td>\n",
       "      <td>1</td>\n",
       "    </tr>\n",
       "    <tr>\n",
       "      <th>4</th>\n",
       "      <td>CERTIFIED</td>\n",
       "      <td>other</td>\n",
       "      <td>Architecture &amp; Engineering</td>\n",
       "      <td>Y</td>\n",
       "      <td>55598.0</td>\n",
       "      <td>2012.0</td>\n",
       "      <td>illinois</td>\n",
       "      <td>2012-01-01</td>\n",
       "      <td>MEDIUM</td>\n",
       "      <td>0</td>\n",
       "      <td>15</td>\n",
       "      <td>1</td>\n",
       "      <td>5</td>\n",
       "      <td>1</td>\n",
       "      <td>1</td>\n",
       "    </tr>\n",
       "  </tbody>\n",
       "</table>\n",
       "</div>"
      ],
      "text/plain": [
       "  CASE_STATUS                      EMPLOYER_NAME                    SOC_NAME  \\\n",
       "0   CERTIFIED                              other               IT Profession   \n",
       "1   CERTIFIED                    infosys limited               IT Profession   \n",
       "2   CERTIFIED  tata consultancy services limited               IT Profession   \n",
       "3   CERTIFIED                              other               IT Profession   \n",
       "4   CERTIFIED                              other  Architecture & Engineering   \n",
       "\n",
       "  FULL_TIME_POSITION  PREVAILING_WAGE    YEAR    WORKSITE        DATE  \\\n",
       "0                  Y          58011.0  2014.0       other  2014-01-01   \n",
       "1                  Y          70948.8  2013.0  california  2013-01-01   \n",
       "2                  Y          41558.0  2014.0        ohio  2014-01-01   \n",
       "3                  Y          47570.0  2012.0       other  2012-01-01   \n",
       "4                  Y          55598.0  2012.0    illinois  2012-01-01   \n",
       "\n",
       "  WAGE_CATERGORIZED  CASE_STATUS_ENCODED  EMPLOYER_NAME_ENCODED  \\\n",
       "0            MEDIUM                    0                     15   \n",
       "1              HIGH                    0                     11   \n",
       "2            MEDIUM                    0                     16   \n",
       "3            MEDIUM                    0                     15   \n",
       "4            MEDIUM                    0                     15   \n",
       "\n",
       "   SOC_NAME_ENCODED  WORKSITE_ENCODED  FULL_TIME_POSITION_ENCODED  \\\n",
       "0                 5                15                           1   \n",
       "1                 5                 1                           1   \n",
       "2                 5                14                           1   \n",
       "3                 5                15                           1   \n",
       "4                 1                 5                           1   \n",
       "\n",
       "   WAGE_ENCODED  \n",
       "0             1  \n",
       "1             2  \n",
       "2             1  \n",
       "3             1  \n",
       "4             1  "
      ]
     },
     "execution_count": 23,
     "metadata": {},
     "output_type": "execute_result"
    }
   ],
   "source": [
    "df.head()"
   ]
  },
  {
   "cell_type": "code",
   "execution_count": 24,
   "id": "b7b49a74",
   "metadata": {},
   "outputs": [
    {
     "data": {
      "text/plain": [
       "CERTIFIED    55761\n",
       "DENIED       23821\n",
       "Name: CASE_STATUS, dtype: int64"
      ]
     },
     "execution_count": 24,
     "metadata": {},
     "output_type": "execute_result"
    }
   ],
   "source": [
    "df['CASE_STATUS'].value_counts()"
   ]
  },
  {
   "cell_type": "code",
   "execution_count": 25,
   "id": "a2eda7fc",
   "metadata": {},
   "outputs": [
    {
     "data": {
      "text/html": [
       "<div>\n",
       "<style scoped>\n",
       "    .dataframe tbody tr th:only-of-type {\n",
       "        vertical-align: middle;\n",
       "    }\n",
       "\n",
       "    .dataframe tbody tr th {\n",
       "        vertical-align: top;\n",
       "    }\n",
       "\n",
       "    .dataframe thead th {\n",
       "        text-align: right;\n",
       "    }\n",
       "</style>\n",
       "<table border=\"1\" class=\"dataframe\">\n",
       "  <thead>\n",
       "    <tr style=\"text-align: right;\">\n",
       "      <th></th>\n",
       "      <th>Feature</th>\n",
       "      <th>Chi_Square</th>\n",
       "      <th>P_val</th>\n",
       "    </tr>\n",
       "  </thead>\n",
       "  <tbody>\n",
       "    <tr>\n",
       "      <th>0</th>\n",
       "      <td>FULL_TIME_POSITION_ENCODED</td>\n",
       "      <td>51.220268</td>\n",
       "      <td>0.00000</td>\n",
       "    </tr>\n",
       "    <tr>\n",
       "      <th>1</th>\n",
       "      <td>EMPLOYER_NAME_ENCODED</td>\n",
       "      <td>213.522631</td>\n",
       "      <td>0.00000</td>\n",
       "    </tr>\n",
       "    <tr>\n",
       "      <th>2</th>\n",
       "      <td>SOC_NAME_ENCODED</td>\n",
       "      <td>663.793458</td>\n",
       "      <td>0.00000</td>\n",
       "    </tr>\n",
       "    <tr>\n",
       "      <th>4</th>\n",
       "      <td>WAGE_ENCODED</td>\n",
       "      <td>46.044732</td>\n",
       "      <td>0.00000</td>\n",
       "    </tr>\n",
       "    <tr>\n",
       "      <th>3</th>\n",
       "      <td>WORKSITE_ENCODED</td>\n",
       "      <td>0.006353</td>\n",
       "      <td>0.93647</td>\n",
       "    </tr>\n",
       "  </tbody>\n",
       "</table>\n",
       "</div>"
      ],
      "text/plain": [
       "                      Feature  Chi_Square    P_val\n",
       "0  FULL_TIME_POSITION_ENCODED   51.220268  0.00000\n",
       "1       EMPLOYER_NAME_ENCODED  213.522631  0.00000\n",
       "2            SOC_NAME_ENCODED  663.793458  0.00000\n",
       "4                WAGE_ENCODED   46.044732  0.00000\n",
       "3            WORKSITE_ENCODED    0.006353  0.93647"
      ]
     },
     "execution_count": 25,
     "metadata": {},
     "output_type": "execute_result"
    },
    {
     "data": {
      "image/png": "[encoded data removed]",
      "text/plain": [
       "<Figure size 432x288 with 1 Axes>"
      ]
     },
     "metadata": {
      "needs_background": "light"
     },
     "output_type": "display_data"
    }
   ],
   "source": [
    "# using chi square test to check which categorical column is important with categorical output variable\n",
    "# df.info()\n",
    "from sklearn.feature_selection import mutual_info_classif\n",
    "xchi = df[['FULL_TIME_POSITION_ENCODED','EMPLOYER_NAME_ENCODED','SOC_NAME_ENCODED','WORKSITE_ENCODED', 'WAGE_ENCODED']]\n",
    "ychi = df['CASE_STATUS_ENCODED']\n",
    "array = mutual_info_classif(xchi,ychi)\n",
    "s1 = pd.Series(array)\n",
    "s1.index = xchi.columns\n",
    "s1.sort_values(ascending=True).plot(kind = 'barh')\n",
    "\n",
    "# chi2\n",
    "from sklearn.feature_selection import SelectKBest,chi2\n",
    "\n",
    "best_features = SelectKBest(score_func=chi2,k = 'all')\n",
    "best_features.fit(xchi,ychi)\n",
    "\n",
    "df_chi2 = pd.DataFrame({'Feature':xchi.columns,\"Chi_Square\":best_features.scores_})\n",
    "df_chi2.sort_values('Chi_Square',ascending=False)\n",
    "\n",
    "chi2_score, p_val = chi2(xchi,ychi)\n",
    "df_chi2 = pd.DataFrame({'Feature':xchi.columns,\"Chi_Square\":chi2_score,'P_val':np.around(p_val,5)})\n",
    "df_chi2.sort_values('P_val')"
   ]
  },
  {
   "cell_type": "code",
   "execution_count": 26,
   "id": "658e6ffc",
   "metadata": {},
   "outputs": [],
   "source": [
    "# Since, from the Chi Square Test it is visible that the P Value for the worksite column is 0.93, hence we can \n",
    "# from this column if needed, we will check and confirm and then drop"
   ]
  },
  {
   "cell_type": "code",
   "execution_count": 27,
   "id": "4c06a7bd",
   "metadata": {},
   "outputs": [
    {
     "data": {
      "text/html": [
       "<div>\n",
       "<style scoped>\n",
       "    .dataframe tbody tr th:only-of-type {\n",
       "        vertical-align: middle;\n",
       "    }\n",
       "\n",
       "    .dataframe tbody tr th {\n",
       "        vertical-align: top;\n",
       "    }\n",
       "\n",
       "    .dataframe thead th {\n",
       "        text-align: right;\n",
       "    }\n",
       "</style>\n",
       "<table border=\"1\" class=\"dataframe\">\n",
       "  <thead>\n",
       "    <tr style=\"text-align: right;\">\n",
       "      <th></th>\n",
       "      <th>CASE_STATUS</th>\n",
       "      <th>EMPLOYER_NAME</th>\n",
       "      <th>SOC_NAME</th>\n",
       "      <th>FULL_TIME_POSITION</th>\n",
       "      <th>PREVAILING_WAGE</th>\n",
       "      <th>YEAR</th>\n",
       "      <th>WORKSITE</th>\n",
       "      <th>DATE</th>\n",
       "      <th>WAGE_CATERGORIZED</th>\n",
       "      <th>CASE_STATUS_ENCODED</th>\n",
       "      <th>EMPLOYER_NAME_ENCODED</th>\n",
       "      <th>SOC_NAME_ENCODED</th>\n",
       "      <th>WORKSITE_ENCODED</th>\n",
       "      <th>FULL_TIME_POSITION_ENCODED</th>\n",
       "      <th>WAGE_ENCODED</th>\n",
       "    </tr>\n",
       "  </thead>\n",
       "  <tbody>\n",
       "    <tr>\n",
       "      <th>0</th>\n",
       "      <td>CERTIFIED</td>\n",
       "      <td>other</td>\n",
       "      <td>IT Profession</td>\n",
       "      <td>Y</td>\n",
       "      <td>58011.0</td>\n",
       "      <td>2014.0</td>\n",
       "      <td>other</td>\n",
       "      <td>2014-01-01</td>\n",
       "      <td>MEDIUM</td>\n",
       "      <td>0</td>\n",
       "      <td>15</td>\n",
       "      <td>5</td>\n",
       "      <td>15</td>\n",
       "      <td>1</td>\n",
       "      <td>1</td>\n",
       "    </tr>\n",
       "    <tr>\n",
       "      <th>1</th>\n",
       "      <td>CERTIFIED</td>\n",
       "      <td>infosys limited</td>\n",
       "      <td>IT Profession</td>\n",
       "      <td>Y</td>\n",
       "      <td>70948.8</td>\n",
       "      <td>2013.0</td>\n",
       "      <td>california</td>\n",
       "      <td>2013-01-01</td>\n",
       "      <td>HIGH</td>\n",
       "      <td>0</td>\n",
       "      <td>11</td>\n",
       "      <td>5</td>\n",
       "      <td>1</td>\n",
       "      <td>1</td>\n",
       "      <td>2</td>\n",
       "    </tr>\n",
       "    <tr>\n",
       "      <th>2</th>\n",
       "      <td>CERTIFIED</td>\n",
       "      <td>tata consultancy services limited</td>\n",
       "      <td>IT Profession</td>\n",
       "      <td>Y</td>\n",
       "      <td>41558.0</td>\n",
       "      <td>2014.0</td>\n",
       "      <td>ohio</td>\n",
       "      <td>2014-01-01</td>\n",
       "      <td>MEDIUM</td>\n",
       "      <td>0</td>\n",
       "      <td>16</td>\n",
       "      <td>5</td>\n",
       "      <td>14</td>\n",
       "      <td>1</td>\n",
       "      <td>1</td>\n",
       "    </tr>\n",
       "    <tr>\n",
       "      <th>3</th>\n",
       "      <td>CERTIFIED</td>\n",
       "      <td>other</td>\n",
       "      <td>IT Profession</td>\n",
       "      <td>Y</td>\n",
       "      <td>47570.0</td>\n",
       "      <td>2012.0</td>\n",
       "      <td>other</td>\n",
       "      <td>2012-01-01</td>\n",
       "      <td>MEDIUM</td>\n",
       "      <td>0</td>\n",
       "      <td>15</td>\n",
       "      <td>5</td>\n",
       "      <td>15</td>\n",
       "      <td>1</td>\n",
       "      <td>1</td>\n",
       "    </tr>\n",
       "    <tr>\n",
       "      <th>4</th>\n",
       "      <td>CERTIFIED</td>\n",
       "      <td>other</td>\n",
       "      <td>Architecture &amp; Engineering</td>\n",
       "      <td>Y</td>\n",
       "      <td>55598.0</td>\n",
       "      <td>2012.0</td>\n",
       "      <td>illinois</td>\n",
       "      <td>2012-01-01</td>\n",
       "      <td>MEDIUM</td>\n",
       "      <td>0</td>\n",
       "      <td>15</td>\n",
       "      <td>1</td>\n",
       "      <td>5</td>\n",
       "      <td>1</td>\n",
       "      <td>1</td>\n",
       "    </tr>\n",
       "  </tbody>\n",
       "</table>\n",
       "</div>"
      ],
      "text/plain": [
       "  CASE_STATUS                      EMPLOYER_NAME                    SOC_NAME  \\\n",
       "0   CERTIFIED                              other               IT Profession   \n",
       "1   CERTIFIED                    infosys limited               IT Profession   \n",
       "2   CERTIFIED  tata consultancy services limited               IT Profession   \n",
       "3   CERTIFIED                              other               IT Profession   \n",
       "4   CERTIFIED                              other  Architecture & Engineering   \n",
       "\n",
       "  FULL_TIME_POSITION  PREVAILING_WAGE    YEAR    WORKSITE        DATE  \\\n",
       "0                  Y          58011.0  2014.0       other  2014-01-01   \n",
       "1                  Y          70948.8  2013.0  california  2013-01-01   \n",
       "2                  Y          41558.0  2014.0        ohio  2014-01-01   \n",
       "3                  Y          47570.0  2012.0       other  2012-01-01   \n",
       "4                  Y          55598.0  2012.0    illinois  2012-01-01   \n",
       "\n",
       "  WAGE_CATERGORIZED  CASE_STATUS_ENCODED  EMPLOYER_NAME_ENCODED  \\\n",
       "0            MEDIUM                    0                     15   \n",
       "1              HIGH                    0                     11   \n",
       "2            MEDIUM                    0                     16   \n",
       "3            MEDIUM                    0                     15   \n",
       "4            MEDIUM                    0                     15   \n",
       "\n",
       "   SOC_NAME_ENCODED  WORKSITE_ENCODED  FULL_TIME_POSITION_ENCODED  \\\n",
       "0                 5                15                           1   \n",
       "1                 5                 1                           1   \n",
       "2                 5                14                           1   \n",
       "3                 5                15                           1   \n",
       "4                 1                 5                           1   \n",
       "\n",
       "   WAGE_ENCODED  \n",
       "0             1  \n",
       "1             2  \n",
       "2             1  \n",
       "3             1  \n",
       "4             1  "
      ]
     },
     "execution_count": 27,
     "metadata": {},
     "output_type": "execute_result"
    }
   ],
   "source": [
    "df.head()"
   ]
  },
  {
   "cell_type": "code",
   "execution_count": 28,
   "id": "6d50a73c",
   "metadata": {},
   "outputs": [
    {
     "data": {
      "text/plain": [
       "0    55761\n",
       "1    23821\n",
       "Name: CASE_STATUS_ENCODED, dtype: int64"
      ]
     },
     "execution_count": 28,
     "metadata": {},
     "output_type": "execute_result"
    }
   ],
   "source": [
    "df['CASE_STATUS_ENCODED'].value_counts()"
   ]
  },
  {
   "cell_type": "code",
   "execution_count": 29,
   "id": "6c09c6c9",
   "metadata": {},
   "outputs": [],
   "source": [
    "# using standard scaler for converting the values into standard normal range for faster convergence of model\n",
    "from sklearn.preprocessing import StandardScaler\n",
    "s_sc = StandardScaler()"
   ]
  },
  {
   "cell_type": "code",
   "execution_count": 30,
   "id": "14ca623d",
   "metadata": {},
   "outputs": [
    {
     "data": {
      "text/plain": [
       "2"
      ]
     },
     "execution_count": 30,
     "metadata": {},
     "output_type": "execute_result"
    }
   ],
   "source": [
    "df[['PREVAILING_WAGE']].ndim"
   ]
  },
  {
   "cell_type": "code",
   "execution_count": 31,
   "id": "bdabf939",
   "metadata": {},
   "outputs": [],
   "source": [
    "s_sc.fit(df[['PREVAILING_WAGE']])\n",
    "df['PREVAILING_WAGE_SCALED'] = s_sc.transform(df[['PREVAILING_WAGE',]])"
   ]
  },
  {
   "cell_type": "code",
   "execution_count": 32,
   "id": "9f3870e4",
   "metadata": {},
   "outputs": [
    {
     "data": {
      "text/plain": [
       "Index(['CASE_STATUS', 'EMPLOYER_NAME', 'SOC_NAME', 'FULL_TIME_POSITION',\n",
       "       'PREVAILING_WAGE', 'YEAR', 'WORKSITE', 'DATE', 'WAGE_CATERGORIZED',\n",
       "       'CASE_STATUS_ENCODED', 'EMPLOYER_NAME_ENCODED', 'SOC_NAME_ENCODED',\n",
       "       'WORKSITE_ENCODED', 'FULL_TIME_POSITION_ENCODED', 'WAGE_ENCODED',\n",
       "       'PREVAILING_WAGE_SCALED'],\n",
       "      dtype='object')"
      ]
     },
     "execution_count": 32,
     "metadata": {},
     "output_type": "execute_result"
    }
   ],
   "source": [
    "df.columns"
   ]
  },
  {
   "cell_type": "code",
   "execution_count": 33,
   "id": "b20d05db",
   "metadata": {},
   "outputs": [],
   "source": [
    "final_cols = ['PREVAILING_WAGE_SCALED', 'CASE_STATUS_ENCODED', 'FULL_TIME_POSITION_ENCODED',\n",
    "       'EMPLOYER_NAME_ENCODED', 'SOC_NAME_ENCODED', 'WORKSITE_ENCODED', 'WAGE_ENCODED']"
   ]
  },
  {
   "cell_type": "code",
   "execution_count": 34,
   "id": "daece2b7",
   "metadata": {},
   "outputs": [
    {
     "data": {
      "text/plain": [
       "['PREVAILING_WAGE_SCALED',\n",
       " 'CASE_STATUS_ENCODED',\n",
       " 'FULL_TIME_POSITION_ENCODED',\n",
       " 'EMPLOYER_NAME_ENCODED',\n",
       " 'SOC_NAME_ENCODED',\n",
       " 'WORKSITE_ENCODED',\n",
       " 'WAGE_ENCODED']"
      ]
     },
     "execution_count": 34,
     "metadata": {},
     "output_type": "execute_result"
    }
   ],
   "source": [
    "final_cols"
   ]
  },
  {
   "cell_type": "code",
   "execution_count": 35,
   "id": "3ef2a1d6",
   "metadata": {},
   "outputs": [
    {
     "data": {
      "text/html": [
       "<div>\n",
       "<style scoped>\n",
       "    .dataframe tbody tr th:only-of-type {\n",
       "        vertical-align: middle;\n",
       "    }\n",
       "\n",
       "    .dataframe tbody tr th {\n",
       "        vertical-align: top;\n",
       "    }\n",
       "\n",
       "    .dataframe thead th {\n",
       "        text-align: right;\n",
       "    }\n",
       "</style>\n",
       "<table border=\"1\" class=\"dataframe\">\n",
       "  <thead>\n",
       "    <tr style=\"text-align: right;\">\n",
       "      <th></th>\n",
       "      <th>PREVAILING_WAGE_SCALED</th>\n",
       "      <th>CASE_STATUS_ENCODED</th>\n",
       "      <th>FULL_TIME_POSITION_ENCODED</th>\n",
       "      <th>EMPLOYER_NAME_ENCODED</th>\n",
       "      <th>SOC_NAME_ENCODED</th>\n",
       "      <th>WORKSITE_ENCODED</th>\n",
       "      <th>WAGE_ENCODED</th>\n",
       "    </tr>\n",
       "  </thead>\n",
       "  <tbody>\n",
       "    <tr>\n",
       "      <th>0</th>\n",
       "      <td>-0.372412</td>\n",
       "      <td>0</td>\n",
       "      <td>1</td>\n",
       "      <td>15</td>\n",
       "      <td>5</td>\n",
       "      <td>15</td>\n",
       "      <td>1</td>\n",
       "    </tr>\n",
       "    <tr>\n",
       "      <th>1</th>\n",
       "      <td>0.513339</td>\n",
       "      <td>0</td>\n",
       "      <td>1</td>\n",
       "      <td>11</td>\n",
       "      <td>5</td>\n",
       "      <td>1</td>\n",
       "      <td>2</td>\n",
       "    </tr>\n",
       "    <tr>\n",
       "      <th>2</th>\n",
       "      <td>-1.498822</td>\n",
       "      <td>0</td>\n",
       "      <td>1</td>\n",
       "      <td>16</td>\n",
       "      <td>5</td>\n",
       "      <td>14</td>\n",
       "      <td>1</td>\n",
       "    </tr>\n",
       "    <tr>\n",
       "      <th>3</th>\n",
       "      <td>-1.087227</td>\n",
       "      <td>0</td>\n",
       "      <td>1</td>\n",
       "      <td>15</td>\n",
       "      <td>5</td>\n",
       "      <td>15</td>\n",
       "      <td>1</td>\n",
       "    </tr>\n",
       "    <tr>\n",
       "      <th>4</th>\n",
       "      <td>-0.537611</td>\n",
       "      <td>0</td>\n",
       "      <td>1</td>\n",
       "      <td>15</td>\n",
       "      <td>1</td>\n",
       "      <td>5</td>\n",
       "      <td>1</td>\n",
       "    </tr>\n",
       "    <tr>\n",
       "      <th>...</th>\n",
       "      <td>...</td>\n",
       "      <td>...</td>\n",
       "      <td>...</td>\n",
       "      <td>...</td>\n",
       "      <td>...</td>\n",
       "      <td>...</td>\n",
       "      <td>...</td>\n",
       "    </tr>\n",
       "    <tr>\n",
       "      <th>79577</th>\n",
       "      <td>-2.075548</td>\n",
       "      <td>1</td>\n",
       "      <td>1</td>\n",
       "      <td>15</td>\n",
       "      <td>12</td>\n",
       "      <td>14</td>\n",
       "      <td>1</td>\n",
       "    </tr>\n",
       "    <tr>\n",
       "      <th>79578</th>\n",
       "      <td>-1.374905</td>\n",
       "      <td>1</td>\n",
       "      <td>1</td>\n",
       "      <td>15</td>\n",
       "      <td>5</td>\n",
       "      <td>15</td>\n",
       "      <td>1</td>\n",
       "    </tr>\n",
       "    <tr>\n",
       "      <th>79579</th>\n",
       "      <td>-1.161303</td>\n",
       "      <td>1</td>\n",
       "      <td>1</td>\n",
       "      <td>15</td>\n",
       "      <td>5</td>\n",
       "      <td>17</td>\n",
       "      <td>1</td>\n",
       "    </tr>\n",
       "    <tr>\n",
       "      <th>79580</th>\n",
       "      <td>-1.708453</td>\n",
       "      <td>1</td>\n",
       "      <td>1</td>\n",
       "      <td>15</td>\n",
       "      <td>10</td>\n",
       "      <td>1</td>\n",
       "      <td>1</td>\n",
       "    </tr>\n",
       "    <tr>\n",
       "      <th>79581</th>\n",
       "      <td>-0.896422</td>\n",
       "      <td>1</td>\n",
       "      <td>1</td>\n",
       "      <td>15</td>\n",
       "      <td>10</td>\n",
       "      <td>15</td>\n",
       "      <td>1</td>\n",
       "    </tr>\n",
       "  </tbody>\n",
       "</table>\n",
       "<p>79582 rows × 7 columns</p>\n",
       "</div>"
      ],
      "text/plain": [
       "       PREVAILING_WAGE_SCALED  CASE_STATUS_ENCODED  \\\n",
       "0                   -0.372412                    0   \n",
       "1                    0.513339                    0   \n",
       "2                   -1.498822                    0   \n",
       "3                   -1.087227                    0   \n",
       "4                   -0.537611                    0   \n",
       "...                       ...                  ...   \n",
       "79577               -2.075548                    1   \n",
       "79578               -1.374905                    1   \n",
       "79579               -1.161303                    1   \n",
       "79580               -1.708453                    1   \n",
       "79581               -0.896422                    1   \n",
       "\n",
       "       FULL_TIME_POSITION_ENCODED  EMPLOYER_NAME_ENCODED  SOC_NAME_ENCODED  \\\n",
       "0                               1                     15                 5   \n",
       "1                               1                     11                 5   \n",
       "2                               1                     16                 5   \n",
       "3                               1                     15                 5   \n",
       "4                               1                     15                 1   \n",
       "...                           ...                    ...               ...   \n",
       "79577                           1                     15                12   \n",
       "79578                           1                     15                 5   \n",
       "79579                           1                     15                 5   \n",
       "79580                           1                     15                10   \n",
       "79581                           1                     15                10   \n",
       "\n",
       "       WORKSITE_ENCODED  WAGE_ENCODED  \n",
       "0                    15             1  \n",
       "1                     1             2  \n",
       "2                    14             1  \n",
       "3                    15             1  \n",
       "4                     5             1  \n",
       "...                 ...           ...  \n",
       "79577                14             1  \n",
       "79578                15             1  \n",
       "79579                17             1  \n",
       "79580                 1             1  \n",
       "79581                15             1  \n",
       "\n",
       "[79582 rows x 7 columns]"
      ]
     },
     "execution_count": 35,
     "metadata": {},
     "output_type": "execute_result"
    }
   ],
   "source": [
    "df[final_cols]"
   ]
  },
  {
   "cell_type": "code",
   "execution_count": 36,
   "id": "0b15c8fe",
   "metadata": {
    "scrolled": true
   },
   "outputs": [
    {
     "data": {
      "text/plain": [
       "0    55761\n",
       "1    23821\n",
       "Name: CASE_STATUS_ENCODED, dtype: int64"
      ]
     },
     "execution_count": 36,
     "metadata": {},
     "output_type": "execute_result"
    }
   ],
   "source": [
    "df['CASE_STATUS_ENCODED'].value_counts()"
   ]
  },
  {
   "cell_type": "code",
   "execution_count": 37,
   "id": "abce6e42",
   "metadata": {
    "scrolled": true
   },
   "outputs": [
    {
     "name": "stdout",
     "output_type": "stream",
     "text": [
      "Original class distribution: Counter({0: 55761, 1: 23821})\n",
      "Resampled class distribution: Counter({0: 55761, 1: 55761})\n"
     ]
    }
   ],
   "source": [
    "# we will do upsampling in our dataset as our dataset is imbalanced\n",
    "from imblearn import over_sampling,under_sampling\n",
    "from imblearn.over_sampling import SMOTE\n",
    "from collections import Counter\n",
    "\n",
    "X = df[['PREVAILING_WAGE_SCALED',\n",
    "        'FULL_TIME_POSITION_ENCODED',\n",
    "        'EMPLOYER_NAME_ENCODED',\n",
    "        'SOC_NAME_ENCODED',\n",
    "        'WORKSITE_ENCODED',\n",
    "        'WAGE_ENCODED']]\n",
    "\n",
    "y = df['CASE_STATUS_ENCODED']\n",
    "\n",
    "# Print the original class distribution\n",
    "print(\"Original class distribution:\", Counter(y))\n",
    "\n",
    "# Instantiate the SMOTE algorithm\n",
    "smote = SMOTE(sampling_strategy='auto', random_state=42)\n",
    "\n",
    "# Apply SMOTE to generate synthetic samples\n",
    "X_resampled, y_resampled = smote.fit_resample(X, y)\n",
    "\n",
    "# Print the resampled class distribution\n",
    "print(\"Resampled class distribution:\", Counter(y_resampled))"
   ]
  },
  {
   "cell_type": "code",
   "execution_count": 38,
   "id": "6becc50a",
   "metadata": {},
   "outputs": [],
   "source": [
    "# we will use this resampled data from model making\n",
    "# also we will see results with worksite dropped and present in the accuracy and then decide wether to use it or not"
   ]
  },
  {
   "cell_type": "code",
   "execution_count": 39,
   "id": "8e9d905f",
   "metadata": {},
   "outputs": [
    {
     "data": {
      "text/html": [
       "<div>\n",
       "<style scoped>\n",
       "    .dataframe tbody tr th:only-of-type {\n",
       "        vertical-align: middle;\n",
       "    }\n",
       "\n",
       "    .dataframe tbody tr th {\n",
       "        vertical-align: top;\n",
       "    }\n",
       "\n",
       "    .dataframe thead th {\n",
       "        text-align: right;\n",
       "    }\n",
       "</style>\n",
       "<table border=\"1\" class=\"dataframe\">\n",
       "  <thead>\n",
       "    <tr style=\"text-align: right;\">\n",
       "      <th></th>\n",
       "      <th>PREVAILING_WAGE_SCALED</th>\n",
       "      <th>FULL_TIME_POSITION_ENCODED</th>\n",
       "      <th>EMPLOYER_NAME_ENCODED</th>\n",
       "      <th>SOC_NAME_ENCODED</th>\n",
       "      <th>WORKSITE_ENCODED</th>\n",
       "      <th>WAGE_ENCODED</th>\n",
       "    </tr>\n",
       "  </thead>\n",
       "  <tbody>\n",
       "    <tr>\n",
       "      <th>0</th>\n",
       "      <td>-0.372412</td>\n",
       "      <td>1</td>\n",
       "      <td>15</td>\n",
       "      <td>5</td>\n",
       "      <td>15</td>\n",
       "      <td>1</td>\n",
       "    </tr>\n",
       "    <tr>\n",
       "      <th>1</th>\n",
       "      <td>0.513339</td>\n",
       "      <td>1</td>\n",
       "      <td>11</td>\n",
       "      <td>5</td>\n",
       "      <td>1</td>\n",
       "      <td>2</td>\n",
       "    </tr>\n",
       "    <tr>\n",
       "      <th>2</th>\n",
       "      <td>-1.498822</td>\n",
       "      <td>1</td>\n",
       "      <td>16</td>\n",
       "      <td>5</td>\n",
       "      <td>14</td>\n",
       "      <td>1</td>\n",
       "    </tr>\n",
       "    <tr>\n",
       "      <th>3</th>\n",
       "      <td>-1.087227</td>\n",
       "      <td>1</td>\n",
       "      <td>15</td>\n",
       "      <td>5</td>\n",
       "      <td>15</td>\n",
       "      <td>1</td>\n",
       "    </tr>\n",
       "    <tr>\n",
       "      <th>4</th>\n",
       "      <td>-0.537611</td>\n",
       "      <td>1</td>\n",
       "      <td>15</td>\n",
       "      <td>1</td>\n",
       "      <td>5</td>\n",
       "      <td>1</td>\n",
       "    </tr>\n",
       "    <tr>\n",
       "      <th>...</th>\n",
       "      <td>...</td>\n",
       "      <td>...</td>\n",
       "      <td>...</td>\n",
       "      <td>...</td>\n",
       "      <td>...</td>\n",
       "      <td>...</td>\n",
       "    </tr>\n",
       "    <tr>\n",
       "      <th>111517</th>\n",
       "      <td>-1.114338</td>\n",
       "      <td>1</td>\n",
       "      <td>15</td>\n",
       "      <td>5</td>\n",
       "      <td>5</td>\n",
       "      <td>1</td>\n",
       "    </tr>\n",
       "    <tr>\n",
       "      <th>111518</th>\n",
       "      <td>-2.350854</td>\n",
       "      <td>1</td>\n",
       "      <td>15</td>\n",
       "      <td>10</td>\n",
       "      <td>16</td>\n",
       "      <td>0</td>\n",
       "    </tr>\n",
       "    <tr>\n",
       "      <th>111519</th>\n",
       "      <td>1.000843</td>\n",
       "      <td>1</td>\n",
       "      <td>15</td>\n",
       "      <td>5</td>\n",
       "      <td>12</td>\n",
       "      <td>2</td>\n",
       "    </tr>\n",
       "    <tr>\n",
       "      <th>111520</th>\n",
       "      <td>-0.324009</td>\n",
       "      <td>1</td>\n",
       "      <td>15</td>\n",
       "      <td>5</td>\n",
       "      <td>2</td>\n",
       "      <td>1</td>\n",
       "    </tr>\n",
       "    <tr>\n",
       "      <th>111521</th>\n",
       "      <td>1.066554</td>\n",
       "      <td>1</td>\n",
       "      <td>15</td>\n",
       "      <td>5</td>\n",
       "      <td>3</td>\n",
       "      <td>2</td>\n",
       "    </tr>\n",
       "  </tbody>\n",
       "</table>\n",
       "<p>111522 rows × 6 columns</p>\n",
       "</div>"
      ],
      "text/plain": [
       "        PREVAILING_WAGE_SCALED  FULL_TIME_POSITION_ENCODED  \\\n",
       "0                    -0.372412                           1   \n",
       "1                     0.513339                           1   \n",
       "2                    -1.498822                           1   \n",
       "3                    -1.087227                           1   \n",
       "4                    -0.537611                           1   \n",
       "...                        ...                         ...   \n",
       "111517               -1.114338                           1   \n",
       "111518               -2.350854                           1   \n",
       "111519                1.000843                           1   \n",
       "111520               -0.324009                           1   \n",
       "111521                1.066554                           1   \n",
       "\n",
       "        EMPLOYER_NAME_ENCODED  SOC_NAME_ENCODED  WORKSITE_ENCODED  \\\n",
       "0                          15                 5                15   \n",
       "1                          11                 5                 1   \n",
       "2                          16                 5                14   \n",
       "3                          15                 5                15   \n",
       "4                          15                 1                 5   \n",
       "...                       ...               ...               ...   \n",
       "111517                     15                 5                 5   \n",
       "111518                     15                10                16   \n",
       "111519                     15                 5                12   \n",
       "111520                     15                 5                 2   \n",
       "111521                     15                 5                 3   \n",
       "\n",
       "        WAGE_ENCODED  \n",
       "0                  1  \n",
       "1                  2  \n",
       "2                  1  \n",
       "3                  1  \n",
       "4                  1  \n",
       "...              ...  \n",
       "111517             1  \n",
       "111518             0  \n",
       "111519             2  \n",
       "111520             1  \n",
       "111521             2  \n",
       "\n",
       "[111522 rows x 6 columns]"
      ]
     },
     "execution_count": 39,
     "metadata": {},
     "output_type": "execute_result"
    }
   ],
   "source": [
    "X_resampled"
   ]
  },
  {
   "cell_type": "code",
   "execution_count": 40,
   "id": "8965de2b",
   "metadata": {},
   "outputs": [
    {
     "data": {
      "text/plain": [
       "0         0\n",
       "1         0\n",
       "2         0\n",
       "3         0\n",
       "4         0\n",
       "         ..\n",
       "111517    1\n",
       "111518    1\n",
       "111519    1\n",
       "111520    1\n",
       "111521    1\n",
       "Name: CASE_STATUS_ENCODED, Length: 111522, dtype: int32"
      ]
     },
     "execution_count": 40,
     "metadata": {},
     "output_type": "execute_result"
    }
   ],
   "source": [
    "y_resampled"
   ]
  },
  {
   "cell_type": "code",
   "execution_count": 41,
   "id": "ee8b686f",
   "metadata": {},
   "outputs": [],
   "source": [
    "from sklearn.model_selection import train_test_split\n",
    "X_train, X_test, y_train, y_test = train_test_split(X_resampled, y_resampled, test_size = 0.3, random_state = 123456789)"
   ]
  },
  {
   "cell_type": "code",
   "execution_count": 42,
   "id": "59261ac1",
   "metadata": {},
   "outputs": [
    {
     "data": {
      "text/plain": [
       "((78065, 6), (33457, 6), (78065,), (33457,))"
      ]
     },
     "execution_count": 42,
     "metadata": {},
     "output_type": "execute_result"
    }
   ],
   "source": [
    "X_train.shape, X_test.shape, y_train.shape, y_test.shape"
   ]
  },
  {
   "cell_type": "code",
   "execution_count": 43,
   "id": "6dd77d47",
   "metadata": {},
   "outputs": [],
   "source": [
    "# For plotting roc graph & area under curve\n",
    "from sklearn.metrics import roc_curve\n",
    "from sklearn.metrics import auc\n",
    "def roc_curve_graph(X_test,y_test,model):\n",
    "    preds = model.predict_proba(X_test) [:,1]\n",
    "    #Compute Receiver operating characteristic (ROC) curve\n",
    "    fpr, tpr, threshold = roc_curve(y_test, preds)\n",
    "    #ROC Score\n",
    "    roc_auc = auc(fpr, tpr)\n",
    "    plt.title('Receiver Operating Characteristic (ROC)')\n",
    "    plt.plot(fpr, tpr, 'b', label = 'AUC = %0.2f' % roc_auc)\n",
    "    plt.legend(loc = 'lower right')\n",
    "    plt.plot([0, 1], [0, 1],'r--')\n",
    "    plt.xlim([0, 1])\n",
    "    plt.ylim([0, 1])\n",
    "    plt.ylabel('True Positive Rate')\n",
    "    plt.xlabel('False Positive Rate')\n",
    "    plt.show()"
   ]
  },
  {
   "cell_type": "code",
   "execution_count": 44,
   "id": "7dcba431",
   "metadata": {},
   "outputs": [],
   "source": [
    "# Defining Evaluation metrics \n",
    "def evaluate_model(model):\n",
    "    from sklearn.metrics import accuracy_score, precision_score, recall_score, f1_score\n",
    "    from sklearn.metrics import classification_report, confusion_matrix, roc_auc_score\n",
    "\n",
    "    y_true = y_test\n",
    "    y_pred = model.predict(X_test)\n",
    "    \n",
    "    accuracy = accuracy_score(y_true, y_pred)\n",
    "    precision = precision_score(y_true, y_pred)\n",
    "    recall = recall_score(y_true, y_pred)\n",
    "    f1 = f1_score(y_true, y_pred)\n",
    "    auc = roc_auc_score(y_true, y_pred)\n",
    "    # print(\"Confusion Matrix :\\n\")\n",
    "    # print(confusion_matrix(y_test,y_pred))\n",
    "    print(f\"accuracy : {accuracy:0.2f}\")\n",
    "    print(f\"precision : {precision:0.2f}\")\n",
    "    print(f\"recall : {recall:0.2f}\")\n",
    "    print(f\"f1 score : {f1:0.2f}\")\n",
    "    print(f\"auc score : {auc:0.2f}\")"
   ]
  },
  {
   "cell_type": "code",
   "execution_count": 45,
   "id": "bca595a5",
   "metadata": {},
   "outputs": [],
   "source": [
    "# Model 1, Logistic Regression Model"
   ]
  },
  {
   "cell_type": "code",
   "execution_count": 46,
   "id": "b7f630ef",
   "metadata": {},
   "outputs": [],
   "source": [
    "model_logistic_regression = LogisticRegressionCV()"
   ]
  },
  {
   "cell_type": "code",
   "execution_count": 47,
   "id": "4ea21b71",
   "metadata": {},
   "outputs": [
    {
     "data": {
      "text/html": [
       "<style>#sk-container-id-1 {color: black;}#sk-container-id-1 pre{padding: 0;}#sk-container-id-1 div.sk-toggleable {background-color: white;}#sk-container-id-1 label.sk-toggleable__label {cursor: pointer;display: block;width: 100%;margin-bottom: 0;padding: 0.3em;box-sizing: border-box;text-align: center;}#sk-container-id-1 label.sk-toggleable__label-arrow:before {content: \"▸\";float: left;margin-right: 0.25em;color: #696969;}#sk-container-id-1 label.sk-toggleable__label-arrow:hover:before {color: black;}#sk-container-id-1 div.sk-estimator:hover label.sk-toggleable__label-arrow:before {color: black;}#sk-container-id-1 div.sk-toggleable__content {max-height: 0;max-width: 0;overflow: hidden;text-align: left;background-color: #f0f8ff;}#sk-container-id-1 div.sk-toggleable__content pre {margin: 0.2em;color: black;border-radius: 0.25em;background-color: #f0f8ff;}#sk-container-id-1 input.sk-toggleable__control:checked~div.sk-toggleable__content {max-height: 200px;max-width: 100%;overflow: auto;}#sk-container-id-1 input.sk-toggleable__control:checked~label.sk-toggleable__label-arrow:before {content: \"▾\";}#sk-container-id-1 div.sk-estimator input.sk-toggleable__control:checked~label.sk-toggleable__label {background-color: #d4ebff;}#sk-container-id-1 div.sk-label input.sk-toggleable__control:checked~label.sk-toggleable__label {background-color: #d4ebff;}#sk-container-id-1 input.sk-hidden--visually {border: 0;clip: rect(1px 1px 1px 1px);clip: rect(1px, 1px, 1px, 1px);height: 1px;margin: -1px;overflow: hidden;padding: 0;position: absolute;width: 1px;}#sk-container-id-1 div.sk-estimator {font-family: monospace;background-color: #f0f8ff;border: 1px dotted black;border-radius: 0.25em;box-sizing: border-box;margin-bottom: 0.5em;}#sk-container-id-1 div.sk-estimator:hover {background-color: #d4ebff;}#sk-container-id-1 div.sk-parallel-item::after {content: \"\";width: 100%;border-bottom: 1px solid gray;flex-grow: 1;}#sk-container-id-1 div.sk-label:hover label.sk-toggleable__label {background-color: #d4ebff;}#sk-container-id-1 div.sk-serial::before {content: \"\";position: absolute;border-left: 1px solid gray;box-sizing: border-box;top: 0;bottom: 0;left: 50%;z-index: 0;}#sk-container-id-1 div.sk-serial {display: flex;flex-direction: column;align-items: center;background-color: white;padding-right: 0.2em;padding-left: 0.2em;position: relative;}#sk-container-id-1 div.sk-item {position: relative;z-index: 1;}#sk-container-id-1 div.sk-parallel {display: flex;align-items: stretch;justify-content: center;background-color: white;position: relative;}#sk-container-id-1 div.sk-item::before, #sk-container-id-1 div.sk-parallel-item::before {content: \"\";position: absolute;border-left: 1px solid gray;box-sizing: border-box;top: 0;bottom: 0;left: 50%;z-index: -1;}#sk-container-id-1 div.sk-parallel-item {display: flex;flex-direction: column;z-index: 1;position: relative;background-color: white;}#sk-container-id-1 div.sk-parallel-item:first-child::after {align-self: flex-end;width: 50%;}#sk-container-id-1 div.sk-parallel-item:last-child::after {align-self: flex-start;width: 50%;}#sk-container-id-1 div.sk-parallel-item:only-child::after {width: 0;}#sk-container-id-1 div.sk-dashed-wrapped {border: 1px dashed gray;margin: 0 0.4em 0.5em 0.4em;box-sizing: border-box;padding-bottom: 0.4em;background-color: white;}#sk-container-id-1 div.sk-label label {font-family: monospace;font-weight: bold;display: inline-block;line-height: 1.2em;}#sk-container-id-1 div.sk-label-container {text-align: center;}#sk-container-id-1 div.sk-container {/* jupyter's `normalize.less` sets `[hidden] { display: none; }` but bootstrap.min.css set `[hidden] { display: none !important; }` so we also need the `!important` here to be able to override the default hidden behavior on the sphinx rendered scikit-learn.org. See: https://github.com/scikit-learn/scikit-learn/issues/21755 */display: inline-block !important;position: relative;}#sk-container-id-1 div.sk-text-repr-fallback {display: none;}</style><div id=\"sk-container-id-1\" class=\"sk-top-container\"><div class=\"sk-text-repr-fallback\"><pre>LogisticRegressionCV()</pre><b>In a Jupyter environment, please rerun this cell to show the HTML representation or trust the notebook. <br />On GitHub, the HTML representation is unable to render, please try loading this page with nbviewer.org.</b></div><div class=\"sk-container\" hidden><div class=\"sk-item\"><div class=\"sk-estimator sk-toggleable\"><input class=\"sk-toggleable__control sk-hidden--visually\" id=\"sk-estimator-id-1\" type=\"checkbox\" checked><label for=\"sk-estimator-id-1\" class=\"sk-toggleable__label sk-toggleable__label-arrow\">LogisticRegressionCV</label><div class=\"sk-toggleable__content\"><pre>LogisticRegressionCV()</pre></div></div></div></div></div>"
      ],
      "text/plain": [
       "LogisticRegressionCV()"
      ]
     },
     "execution_count": 47,
     "metadata": {},
     "output_type": "execute_result"
    }
   ],
   "source": [
    "model_logistic_regression.fit(X_train, y_train)"
   ]
  },
  {
   "cell_type": "code",
   "execution_count": 48,
   "id": "0a53c637",
   "metadata": {},
   "outputs": [
    {
     "data": {
      "text/plain": [
       "{'Cs': 10,\n",
       " 'class_weight': None,\n",
       " 'cv': None,\n",
       " 'dual': False,\n",
       " 'fit_intercept': True,\n",
       " 'intercept_scaling': 1.0,\n",
       " 'l1_ratios': None,\n",
       " 'max_iter': 100,\n",
       " 'multi_class': 'auto',\n",
       " 'n_jobs': None,\n",
       " 'penalty': 'l2',\n",
       " 'random_state': None,\n",
       " 'refit': True,\n",
       " 'scoring': None,\n",
       " 'solver': 'lbfgs',\n",
       " 'tol': 0.0001,\n",
       " 'verbose': 0}"
      ]
     },
     "execution_count": 48,
     "metadata": {},
     "output_type": "execute_result"
    }
   ],
   "source": [
    "model_logistic_regression.get_params()"
   ]
  },
  {
   "cell_type": "code",
   "execution_count": 49,
   "id": "b2fe3ca3",
   "metadata": {},
   "outputs": [
    {
     "data": {
      "text/plain": [
       "0.5371372209104224"
      ]
     },
     "execution_count": 49,
     "metadata": {},
     "output_type": "execute_result"
    }
   ],
   "source": [
    "model_logistic_regression.score(X_test, y_test)"
   ]
  },
  {
   "cell_type": "code",
   "execution_count": 50,
   "id": "e6045347",
   "metadata": {
    "scrolled": true
   },
   "outputs": [
    {
     "name": "stdout",
     "output_type": "stream",
     "text": [
      "accuracy : 0.54\n",
      "precision : 0.54\n",
      "recall : 0.52\n",
      "f1 score : 0.53\n",
      "auc score : 0.54\n"
     ]
    }
   ],
   "source": [
    "evaluate_model(model_logistic_regression)"
   ]
  },
  {
   "cell_type": "code",
   "execution_count": 51,
   "id": "95b924e6",
   "metadata": {},
   "outputs": [
    {
     "data": {
      "image/png": "[encoded data removed]",
      "text/plain": [
       "<Figure size 432x288 with 1 Axes>"
      ]
     },
     "metadata": {
      "needs_background": "light"
     },
     "output_type": "display_data"
    }
   ],
   "source": [
    "roc_curve_graph(X_test,y_test,model_logistic_regression)"
   ]
  },
  {
   "cell_type": "code",
   "execution_count": 52,
   "id": "d9a6c705",
   "metadata": {},
   "outputs": [],
   "source": [
    "# lets make model without the input column worksite and check the accuracy\n",
    "X_without_worksite= X_resampled.drop(['WORKSITE_ENCODED'], axis = 1)"
   ]
  },
  {
   "cell_type": "code",
   "execution_count": 53,
   "id": "a2959857",
   "metadata": {},
   "outputs": [
    {
     "data": {
      "text/html": [
       "<div>\n",
       "<style scoped>\n",
       "    .dataframe tbody tr th:only-of-type {\n",
       "        vertical-align: middle;\n",
       "    }\n",
       "\n",
       "    .dataframe tbody tr th {\n",
       "        vertical-align: top;\n",
       "    }\n",
       "\n",
       "    .dataframe thead th {\n",
       "        text-align: right;\n",
       "    }\n",
       "</style>\n",
       "<table border=\"1\" class=\"dataframe\">\n",
       "  <thead>\n",
       "    <tr style=\"text-align: right;\">\n",
       "      <th></th>\n",
       "      <th>PREVAILING_WAGE_SCALED</th>\n",
       "      <th>FULL_TIME_POSITION_ENCODED</th>\n",
       "      <th>EMPLOYER_NAME_ENCODED</th>\n",
       "      <th>SOC_NAME_ENCODED</th>\n",
       "      <th>WAGE_ENCODED</th>\n",
       "    </tr>\n",
       "  </thead>\n",
       "  <tbody>\n",
       "    <tr>\n",
       "      <th>0</th>\n",
       "      <td>-0.372412</td>\n",
       "      <td>1</td>\n",
       "      <td>15</td>\n",
       "      <td>5</td>\n",
       "      <td>1</td>\n",
       "    </tr>\n",
       "    <tr>\n",
       "      <th>1</th>\n",
       "      <td>0.513339</td>\n",
       "      <td>1</td>\n",
       "      <td>11</td>\n",
       "      <td>5</td>\n",
       "      <td>2</td>\n",
       "    </tr>\n",
       "    <tr>\n",
       "      <th>2</th>\n",
       "      <td>-1.498822</td>\n",
       "      <td>1</td>\n",
       "      <td>16</td>\n",
       "      <td>5</td>\n",
       "      <td>1</td>\n",
       "    </tr>\n",
       "    <tr>\n",
       "      <th>3</th>\n",
       "      <td>-1.087227</td>\n",
       "      <td>1</td>\n",
       "      <td>15</td>\n",
       "      <td>5</td>\n",
       "      <td>1</td>\n",
       "    </tr>\n",
       "    <tr>\n",
       "      <th>4</th>\n",
       "      <td>-0.537611</td>\n",
       "      <td>1</td>\n",
       "      <td>15</td>\n",
       "      <td>1</td>\n",
       "      <td>1</td>\n",
       "    </tr>\n",
       "    <tr>\n",
       "      <th>...</th>\n",
       "      <td>...</td>\n",
       "      <td>...</td>\n",
       "      <td>...</td>\n",
       "      <td>...</td>\n",
       "      <td>...</td>\n",
       "    </tr>\n",
       "    <tr>\n",
       "      <th>111517</th>\n",
       "      <td>-1.114338</td>\n",
       "      <td>1</td>\n",
       "      <td>15</td>\n",
       "      <td>5</td>\n",
       "      <td>1</td>\n",
       "    </tr>\n",
       "    <tr>\n",
       "      <th>111518</th>\n",
       "      <td>-2.350854</td>\n",
       "      <td>1</td>\n",
       "      <td>15</td>\n",
       "      <td>10</td>\n",
       "      <td>0</td>\n",
       "    </tr>\n",
       "    <tr>\n",
       "      <th>111519</th>\n",
       "      <td>1.000843</td>\n",
       "      <td>1</td>\n",
       "      <td>15</td>\n",
       "      <td>5</td>\n",
       "      <td>2</td>\n",
       "    </tr>\n",
       "    <tr>\n",
       "      <th>111520</th>\n",
       "      <td>-0.324009</td>\n",
       "      <td>1</td>\n",
       "      <td>15</td>\n",
       "      <td>5</td>\n",
       "      <td>1</td>\n",
       "    </tr>\n",
       "    <tr>\n",
       "      <th>111521</th>\n",
       "      <td>1.066554</td>\n",
       "      <td>1</td>\n",
       "      <td>15</td>\n",
       "      <td>5</td>\n",
       "      <td>2</td>\n",
       "    </tr>\n",
       "  </tbody>\n",
       "</table>\n",
       "<p>111522 rows × 5 columns</p>\n",
       "</div>"
      ],
      "text/plain": [
       "        PREVAILING_WAGE_SCALED  FULL_TIME_POSITION_ENCODED  \\\n",
       "0                    -0.372412                           1   \n",
       "1                     0.513339                           1   \n",
       "2                    -1.498822                           1   \n",
       "3                    -1.087227                           1   \n",
       "4                    -0.537611                           1   \n",
       "...                        ...                         ...   \n",
       "111517               -1.114338                           1   \n",
       "111518               -2.350854                           1   \n",
       "111519                1.000843                           1   \n",
       "111520               -0.324009                           1   \n",
       "111521                1.066554                           1   \n",
       "\n",
       "        EMPLOYER_NAME_ENCODED  SOC_NAME_ENCODED  WAGE_ENCODED  \n",
       "0                          15                 5             1  \n",
       "1                          11                 5             2  \n",
       "2                          16                 5             1  \n",
       "3                          15                 5             1  \n",
       "4                          15                 1             1  \n",
       "...                       ...               ...           ...  \n",
       "111517                     15                 5             1  \n",
       "111518                     15                10             0  \n",
       "111519                     15                 5             2  \n",
       "111520                     15                 5             1  \n",
       "111521                     15                 5             2  \n",
       "\n",
       "[111522 rows x 5 columns]"
      ]
     },
     "execution_count": 53,
     "metadata": {},
     "output_type": "execute_result"
    }
   ],
   "source": [
    "X_without_worksite"
   ]
  },
  {
   "cell_type": "code",
   "execution_count": 54,
   "id": "7665a606",
   "metadata": {
    "scrolled": true
   },
   "outputs": [],
   "source": [
    "X_train_we, X_test_we, y_train_we, y_test_we = train_test_split(X_without_worksite,y_resampled, test_size=0.3)"
   ]
  },
  {
   "cell_type": "code",
   "execution_count": 55,
   "id": "7f8f32c5",
   "metadata": {},
   "outputs": [
    {
     "name": "stdout",
     "output_type": "stream",
     "text": [
      "(78065, 5) (33457, 5) (78065,) (33457,)\n"
     ]
    }
   ],
   "source": [
    "print(X_train_we.shape,X_test_we.shape,y_train_we.shape,y_test_we.shape)"
   ]
  },
  {
   "cell_type": "code",
   "execution_count": 56,
   "id": "cffc0838",
   "metadata": {},
   "outputs": [],
   "source": [
    "model_logistic_regression_without_worksite = LogisticRegressionCV(cv=5)"
   ]
  },
  {
   "cell_type": "code",
   "execution_count": 57,
   "id": "f7dbbe18",
   "metadata": {},
   "outputs": [
    {
     "data": {
      "text/html": [
       "<style>#sk-container-id-2 {color: black;}#sk-container-id-2 pre{padding: 0;}#sk-container-id-2 div.sk-toggleable {background-color: white;}#sk-container-id-2 label.sk-toggleable__label {cursor: pointer;display: block;width: 100%;margin-bottom: 0;padding: 0.3em;box-sizing: border-box;text-align: center;}#sk-container-id-2 label.sk-toggleable__label-arrow:before {content: \"▸\";float: left;margin-right: 0.25em;color: #696969;}#sk-container-id-2 label.sk-toggleable__label-arrow:hover:before {color: black;}#sk-container-id-2 div.sk-estimator:hover label.sk-toggleable__label-arrow:before {color: black;}#sk-container-id-2 div.sk-toggleable__content {max-height: 0;max-width: 0;overflow: hidden;text-align: left;background-color: #f0f8ff;}#sk-container-id-2 div.sk-toggleable__content pre {margin: 0.2em;color: black;border-radius: 0.25em;background-color: #f0f8ff;}#sk-container-id-2 input.sk-toggleable__control:checked~div.sk-toggleable__content {max-height: 200px;max-width: 100%;overflow: auto;}#sk-container-id-2 input.sk-toggleable__control:checked~label.sk-toggleable__label-arrow:before {content: \"▾\";}#sk-container-id-2 div.sk-estimator input.sk-toggleable__control:checked~label.sk-toggleable__label {background-color: #d4ebff;}#sk-container-id-2 div.sk-label input.sk-toggleable__control:checked~label.sk-toggleable__label {background-color: #d4ebff;}#sk-container-id-2 input.sk-hidden--visually {border: 0;clip: rect(1px 1px 1px 1px);clip: rect(1px, 1px, 1px, 1px);height: 1px;margin: -1px;overflow: hidden;padding: 0;position: absolute;width: 1px;}#sk-container-id-2 div.sk-estimator {font-family: monospace;background-color: #f0f8ff;border: 1px dotted black;border-radius: 0.25em;box-sizing: border-box;margin-bottom: 0.5em;}#sk-container-id-2 div.sk-estimator:hover {background-color: #d4ebff;}#sk-container-id-2 div.sk-parallel-item::after {content: \"\";width: 100%;border-bottom: 1px solid gray;flex-grow: 1;}#sk-container-id-2 div.sk-label:hover label.sk-toggleable__label {background-color: #d4ebff;}#sk-container-id-2 div.sk-serial::before {content: \"\";position: absolute;border-left: 1px solid gray;box-sizing: border-box;top: 0;bottom: 0;left: 50%;z-index: 0;}#sk-container-id-2 div.sk-serial {display: flex;flex-direction: column;align-items: center;background-color: white;padding-right: 0.2em;padding-left: 0.2em;position: relative;}#sk-container-id-2 div.sk-item {position: relative;z-index: 1;}#sk-container-id-2 div.sk-parallel {display: flex;align-items: stretch;justify-content: center;background-color: white;position: relative;}#sk-container-id-2 div.sk-item::before, #sk-container-id-2 div.sk-parallel-item::before {content: \"\";position: absolute;border-left: 1px solid gray;box-sizing: border-box;top: 0;bottom: 0;left: 50%;z-index: -1;}#sk-container-id-2 div.sk-parallel-item {display: flex;flex-direction: column;z-index: 1;position: relative;background-color: white;}#sk-container-id-2 div.sk-parallel-item:first-child::after {align-self: flex-end;width: 50%;}#sk-container-id-2 div.sk-parallel-item:last-child::after {align-self: flex-start;width: 50%;}#sk-container-id-2 div.sk-parallel-item:only-child::after {width: 0;}#sk-container-id-2 div.sk-dashed-wrapped {border: 1px dashed gray;margin: 0 0.4em 0.5em 0.4em;box-sizing: border-box;padding-bottom: 0.4em;background-color: white;}#sk-container-id-2 div.sk-label label {font-family: monospace;font-weight: bold;display: inline-block;line-height: 1.2em;}#sk-container-id-2 div.sk-label-container {text-align: center;}#sk-container-id-2 div.sk-container {/* jupyter's `normalize.less` sets `[hidden] { display: none; }` but bootstrap.min.css set `[hidden] { display: none !important; }` so we also need the `!important` here to be able to override the default hidden behavior on the sphinx rendered scikit-learn.org. See: https://github.com/scikit-learn/scikit-learn/issues/21755 */display: inline-block !important;position: relative;}#sk-container-id-2 div.sk-text-repr-fallback {display: none;}</style><div id=\"sk-container-id-2\" class=\"sk-top-container\"><div class=\"sk-text-repr-fallback\"><pre>LogisticRegressionCV(cv=5)</pre><b>In a Jupyter environment, please rerun this cell to show the HTML representation or trust the notebook. <br />On GitHub, the HTML representation is unable to render, please try loading this page with nbviewer.org.</b></div><div class=\"sk-container\" hidden><div class=\"sk-item\"><div class=\"sk-estimator sk-toggleable\"><input class=\"sk-toggleable__control sk-hidden--visually\" id=\"sk-estimator-id-2\" type=\"checkbox\" checked><label for=\"sk-estimator-id-2\" class=\"sk-toggleable__label sk-toggleable__label-arrow\">LogisticRegressionCV</label><div class=\"sk-toggleable__content\"><pre>LogisticRegressionCV(cv=5)</pre></div></div></div></div></div>"
      ],
      "text/plain": [
       "LogisticRegressionCV(cv=5)"
      ]
     },
     "execution_count": 57,
     "metadata": {},
     "output_type": "execute_result"
    }
   ],
   "source": [
    "model_logistic_regression_without_worksite.fit(X_train_we, y_train_we)"
   ]
  },
  {
   "cell_type": "code",
   "execution_count": 58,
   "id": "9dc2a11a",
   "metadata": {},
   "outputs": [
    {
     "data": {
      "text/plain": [
       "0.5316077353020294"
      ]
     },
     "execution_count": 58,
     "metadata": {},
     "output_type": "execute_result"
    }
   ],
   "source": [
    "model_logistic_regression_without_worksite.score(X_test_we,y_test_we)"
   ]
  },
  {
   "cell_type": "code",
   "execution_count": 59,
   "id": "5d63ff04",
   "metadata": {},
   "outputs": [],
   "source": [
    "# since there is little change in accuracy we will consider the worksite column in our model"
   ]
  },
  {
   "cell_type": "code",
   "execution_count": 60,
   "id": "3c342b11",
   "metadata": {},
   "outputs": [
    {
     "data": {
      "text/html": [
       "<style>#sk-container-id-3 {color: black;}#sk-container-id-3 pre{padding: 0;}#sk-container-id-3 div.sk-toggleable {background-color: white;}#sk-container-id-3 label.sk-toggleable__label {cursor: pointer;display: block;width: 100%;margin-bottom: 0;padding: 0.3em;box-sizing: border-box;text-align: center;}#sk-container-id-3 label.sk-toggleable__label-arrow:before {content: \"▸\";float: left;margin-right: 0.25em;color: #696969;}#sk-container-id-3 label.sk-toggleable__label-arrow:hover:before {color: black;}#sk-container-id-3 div.sk-estimator:hover label.sk-toggleable__label-arrow:before {color: black;}#sk-container-id-3 div.sk-toggleable__content {max-height: 0;max-width: 0;overflow: hidden;text-align: left;background-color: #f0f8ff;}#sk-container-id-3 div.sk-toggleable__content pre {margin: 0.2em;color: black;border-radius: 0.25em;background-color: #f0f8ff;}#sk-container-id-3 input.sk-toggleable__control:checked~div.sk-toggleable__content {max-height: 200px;max-width: 100%;overflow: auto;}#sk-container-id-3 input.sk-toggleable__control:checked~label.sk-toggleable__label-arrow:before {content: \"▾\";}#sk-container-id-3 div.sk-estimator input.sk-toggleable__control:checked~label.sk-toggleable__label {background-color: #d4ebff;}#sk-container-id-3 div.sk-label input.sk-toggleable__control:checked~label.sk-toggleable__label {background-color: #d4ebff;}#sk-container-id-3 input.sk-hidden--visually {border: 0;clip: rect(1px 1px 1px 1px);clip: rect(1px, 1px, 1px, 1px);height: 1px;margin: -1px;overflow: hidden;padding: 0;position: absolute;width: 1px;}#sk-container-id-3 div.sk-estimator {font-family: monospace;background-color: #f0f8ff;border: 1px dotted black;border-radius: 0.25em;box-sizing: border-box;margin-bottom: 0.5em;}#sk-container-id-3 div.sk-estimator:hover {background-color: #d4ebff;}#sk-container-id-3 div.sk-parallel-item::after {content: \"\";width: 100%;border-bottom: 1px solid gray;flex-grow: 1;}#sk-container-id-3 div.sk-label:hover label.sk-toggleable__label {background-color: #d4ebff;}#sk-container-id-3 div.sk-serial::before {content: \"\";position: absolute;border-left: 1px solid gray;box-sizing: border-box;top: 0;bottom: 0;left: 50%;z-index: 0;}#sk-container-id-3 div.sk-serial {display: flex;flex-direction: column;align-items: center;background-color: white;padding-right: 0.2em;padding-left: 0.2em;position: relative;}#sk-container-id-3 div.sk-item {position: relative;z-index: 1;}#sk-container-id-3 div.sk-parallel {display: flex;align-items: stretch;justify-content: center;background-color: white;position: relative;}#sk-container-id-3 div.sk-item::before, #sk-container-id-3 div.sk-parallel-item::before {content: \"\";position: absolute;border-left: 1px solid gray;box-sizing: border-box;top: 0;bottom: 0;left: 50%;z-index: -1;}#sk-container-id-3 div.sk-parallel-item {display: flex;flex-direction: column;z-index: 1;position: relative;background-color: white;}#sk-container-id-3 div.sk-parallel-item:first-child::after {align-self: flex-end;width: 50%;}#sk-container-id-3 div.sk-parallel-item:last-child::after {align-self: flex-start;width: 50%;}#sk-container-id-3 div.sk-parallel-item:only-child::after {width: 0;}#sk-container-id-3 div.sk-dashed-wrapped {border: 1px dashed gray;margin: 0 0.4em 0.5em 0.4em;box-sizing: border-box;padding-bottom: 0.4em;background-color: white;}#sk-container-id-3 div.sk-label label {font-family: monospace;font-weight: bold;display: inline-block;line-height: 1.2em;}#sk-container-id-3 div.sk-label-container {text-align: center;}#sk-container-id-3 div.sk-container {/* jupyter's `normalize.less` sets `[hidden] { display: none; }` but bootstrap.min.css set `[hidden] { display: none !important; }` so we also need the `!important` here to be able to override the default hidden behavior on the sphinx rendered scikit-learn.org. See: https://github.com/scikit-learn/scikit-learn/issues/21755 */display: inline-block !important;position: relative;}#sk-container-id-3 div.sk-text-repr-fallback {display: none;}</style><div id=\"sk-container-id-3\" class=\"sk-top-container\"><div class=\"sk-text-repr-fallback\"><pre>LogisticRegressionCV()</pre><b>In a Jupyter environment, please rerun this cell to show the HTML representation or trust the notebook. <br />On GitHub, the HTML representation is unable to render, please try loading this page with nbviewer.org.</b></div><div class=\"sk-container\" hidden><div class=\"sk-item\"><div class=\"sk-estimator sk-toggleable\"><input class=\"sk-toggleable__control sk-hidden--visually\" id=\"sk-estimator-id-3\" type=\"checkbox\" checked><label for=\"sk-estimator-id-3\" class=\"sk-toggleable__label sk-toggleable__label-arrow\">LogisticRegressionCV</label><div class=\"sk-toggleable__content\"><pre>LogisticRegressionCV()</pre></div></div></div></div></div>"
      ],
      "text/plain": [
       "LogisticRegressionCV()"
      ]
     },
     "execution_count": 60,
     "metadata": {},
     "output_type": "execute_result"
    }
   ],
   "source": [
    "LogisticRegressionCV()"
   ]
  },
  {
   "cell_type": "code",
   "execution_count": 61,
   "id": "a44bb4d3",
   "metadata": {},
   "outputs": [],
   "source": [
    "# hyper parameter tuning of logistic regression model\n",
    "logistic_regression_grid = {\n",
    "    'cv' : [3,4,5],\n",
    "    'penalty' : ['l1', 'l2', 'elasticnet']\n",
    "}"
   ]
  },
  {
   "cell_type": "code",
   "execution_count": 68,
   "id": "be5c2904",
   "metadata": {},
   "outputs": [],
   "source": [
    "grid_search_logistic_regression = GridSearchCV(estimator=model_logistic_regression,\n",
    "                          param_grid = logistic_regression_grid,\n",
    "                          n_jobs=-1,\n",
    "                          verbose=4,\n",
    "                          scoring='f1')"
   ]
  },
  {
   "cell_type": "code",
   "execution_count": 63,
   "id": "a1ffff12",
   "metadata": {
    "scrolled": false
   },
   "outputs": [
    {
     "name": "stdout",
     "output_type": "stream",
     "text": [
      "Fitting 5 folds for each of 9 candidates, totalling 45 fits\n"
     ]
    },
    {
     "data": {
      "text/html": [
       "<style>#sk-container-id-4 {color: black;}#sk-container-id-4 pre{padding: 0;}#sk-container-id-4 div.sk-toggleable {background-color: white;}#sk-container-id-4 label.sk-toggleable__label {cursor: pointer;display: block;width: 100%;margin-bottom: 0;padding: 0.3em;box-sizing: border-box;text-align: center;}#sk-container-id-4 label.sk-toggleable__label-arrow:before {content: \"▸\";float: left;margin-right: 0.25em;color: #696969;}#sk-container-id-4 label.sk-toggleable__label-arrow:hover:before {color: black;}#sk-container-id-4 div.sk-estimator:hover label.sk-toggleable__label-arrow:before {color: black;}#sk-container-id-4 div.sk-toggleable__content {max-height: 0;max-width: 0;overflow: hidden;text-align: left;background-color: #f0f8ff;}#sk-container-id-4 div.sk-toggleable__content pre {margin: 0.2em;color: black;border-radius: 0.25em;background-color: #f0f8ff;}#sk-container-id-4 input.sk-toggleable__control:checked~div.sk-toggleable__content {max-height: 200px;max-width: 100%;overflow: auto;}#sk-container-id-4 input.sk-toggleable__control:checked~label.sk-toggleable__label-arrow:before {content: \"▾\";}#sk-container-id-4 div.sk-estimator input.sk-toggleable__control:checked~label.sk-toggleable__label {background-color: #d4ebff;}#sk-container-id-4 div.sk-label input.sk-toggleable__control:checked~label.sk-toggleable__label {background-color: #d4ebff;}#sk-container-id-4 input.sk-hidden--visually {border: 0;clip: rect(1px 1px 1px 1px);clip: rect(1px, 1px, 1px, 1px);height: 1px;margin: -1px;overflow: hidden;padding: 0;position: absolute;width: 1px;}#sk-container-id-4 div.sk-estimator {font-family: monospace;background-color: #f0f8ff;border: 1px dotted black;border-radius: 0.25em;box-sizing: border-box;margin-bottom: 0.5em;}#sk-container-id-4 div.sk-estimator:hover {background-color: #d4ebff;}#sk-container-id-4 div.sk-parallel-item::after {content: \"\";width: 100%;border-bottom: 1px solid gray;flex-grow: 1;}#sk-container-id-4 div.sk-label:hover label.sk-toggleable__label {background-color: #d4ebff;}#sk-container-id-4 div.sk-serial::before {content: \"\";position: absolute;border-left: 1px solid gray;box-sizing: border-box;top: 0;bottom: 0;left: 50%;z-index: 0;}#sk-container-id-4 div.sk-serial {display: flex;flex-direction: column;align-items: center;background-color: white;padding-right: 0.2em;padding-left: 0.2em;position: relative;}#sk-container-id-4 div.sk-item {position: relative;z-index: 1;}#sk-container-id-4 div.sk-parallel {display: flex;align-items: stretch;justify-content: center;background-color: white;position: relative;}#sk-container-id-4 div.sk-item::before, #sk-container-id-4 div.sk-parallel-item::before {content: \"\";position: absolute;border-left: 1px solid gray;box-sizing: border-box;top: 0;bottom: 0;left: 50%;z-index: -1;}#sk-container-id-4 div.sk-parallel-item {display: flex;flex-direction: column;z-index: 1;position: relative;background-color: white;}#sk-container-id-4 div.sk-parallel-item:first-child::after {align-self: flex-end;width: 50%;}#sk-container-id-4 div.sk-parallel-item:last-child::after {align-self: flex-start;width: 50%;}#sk-container-id-4 div.sk-parallel-item:only-child::after {width: 0;}#sk-container-id-4 div.sk-dashed-wrapped {border: 1px dashed gray;margin: 0 0.4em 0.5em 0.4em;box-sizing: border-box;padding-bottom: 0.4em;background-color: white;}#sk-container-id-4 div.sk-label label {font-family: monospace;font-weight: bold;display: inline-block;line-height: 1.2em;}#sk-container-id-4 div.sk-label-container {text-align: center;}#sk-container-id-4 div.sk-container {/* jupyter's `normalize.less` sets `[hidden] { display: none; }` but bootstrap.min.css set `[hidden] { display: none !important; }` so we also need the `!important` here to be able to override the default hidden behavior on the sphinx rendered scikit-learn.org. See: https://github.com/scikit-learn/scikit-learn/issues/21755 */display: inline-block !important;position: relative;}#sk-container-id-4 div.sk-text-repr-fallback {display: none;}</style><div id=\"sk-container-id-4\" class=\"sk-top-container\"><div class=\"sk-text-repr-fallback\"><pre>GridSearchCV(estimator=LogisticRegressionCV(), n_jobs=-1,\n",
       "             param_grid={&#x27;cv&#x27;: [3, 4, 5],\n",
       "                         &#x27;penalty&#x27;: [&#x27;l1&#x27;, &#x27;l2&#x27;, &#x27;elasticnet&#x27;]},\n",
       "             scoring=&#x27;f1&#x27;, verbose=4)</pre><b>In a Jupyter environment, please rerun this cell to show the HTML representation or trust the notebook. <br />On GitHub, the HTML representation is unable to render, please try loading this page with nbviewer.org.</b></div><div class=\"sk-container\" hidden><div class=\"sk-item sk-dashed-wrapped\"><div class=\"sk-label-container\"><div class=\"sk-label sk-toggleable\"><input class=\"sk-toggleable__control sk-hidden--visually\" id=\"sk-estimator-id-4\" type=\"checkbox\" ><label for=\"sk-estimator-id-4\" class=\"sk-toggleable__label sk-toggleable__label-arrow\">GridSearchCV</label><div class=\"sk-toggleable__content\"><pre>GridSearchCV(estimator=LogisticRegressionCV(), n_jobs=-1,\n",
       "             param_grid={&#x27;cv&#x27;: [3, 4, 5],\n",
       "                         &#x27;penalty&#x27;: [&#x27;l1&#x27;, &#x27;l2&#x27;, &#x27;elasticnet&#x27;]},\n",
       "             scoring=&#x27;f1&#x27;, verbose=4)</pre></div></div></div><div class=\"sk-parallel\"><div class=\"sk-parallel-item\"><div class=\"sk-item\"><div class=\"sk-label-container\"><div class=\"sk-label sk-toggleable\"><input class=\"sk-toggleable__control sk-hidden--visually\" id=\"sk-estimator-id-5\" type=\"checkbox\" ><label for=\"sk-estimator-id-5\" class=\"sk-toggleable__label sk-toggleable__label-arrow\">estimator: LogisticRegressionCV</label><div class=\"sk-toggleable__content\"><pre>LogisticRegressionCV()</pre></div></div></div><div class=\"sk-serial\"><div class=\"sk-item\"><div class=\"sk-estimator sk-toggleable\"><input class=\"sk-toggleable__control sk-hidden--visually\" id=\"sk-estimator-id-6\" type=\"checkbox\" ><label for=\"sk-estimator-id-6\" class=\"sk-toggleable__label sk-toggleable__label-arrow\">LogisticRegressionCV</label><div class=\"sk-toggleable__content\"><pre>LogisticRegressionCV()</pre></div></div></div></div></div></div></div></div></div></div>"
      ],
      "text/plain": [
       "GridSearchCV(estimator=LogisticRegressionCV(), n_jobs=-1,\n",
       "             param_grid={'cv': [3, 4, 5],\n",
       "                         'penalty': ['l1', 'l2', 'elasticnet']},\n",
       "             scoring='f1', verbose=4)"
      ]
     },
     "execution_count": 63,
     "metadata": {},
     "output_type": "execute_result"
    }
   ],
   "source": [
    "grid_search_logistic_regression.fit(X_train,y_train)"
   ]
  },
  {
   "cell_type": "code",
   "execution_count": 64,
   "id": "11403069",
   "metadata": {},
   "outputs": [
    {
     "data": {
      "text/plain": [
       "{'cv': 3, 'penalty': 'l2'}"
      ]
     },
     "execution_count": 64,
     "metadata": {},
     "output_type": "execute_result"
    }
   ],
   "source": [
    "grid_search_logistic_regression.best_params_"
   ]
  },
  {
   "cell_type": "code",
   "execution_count": 65,
   "id": "27b929ae",
   "metadata": {},
   "outputs": [],
   "source": [
    "logistic_regression_best = grid_search_logistic_regression.best_estimator_"
   ]
  },
  {
   "cell_type": "code",
   "execution_count": 66,
   "id": "91ab8ed5",
   "metadata": {
    "scrolled": true
   },
   "outputs": [
    {
     "name": "stdout",
     "output_type": "stream",
     "text": [
      "accuracy : 0.54\n",
      "precision : 0.54\n",
      "recall : 0.52\n",
      "f1 score : 0.53\n",
      "auc score : 0.54\n"
     ]
    }
   ],
   "source": [
    "evaluate_model(logistic_regression_best)"
   ]
  },
  {
   "cell_type": "code",
   "execution_count": 67,
   "id": "c7dee30c",
   "metadata": {},
   "outputs": [
    {
     "data": {
      "image/png": "[encoded data removed]",
      "text/plain": [
       "<Figure size 432x288 with 1 Axes>"
      ]
     },
     "metadata": {
      "needs_background": "light"
     },
     "output_type": "display_data"
    }
   ],
   "source": [
    "roc_curve_graph(X_test, y_test, logistic_regression_best)"
   ]
  },
  {
   "cell_type": "code",
   "execution_count": 69,
   "id": "3cd46c5a",
   "metadata": {},
   "outputs": [
    {
     "data": {
      "text/html": [
       "<style>#sk-container-id-5 {color: black;}#sk-container-id-5 pre{padding: 0;}#sk-container-id-5 div.sk-toggleable {background-color: white;}#sk-container-id-5 label.sk-toggleable__label {cursor: pointer;display: block;width: 100%;margin-bottom: 0;padding: 0.3em;box-sizing: border-box;text-align: center;}#sk-container-id-5 label.sk-toggleable__label-arrow:before {content: \"▸\";float: left;margin-right: 0.25em;color: #696969;}#sk-container-id-5 label.sk-toggleable__label-arrow:hover:before {color: black;}#sk-container-id-5 div.sk-estimator:hover label.sk-toggleable__label-arrow:before {color: black;}#sk-container-id-5 div.sk-toggleable__content {max-height: 0;max-width: 0;overflow: hidden;text-align: left;background-color: #f0f8ff;}#sk-container-id-5 div.sk-toggleable__content pre {margin: 0.2em;color: black;border-radius: 0.25em;background-color: #f0f8ff;}#sk-container-id-5 input.sk-toggleable__control:checked~div.sk-toggleable__content {max-height: 200px;max-width: 100%;overflow: auto;}#sk-container-id-5 input.sk-toggleable__control:checked~label.sk-toggleable__label-arrow:before {content: \"▾\";}#sk-container-id-5 div.sk-estimator input.sk-toggleable__control:checked~label.sk-toggleable__label {background-color: #d4ebff;}#sk-container-id-5 div.sk-label input.sk-toggleable__control:checked~label.sk-toggleable__label {background-color: #d4ebff;}#sk-container-id-5 input.sk-hidden--visually {border: 0;clip: rect(1px 1px 1px 1px);clip: rect(1px, 1px, 1px, 1px);height: 1px;margin: -1px;overflow: hidden;padding: 0;position: absolute;width: 1px;}#sk-container-id-5 div.sk-estimator {font-family: monospace;background-color: #f0f8ff;border: 1px dotted black;border-radius: 0.25em;box-sizing: border-box;margin-bottom: 0.5em;}#sk-container-id-5 div.sk-estimator:hover {background-color: #d4ebff;}#sk-container-id-5 div.sk-parallel-item::after {content: \"\";width: 100%;border-bottom: 1px solid gray;flex-grow: 1;}#sk-container-id-5 div.sk-label:hover label.sk-toggleable__label {background-color: #d4ebff;}#sk-container-id-5 div.sk-serial::before {content: \"\";position: absolute;border-left: 1px solid gray;box-sizing: border-box;top: 0;bottom: 0;left: 50%;z-index: 0;}#sk-container-id-5 div.sk-serial {display: flex;flex-direction: column;align-items: center;background-color: white;padding-right: 0.2em;padding-left: 0.2em;position: relative;}#sk-container-id-5 div.sk-item {position: relative;z-index: 1;}#sk-container-id-5 div.sk-parallel {display: flex;align-items: stretch;justify-content: center;background-color: white;position: relative;}#sk-container-id-5 div.sk-item::before, #sk-container-id-5 div.sk-parallel-item::before {content: \"\";position: absolute;border-left: 1px solid gray;box-sizing: border-box;top: 0;bottom: 0;left: 50%;z-index: -1;}#sk-container-id-5 div.sk-parallel-item {display: flex;flex-direction: column;z-index: 1;position: relative;background-color: white;}#sk-container-id-5 div.sk-parallel-item:first-child::after {align-self: flex-end;width: 50%;}#sk-container-id-5 div.sk-parallel-item:last-child::after {align-self: flex-start;width: 50%;}#sk-container-id-5 div.sk-parallel-item:only-child::after {width: 0;}#sk-container-id-5 div.sk-dashed-wrapped {border: 1px dashed gray;margin: 0 0.4em 0.5em 0.4em;box-sizing: border-box;padding-bottom: 0.4em;background-color: white;}#sk-container-id-5 div.sk-label label {font-family: monospace;font-weight: bold;display: inline-block;line-height: 1.2em;}#sk-container-id-5 div.sk-label-container {text-align: center;}#sk-container-id-5 div.sk-container {/* jupyter's `normalize.less` sets `[hidden] { display: none; }` but bootstrap.min.css set `[hidden] { display: none !important; }` so we also need the `!important` here to be able to override the default hidden behavior on the sphinx rendered scikit-learn.org. See: https://github.com/scikit-learn/scikit-learn/issues/21755 */display: inline-block !important;position: relative;}#sk-container-id-5 div.sk-text-repr-fallback {display: none;}</style><div id=\"sk-container-id-5\" class=\"sk-top-container\"><div class=\"sk-text-repr-fallback\"><pre>DecisionTreeClassifier()</pre><b>In a Jupyter environment, please rerun this cell to show the HTML representation or trust the notebook. <br />On GitHub, the HTML representation is unable to render, please try loading this page with nbviewer.org.</b></div><div class=\"sk-container\" hidden><div class=\"sk-item\"><div class=\"sk-estimator sk-toggleable\"><input class=\"sk-toggleable__control sk-hidden--visually\" id=\"sk-estimator-id-7\" type=\"checkbox\" checked><label for=\"sk-estimator-id-7\" class=\"sk-toggleable__label sk-toggleable__label-arrow\">DecisionTreeClassifier</label><div class=\"sk-toggleable__content\"><pre>DecisionTreeClassifier()</pre></div></div></div></div></div>"
      ],
      "text/plain": [
       "DecisionTreeClassifier()"
      ]
     },
     "execution_count": 69,
     "metadata": {},
     "output_type": "execute_result"
    }
   ],
   "source": [
    "# Model 2, Decision Tree Classifier\n",
    "model_decission_tree = DecisionTreeClassifier()\n",
    "model_decission_tree.fit(X_train, y_train)"
   ]
  },
  {
   "cell_type": "code",
   "execution_count": 70,
   "id": "094ac229",
   "metadata": {},
   "outputs": [
    {
     "name": "stdout",
     "output_type": "stream",
     "text": [
      "accuracy : 0.69\n",
      "precision : 0.71\n",
      "recall : 0.64\n",
      "f1 score : 0.67\n",
      "auc score : 0.69\n"
     ]
    }
   ],
   "source": [
    "evaluate_model(model_decission_tree)"
   ]
  },
  {
   "cell_type": "code",
   "execution_count": 71,
   "id": "0b55c0fc",
   "metadata": {},
   "outputs": [
    {
     "data": {
      "image/png": "[encoded data removed]",
      "text/plain": [
       "<Figure size 432x288 with 1 Axes>"
      ]
     },
     "metadata": {
      "needs_background": "light"
     },
     "output_type": "display_data"
    }
   ],
   "source": [
    "roc_curve_graph(X_test,y_test,model_decission_tree)"
   ]
  },
  {
   "cell_type": "code",
   "execution_count": 72,
   "id": "979972aa",
   "metadata": {},
   "outputs": [],
   "source": [
    "decission_tree_grid = {\n",
    "    'criterion' : ['gini','entropy'],\n",
    "    'splitter' : ['best','random'],\n",
    "    'max_depth' : [4,6,8,10],\n",
    "    'min_samples_split' : [2,4,6,8],\n",
    "    'min_samples_leaf' : [2,3,4,5]\n",
    "}"
   ]
  },
  {
   "cell_type": "code",
   "execution_count": 73,
   "id": "23ffed2f",
   "metadata": {},
   "outputs": [],
   "source": [
    "grid_search_decission_tree = GridSearchCV(estimator=model_decission_tree,\n",
    "                          param_grid=decission_tree_grid,\n",
    "                          cv = 4,\n",
    "                          n_jobs=-1,\n",
    "                          verbose=4,\n",
    "                          scoring='f1')"
   ]
  },
  {
   "cell_type": "code",
   "execution_count": 74,
   "id": "4bc85a98",
   "metadata": {
    "scrolled": false
   },
   "outputs": [
    {
     "name": "stdout",
     "output_type": "stream",
     "text": [
      "Fitting 4 folds for each of 256 candidates, totalling 1024 fits\n"
     ]
    },
    {
     "data": {
      "text/html": [
       "<style>#sk-container-id-6 {color: black;}#sk-container-id-6 pre{padding: 0;}#sk-container-id-6 div.sk-toggleable {background-color: white;}#sk-container-id-6 label.sk-toggleable__label {cursor: pointer;display: block;width: 100%;margin-bottom: 0;padding: 0.3em;box-sizing: border-box;text-align: center;}#sk-container-id-6 label.sk-toggleable__label-arrow:before {content: \"▸\";float: left;margin-right: 0.25em;color: #696969;}#sk-container-id-6 label.sk-toggleable__label-arrow:hover:before {color: black;}#sk-container-id-6 div.sk-estimator:hover label.sk-toggleable__label-arrow:before {color: black;}#sk-container-id-6 div.sk-toggleable__content {max-height: 0;max-width: 0;overflow: hidden;text-align: left;background-color: #f0f8ff;}#sk-container-id-6 div.sk-toggleable__content pre {margin: 0.2em;color: black;border-radius: 0.25em;background-color: #f0f8ff;}#sk-container-id-6 input.sk-toggleable__control:checked~div.sk-toggleable__content {max-height: 200px;max-width: 100%;overflow: auto;}#sk-container-id-6 input.sk-toggleable__control:checked~label.sk-toggleable__label-arrow:before {content: \"▾\";}#sk-container-id-6 div.sk-estimator input.sk-toggleable__control:checked~label.sk-toggleable__label {background-color: #d4ebff;}#sk-container-id-6 div.sk-label input.sk-toggleable__control:checked~label.sk-toggleable__label {background-color: #d4ebff;}#sk-container-id-6 input.sk-hidden--visually {border: 0;clip: rect(1px 1px 1px 1px);clip: rect(1px, 1px, 1px, 1px);height: 1px;margin: -1px;overflow: hidden;padding: 0;position: absolute;width: 1px;}#sk-container-id-6 div.sk-estimator {font-family: monospace;background-color: #f0f8ff;border: 1px dotted black;border-radius: 0.25em;box-sizing: border-box;margin-bottom: 0.5em;}#sk-container-id-6 div.sk-estimator:hover {background-color: #d4ebff;}#sk-container-id-6 div.sk-parallel-item::after {content: \"\";width: 100%;border-bottom: 1px solid gray;flex-grow: 1;}#sk-container-id-6 div.sk-label:hover label.sk-toggleable__label {background-color: #d4ebff;}#sk-container-id-6 div.sk-serial::before {content: \"\";position: absolute;border-left: 1px solid gray;box-sizing: border-box;top: 0;bottom: 0;left: 50%;z-index: 0;}#sk-container-id-6 div.sk-serial {display: flex;flex-direction: column;align-items: center;background-color: white;padding-right: 0.2em;padding-left: 0.2em;position: relative;}#sk-container-id-6 div.sk-item {position: relative;z-index: 1;}#sk-container-id-6 div.sk-parallel {display: flex;align-items: stretch;justify-content: center;background-color: white;position: relative;}#sk-container-id-6 div.sk-item::before, #sk-container-id-6 div.sk-parallel-item::before {content: \"\";position: absolute;border-left: 1px solid gray;box-sizing: border-box;top: 0;bottom: 0;left: 50%;z-index: -1;}#sk-container-id-6 div.sk-parallel-item {display: flex;flex-direction: column;z-index: 1;position: relative;background-color: white;}#sk-container-id-6 div.sk-parallel-item:first-child::after {align-self: flex-end;width: 50%;}#sk-container-id-6 div.sk-parallel-item:last-child::after {align-self: flex-start;width: 50%;}#sk-container-id-6 div.sk-parallel-item:only-child::after {width: 0;}#sk-container-id-6 div.sk-dashed-wrapped {border: 1px dashed gray;margin: 0 0.4em 0.5em 0.4em;box-sizing: border-box;padding-bottom: 0.4em;background-color: white;}#sk-container-id-6 div.sk-label label {font-family: monospace;font-weight: bold;display: inline-block;line-height: 1.2em;}#sk-container-id-6 div.sk-label-container {text-align: center;}#sk-container-id-6 div.sk-container {/* jupyter's `normalize.less` sets `[hidden] { display: none; }` but bootstrap.min.css set `[hidden] { display: none !important; }` so we also need the `!important` here to be able to override the default hidden behavior on the sphinx rendered scikit-learn.org. See: https://github.com/scikit-learn/scikit-learn/issues/21755 */display: inline-block !important;position: relative;}#sk-container-id-6 div.sk-text-repr-fallback {display: none;}</style><div id=\"sk-container-id-6\" class=\"sk-top-container\"><div class=\"sk-text-repr-fallback\"><pre>GridSearchCV(cv=4, estimator=DecisionTreeClassifier(), n_jobs=-1,\n",
       "             param_grid={&#x27;criterion&#x27;: [&#x27;gini&#x27;, &#x27;entropy&#x27;],\n",
       "                         &#x27;max_depth&#x27;: [4, 6, 8, 10],\n",
       "                         &#x27;min_samples_leaf&#x27;: [2, 3, 4, 5],\n",
       "                         &#x27;min_samples_split&#x27;: [2, 4, 6, 8],\n",
       "                         &#x27;splitter&#x27;: [&#x27;best&#x27;, &#x27;random&#x27;]},\n",
       "             scoring=&#x27;f1&#x27;, verbose=4)</pre><b>In a Jupyter environment, please rerun this cell to show the HTML representation or trust the notebook. <br />On GitHub, the HTML representation is unable to render, please try loading this page with nbviewer.org.</b></div><div class=\"sk-container\" hidden><div class=\"sk-item sk-dashed-wrapped\"><div class=\"sk-label-container\"><div class=\"sk-label sk-toggleable\"><input class=\"sk-toggleable__control sk-hidden--visually\" id=\"sk-estimator-id-8\" type=\"checkbox\" ><label for=\"sk-estimator-id-8\" class=\"sk-toggleable__label sk-toggleable__label-arrow\">GridSearchCV</label><div class=\"sk-toggleable__content\"><pre>GridSearchCV(cv=4, estimator=DecisionTreeClassifier(), n_jobs=-1,\n",
       "             param_grid={&#x27;criterion&#x27;: [&#x27;gini&#x27;, &#x27;entropy&#x27;],\n",
       "                         &#x27;max_depth&#x27;: [4, 6, 8, 10],\n",
       "                         &#x27;min_samples_leaf&#x27;: [2, 3, 4, 5],\n",
       "                         &#x27;min_samples_split&#x27;: [2, 4, 6, 8],\n",
       "                         &#x27;splitter&#x27;: [&#x27;best&#x27;, &#x27;random&#x27;]},\n",
       "             scoring=&#x27;f1&#x27;, verbose=4)</pre></div></div></div><div class=\"sk-parallel\"><div class=\"sk-parallel-item\"><div class=\"sk-item\"><div class=\"sk-label-container\"><div class=\"sk-label sk-toggleable\"><input class=\"sk-toggleable__control sk-hidden--visually\" id=\"sk-estimator-id-9\" type=\"checkbox\" ><label for=\"sk-estimator-id-9\" class=\"sk-toggleable__label sk-toggleable__label-arrow\">estimator: DecisionTreeClassifier</label><div class=\"sk-toggleable__content\"><pre>DecisionTreeClassifier()</pre></div></div></div><div class=\"sk-serial\"><div class=\"sk-item\"><div class=\"sk-estimator sk-toggleable\"><input class=\"sk-toggleable__control sk-hidden--visually\" id=\"sk-estimator-id-10\" type=\"checkbox\" ><label for=\"sk-estimator-id-10\" class=\"sk-toggleable__label sk-toggleable__label-arrow\">DecisionTreeClassifier</label><div class=\"sk-toggleable__content\"><pre>DecisionTreeClassifier()</pre></div></div></div></div></div></div></div></div></div></div>"
      ],
      "text/plain": [
       "GridSearchCV(cv=4, estimator=DecisionTreeClassifier(), n_jobs=-1,\n",
       "             param_grid={'criterion': ['gini', 'entropy'],\n",
       "                         'max_depth': [4, 6, 8, 10],\n",
       "                         'min_samples_leaf': [2, 3, 4, 5],\n",
       "                         'min_samples_split': [2, 4, 6, 8],\n",
       "                         'splitter': ['best', 'random']},\n",
       "             scoring='f1', verbose=4)"
      ]
     },
     "execution_count": 74,
     "metadata": {},
     "output_type": "execute_result"
    }
   ],
   "source": [
    "grid_search_decission_tree.fit(X_train,y_train)"
   ]
  },
  {
   "cell_type": "code",
   "execution_count": 75,
   "id": "c4c367ba",
   "metadata": {},
   "outputs": [
    {
     "data": {
      "text/html": [
       "<style>#sk-container-id-7 {color: black;}#sk-container-id-7 pre{padding: 0;}#sk-container-id-7 div.sk-toggleable {background-color: white;}#sk-container-id-7 label.sk-toggleable__label {cursor: pointer;display: block;width: 100%;margin-bottom: 0;padding: 0.3em;box-sizing: border-box;text-align: center;}#sk-container-id-7 label.sk-toggleable__label-arrow:before {content: \"▸\";float: left;margin-right: 0.25em;color: #696969;}#sk-container-id-7 label.sk-toggleable__label-arrow:hover:before {color: black;}#sk-container-id-7 div.sk-estimator:hover label.sk-toggleable__label-arrow:before {color: black;}#sk-container-id-7 div.sk-toggleable__content {max-height: 0;max-width: 0;overflow: hidden;text-align: left;background-color: #f0f8ff;}#sk-container-id-7 div.sk-toggleable__content pre {margin: 0.2em;color: black;border-radius: 0.25em;background-color: #f0f8ff;}#sk-container-id-7 input.sk-toggleable__control:checked~div.sk-toggleable__content {max-height: 200px;max-width: 100%;overflow: auto;}#sk-container-id-7 input.sk-toggleable__control:checked~label.sk-toggleable__label-arrow:before {content: \"▾\";}#sk-container-id-7 div.sk-estimator input.sk-toggleable__control:checked~label.sk-toggleable__label {background-color: #d4ebff;}#sk-container-id-7 div.sk-label input.sk-toggleable__control:checked~label.sk-toggleable__label {background-color: #d4ebff;}#sk-container-id-7 input.sk-hidden--visually {border: 0;clip: rect(1px 1px 1px 1px);clip: rect(1px, 1px, 1px, 1px);height: 1px;margin: -1px;overflow: hidden;padding: 0;position: absolute;width: 1px;}#sk-container-id-7 div.sk-estimator {font-family: monospace;background-color: #f0f8ff;border: 1px dotted black;border-radius: 0.25em;box-sizing: border-box;margin-bottom: 0.5em;}#sk-container-id-7 div.sk-estimator:hover {background-color: #d4ebff;}#sk-container-id-7 div.sk-parallel-item::after {content: \"\";width: 100%;border-bottom: 1px solid gray;flex-grow: 1;}#sk-container-id-7 div.sk-label:hover label.sk-toggleable__label {background-color: #d4ebff;}#sk-container-id-7 div.sk-serial::before {content: \"\";position: absolute;border-left: 1px solid gray;box-sizing: border-box;top: 0;bottom: 0;left: 50%;z-index: 0;}#sk-container-id-7 div.sk-serial {display: flex;flex-direction: column;align-items: center;background-color: white;padding-right: 0.2em;padding-left: 0.2em;position: relative;}#sk-container-id-7 div.sk-item {position: relative;z-index: 1;}#sk-container-id-7 div.sk-parallel {display: flex;align-items: stretch;justify-content: center;background-color: white;position: relative;}#sk-container-id-7 div.sk-item::before, #sk-container-id-7 div.sk-parallel-item::before {content: \"\";position: absolute;border-left: 1px solid gray;box-sizing: border-box;top: 0;bottom: 0;left: 50%;z-index: -1;}#sk-container-id-7 div.sk-parallel-item {display: flex;flex-direction: column;z-index: 1;position: relative;background-color: white;}#sk-container-id-7 div.sk-parallel-item:first-child::after {align-self: flex-end;width: 50%;}#sk-container-id-7 div.sk-parallel-item:last-child::after {align-self: flex-start;width: 50%;}#sk-container-id-7 div.sk-parallel-item:only-child::after {width: 0;}#sk-container-id-7 div.sk-dashed-wrapped {border: 1px dashed gray;margin: 0 0.4em 0.5em 0.4em;box-sizing: border-box;padding-bottom: 0.4em;background-color: white;}#sk-container-id-7 div.sk-label label {font-family: monospace;font-weight: bold;display: inline-block;line-height: 1.2em;}#sk-container-id-7 div.sk-label-container {text-align: center;}#sk-container-id-7 div.sk-container {/* jupyter's `normalize.less` sets `[hidden] { display: none; }` but bootstrap.min.css set `[hidden] { display: none !important; }` so we also need the `!important` here to be able to override the default hidden behavior on the sphinx rendered scikit-learn.org. See: https://github.com/scikit-learn/scikit-learn/issues/21755 */display: inline-block !important;position: relative;}#sk-container-id-7 div.sk-text-repr-fallback {display: none;}</style><div id=\"sk-container-id-7\" class=\"sk-top-container\"><div class=\"sk-text-repr-fallback\"><pre>DecisionTreeClassifier(max_depth=8, min_samples_leaf=2, min_samples_split=4,\n",
       "                       splitter=&#x27;random&#x27;)</pre><b>In a Jupyter environment, please rerun this cell to show the HTML representation or trust the notebook. <br />On GitHub, the HTML representation is unable to render, please try loading this page with nbviewer.org.</b></div><div class=\"sk-container\" hidden><div class=\"sk-item\"><div class=\"sk-estimator sk-toggleable\"><input class=\"sk-toggleable__control sk-hidden--visually\" id=\"sk-estimator-id-11\" type=\"checkbox\" checked><label for=\"sk-estimator-id-11\" class=\"sk-toggleable__label sk-toggleable__label-arrow\">DecisionTreeClassifier</label><div class=\"sk-toggleable__content\"><pre>DecisionTreeClassifier(max_depth=8, min_samples_leaf=2, min_samples_split=4,\n",
       "                       splitter=&#x27;random&#x27;)</pre></div></div></div></div></div>"
      ],
      "text/plain": [
       "DecisionTreeClassifier(max_depth=8, min_samples_leaf=2, min_samples_split=4,\n",
       "                       splitter='random')"
      ]
     },
     "execution_count": 75,
     "metadata": {},
     "output_type": "execute_result"
    }
   ],
   "source": [
    "grid_search_decission_tree.best_estimator_"
   ]
  },
  {
   "cell_type": "code",
   "execution_count": 76,
   "id": "0739189d",
   "metadata": {},
   "outputs": [],
   "source": [
    "decission_tree_best = grid_search_decission_tree.best_estimator_"
   ]
  },
  {
   "cell_type": "code",
   "execution_count": 77,
   "id": "30a750c9",
   "metadata": {},
   "outputs": [
    {
     "name": "stdout",
     "output_type": "stream",
     "text": [
      "accuracy : 0.59\n",
      "precision : 0.63\n",
      "recall : 0.44\n",
      "f1 score : 0.52\n",
      "auc score : 0.59\n"
     ]
    }
   ],
   "source": [
    "evaluate_model(decission_tree_best)"
   ]
  },
  {
   "cell_type": "code",
   "execution_count": 80,
   "id": "2230a5c5",
   "metadata": {},
   "outputs": [
    {
     "data": {
      "image/png": "[encoded data removed]",
      "text/plain": [
       "<Figure size 432x288 with 1 Axes>"
      ]
     },
     "metadata": {
      "needs_background": "light"
     },
     "output_type": "display_data"
    }
   ],
   "source": [
    "roc_curve_graph(X_test, y_test, decission_tree_best)"
   ]
  },
  {
   "cell_type": "code",
   "execution_count": 81,
   "id": "3987c625",
   "metadata": {},
   "outputs": [
    {
     "data": {
      "text/html": [
       "<style>#sk-container-id-9 {color: black;}#sk-container-id-9 pre{padding: 0;}#sk-container-id-9 div.sk-toggleable {background-color: white;}#sk-container-id-9 label.sk-toggleable__label {cursor: pointer;display: block;width: 100%;margin-bottom: 0;padding: 0.3em;box-sizing: border-box;text-align: center;}#sk-container-id-9 label.sk-toggleable__label-arrow:before {content: \"▸\";float: left;margin-right: 0.25em;color: #696969;}#sk-container-id-9 label.sk-toggleable__label-arrow:hover:before {color: black;}#sk-container-id-9 div.sk-estimator:hover label.sk-toggleable__label-arrow:before {color: black;}#sk-container-id-9 div.sk-toggleable__content {max-height: 0;max-width: 0;overflow: hidden;text-align: left;background-color: #f0f8ff;}#sk-container-id-9 div.sk-toggleable__content pre {margin: 0.2em;color: black;border-radius: 0.25em;background-color: #f0f8ff;}#sk-container-id-9 input.sk-toggleable__control:checked~div.sk-toggleable__content {max-height: 200px;max-width: 100%;overflow: auto;}#sk-container-id-9 input.sk-toggleable__control:checked~label.sk-toggleable__label-arrow:before {content: \"▾\";}#sk-container-id-9 div.sk-estimator input.sk-toggleable__control:checked~label.sk-toggleable__label {background-color: #d4ebff;}#sk-container-id-9 div.sk-label input.sk-toggleable__control:checked~label.sk-toggleable__label {background-color: #d4ebff;}#sk-container-id-9 input.sk-hidden--visually {border: 0;clip: rect(1px 1px 1px 1px);clip: rect(1px, 1px, 1px, 1px);height: 1px;margin: -1px;overflow: hidden;padding: 0;position: absolute;width: 1px;}#sk-container-id-9 div.sk-estimator {font-family: monospace;background-color: #f0f8ff;border: 1px dotted black;border-radius: 0.25em;box-sizing: border-box;margin-bottom: 0.5em;}#sk-container-id-9 div.sk-estimator:hover {background-color: #d4ebff;}#sk-container-id-9 div.sk-parallel-item::after {content: \"\";width: 100%;border-bottom: 1px solid gray;flex-grow: 1;}#sk-container-id-9 div.sk-label:hover label.sk-toggleable__label {background-color: #d4ebff;}#sk-container-id-9 div.sk-serial::before {content: \"\";position: absolute;border-left: 1px solid gray;box-sizing: border-box;top: 0;bottom: 0;left: 50%;z-index: 0;}#sk-container-id-9 div.sk-serial {display: flex;flex-direction: column;align-items: center;background-color: white;padding-right: 0.2em;padding-left: 0.2em;position: relative;}#sk-container-id-9 div.sk-item {position: relative;z-index: 1;}#sk-container-id-9 div.sk-parallel {display: flex;align-items: stretch;justify-content: center;background-color: white;position: relative;}#sk-container-id-9 div.sk-item::before, #sk-container-id-9 div.sk-parallel-item::before {content: \"\";position: absolute;border-left: 1px solid gray;box-sizing: border-box;top: 0;bottom: 0;left: 50%;z-index: -1;}#sk-container-id-9 div.sk-parallel-item {display: flex;flex-direction: column;z-index: 1;position: relative;background-color: white;}#sk-container-id-9 div.sk-parallel-item:first-child::after {align-self: flex-end;width: 50%;}#sk-container-id-9 div.sk-parallel-item:last-child::after {align-self: flex-start;width: 50%;}#sk-container-id-9 div.sk-parallel-item:only-child::after {width: 0;}#sk-container-id-9 div.sk-dashed-wrapped {border: 1px dashed gray;margin: 0 0.4em 0.5em 0.4em;box-sizing: border-box;padding-bottom: 0.4em;background-color: white;}#sk-container-id-9 div.sk-label label {font-family: monospace;font-weight: bold;display: inline-block;line-height: 1.2em;}#sk-container-id-9 div.sk-label-container {text-align: center;}#sk-container-id-9 div.sk-container {/* jupyter's `normalize.less` sets `[hidden] { display: none; }` but bootstrap.min.css set `[hidden] { display: none !important; }` so we also need the `!important` here to be able to override the default hidden behavior on the sphinx rendered scikit-learn.org. See: https://github.com/scikit-learn/scikit-learn/issues/21755 */display: inline-block !important;position: relative;}#sk-container-id-9 div.sk-text-repr-fallback {display: none;}</style><div id=\"sk-container-id-9\" class=\"sk-top-container\"><div class=\"sk-text-repr-fallback\"><pre>RandomForestClassifier()</pre><b>In a Jupyter environment, please rerun this cell to show the HTML representation or trust the notebook. <br />On GitHub, the HTML representation is unable to render, please try loading this page with nbviewer.org.</b></div><div class=\"sk-container\" hidden><div class=\"sk-item\"><div class=\"sk-estimator sk-toggleable\"><input class=\"sk-toggleable__control sk-hidden--visually\" id=\"sk-estimator-id-13\" type=\"checkbox\" checked><label for=\"sk-estimator-id-13\" class=\"sk-toggleable__label sk-toggleable__label-arrow\">RandomForestClassifier</label><div class=\"sk-toggleable__content\"><pre>RandomForestClassifier()</pre></div></div></div></div></div>"
      ],
      "text/plain": [
       "RandomForestClassifier()"
      ]
     },
     "execution_count": 81,
     "metadata": {},
     "output_type": "execute_result"
    }
   ],
   "source": [
    "# Model 3, Random Forest Classifier\n",
    "model_random_forest = RandomForestClassifier()\n",
    "model_random_forest.fit(X_train, y_train)"
   ]
  },
  {
   "cell_type": "code",
   "execution_count": 82,
   "id": "9512cf3c",
   "metadata": {},
   "outputs": [
    {
     "name": "stdout",
     "output_type": "stream",
     "text": [
      "accuracy : 0.70\n",
      "precision : 0.71\n",
      "recall : 0.68\n",
      "f1 score : 0.70\n",
      "auc score : 0.70\n"
     ]
    }
   ],
   "source": [
    "evaluate_model(model_random_forest)"
   ]
  },
  {
   "cell_type": "code",
   "execution_count": 83,
   "id": "1caa4416",
   "metadata": {},
   "outputs": [
    {
     "data": {
      "image/png": "[encoded data removed]",
      "text/plain": [
       "<Figure size 432x288 with 1 Axes>"
      ]
     },
     "metadata": {
      "needs_background": "light"
     },
     "output_type": "display_data"
    }
   ],
   "source": [
    "roc_curve_graph(X_test, y_test, model_random_forest)"
   ]
  },
  {
   "cell_type": "code",
   "execution_count": 84,
   "id": "b8a20225",
   "metadata": {},
   "outputs": [],
   "source": [
    "random_forest_grid = {\n",
    "    'criterion' : ['gini'],\n",
    "    'max_depth' : [4,6,8],\n",
    "    'min_samples_split' : [2,4,6,8],\n",
    "    'min_samples_leaf' : [2,3,4],\n",
    "    'n_estimators' : [50,75,100]\n",
    "}"
   ]
  },
  {
   "cell_type": "code",
   "execution_count": 85,
   "id": "5dc0f299",
   "metadata": {},
   "outputs": [],
   "source": [
    "grid_search_random_forest = GridSearchCV(estimator=model_random_forest,\n",
    "                          param_grid=random_forest_grid,\n",
    "                          cv = 4,\n",
    "                          n_jobs=-1,\n",
    "                          verbose=3,\n",
    "                          scoring='f1')"
   ]
  },
  {
   "cell_type": "code",
   "execution_count": 86,
   "id": "56241927",
   "metadata": {},
   "outputs": [
    {
     "name": "stdout",
     "output_type": "stream",
     "text": [
      "Fitting 4 folds for each of 108 candidates, totalling 432 fits\n"
     ]
    },
    {
     "data": {
      "text/html": [
       "<style>#sk-container-id-10 {color: black;}#sk-container-id-10 pre{padding: 0;}#sk-container-id-10 div.sk-toggleable {background-color: white;}#sk-container-id-10 label.sk-toggleable__label {cursor: pointer;display: block;width: 100%;margin-bottom: 0;padding: 0.3em;box-sizing: border-box;text-align: center;}#sk-container-id-10 label.sk-toggleable__label-arrow:before {content: \"▸\";float: left;margin-right: 0.25em;color: #696969;}#sk-container-id-10 label.sk-toggleable__label-arrow:hover:before {color: black;}#sk-container-id-10 div.sk-estimator:hover label.sk-toggleable__label-arrow:before {color: black;}#sk-container-id-10 div.sk-toggleable__content {max-height: 0;max-width: 0;overflow: hidden;text-align: left;background-color: #f0f8ff;}#sk-container-id-10 div.sk-toggleable__content pre {margin: 0.2em;color: black;border-radius: 0.25em;background-color: #f0f8ff;}#sk-container-id-10 input.sk-toggleable__control:checked~div.sk-toggleable__content {max-height: 200px;max-width: 100%;overflow: auto;}#sk-container-id-10 input.sk-toggleable__control:checked~label.sk-toggleable__label-arrow:before {content: \"▾\";}#sk-container-id-10 div.sk-estimator input.sk-toggleable__control:checked~label.sk-toggleable__label {background-color: #d4ebff;}#sk-container-id-10 div.sk-label input.sk-toggleable__control:checked~label.sk-toggleable__label {background-color: #d4ebff;}#sk-container-id-10 input.sk-hidden--visually {border: 0;clip: rect(1px 1px 1px 1px);clip: rect(1px, 1px, 1px, 1px);height: 1px;margin: -1px;overflow: hidden;padding: 0;position: absolute;width: 1px;}#sk-container-id-10 div.sk-estimator {font-family: monospace;background-color: #f0f8ff;border: 1px dotted black;border-radius: 0.25em;box-sizing: border-box;margin-bottom: 0.5em;}#sk-container-id-10 div.sk-estimator:hover {background-color: #d4ebff;}#sk-container-id-10 div.sk-parallel-item::after {content: \"\";width: 100%;border-bottom: 1px solid gray;flex-grow: 1;}#sk-container-id-10 div.sk-label:hover label.sk-toggleable__label {background-color: #d4ebff;}#sk-container-id-10 div.sk-serial::before {content: \"\";position: absolute;border-left: 1px solid gray;box-sizing: border-box;top: 0;bottom: 0;left: 50%;z-index: 0;}#sk-container-id-10 div.sk-serial {display: flex;flex-direction: column;align-items: center;background-color: white;padding-right: 0.2em;padding-left: 0.2em;position: relative;}#sk-container-id-10 div.sk-item {position: relative;z-index: 1;}#sk-container-id-10 div.sk-parallel {display: flex;align-items: stretch;justify-content: center;background-color: white;position: relative;}#sk-container-id-10 div.sk-item::before, #sk-container-id-10 div.sk-parallel-item::before {content: \"\";position: absolute;border-left: 1px solid gray;box-sizing: border-box;top: 0;bottom: 0;left: 50%;z-index: -1;}#sk-container-id-10 div.sk-parallel-item {display: flex;flex-direction: column;z-index: 1;position: relative;background-color: white;}#sk-container-id-10 div.sk-parallel-item:first-child::after {align-self: flex-end;width: 50%;}#sk-container-id-10 div.sk-parallel-item:last-child::after {align-self: flex-start;width: 50%;}#sk-container-id-10 div.sk-parallel-item:only-child::after {width: 0;}#sk-container-id-10 div.sk-dashed-wrapped {border: 1px dashed gray;margin: 0 0.4em 0.5em 0.4em;box-sizing: border-box;padding-bottom: 0.4em;background-color: white;}#sk-container-id-10 div.sk-label label {font-family: monospace;font-weight: bold;display: inline-block;line-height: 1.2em;}#sk-container-id-10 div.sk-label-container {text-align: center;}#sk-container-id-10 div.sk-container {/* jupyter's `normalize.less` sets `[hidden] { display: none; }` but bootstrap.min.css set `[hidden] { display: none !important; }` so we also need the `!important` here to be able to override the default hidden behavior on the sphinx rendered scikit-learn.org. See: https://github.com/scikit-learn/scikit-learn/issues/21755 */display: inline-block !important;position: relative;}#sk-container-id-10 div.sk-text-repr-fallback {display: none;}</style><div id=\"sk-container-id-10\" class=\"sk-top-container\"><div class=\"sk-text-repr-fallback\"><pre>GridSearchCV(cv=4, estimator=RandomForestClassifier(), n_jobs=-1,\n",
       "             param_grid={&#x27;criterion&#x27;: [&#x27;gini&#x27;], &#x27;max_depth&#x27;: [4, 6, 8],\n",
       "                         &#x27;min_samples_leaf&#x27;: [2, 3, 4],\n",
       "                         &#x27;min_samples_split&#x27;: [2, 4, 6, 8],\n",
       "                         &#x27;n_estimators&#x27;: [50, 75, 100]},\n",
       "             scoring=&#x27;f1&#x27;, verbose=3)</pre><b>In a Jupyter environment, please rerun this cell to show the HTML representation or trust the notebook. <br />On GitHub, the HTML representation is unable to render, please try loading this page with nbviewer.org.</b></div><div class=\"sk-container\" hidden><div class=\"sk-item sk-dashed-wrapped\"><div class=\"sk-label-container\"><div class=\"sk-label sk-toggleable\"><input class=\"sk-toggleable__control sk-hidden--visually\" id=\"sk-estimator-id-14\" type=\"checkbox\" ><label for=\"sk-estimator-id-14\" class=\"sk-toggleable__label sk-toggleable__label-arrow\">GridSearchCV</label><div class=\"sk-toggleable__content\"><pre>GridSearchCV(cv=4, estimator=RandomForestClassifier(), n_jobs=-1,\n",
       "             param_grid={&#x27;criterion&#x27;: [&#x27;gini&#x27;], &#x27;max_depth&#x27;: [4, 6, 8],\n",
       "                         &#x27;min_samples_leaf&#x27;: [2, 3, 4],\n",
       "                         &#x27;min_samples_split&#x27;: [2, 4, 6, 8],\n",
       "                         &#x27;n_estimators&#x27;: [50, 75, 100]},\n",
       "             scoring=&#x27;f1&#x27;, verbose=3)</pre></div></div></div><div class=\"sk-parallel\"><div class=\"sk-parallel-item\"><div class=\"sk-item\"><div class=\"sk-label-container\"><div class=\"sk-label sk-toggleable\"><input class=\"sk-toggleable__control sk-hidden--visually\" id=\"sk-estimator-id-15\" type=\"checkbox\" ><label for=\"sk-estimator-id-15\" class=\"sk-toggleable__label sk-toggleable__label-arrow\">estimator: RandomForestClassifier</label><div class=\"sk-toggleable__content\"><pre>RandomForestClassifier()</pre></div></div></div><div class=\"sk-serial\"><div class=\"sk-item\"><div class=\"sk-estimator sk-toggleable\"><input class=\"sk-toggleable__control sk-hidden--visually\" id=\"sk-estimator-id-16\" type=\"checkbox\" ><label for=\"sk-estimator-id-16\" class=\"sk-toggleable__label sk-toggleable__label-arrow\">RandomForestClassifier</label><div class=\"sk-toggleable__content\"><pre>RandomForestClassifier()</pre></div></div></div></div></div></div></div></div></div></div>"
      ],
      "text/plain": [
       "GridSearchCV(cv=4, estimator=RandomForestClassifier(), n_jobs=-1,\n",
       "             param_grid={'criterion': ['gini'], 'max_depth': [4, 6, 8],\n",
       "                         'min_samples_leaf': [2, 3, 4],\n",
       "                         'min_samples_split': [2, 4, 6, 8],\n",
       "                         'n_estimators': [50, 75, 100]},\n",
       "             scoring='f1', verbose=3)"
      ]
     },
     "execution_count": 86,
     "metadata": {},
     "output_type": "execute_result"
    }
   ],
   "source": [
    "grid_search_random_forest.fit(X_train,y_train)"
   ]
  },
  {
   "cell_type": "code",
   "execution_count": 87,
   "id": "5682ba05",
   "metadata": {},
   "outputs": [
    {
     "name": "stdout",
     "output_type": "stream",
     "text": [
      "accuracy : 0.61\n",
      "precision : 0.58\n",
      "recall : 0.80\n",
      "f1 score : 0.67\n",
      "auc score : 0.61\n"
     ]
    }
   ],
   "source": [
    "random_forest_best = grid_search_random_forest.best_estimator_\n",
    "evaluate_model(random_forest_best)"
   ]
  },
  {
   "cell_type": "code",
   "execution_count": 88,
   "id": "c764d28e",
   "metadata": {},
   "outputs": [
    {
     "data": {
      "image/png": "[encoded data removed]",
      "text/plain": [
       "<Figure size 432x288 with 1 Axes>"
      ]
     },
     "metadata": {
      "needs_background": "light"
     },
     "output_type": "display_data"
    }
   ],
   "source": [
    "roc_curve_graph(X_test, y_test, random_forest_best)"
   ]
  },
  {
   "cell_type": "code",
   "execution_count": 89,
   "id": "07be5023",
   "metadata": {},
   "outputs": [
    {
     "data": {
      "text/html": [
       "<style>#sk-container-id-11 {color: black;}#sk-container-id-11 pre{padding: 0;}#sk-container-id-11 div.sk-toggleable {background-color: white;}#sk-container-id-11 label.sk-toggleable__label {cursor: pointer;display: block;width: 100%;margin-bottom: 0;padding: 0.3em;box-sizing: border-box;text-align: center;}#sk-container-id-11 label.sk-toggleable__label-arrow:before {content: \"▸\";float: left;margin-right: 0.25em;color: #696969;}#sk-container-id-11 label.sk-toggleable__label-arrow:hover:before {color: black;}#sk-container-id-11 div.sk-estimator:hover label.sk-toggleable__label-arrow:before {color: black;}#sk-container-id-11 div.sk-toggleable__content {max-height: 0;max-width: 0;overflow: hidden;text-align: left;background-color: #f0f8ff;}#sk-container-id-11 div.sk-toggleable__content pre {margin: 0.2em;color: black;border-radius: 0.25em;background-color: #f0f8ff;}#sk-container-id-11 input.sk-toggleable__control:checked~div.sk-toggleable__content {max-height: 200px;max-width: 100%;overflow: auto;}#sk-container-id-11 input.sk-toggleable__control:checked~label.sk-toggleable__label-arrow:before {content: \"▾\";}#sk-container-id-11 div.sk-estimator input.sk-toggleable__control:checked~label.sk-toggleable__label {background-color: #d4ebff;}#sk-container-id-11 div.sk-label input.sk-toggleable__control:checked~label.sk-toggleable__label {background-color: #d4ebff;}#sk-container-id-11 input.sk-hidden--visually {border: 0;clip: rect(1px 1px 1px 1px);clip: rect(1px, 1px, 1px, 1px);height: 1px;margin: -1px;overflow: hidden;padding: 0;position: absolute;width: 1px;}#sk-container-id-11 div.sk-estimator {font-family: monospace;background-color: #f0f8ff;border: 1px dotted black;border-radius: 0.25em;box-sizing: border-box;margin-bottom: 0.5em;}#sk-container-id-11 div.sk-estimator:hover {background-color: #d4ebff;}#sk-container-id-11 div.sk-parallel-item::after {content: \"\";width: 100%;border-bottom: 1px solid gray;flex-grow: 1;}#sk-container-id-11 div.sk-label:hover label.sk-toggleable__label {background-color: #d4ebff;}#sk-container-id-11 div.sk-serial::before {content: \"\";position: absolute;border-left: 1px solid gray;box-sizing: border-box;top: 0;bottom: 0;left: 50%;z-index: 0;}#sk-container-id-11 div.sk-serial {display: flex;flex-direction: column;align-items: center;background-color: white;padding-right: 0.2em;padding-left: 0.2em;position: relative;}#sk-container-id-11 div.sk-item {position: relative;z-index: 1;}#sk-container-id-11 div.sk-parallel {display: flex;align-items: stretch;justify-content: center;background-color: white;position: relative;}#sk-container-id-11 div.sk-item::before, #sk-container-id-11 div.sk-parallel-item::before {content: \"\";position: absolute;border-left: 1px solid gray;box-sizing: border-box;top: 0;bottom: 0;left: 50%;z-index: -1;}#sk-container-id-11 div.sk-parallel-item {display: flex;flex-direction: column;z-index: 1;position: relative;background-color: white;}#sk-container-id-11 div.sk-parallel-item:first-child::after {align-self: flex-end;width: 50%;}#sk-container-id-11 div.sk-parallel-item:last-child::after {align-self: flex-start;width: 50%;}#sk-container-id-11 div.sk-parallel-item:only-child::after {width: 0;}#sk-container-id-11 div.sk-dashed-wrapped {border: 1px dashed gray;margin: 0 0.4em 0.5em 0.4em;box-sizing: border-box;padding-bottom: 0.4em;background-color: white;}#sk-container-id-11 div.sk-label label {font-family: monospace;font-weight: bold;display: inline-block;line-height: 1.2em;}#sk-container-id-11 div.sk-label-container {text-align: center;}#sk-container-id-11 div.sk-container {/* jupyter's `normalize.less` sets `[hidden] { display: none; }` but bootstrap.min.css set `[hidden] { display: none !important; }` so we also need the `!important` here to be able to override the default hidden behavior on the sphinx rendered scikit-learn.org. See: https://github.com/scikit-learn/scikit-learn/issues/21755 */display: inline-block !important;position: relative;}#sk-container-id-11 div.sk-text-repr-fallback {display: none;}</style><div id=\"sk-container-id-11\" class=\"sk-top-container\"><div class=\"sk-text-repr-fallback\"><pre>GradientBoostingClassifier()</pre><b>In a Jupyter environment, please rerun this cell to show the HTML representation or trust the notebook. <br />On GitHub, the HTML representation is unable to render, please try loading this page with nbviewer.org.</b></div><div class=\"sk-container\" hidden><div class=\"sk-item\"><div class=\"sk-estimator sk-toggleable\"><input class=\"sk-toggleable__control sk-hidden--visually\" id=\"sk-estimator-id-17\" type=\"checkbox\" checked><label for=\"sk-estimator-id-17\" class=\"sk-toggleable__label sk-toggleable__label-arrow\">GradientBoostingClassifier</label><div class=\"sk-toggleable__content\"><pre>GradientBoostingClassifier()</pre></div></div></div></div></div>"
      ],
      "text/plain": [
       "GradientBoostingClassifier()"
      ]
     },
     "execution_count": 89,
     "metadata": {},
     "output_type": "execute_result"
    }
   ],
   "source": [
    "# Model 4, Gradient Boosting Classifier\n",
    "model_gradboost = GradientBoostingClassifier()\n",
    "model_gradboost.fit(X_train, y_train)"
   ]
  },
  {
   "cell_type": "code",
   "execution_count": 90,
   "id": "cd5333f5",
   "metadata": {},
   "outputs": [
    {
     "name": "stdout",
     "output_type": "stream",
     "text": [
      "accuracy : 0.61\n",
      "precision : 0.58\n",
      "recall : 0.85\n",
      "f1 score : 0.69\n",
      "auc score : 0.61\n"
     ]
    }
   ],
   "source": [
    "evaluate_model(model_gradboost)"
   ]
  },
  {
   "cell_type": "code",
   "execution_count": 91,
   "id": "b4b1ac8e",
   "metadata": {},
   "outputs": [
    {
     "data": {
      "image/png": "[encoded data removed]",
      "text/plain": [
       "<Figure size 432x288 with 1 Axes>"
      ]
     },
     "metadata": {
      "needs_background": "light"
     },
     "output_type": "display_data"
    }
   ],
   "source": [
    "roc_curve_graph(X_test,y_test, model_gradboost)"
   ]
  },
  {
   "cell_type": "code",
   "execution_count": 92,
   "id": "39947d86",
   "metadata": {},
   "outputs": [
    {
     "data": {
      "text/html": [
       "<style>#sk-container-id-12 {color: black;}#sk-container-id-12 pre{padding: 0;}#sk-container-id-12 div.sk-toggleable {background-color: white;}#sk-container-id-12 label.sk-toggleable__label {cursor: pointer;display: block;width: 100%;margin-bottom: 0;padding: 0.3em;box-sizing: border-box;text-align: center;}#sk-container-id-12 label.sk-toggleable__label-arrow:before {content: \"▸\";float: left;margin-right: 0.25em;color: #696969;}#sk-container-id-12 label.sk-toggleable__label-arrow:hover:before {color: black;}#sk-container-id-12 div.sk-estimator:hover label.sk-toggleable__label-arrow:before {color: black;}#sk-container-id-12 div.sk-toggleable__content {max-height: 0;max-width: 0;overflow: hidden;text-align: left;background-color: #f0f8ff;}#sk-container-id-12 div.sk-toggleable__content pre {margin: 0.2em;color: black;border-radius: 0.25em;background-color: #f0f8ff;}#sk-container-id-12 input.sk-toggleable__control:checked~div.sk-toggleable__content {max-height: 200px;max-width: 100%;overflow: auto;}#sk-container-id-12 input.sk-toggleable__control:checked~label.sk-toggleable__label-arrow:before {content: \"▾\";}#sk-container-id-12 div.sk-estimator input.sk-toggleable__control:checked~label.sk-toggleable__label {background-color: #d4ebff;}#sk-container-id-12 div.sk-label input.sk-toggleable__control:checked~label.sk-toggleable__label {background-color: #d4ebff;}#sk-container-id-12 input.sk-hidden--visually {border: 0;clip: rect(1px 1px 1px 1px);clip: rect(1px, 1px, 1px, 1px);height: 1px;margin: -1px;overflow: hidden;padding: 0;position: absolute;width: 1px;}#sk-container-id-12 div.sk-estimator {font-family: monospace;background-color: #f0f8ff;border: 1px dotted black;border-radius: 0.25em;box-sizing: border-box;margin-bottom: 0.5em;}#sk-container-id-12 div.sk-estimator:hover {background-color: #d4ebff;}#sk-container-id-12 div.sk-parallel-item::after {content: \"\";width: 100%;border-bottom: 1px solid gray;flex-grow: 1;}#sk-container-id-12 div.sk-label:hover label.sk-toggleable__label {background-color: #d4ebff;}#sk-container-id-12 div.sk-serial::before {content: \"\";position: absolute;border-left: 1px solid gray;box-sizing: border-box;top: 0;bottom: 0;left: 50%;z-index: 0;}#sk-container-id-12 div.sk-serial {display: flex;flex-direction: column;align-items: center;background-color: white;padding-right: 0.2em;padding-left: 0.2em;position: relative;}#sk-container-id-12 div.sk-item {position: relative;z-index: 1;}#sk-container-id-12 div.sk-parallel {display: flex;align-items: stretch;justify-content: center;background-color: white;position: relative;}#sk-container-id-12 div.sk-item::before, #sk-container-id-12 div.sk-parallel-item::before {content: \"\";position: absolute;border-left: 1px solid gray;box-sizing: border-box;top: 0;bottom: 0;left: 50%;z-index: -1;}#sk-container-id-12 div.sk-parallel-item {display: flex;flex-direction: column;z-index: 1;position: relative;background-color: white;}#sk-container-id-12 div.sk-parallel-item:first-child::after {align-self: flex-end;width: 50%;}#sk-container-id-12 div.sk-parallel-item:last-child::after {align-self: flex-start;width: 50%;}#sk-container-id-12 div.sk-parallel-item:only-child::after {width: 0;}#sk-container-id-12 div.sk-dashed-wrapped {border: 1px dashed gray;margin: 0 0.4em 0.5em 0.4em;box-sizing: border-box;padding-bottom: 0.4em;background-color: white;}#sk-container-id-12 div.sk-label label {font-family: monospace;font-weight: bold;display: inline-block;line-height: 1.2em;}#sk-container-id-12 div.sk-label-container {text-align: center;}#sk-container-id-12 div.sk-container {/* jupyter's `normalize.less` sets `[hidden] { display: none; }` but bootstrap.min.css set `[hidden] { display: none !important; }` so we also need the `!important` here to be able to override the default hidden behavior on the sphinx rendered scikit-learn.org. See: https://github.com/scikit-learn/scikit-learn/issues/21755 */display: inline-block !important;position: relative;}#sk-container-id-12 div.sk-text-repr-fallback {display: none;}</style><div id=\"sk-container-id-12\" class=\"sk-top-container\"><div class=\"sk-text-repr-fallback\"><pre>AdaBoostClassifier()</pre><b>In a Jupyter environment, please rerun this cell to show the HTML representation or trust the notebook. <br />On GitHub, the HTML representation is unable to render, please try loading this page with nbviewer.org.</b></div><div class=\"sk-container\" hidden><div class=\"sk-item\"><div class=\"sk-estimator sk-toggleable\"><input class=\"sk-toggleable__control sk-hidden--visually\" id=\"sk-estimator-id-18\" type=\"checkbox\" checked><label for=\"sk-estimator-id-18\" class=\"sk-toggleable__label sk-toggleable__label-arrow\">AdaBoostClassifier</label><div class=\"sk-toggleable__content\"><pre>AdaBoostClassifier()</pre></div></div></div></div></div>"
      ],
      "text/plain": [
       "AdaBoostClassifier()"
      ]
     },
     "execution_count": 92,
     "metadata": {},
     "output_type": "execute_result"
    }
   ],
   "source": [
    "# Model 5, ada Boosting Classifier\n",
    "model_adaboost = AdaBoostClassifier()\n",
    "model_adaboost.fit(X_train, y_train)"
   ]
  },
  {
   "cell_type": "code",
   "execution_count": 93,
   "id": "b0aae106",
   "metadata": {
    "scrolled": true
   },
   "outputs": [
    {
     "name": "stdout",
     "output_type": "stream",
     "text": [
      "accuracy : 0.61\n",
      "precision : 0.58\n",
      "recall : 0.76\n",
      "f1 score : 0.66\n",
      "auc score : 0.61\n"
     ]
    }
   ],
   "source": [
    "evaluate_model(model_adaboost)"
   ]
  },
  {
   "cell_type": "code",
   "execution_count": 94,
   "id": "a8a654d4",
   "metadata": {
    "scrolled": true
   },
   "outputs": [
    {
     "data": {
      "image/png": "[encoded data removed]",
      "text/plain": [
       "<Figure size 432x288 with 1 Axes>"
      ]
     },
     "metadata": {
      "needs_background": "light"
     },
     "output_type": "display_data"
    }
   ],
   "source": [
    "roc_curve_graph(X_test,y_test, model_adaboost)"
   ]
  },
  {
   "cell_type": "code",
   "execution_count": 95,
   "id": "183ea957",
   "metadata": {},
   "outputs": [
    {
     "data": {
      "text/html": [
       "<style>#sk-container-id-13 {color: black;}#sk-container-id-13 pre{padding: 0;}#sk-container-id-13 div.sk-toggleable {background-color: white;}#sk-container-id-13 label.sk-toggleable__label {cursor: pointer;display: block;width: 100%;margin-bottom: 0;padding: 0.3em;box-sizing: border-box;text-align: center;}#sk-container-id-13 label.sk-toggleable__label-arrow:before {content: \"▸\";float: left;margin-right: 0.25em;color: #696969;}#sk-container-id-13 label.sk-toggleable__label-arrow:hover:before {color: black;}#sk-container-id-13 div.sk-estimator:hover label.sk-toggleable__label-arrow:before {color: black;}#sk-container-id-13 div.sk-toggleable__content {max-height: 0;max-width: 0;overflow: hidden;text-align: left;background-color: #f0f8ff;}#sk-container-id-13 div.sk-toggleable__content pre {margin: 0.2em;color: black;border-radius: 0.25em;background-color: #f0f8ff;}#sk-container-id-13 input.sk-toggleable__control:checked~div.sk-toggleable__content {max-height: 200px;max-width: 100%;overflow: auto;}#sk-container-id-13 input.sk-toggleable__control:checked~label.sk-toggleable__label-arrow:before {content: \"▾\";}#sk-container-id-13 div.sk-estimator input.sk-toggleable__control:checked~label.sk-toggleable__label {background-color: #d4ebff;}#sk-container-id-13 div.sk-label input.sk-toggleable__control:checked~label.sk-toggleable__label {background-color: #d4ebff;}#sk-container-id-13 input.sk-hidden--visually {border: 0;clip: rect(1px 1px 1px 1px);clip: rect(1px, 1px, 1px, 1px);height: 1px;margin: -1px;overflow: hidden;padding: 0;position: absolute;width: 1px;}#sk-container-id-13 div.sk-estimator {font-family: monospace;background-color: #f0f8ff;border: 1px dotted black;border-radius: 0.25em;box-sizing: border-box;margin-bottom: 0.5em;}#sk-container-id-13 div.sk-estimator:hover {background-color: #d4ebff;}#sk-container-id-13 div.sk-parallel-item::after {content: \"\";width: 100%;border-bottom: 1px solid gray;flex-grow: 1;}#sk-container-id-13 div.sk-label:hover label.sk-toggleable__label {background-color: #d4ebff;}#sk-container-id-13 div.sk-serial::before {content: \"\";position: absolute;border-left: 1px solid gray;box-sizing: border-box;top: 0;bottom: 0;left: 50%;z-index: 0;}#sk-container-id-13 div.sk-serial {display: flex;flex-direction: column;align-items: center;background-color: white;padding-right: 0.2em;padding-left: 0.2em;position: relative;}#sk-container-id-13 div.sk-item {position: relative;z-index: 1;}#sk-container-id-13 div.sk-parallel {display: flex;align-items: stretch;justify-content: center;background-color: white;position: relative;}#sk-container-id-13 div.sk-item::before, #sk-container-id-13 div.sk-parallel-item::before {content: \"\";position: absolute;border-left: 1px solid gray;box-sizing: border-box;top: 0;bottom: 0;left: 50%;z-index: -1;}#sk-container-id-13 div.sk-parallel-item {display: flex;flex-direction: column;z-index: 1;position: relative;background-color: white;}#sk-container-id-13 div.sk-parallel-item:first-child::after {align-self: flex-end;width: 50%;}#sk-container-id-13 div.sk-parallel-item:last-child::after {align-self: flex-start;width: 50%;}#sk-container-id-13 div.sk-parallel-item:only-child::after {width: 0;}#sk-container-id-13 div.sk-dashed-wrapped {border: 1px dashed gray;margin: 0 0.4em 0.5em 0.4em;box-sizing: border-box;padding-bottom: 0.4em;background-color: white;}#sk-container-id-13 div.sk-label label {font-family: monospace;font-weight: bold;display: inline-block;line-height: 1.2em;}#sk-container-id-13 div.sk-label-container {text-align: center;}#sk-container-id-13 div.sk-container {/* jupyter's `normalize.less` sets `[hidden] { display: none; }` but bootstrap.min.css set `[hidden] { display: none !important; }` so we also need the `!important` here to be able to override the default hidden behavior on the sphinx rendered scikit-learn.org. See: https://github.com/scikit-learn/scikit-learn/issues/21755 */display: inline-block !important;position: relative;}#sk-container-id-13 div.sk-text-repr-fallback {display: none;}</style><div id=\"sk-container-id-13\" class=\"sk-top-container\"><div class=\"sk-text-repr-fallback\"><pre>XGBClassifier(base_score=None, booster=None, callbacks=None,\n",
       "              colsample_bylevel=None, colsample_bynode=None,\n",
       "              colsample_bytree=None, early_stopping_rounds=None,\n",
       "              enable_categorical=False, eval_metric=None, feature_types=None,\n",
       "              gamma=None, gpu_id=None, grow_policy=None, importance_type=None,\n",
       "              interaction_constraints=None, learning_rate=None, max_bin=None,\n",
       "              max_cat_threshold=None, max_cat_to_onehot=None,\n",
       "              max_delta_step=None, max_depth=None, max_leaves=None,\n",
       "              min_child_weight=None, missing=nan, monotone_constraints=None,\n",
       "              n_estimators=100, n_jobs=None, num_parallel_tree=None,\n",
       "              predictor=None, random_state=None, ...)</pre><b>In a Jupyter environment, please rerun this cell to show the HTML representation or trust the notebook. <br />On GitHub, the HTML representation is unable to render, please try loading this page with nbviewer.org.</b></div><div class=\"sk-container\" hidden><div class=\"sk-item\"><div class=\"sk-estimator sk-toggleable\"><input class=\"sk-toggleable__control sk-hidden--visually\" id=\"sk-estimator-id-19\" type=\"checkbox\" checked><label for=\"sk-estimator-id-19\" class=\"sk-toggleable__label sk-toggleable__label-arrow\">XGBClassifier</label><div class=\"sk-toggleable__content\"><pre>XGBClassifier(base_score=None, booster=None, callbacks=None,\n",
       "              colsample_bylevel=None, colsample_bynode=None,\n",
       "              colsample_bytree=None, early_stopping_rounds=None,\n",
       "              enable_categorical=False, eval_metric=None, feature_types=None,\n",
       "              gamma=None, gpu_id=None, grow_policy=None, importance_type=None,\n",
       "              interaction_constraints=None, learning_rate=None, max_bin=None,\n",
       "              max_cat_threshold=None, max_cat_to_onehot=None,\n",
       "              max_delta_step=None, max_depth=None, max_leaves=None,\n",
       "              min_child_weight=None, missing=nan, monotone_constraints=None,\n",
       "              n_estimators=100, n_jobs=None, num_parallel_tree=None,\n",
       "              predictor=None, random_state=None, ...)</pre></div></div></div></div></div>"
      ],
      "text/plain": [
       "XGBClassifier(base_score=None, booster=None, callbacks=None,\n",
       "              colsample_bylevel=None, colsample_bynode=None,\n",
       "              colsample_bytree=None, early_stopping_rounds=None,\n",
       "              enable_categorical=False, eval_metric=None, feature_types=None,\n",
       "              gamma=None, gpu_id=None, grow_policy=None, importance_type=None,\n",
       "              interaction_constraints=None, learning_rate=None, max_bin=None,\n",
       "              max_cat_threshold=None, max_cat_to_onehot=None,\n",
       "              max_delta_step=None, max_depth=None, max_leaves=None,\n",
       "              min_child_weight=None, missing=nan, monotone_constraints=None,\n",
       "              n_estimators=100, n_jobs=None, num_parallel_tree=None,\n",
       "              predictor=None, random_state=None, ...)"
      ]
     },
     "execution_count": 95,
     "metadata": {},
     "output_type": "execute_result"
    }
   ],
   "source": [
    "# Model 6, XG Boost Classifier\n",
    "from xgboost import XGBClassifier\n",
    "model_xgboost = XGBClassifier()\n",
    "model_xgboost.fit(X_train, y_train)"
   ]
  },
  {
   "cell_type": "code",
   "execution_count": 96,
   "id": "884b5c6f",
   "metadata": {},
   "outputs": [
    {
     "name": "stdout",
     "output_type": "stream",
     "text": [
      "accuracy : 0.65\n",
      "precision : 0.63\n",
      "recall : 0.74\n",
      "f1 score : 0.68\n",
      "auc score : 0.65\n"
     ]
    }
   ],
   "source": [
    "evaluate_model(model_xgboost)"
   ]
  },
  {
   "cell_type": "code",
   "execution_count": 97,
   "id": "b3440e93",
   "metadata": {
    "scrolled": true
   },
   "outputs": [
    {
     "data": {
      "image/png": "[encoded data removed]",
      "text/plain": [
       "<Figure size 432x288 with 1 Axes>"
      ]
     },
     "metadata": {
      "needs_background": "light"
     },
     "output_type": "display_data"
    }
   ],
   "source": [
    "roc_curve_graph(X_test, y_test, model_xgboost)"
   ]
  },
  {
   "cell_type": "code",
   "execution_count": 98,
   "id": "3e291a74",
   "metadata": {},
   "outputs": [],
   "source": [
    "models = [logistic_regression_best, decission_tree_best, model_random_forest, model_gradboost, model_adaboost, model_xgboost]"
   ]
  },
  {
   "cell_type": "code",
   "execution_count": 99,
   "id": "5a9447a6",
   "metadata": {
    "scrolled": true
   },
   "outputs": [
    {
     "name": "stdout",
     "output_type": "stream",
     "text": [
      "LogisticRegressionCV(cv=3)\n",
      "accuracy : 0.54\n",
      "precision : 0.54\n",
      "recall : 0.52\n",
      "f1 score : 0.53\n",
      "auc score : 0.54\n",
      "\n",
      "DecisionTreeClassifier(max_depth=8, min_samples_leaf=2, min_samples_split=4,\n",
      "                       splitter='random')\n",
      "accuracy : 0.59\n",
      "precision : 0.63\n",
      "recall : 0.44\n",
      "f1 score : 0.52\n",
      "auc score : 0.59\n",
      "\n",
      "RandomForestClassifier()\n",
      "accuracy : 0.70\n",
      "precision : 0.71\n",
      "recall : 0.68\n",
      "f1 score : 0.70\n",
      "auc score : 0.70\n",
      "\n",
      "GradientBoostingClassifier()\n",
      "accuracy : 0.61\n",
      "precision : 0.58\n",
      "recall : 0.85\n",
      "f1 score : 0.69\n",
      "auc score : 0.61\n",
      "\n",
      "AdaBoostClassifier()\n",
      "accuracy : 0.61\n",
      "precision : 0.58\n",
      "recall : 0.76\n",
      "f1 score : 0.66\n",
      "auc score : 0.61\n",
      "\n",
      "XGBClassifier(base_score=None, booster=None, callbacks=None,\n",
      "              colsample_bylevel=None, colsample_bynode=None,\n",
      "              colsample_bytree=None, early_stopping_rounds=None,\n",
      "              enable_categorical=False, eval_metric=None, feature_types=None,\n",
      "              gamma=None, gpu_id=None, grow_policy=None, importance_type=None,\n",
      "              interaction_constraints=None, learning_rate=None, max_bin=None,\n",
      "              max_cat_threshold=None, max_cat_to_onehot=None,\n",
      "              max_delta_step=None, max_depth=None, max_leaves=None,\n",
      "              min_child_weight=None, missing=nan, monotone_constraints=None,\n",
      "              n_estimators=100, n_jobs=None, num_parallel_tree=None,\n",
      "              predictor=None, random_state=None, ...)\n",
      "accuracy : 0.65\n",
      "precision : 0.63\n",
      "recall : 0.74\n",
      "f1 score : 0.68\n",
      "auc score : 0.65\n",
      "\n"
     ]
    }
   ],
   "source": [
    "for model in models:\n",
    "    print(f'{model}')\n",
    "    evaluate_model(model)\n",
    "    print()"
   ]
  },
  {
   "cell_type": "code",
   "execution_count": 100,
   "id": "915f6897",
   "metadata": {},
   "outputs": [],
   "source": [
    "import pickle\n",
    "pickle.dump(logistic_regression_best, open('logistic_regression_best.pkl', 'wb'))\n",
    "pickle.dump(decission_tree_best, open('decission_tree_best.pkl', 'wb'))\n",
    "pickle.dump(model_random_forest, open('model_random_forest.pkl', 'wb'))\n",
    "pickle.dump(model_gradboost, open('model_gradboost.pkl', 'wb'))\n",
    "pickle.dump(model_adaboost, open('model_adaboost.pkl', 'wb'))\n",
    "pickle.dump(model_xgboost, open('model_xgboost.pkl', 'wb'))"
   ]
  },
  {
   "cell_type": "code",
   "execution_count": 101,
   "id": "10db98f6",
   "metadata": {},
   "outputs": [],
   "source": [
    "# Trying model with deep learning artificial neural network"
   ]
  },
  {
   "cell_type": "code",
   "execution_count": 102,
   "id": "20a15698",
   "metadata": {},
   "outputs": [
    {
     "name": "stdout",
     "output_type": "stream",
     "text": [
      "(78065, 6)\n",
      "(6,)\n"
     ]
    }
   ],
   "source": [
    "print(X_train.shape)\n",
    "print(X_train.iloc[2].shape) # this will be the input shape to our ann model"
   ]
  },
  {
   "cell_type": "code",
   "execution_count": 103,
   "id": "7e070088",
   "metadata": {},
   "outputs": [],
   "source": [
    "import math\n",
    "import tensorflow as tf\n",
    "from tensorflow.keras import Model\n",
    "from tensorflow.keras.utils import to_categorical #for converting our y data ie from alphabets a-z to catergorical form\n",
    "from tensorflow.keras.models import Sequential \n",
    "#for creating sequential model of different dense layers,all layers together make sequential model\n",
    "from tensorflow.keras.layers import Dense, Dropout, Conv2D, MaxPool2D, Flatten \n",
    "#for creating layers of training, dense means connected to each other, Conv2d,maxpool2d,flattern for cnn transfer ler model\n",
    "#for creating layers of training, dense means connected to each other, Conv2d,maxpool2d,flattern for cnn transfer lerning model\n",
    "from tensorflow.keras.losses import binary_crossentropy"
   ]
  },
  {
   "cell_type": "code",
   "execution_count": 104,
   "id": "596eebb8",
   "metadata": {},
   "outputs": [],
   "source": [
    "from tensorflow.keras.applications.vgg16 import VGG16\n",
    "from tensorflow.keras.applications.resnet50 import ResNet50\n",
    "from tensorflow.keras.applications.inception_v3 import InceptionV3\n",
    "from tensorflow.keras.applications.densenet import DenseNet201"
   ]
  },
  {
   "cell_type": "code",
   "execution_count": 105,
   "id": "d7dfc3fd",
   "metadata": {},
   "outputs": [],
   "source": [
    "#ann model\n",
    "model = Sequential()\n",
    "model.add(Dense(64, activation = 'relu', input_shape=(6,))) #trainable parameters = 6x64 + 64 bias\n",
    "model.add(Dense(64, activation = 'relu')) #trainable parameters = 64x64 + 64 bias\n",
    "model.add(Dense(1, activation = 'softmax')) #trainable parameters = 64x1 + 1 bias\n",
    "\n",
    "model.compile(loss='binary_crossentropy', metrics=['accuracy']) \n",
    "#the parameters whcih are common to whole model need to be given in compile line code\n",
    "#common parametrs are loss function, optimizer, metrics used for our model\n",
    "#each layer can have diff numbers of neuron and diff activation function & diff kernel initializers"
   ]
  },
  {
   "cell_type": "code",
   "execution_count": 106,
   "id": "fb4e3a79",
   "metadata": {},
   "outputs": [
    {
     "name": "stdout",
     "output_type": "stream",
     "text": [
      "Model: \"sequential\"\n",
      "_________________________________________________________________\n",
      " Layer (type)                Output Shape              Param #   \n",
      "=================================================================\n",
      " dense (Dense)               (None, 64)                448       \n",
      "                                                                 \n",
      " dense_1 (Dense)             (None, 64)                4160      \n",
      "                                                                 \n",
      " dense_2 (Dense)             (None, 1)                 65        \n",
      "                                                                 \n",
      "=================================================================\n",
      "Total params: 4,673\n",
      "Trainable params: 4,673\n",
      "Non-trainable params: 0\n",
      "_________________________________________________________________\n"
     ]
    }
   ],
   "source": [
    "model.summary()"
   ]
  },
  {
   "cell_type": "code",
   "execution_count": 107,
   "id": "f7517c1c",
   "metadata": {},
   "outputs": [],
   "source": [
    "import time"
   ]
  },
  {
   "cell_type": "code",
   "execution_count": 108,
   "id": "5357b813",
   "metadata": {},
   "outputs": [],
   "source": [
    "from tensorflow.keras.callbacks import EarlyStopping"
   ]
  },
  {
   "cell_type": "code",
   "execution_count": 109,
   "id": "b0b09345",
   "metadata": {},
   "outputs": [],
   "source": [
    "es = EarlyStopping(monitor='loss', verbose=1,patience=3)\n",
    "#Stops training when a monitored metric has stopped improving, checking 3 recent loss and accuracy improvement"
   ]
  },
  {
   "cell_type": "code",
   "execution_count": 110,
   "id": "3add3291",
   "metadata": {},
   "outputs": [
    {
     "name": "stdout",
     "output_type": "stream",
     "text": [
      "Epoch 17: early stopping\n",
      "Training Time is: 52\n"
     ]
    }
   ],
   "source": [
    "init = time.time()\n",
    "ann_model = model.fit(X_train,y_train, epochs = 100, batch_size=32,verbose=0,callbacks=es) #mini batch gd, value should be in power of 2\n",
    "end = time.time()\n",
    "print('Training Time is:',int(end-init))\n",
    "#returns the epoch where training has stopped"
   ]
  },
  {
   "cell_type": "code",
   "execution_count": 111,
   "id": "6013750f",
   "metadata": {},
   "outputs": [
    {
     "data": {
      "text/plain": [
       "[<matplotlib.lines.Line2D at 0x186ad892040>]"
      ]
     },
     "execution_count": 111,
     "metadata": {},
     "output_type": "execute_result"
    },
    {
     "data": {
      "image/png": "[encoded data removed]",
      "text/plain": [
       "<Figure size 432x288 with 1 Axes>"
      ]
     },
     "metadata": {
      "needs_background": "light"
     },
     "output_type": "display_data"
    }
   ],
   "source": [
    "plt.plot(ann_model.history['loss'],marker='o') \n",
    "#this plots the loss function graph for mini batch gd\n",
    "#as we can observe that the loss after a certain pt is increasing so we need to stop training our model at that point\n",
    "#this can be achived by the callback parameter and earlystopping"
   ]
  },
  {
   "cell_type": "code",
   "execution_count": 112,
   "id": "00c6b203",
   "metadata": {},
   "outputs": [
    {
     "name": "stdout",
     "output_type": "stream",
     "text": [
      "1046/1046 [==============================] - 1s 1ms/step\n"
     ]
    }
   ],
   "source": [
    "ann_pred = model.predict(X_test)"
   ]
  },
  {
   "cell_type": "code",
   "execution_count": 113,
   "id": "447f6525",
   "metadata": {},
   "outputs": [
    {
     "data": {
      "text/plain": [
       "array([[1.],\n",
       "       [1.],\n",
       "       [1.],\n",
       "       ...,\n",
       "       [1.],\n",
       "       [1.],\n",
       "       [1.]], dtype=float32)"
      ]
     },
     "execution_count": 113,
     "metadata": {},
     "output_type": "execute_result"
    }
   ],
   "source": [
    "ann_pred"
   ]
  },
  {
   "cell_type": "code",
   "execution_count": 114,
   "id": "1bf81c01",
   "metadata": {},
   "outputs": [
    {
     "name": "stdout",
     "output_type": "stream",
     "text": [
      "0.5010610634545835\n",
      "0.5010610634545835\n",
      "1.0\n",
      "0.6676091674797395\n"
     ]
    }
   ],
   "source": [
    "from sklearn.metrics import accuracy_score, precision_score, recall_score, f1_score\n",
    "print(accuracy_score(y_test, ann_pred))\n",
    "print(precision_score(y_test,ann_pred))\n",
    "print(recall_score(y_test, ann_pred))\n",
    "print(f1_score(y_test, ann_pred))"
   ]
  },
  {
   "cell_type": "code",
   "execution_count": 115,
   "id": "95ad6405",
   "metadata": {},
   "outputs": [],
   "source": [
    "# Hyper parameter tuning the ann model"
   ]
  },
  {
   "cell_type": "code",
   "execution_count": 116,
   "id": "187e7bb0",
   "metadata": {},
   "outputs": [],
   "source": [
    "import kerastuner as kt"
   ]
  },
  {
   "cell_type": "code",
   "execution_count": 117,
   "id": "18e2bae7",
   "metadata": {},
   "outputs": [],
   "source": [
    "def build_model(hp):\n",
    "  model = tf.keras.Sequential()\n",
    "  \n",
    "  # Tune the number of units in the first Dense layer\n",
    "  # Choose an optimal value between 32-512\n",
    "  hp_units1 = hp.Int('units1', min_value=32, max_value=512, step=32)\n",
    "  hp_units2 = hp.Int('units2', min_value=32, max_value=512, step=32)\n",
    "  hp_units3 = hp.Int('units3', min_value=32, max_value=512, step=32)\n",
    "  model.add(Dense(units=hp_units1, activation='relu'))\n",
    "  model.add(tf.keras.layers.Dense(units=hp_units2, activation='relu'))\n",
    "  model.add(tf.keras.layers.Dense(units=hp_units3, activation='relu'))\n",
    "  model.add(Dense(1, kernel_initializer='normal', activation='linear'))\n",
    "\n",
    "  # Tune the learning rate for the optimizer\n",
    "  # Choose an optimal value from 0.01, 0.001, or 0.0001\n",
    "  hp_learning_rate = hp.Choice('learning_rate', values=[1e-2, 1e-3, 1e-4])\n",
    "\n",
    "  model.compile(\n",
    "      optimizer=tf.keras.optimizers.Adam(learning_rate=hp_learning_rate),\n",
    "      loss=binary_crossentropy,\n",
    "      metrics=['accuracy']\n",
    "  )\n",
    "\n",
    "  return model"
   ]
  },
  {
   "cell_type": "code",
   "execution_count": 118,
   "id": "02641007",
   "metadata": {},
   "outputs": [],
   "source": [
    "# HyperBand algorithm from keras tuner\n",
    "tuner = kt.Hyperband(build_model,\n",
    "                     objective='val_accuracy',\n",
    "                     max_epochs=10,\n",
    "                     factor=3,\n",
    "                     directory='my_dir',\n",
    "                     project_name='h1b')"
   ]
  },
  {
   "cell_type": "code",
   "execution_count": 119,
   "id": "c459d49a",
   "metadata": {},
   "outputs": [],
   "source": [
    "stop_early = tf.keras.callbacks.EarlyStopping(monitor='val_loss', patience=5)"
   ]
  },
  {
   "cell_type": "code",
   "execution_count": 120,
   "id": "14055a2f",
   "metadata": {},
   "outputs": [
    {
     "name": "stdout",
     "output_type": "stream",
     "text": [
      "Trial 30 Complete [00h 00m 34s]\n",
      "val_accuracy: 0.5048357248306274\n",
      "\n",
      "Best val_accuracy So Far: 0.5991801619529724\n",
      "Total elapsed time: 00h 10m 08s\n",
      "INFO:tensorflow:Oracle triggered exit\n"
     ]
    }
   ],
   "source": [
    "tuner.search(X_train, y_train, epochs=10, validation_split=0.2, callbacks=[stop_early])"
   ]
  },
  {
   "cell_type": "code",
   "execution_count": 121,
   "id": "e26b0029",
   "metadata": {},
   "outputs": [],
   "source": [
    "best_hps=tuner.get_best_hyperparameters(num_trials=1)[0]"
   ]
  },
  {
   "cell_type": "code",
   "execution_count": 122,
   "id": "730951a3",
   "metadata": {},
   "outputs": [],
   "source": [
    "model = tuner.hypermodel.build(best_hps)"
   ]
  },
  {
   "cell_type": "code",
   "execution_count": 125,
   "id": "914942ef",
   "metadata": {
    "scrolled": true
   },
   "outputs": [
    {
     "name": "stdout",
     "output_type": "stream",
     "text": [
      "Epoch 1/50\n",
      "1952/1952 [==============================] - 4s 2ms/step - loss: 0.6571 - accuracy: 0.5943 - val_loss: 0.6511 - val_accuracy: 0.5964\n",
      "Epoch 2/50\n",
      "1952/1952 [==============================] - 5s 2ms/step - loss: 0.6583 - accuracy: 0.5943 - val_loss: 0.6630 - val_accuracy: 0.5893\n",
      "Epoch 3/50\n",
      "1952/1952 [==============================] - 5s 2ms/step - loss: 0.6578 - accuracy: 0.5939 - val_loss: 0.6517 - val_accuracy: 0.5983\n",
      "Epoch 4/50\n",
      "1952/1952 [==============================] - 4s 2ms/step - loss: 0.6544 - accuracy: 0.5942 - val_loss: 0.6600 - val_accuracy: 0.5953\n",
      "Epoch 5/50\n",
      "1952/1952 [==============================] - 5s 2ms/step - loss: 0.6574 - accuracy: 0.5919 - val_loss: 0.6586 - val_accuracy: 0.5878\n",
      "Epoch 6/50\n",
      "1952/1952 [==============================] - 5s 2ms/step - loss: 0.6527 - accuracy: 0.5976 - val_loss: 0.6546 - val_accuracy: 0.5996\n",
      "Epoch 7/50\n",
      "1952/1952 [==============================] - 5s 2ms/step - loss: 0.6584 - accuracy: 0.5905 - val_loss: 0.6673 - val_accuracy: 0.5802\n",
      "Epoch 8/50\n",
      "1952/1952 [==============================] - 4s 2ms/step - loss: 0.6559 - accuracy: 0.5936 - val_loss: 0.6502 - val_accuracy: 0.5958\n",
      "Epoch 9/50\n",
      "1952/1952 [==============================] - 4s 2ms/step - loss: 0.6505 - accuracy: 0.5990 - val_loss: 0.6487 - val_accuracy: 0.5952\n",
      "Epoch 10/50\n",
      "1952/1952 [==============================] - 4s 2ms/step - loss: 0.6509 - accuracy: 0.5984 - val_loss: 0.6566 - val_accuracy: 0.5997\n",
      "Epoch 11/50\n",
      "1952/1952 [==============================] - 5s 2ms/step - loss: 0.6522 - accuracy: 0.5983 - val_loss: 0.6514 - val_accuracy: 0.5993\n",
      "Epoch 12/50\n",
      "1952/1952 [==============================] - 5s 2ms/step - loss: 0.6496 - accuracy: 0.5996 - val_loss: 0.6571 - val_accuracy: 0.5921\n",
      "Epoch 13/50\n",
      "1952/1952 [==============================] - 4s 2ms/step - loss: 0.6511 - accuracy: 0.5994 - val_loss: 0.6529 - val_accuracy: 0.5960\n",
      "Epoch 14/50\n",
      "1952/1952 [==============================] - 4s 2ms/step - loss: 0.6508 - accuracy: 0.6021 - val_loss: 0.6601 - val_accuracy: 0.5999\n",
      "Epoch 15/50\n",
      "1952/1952 [==============================] - 4s 2ms/step - loss: 0.6523 - accuracy: 0.5997 - val_loss: 0.6510 - val_accuracy: 0.5945\n",
      "Epoch 16/50\n",
      "1952/1952 [==============================] - 4s 2ms/step - loss: 0.6515 - accuracy: 0.5969 - val_loss: 0.6536 - val_accuracy: 0.5907\n",
      "Epoch 17/50\n",
      "1952/1952 [==============================] - 5s 2ms/step - loss: 0.6500 - accuracy: 0.6019 - val_loss: 0.6480 - val_accuracy: 0.6008\n",
      "Epoch 18/50\n",
      "1952/1952 [==============================] - 5s 2ms/step - loss: 0.6496 - accuracy: 0.6003 - val_loss: 0.6483 - val_accuracy: 0.6028\n",
      "Epoch 19/50\n",
      "1952/1952 [==============================] - 5s 2ms/step - loss: 0.6480 - accuracy: 0.6032 - val_loss: 0.6475 - val_accuracy: 0.6045\n",
      "Epoch 20/50\n",
      "1952/1952 [==============================] - 5s 2ms/step - loss: 0.6510 - accuracy: 0.6012 - val_loss: 0.6520 - val_accuracy: 0.5957\n",
      "Epoch 21/50\n",
      "1952/1952 [==============================] - 4s 2ms/step - loss: 0.6479 - accuracy: 0.6016 - val_loss: 0.6582 - val_accuracy: 0.5878\n",
      "Epoch 22/50\n",
      "1952/1952 [==============================] - 4s 2ms/step - loss: 0.6463 - accuracy: 0.6033 - val_loss: 0.6515 - val_accuracy: 0.6011\n",
      "Epoch 23/50\n",
      "1952/1952 [==============================] - 6s 3ms/step - loss: 0.6500 - accuracy: 0.6014 - val_loss: 0.6538 - val_accuracy: 0.6030\n",
      "Epoch 24/50\n",
      "1952/1952 [==============================] - 5s 3ms/step - loss: 0.6512 - accuracy: 0.6011 - val_loss: 0.6556 - val_accuracy: 0.5975\n",
      "Epoch 25/50\n",
      "1952/1952 [==============================] - 6s 3ms/step - loss: 0.6504 - accuracy: 0.6007 - val_loss: 0.6560 - val_accuracy: 0.5957\n",
      "Epoch 26/50\n",
      "1952/1952 [==============================] - 5s 3ms/step - loss: 0.6567 - accuracy: 0.6017 - val_loss: 0.6483 - val_accuracy: 0.6018\n",
      "Epoch 27/50\n",
      "1952/1952 [==============================] - 5s 3ms/step - loss: 0.6541 - accuracy: 0.6011 - val_loss: 0.6505 - val_accuracy: 0.6057\n",
      "Epoch 28/50\n",
      "1952/1952 [==============================] - 5s 2ms/step - loss: 0.6523 - accuracy: 0.6030 - val_loss: 0.6529 - val_accuracy: 0.6001\n",
      "Epoch 29/50\n",
      "1952/1952 [==============================] - 6s 3ms/step - loss: 0.6545 - accuracy: 0.6012 - val_loss: 0.6561 - val_accuracy: 0.5994\n",
      "Epoch 30/50\n",
      "1952/1952 [==============================] - 5s 3ms/step - loss: 0.6499 - accuracy: 0.6022 - val_loss: 0.6489 - val_accuracy: 0.5989\n",
      "Epoch 31/50\n",
      "1952/1952 [==============================] - 5s 2ms/step - loss: 0.6527 - accuracy: 0.6008 - val_loss: 0.6606 - val_accuracy: 0.6007\n",
      "Epoch 32/50\n",
      "1952/1952 [==============================] - 5s 2ms/step - loss: 0.6458 - accuracy: 0.6033 - val_loss: 0.6510 - val_accuracy: 0.6010\n",
      "Epoch 33/50\n",
      "1952/1952 [==============================] - 5s 3ms/step - loss: 0.6480 - accuracy: 0.6018 - val_loss: 0.6480 - val_accuracy: 0.6010\n",
      "Epoch 34/50\n",
      "1952/1952 [==============================] - 5s 3ms/step - loss: 0.6442 - accuracy: 0.6044 - val_loss: 0.6523 - val_accuracy: 0.6030\n",
      "Epoch 35/50\n",
      "1952/1952 [==============================] - 7s 4ms/step - loss: 0.6439 - accuracy: 0.6020 - val_loss: 0.6466 - val_accuracy: 0.5991\n",
      "Epoch 36/50\n",
      "1952/1952 [==============================] - 6s 3ms/step - loss: 0.6527 - accuracy: 0.6030 - val_loss: 0.6606 - val_accuracy: 0.6056\n",
      "Epoch 37/50\n",
      "1952/1952 [==============================] - 6s 3ms/step - loss: 0.6595 - accuracy: 0.6000 - val_loss: 0.6496 - val_accuracy: 0.6027\n",
      "Epoch 38/50\n",
      "1952/1952 [==============================] - 7s 4ms/step - loss: 0.6486 - accuracy: 0.6033 - val_loss: 0.6470 - val_accuracy: 0.6026\n",
      "Epoch 39/50\n",
      "1952/1952 [==============================] - 6s 3ms/step - loss: 0.6456 - accuracy: 0.6031 - val_loss: 0.6536 - val_accuracy: 0.5948\n",
      "Epoch 40/50\n",
      "1952/1952 [==============================] - 5s 2ms/step - loss: 0.6495 - accuracy: 0.6024 - val_loss: 0.6471 - val_accuracy: 0.6026\n",
      "Epoch 41/50\n",
      "1952/1952 [==============================] - 5s 2ms/step - loss: 0.6543 - accuracy: 0.6037 - val_loss: 0.6484 - val_accuracy: 0.6007\n",
      "Epoch 42/50\n",
      "1952/1952 [==============================] - 5s 2ms/step - loss: 0.6550 - accuracy: 0.6010 - val_loss: 0.6562 - val_accuracy: 0.6018\n",
      "Epoch 43/50\n",
      "1952/1952 [==============================] - 5s 2ms/step - loss: 0.6501 - accuracy: 0.6030 - val_loss: 0.6486 - val_accuracy: 0.6051\n",
      "Epoch 44/50\n",
      "1952/1952 [==============================] - 5s 2ms/step - loss: 0.6478 - accuracy: 0.6017 - val_loss: 0.6466 - val_accuracy: 0.6022\n",
      "Epoch 45/50\n",
      "1952/1952 [==============================] - 5s 2ms/step - loss: 0.6452 - accuracy: 0.6041 - val_loss: 0.6485 - val_accuracy: 0.6008\n",
      "Epoch 46/50\n",
      "1952/1952 [==============================] - 5s 2ms/step - loss: 0.6477 - accuracy: 0.6030 - val_loss: 0.6453 - val_accuracy: 0.6042\n",
      "Epoch 47/50\n",
      "1952/1952 [==============================] - 5s 3ms/step - loss: 0.6476 - accuracy: 0.6018 - val_loss: 0.6441 - val_accuracy: 0.6020\n",
      "Epoch 48/50\n",
      "1952/1952 [==============================] - 5s 3ms/step - loss: 0.6499 - accuracy: 0.6042 - val_loss: 0.6526 - val_accuracy: 0.6033\n",
      "Epoch 49/50\n",
      "1952/1952 [==============================] - 5s 2ms/step - loss: 0.6486 - accuracy: 0.6021 - val_loss: 0.6463 - val_accuracy: 0.6018\n",
      "Epoch 50/50\n",
      "1952/1952 [==============================] - 5s 2ms/step - loss: 0.6489 - accuracy: 0.6045 - val_loss: 0.6430 - val_accuracy: 0.6053\n",
      "Best epoch: 27\n"
     ]
    }
   ],
   "source": [
    "history = model.fit(X_train, y_train, epochs=50, validation_split=0.2)\n",
    "\n",
    "val_acc_per_epoch = history.history['val_accuracy']\n",
    "best_epoch = val_acc_per_epoch.index(max(val_acc_per_epoch)) + 1\n",
    "print('Best epoch: %d' % (best_epoch,))"
   ]
  },
  {
   "cell_type": "code",
   "execution_count": 126,
   "id": "da21e6bb",
   "metadata": {
    "scrolled": true
   },
   "outputs": [
    {
     "name": "stdout",
     "output_type": "stream",
     "text": [
      "Epoch 1/27\n",
      "1952/1952 [==============================] - 6s 3ms/step - loss: 0.6874 - accuracy: 0.5511 - val_loss: 0.6750 - val_accuracy: 0.5672\n",
      "Epoch 2/27\n",
      "1952/1952 [==============================] - 6s 3ms/step - loss: 0.6768 - accuracy: 0.5674 - val_loss: 0.6810 - val_accuracy: 0.5654\n",
      "Epoch 3/27\n",
      "1952/1952 [==============================] - 5s 2ms/step - loss: 0.6740 - accuracy: 0.5734 - val_loss: 0.6689 - val_accuracy: 0.5809\n",
      "Epoch 4/27\n",
      "1952/1952 [==============================] - 5s 2ms/step - loss: 0.6727 - accuracy: 0.5788 - val_loss: 0.6681 - val_accuracy: 0.5842\n",
      "Epoch 5/27\n",
      "1952/1952 [==============================] - 5s 2ms/step - loss: 0.6670 - accuracy: 0.5858 - val_loss: 0.6626 - val_accuracy: 0.5926\n",
      "Epoch 6/27\n",
      "1952/1952 [==============================] - 5s 2ms/step - loss: 0.6670 - accuracy: 0.5891 - val_loss: 0.6598 - val_accuracy: 0.5915\n",
      "Epoch 7/27\n",
      "1952/1952 [==============================] - 5s 2ms/step - loss: 0.6606 - accuracy: 0.5909 - val_loss: 0.6573 - val_accuracy: 0.5903\n",
      "Epoch 8/27\n",
      "1952/1952 [==============================] - 5s 2ms/step - loss: 0.6579 - accuracy: 0.5913 - val_loss: 0.6551 - val_accuracy: 0.5919\n",
      "Epoch 9/27\n",
      "1952/1952 [==============================] - 5s 2ms/step - loss: 0.6579 - accuracy: 0.5921 - val_loss: 0.6546 - val_accuracy: 0.6059\n",
      "Epoch 10/27\n",
      "1952/1952 [==============================] - 4s 2ms/step - loss: 0.6556 - accuracy: 0.5950 - val_loss: 0.6530 - val_accuracy: 0.5951\n",
      "Epoch 11/27\n",
      "1952/1952 [==============================] - 4s 2ms/step - loss: 0.6564 - accuracy: 0.5930 - val_loss: 0.6537 - val_accuracy: 0.5996\n",
      "Epoch 12/27\n",
      "1952/1952 [==============================] - 4s 2ms/step - loss: 0.6538 - accuracy: 0.5940 - val_loss: 0.6539 - val_accuracy: 0.5925\n",
      "Epoch 13/27\n",
      "1952/1952 [==============================] - 5s 2ms/step - loss: 0.6531 - accuracy: 0.5961 - val_loss: 0.6526 - val_accuracy: 0.5945\n",
      "Epoch 14/27\n",
      "1952/1952 [==============================] - 4s 2ms/step - loss: 0.6536 - accuracy: 0.5954 - val_loss: 0.6518 - val_accuracy: 0.5863\n",
      "Epoch 15/27\n",
      "1952/1952 [==============================] - 4s 2ms/step - loss: 0.6529 - accuracy: 0.5977 - val_loss: 0.6493 - val_accuracy: 0.6037\n",
      "Epoch 16/27\n",
      "1952/1952 [==============================] - 4s 2ms/step - loss: 0.6528 - accuracy: 0.5950 - val_loss: 0.6544 - val_accuracy: 0.5880\n",
      "Epoch 17/27\n",
      "1952/1952 [==============================] - 4s 2ms/step - loss: 0.6566 - accuracy: 0.5950 - val_loss: 0.6674 - val_accuracy: 0.5980\n",
      "Epoch 18/27\n",
      "1952/1952 [==============================] - 4s 2ms/step - loss: 0.6543 - accuracy: 0.5953 - val_loss: 0.6516 - val_accuracy: 0.6020\n",
      "Epoch 19/27\n",
      "1952/1952 [==============================] - 5s 2ms/step - loss: 0.6543 - accuracy: 0.5994 - val_loss: 0.6516 - val_accuracy: 0.6064\n",
      "Epoch 20/27\n",
      "1952/1952 [==============================] - 4s 2ms/step - loss: 0.6534 - accuracy: 0.5969 - val_loss: 0.6467 - val_accuracy: 0.5999\n",
      "Epoch 21/27\n",
      "1952/1952 [==============================] - 4s 2ms/step - loss: 0.6515 - accuracy: 0.5971 - val_loss: 0.6523 - val_accuracy: 0.5926\n",
      "Epoch 22/27\n",
      "1952/1952 [==============================] - 5s 2ms/step - loss: 0.6565 - accuracy: 0.5961 - val_loss: 0.6582 - val_accuracy: 0.5939\n",
      "Epoch 23/27\n",
      "1952/1952 [==============================] - 4s 2ms/step - loss: 0.6496 - accuracy: 0.6007 - val_loss: 0.6536 - val_accuracy: 0.5894\n",
      "Epoch 24/27\n",
      "1952/1952 [==============================] - 5s 2ms/step - loss: 0.6526 - accuracy: 0.5959 - val_loss: 0.6509 - val_accuracy: 0.5928\n",
      "Epoch 25/27\n",
      "1952/1952 [==============================] - 4s 2ms/step - loss: 0.6529 - accuracy: 0.5989 - val_loss: 0.6473 - val_accuracy: 0.6003\n",
      "Epoch 26/27\n",
      "1952/1952 [==============================] - 4s 2ms/step - loss: 0.6496 - accuracy: 0.5981 - val_loss: 0.6486 - val_accuracy: 0.6006\n",
      "Epoch 27/27\n",
      "1952/1952 [==============================] - 4s 2ms/step - loss: 0.6514 - accuracy: 0.5978 - val_loss: 0.6519 - val_accuracy: 0.5970\n"
     ]
    },
    {
     "data": {
      "text/plain": [
       "<keras.callbacks.History at 0x186ad74b7f0>"
      ]
     },
     "execution_count": 126,
     "metadata": {},
     "output_type": "execute_result"
    }
   ],
   "source": [
    "hypermodel = tuner.hypermodel.build(best_hps)\n",
    "\n",
    "# Retrain the model\n",
    "hypermodel.fit(X_train, y_train, epochs=best_epoch, validation_split=0.2)"
   ]
  },
  {
   "cell_type": "code",
   "execution_count": 127,
   "id": "60344224",
   "metadata": {},
   "outputs": [
    {
     "name": "stdout",
     "output_type": "stream",
     "text": [
      "1046/1046 [==============================] - 1s 1ms/step\n"
     ]
    }
   ],
   "source": [
    "hypermodel_pred = hypermodel.predict(X_test)"
   ]
  },
  {
   "cell_type": "code",
   "execution_count": 128,
   "id": "3e0487c5",
   "metadata": {},
   "outputs": [
    {
     "name": "stdout",
     "output_type": "stream",
     "text": [
      "1046/1046 [==============================] - 1s 1ms/step - loss: 0.6505 - accuracy: 0.5998\n",
      "[test loss, test accuracy]: [0.6505082249641418, 0.5998445749282837]\n"
     ]
    }
   ],
   "source": [
    "eval_result = hypermodel.evaluate(X_test, y_test)\n",
    "print(\"[test loss, test accuracy]:\", eval_result)"
   ]
  },
  {
   "cell_type": "code",
   "execution_count": 129,
   "id": "cd798763",
   "metadata": {},
   "outputs": [],
   "source": [
    "# hence comparing all the accuracies we come to know that the best model is random forest we will use that as final model"
   ]
  },
  {
   "cell_type": "code",
   "execution_count": 130,
   "id": "84273293",
   "metadata": {},
   "outputs": [],
   "source": [
    "# import pickle\n",
    "# pickle.dump(model_random_forest, open('model_random_forest.pkl', 'wb'))"
   ]
  },
  {
   "cell_type": "code",
   "execution_count": 131,
   "id": "3c38327c",
   "metadata": {
    "scrolled": true
   },
   "outputs": [
    {
     "data": {
      "text/html": [
       "<div>\n",
       "<style scoped>\n",
       "    .dataframe tbody tr th:only-of-type {\n",
       "        vertical-align: middle;\n",
       "    }\n",
       "\n",
       "    .dataframe tbody tr th {\n",
       "        vertical-align: top;\n",
       "    }\n",
       "\n",
       "    .dataframe thead th {\n",
       "        text-align: right;\n",
       "    }\n",
       "</style>\n",
       "<table border=\"1\" class=\"dataframe\">\n",
       "  <thead>\n",
       "    <tr style=\"text-align: right;\">\n",
       "      <th></th>\n",
       "      <th>PREVAILING_WAGE_SCALED</th>\n",
       "      <th>FULL_TIME_POSITION_ENCODED</th>\n",
       "      <th>EMPLOYER_NAME_ENCODED</th>\n",
       "      <th>SOC_NAME_ENCODED</th>\n",
       "      <th>WORKSITE_ENCODED</th>\n",
       "      <th>WAGE_ENCODED</th>\n",
       "    </tr>\n",
       "  </thead>\n",
       "  <tbody>\n",
       "    <tr>\n",
       "      <th>0</th>\n",
       "      <td>-0.372412</td>\n",
       "      <td>1</td>\n",
       "      <td>15</td>\n",
       "      <td>5</td>\n",
       "      <td>15</td>\n",
       "      <td>1</td>\n",
       "    </tr>\n",
       "    <tr>\n",
       "      <th>1</th>\n",
       "      <td>0.513339</td>\n",
       "      <td>1</td>\n",
       "      <td>11</td>\n",
       "      <td>5</td>\n",
       "      <td>1</td>\n",
       "      <td>2</td>\n",
       "    </tr>\n",
       "    <tr>\n",
       "      <th>2</th>\n",
       "      <td>-1.498822</td>\n",
       "      <td>1</td>\n",
       "      <td>16</td>\n",
       "      <td>5</td>\n",
       "      <td>14</td>\n",
       "      <td>1</td>\n",
       "    </tr>\n",
       "    <tr>\n",
       "      <th>3</th>\n",
       "      <td>-1.087227</td>\n",
       "      <td>1</td>\n",
       "      <td>15</td>\n",
       "      <td>5</td>\n",
       "      <td>15</td>\n",
       "      <td>1</td>\n",
       "    </tr>\n",
       "    <tr>\n",
       "      <th>4</th>\n",
       "      <td>-0.537611</td>\n",
       "      <td>1</td>\n",
       "      <td>15</td>\n",
       "      <td>1</td>\n",
       "      <td>5</td>\n",
       "      <td>1</td>\n",
       "    </tr>\n",
       "    <tr>\n",
       "      <th>...</th>\n",
       "      <td>...</td>\n",
       "      <td>...</td>\n",
       "      <td>...</td>\n",
       "      <td>...</td>\n",
       "      <td>...</td>\n",
       "      <td>...</td>\n",
       "    </tr>\n",
       "    <tr>\n",
       "      <th>79577</th>\n",
       "      <td>-2.075548</td>\n",
       "      <td>1</td>\n",
       "      <td>15</td>\n",
       "      <td>12</td>\n",
       "      <td>14</td>\n",
       "      <td>1</td>\n",
       "    </tr>\n",
       "    <tr>\n",
       "      <th>79578</th>\n",
       "      <td>-1.374905</td>\n",
       "      <td>1</td>\n",
       "      <td>15</td>\n",
       "      <td>5</td>\n",
       "      <td>15</td>\n",
       "      <td>1</td>\n",
       "    </tr>\n",
       "    <tr>\n",
       "      <th>79579</th>\n",
       "      <td>-1.161303</td>\n",
       "      <td>1</td>\n",
       "      <td>15</td>\n",
       "      <td>5</td>\n",
       "      <td>17</td>\n",
       "      <td>1</td>\n",
       "    </tr>\n",
       "    <tr>\n",
       "      <th>79580</th>\n",
       "      <td>-1.708453</td>\n",
       "      <td>1</td>\n",
       "      <td>15</td>\n",
       "      <td>10</td>\n",
       "      <td>1</td>\n",
       "      <td>1</td>\n",
       "    </tr>\n",
       "    <tr>\n",
       "      <th>79581</th>\n",
       "      <td>-0.896422</td>\n",
       "      <td>1</td>\n",
       "      <td>15</td>\n",
       "      <td>10</td>\n",
       "      <td>15</td>\n",
       "      <td>1</td>\n",
       "    </tr>\n",
       "  </tbody>\n",
       "</table>\n",
       "<p>79582 rows × 6 columns</p>\n",
       "</div>"
      ],
      "text/plain": [
       "       PREVAILING_WAGE_SCALED  FULL_TIME_POSITION_ENCODED  \\\n",
       "0                   -0.372412                           1   \n",
       "1                    0.513339                           1   \n",
       "2                   -1.498822                           1   \n",
       "3                   -1.087227                           1   \n",
       "4                   -0.537611                           1   \n",
       "...                       ...                         ...   \n",
       "79577               -2.075548                           1   \n",
       "79578               -1.374905                           1   \n",
       "79579               -1.161303                           1   \n",
       "79580               -1.708453                           1   \n",
       "79581               -0.896422                           1   \n",
       "\n",
       "       EMPLOYER_NAME_ENCODED  SOC_NAME_ENCODED  WORKSITE_ENCODED  WAGE_ENCODED  \n",
       "0                         15                 5                15             1  \n",
       "1                         11                 5                 1             2  \n",
       "2                         16                 5                14             1  \n",
       "3                         15                 5                15             1  \n",
       "4                         15                 1                 5             1  \n",
       "...                      ...               ...               ...           ...  \n",
       "79577                     15                12                14             1  \n",
       "79578                     15                 5                15             1  \n",
       "79579                     15                 5                17             1  \n",
       "79580                     15                10                 1             1  \n",
       "79581                     15                10                15             1  \n",
       "\n",
       "[79582 rows x 6 columns]"
      ]
     },
     "execution_count": 131,
     "metadata": {},
     "output_type": "execute_result"
    }
   ],
   "source": [
    "X"
   ]
  },
  {
   "cell_type": "code",
   "execution_count": 132,
   "id": "064951e0",
   "metadata": {},
   "outputs": [],
   "source": [
    "# le_case_status\n",
    "# le_emp_name\n",
    "# le_fulltime\n",
    "# le_soc_name\n",
    "# le_worksite\n",
    "# oe_wagecat\n",
    "# le_case_status"
   ]
  },
  {
   "cell_type": "code",
   "execution_count": 133,
   "id": "90a374c0",
   "metadata": {},
   "outputs": [],
   "source": [
    "pickle.dump(le_emp_name, open('le_emp_name.pkl', 'wb'))\n",
    "pickle.dump(le_soc_name, open('le_soc_name.pkl', 'wb'))\n",
    "pickle.dump(le_worksite, open('le_worksite.pkl', 'wb'))\n",
    "pickle.dump(le_fulltime, open('le_fulltime.pkl', 'wb'))\n",
    "pickle.dump(oe_wagecat, open('oe_wagecat.pkl', 'wb'))\n",
    "pickle.dump(s_sc, open('s_sc.pkl', 'wb'))"
   ]
  },
  {
   "cell_type": "code",
   "execution_count": 134,
   "id": "78fa53ae",
   "metadata": {},
   "outputs": [
    {
     "data": {
      "text/plain": [
       "Index(['Unnamed: 0', 'CASE_STATUS', 'EMPLOYER_NAME', 'SOC_NAME',\n",
       "       'FULL_TIME_POSITION', 'PREVAILING_WAGE', 'YEAR', 'WORKSITE', 'DATE',\n",
       "       'WAGE_CATERGORIZED'],\n",
       "      dtype='object')"
      ]
     },
     "execution_count": 134,
     "metadata": {},
     "output_type": "execute_result"
    }
   ],
   "source": [
    "df_input.columns"
   ]
  },
  {
   "cell_type": "code",
   "execution_count": 135,
   "id": "584abce7",
   "metadata": {},
   "outputs": [
    {
     "data": {
      "text/plain": [
       "array(['other', 'infosys limited', 'tata consultancy services limited',\n",
       "       'ibm india private limited', 'capgemini america inc',\n",
       "       'deloitte consulting llp', 'fujitsu america inc', 'wipro limited',\n",
       "       'deloitte and touche llp',\n",
       "       'cognizant technology solutions us corporation',\n",
       "       'tech mahindra americas inc', 'intel corporation',\n",
       "       'larsen and toubro infotech limited', 'igate technologies inc',\n",
       "       'accenture llp', 'ernst and young us llp', 'ust global inc',\n",
       "       'ibm corporation', 'tech mahindra americasinc',\n",
       "       'microsoft corporation', 'hcl america inc'], dtype=object)"
      ]
     },
     "execution_count": 135,
     "metadata": {},
     "output_type": "execute_result"
    }
   ],
   "source": [
    "df['EMPLOYER_NAME'].unique()"
   ]
  },
  {
   "cell_type": "code",
   "execution_count": 136,
   "id": "12c2bc18",
   "metadata": {},
   "outputs": [
    {
     "data": {
      "text/plain": [
       "array(['IT Profession', 'Architecture & Engineering', 'Teaching',\n",
       "       'Management', 'Medical', 'Marketing', 'Finance', 'Mathematician',\n",
       "       'operation research analysts', 'Advance Science',\n",
       "       'Fashion & Entertainment', 'Food & Service', 'internists general',\n",
       "       'Technician', 'Others', 'other', 'actuaries', 'psychologists ',\n",
       "       'Lawyer', 'librarians', 'geographers'], dtype=object)"
      ]
     },
     "execution_count": 136,
     "metadata": {},
     "output_type": "execute_result"
    }
   ],
   "source": [
    "df_input['SOC_NAME'].unique()"
   ]
  },
  {
   "cell_type": "code",
   "execution_count": 137,
   "id": "37def84f",
   "metadata": {},
   "outputs": [
    {
     "data": {
      "text/plain": [
       "array(['other', 'california', 'ohio', 'illinois', 'newyork', 'texas',\n",
       "       'michigan', 'pennsylvania', 'massachusetts', 'georgia', 'arizona',\n",
       "       'connecticut', 'florida', 'newjersey', 'northcarolina', 'virginia',\n",
       "       'missouri', 'wisconsin', 'minnesota', 'washington', 'maryland'],\n",
       "      dtype=object)"
      ]
     },
     "execution_count": 137,
     "metadata": {},
     "output_type": "execute_result"
    }
   ],
   "source": [
    "df_input['WORKSITE'].unique()"
   ]
  },
  {
   "cell_type": "code",
   "execution_count": 138,
   "id": "7ce83fa9",
   "metadata": {},
   "outputs": [
    {
     "data": {
      "text/html": [
       "<div>\n",
       "<style scoped>\n",
       "    .dataframe tbody tr th:only-of-type {\n",
       "        vertical-align: middle;\n",
       "    }\n",
       "\n",
       "    .dataframe tbody tr th {\n",
       "        vertical-align: top;\n",
       "    }\n",
       "\n",
       "    .dataframe thead th {\n",
       "        text-align: right;\n",
       "    }\n",
       "</style>\n",
       "<table border=\"1\" class=\"dataframe\">\n",
       "  <thead>\n",
       "    <tr style=\"text-align: right;\">\n",
       "      <th></th>\n",
       "      <th>PREVAILING_WAGE_SCALED</th>\n",
       "      <th>FULL_TIME_POSITION_ENCODED</th>\n",
       "      <th>EMPLOYER_NAME_ENCODED</th>\n",
       "      <th>SOC_NAME_ENCODED</th>\n",
       "      <th>WORKSITE_ENCODED</th>\n",
       "      <th>WAGE_ENCODED</th>\n",
       "    </tr>\n",
       "  </thead>\n",
       "  <tbody>\n",
       "    <tr>\n",
       "      <th>44071</th>\n",
       "      <td>-0.862260</td>\n",
       "      <td>0</td>\n",
       "      <td>15</td>\n",
       "      <td>5</td>\n",
       "      <td>5</td>\n",
       "      <td>1</td>\n",
       "    </tr>\n",
       "    <tr>\n",
       "      <th>18034</th>\n",
       "      <td>-0.637265</td>\n",
       "      <td>1</td>\n",
       "      <td>15</td>\n",
       "      <td>5</td>\n",
       "      <td>3</td>\n",
       "      <td>1</td>\n",
       "    </tr>\n",
       "    <tr>\n",
       "      <th>43454</th>\n",
       "      <td>1.021685</td>\n",
       "      <td>1</td>\n",
       "      <td>15</td>\n",
       "      <td>5</td>\n",
       "      <td>1</td>\n",
       "      <td>2</td>\n",
       "    </tr>\n",
       "    <tr>\n",
       "      <th>91512</th>\n",
       "      <td>-1.200831</td>\n",
       "      <td>1</td>\n",
       "      <td>15</td>\n",
       "      <td>5</td>\n",
       "      <td>13</td>\n",
       "      <td>1</td>\n",
       "    </tr>\n",
       "    <tr>\n",
       "      <th>52074</th>\n",
       "      <td>0.114629</td>\n",
       "      <td>1</td>\n",
       "      <td>15</td>\n",
       "      <td>5</td>\n",
       "      <td>11</td>\n",
       "      <td>2</td>\n",
       "    </tr>\n",
       "    <tr>\n",
       "      <th>...</th>\n",
       "      <td>...</td>\n",
       "      <td>...</td>\n",
       "      <td>...</td>\n",
       "      <td>...</td>\n",
       "      <td>...</td>\n",
       "      <td>...</td>\n",
       "    </tr>\n",
       "    <tr>\n",
       "      <th>18610</th>\n",
       "      <td>-0.793934</td>\n",
       "      <td>1</td>\n",
       "      <td>16</td>\n",
       "      <td>5</td>\n",
       "      <td>15</td>\n",
       "      <td>1</td>\n",
       "    </tr>\n",
       "    <tr>\n",
       "      <th>88705</th>\n",
       "      <td>-0.471299</td>\n",
       "      <td>0</td>\n",
       "      <td>15</td>\n",
       "      <td>10</td>\n",
       "      <td>1</td>\n",
       "      <td>1</td>\n",
       "    </tr>\n",
       "    <tr>\n",
       "      <th>47462</th>\n",
       "      <td>-0.614481</td>\n",
       "      <td>1</td>\n",
       "      <td>15</td>\n",
       "      <td>5</td>\n",
       "      <td>19</td>\n",
       "      <td>1</td>\n",
       "    </tr>\n",
       "    <tr>\n",
       "      <th>99715</th>\n",
       "      <td>0.981700</td>\n",
       "      <td>1</td>\n",
       "      <td>15</td>\n",
       "      <td>5</td>\n",
       "      <td>7</td>\n",
       "      <td>2</td>\n",
       "    </tr>\n",
       "    <tr>\n",
       "      <th>52896</th>\n",
       "      <td>-1.407630</td>\n",
       "      <td>1</td>\n",
       "      <td>15</td>\n",
       "      <td>18</td>\n",
       "      <td>15</td>\n",
       "      <td>1</td>\n",
       "    </tr>\n",
       "  </tbody>\n",
       "</table>\n",
       "<p>33457 rows × 6 columns</p>\n",
       "</div>"
      ],
      "text/plain": [
       "       PREVAILING_WAGE_SCALED  FULL_TIME_POSITION_ENCODED  \\\n",
       "44071               -0.862260                           0   \n",
       "18034               -0.637265                           1   \n",
       "43454                1.021685                           1   \n",
       "91512               -1.200831                           1   \n",
       "52074                0.114629                           1   \n",
       "...                       ...                         ...   \n",
       "18610               -0.793934                           1   \n",
       "88705               -0.471299                           0   \n",
       "47462               -0.614481                           1   \n",
       "99715                0.981700                           1   \n",
       "52896               -1.407630                           1   \n",
       "\n",
       "       EMPLOYER_NAME_ENCODED  SOC_NAME_ENCODED  WORKSITE_ENCODED  WAGE_ENCODED  \n",
       "44071                     15                 5                 5             1  \n",
       "18034                     15                 5                 3             1  \n",
       "43454                     15                 5                 1             2  \n",
       "91512                     15                 5                13             1  \n",
       "52074                     15                 5                11             2  \n",
       "...                      ...               ...               ...           ...  \n",
       "18610                     16                 5                15             1  \n",
       "88705                     15                10                 1             1  \n",
       "47462                     15                 5                19             1  \n",
       "99715                     15                 5                 7             2  \n",
       "52896                     15                18                15             1  \n",
       "\n",
       "[33457 rows x 6 columns]"
      ]
     },
     "execution_count": 138,
     "metadata": {},
     "output_type": "execute_result"
    }
   ],
   "source": [
    "X_test"
   ]
  },
  {
   "cell_type": "code",
   "execution_count": 139,
   "id": "64892ead",
   "metadata": {},
   "outputs": [
    {
     "data": {
      "text/plain": [
       "0        58011.0\n",
       "1        70948.8\n",
       "2        41558.0\n",
       "3        47570.0\n",
       "4        55598.0\n",
       "          ...   \n",
       "79577    33134.0\n",
       "79578    43368.0\n",
       "79579    46488.0\n",
       "79580    38496.0\n",
       "79581    50357.0\n",
       "Name: PREVAILING_WAGE, Length: 79582, dtype: float64"
      ]
     },
     "execution_count": 139,
     "metadata": {},
     "output_type": "execute_result"
    }
   ],
   "source": [
    "df_input['PREVAILING_WAGE']"
   ]
  },
  {
   "cell_type": "code",
   "execution_count": 140,
   "id": "db6e7ba1",
   "metadata": {},
   "outputs": [],
   "source": [
    "# Trying the prediction from constructed input\n",
    "pred = (40000, 'Y', 'tata consultancy services limited', 'IT Profession', 'california','MEDIUM')"
   ]
  },
  {
   "cell_type": "code",
   "execution_count": 141,
   "id": "c9f3da54",
   "metadata": {},
   "outputs": [
    {
     "data": {
      "text/plain": [
       "array([['40000', 'Y', 'tata consultancy services limited',\n",
       "        'IT Profession', 'california', 'MEDIUM']], dtype='<U33')"
      ]
     },
     "execution_count": 141,
     "metadata": {},
     "output_type": "execute_result"
    }
   ],
   "source": [
    "import numpy as np\n",
    "x=np.array([pred])\n",
    "x"
   ]
  },
  {
   "cell_type": "code",
   "execution_count": 142,
   "id": "b103916f",
   "metadata": {},
   "outputs": [],
   "source": [
    "def encode_full_time_position(x):\n",
    "    return 1 if x == 'Y' else 0\n",
    "\n",
    "def wage_categorizer(x):\n",
    "    if x == 'LOW':\n",
    "        return 0\n",
    "    elif x == 'MEDIUM':\n",
    "        return 1\n",
    "    else:\n",
    "        return 2 "
   ]
  },
  {
   "cell_type": "code",
   "execution_count": 143,
   "id": "78b1ccf1",
   "metadata": {},
   "outputs": [
    {
     "data": {
      "text/plain": [
       "0"
      ]
     },
     "execution_count": 143,
     "metadata": {},
     "output_type": "execute_result"
    }
   ],
   "source": [
    "encode_full_time_position('N')"
   ]
  },
  {
   "cell_type": "code",
   "execution_count": 144,
   "id": "855222f0",
   "metadata": {},
   "outputs": [
    {
     "data": {
      "text/plain": [
       "2"
      ]
     },
     "execution_count": 144,
     "metadata": {},
     "output_type": "execute_result"
    }
   ],
   "source": [
    "wage_categorizer('HIGH')"
   ]
  },
  {
   "cell_type": "code",
   "execution_count": 148,
   "id": "2134afca",
   "metadata": {},
   "outputs": [],
   "source": [
    "# x[:,0] = s_sc.transform(x[:,0])\n",
    "x[:,1] = encode_full_time_position(x[:,1])\n",
    "x[:,2] = le_emp_name.transform(x[:,2])\n",
    "x[:,3] = le_soc_name.transform(x[:,3])\n",
    "x[:,4] = le_worksite.transform(x[:,4])\n",
    "x[:,5] = wage_categorizer(x[:,5])"
   ]
  },
  {
   "cell_type": "code",
   "execution_count": 149,
   "id": "84b2f401",
   "metadata": {},
   "outputs": [
    {
     "data": {
      "text/plain": [
       "array([[4.0e+04, 1.0e+00, 1.6e+01, 5.0e+00, 1.0e+00, 1.0e+00]])"
      ]
     },
     "execution_count": 149,
     "metadata": {},
     "output_type": "execute_result"
    }
   ],
   "source": [
    "x = x.astype(float)\n",
    "x"
   ]
  },
  {
   "cell_type": "code",
   "execution_count": 150,
   "id": "af4b82f6",
   "metadata": {},
   "outputs": [],
   "source": [
    "prediction = model_random_forest.predict(x)"
   ]
  },
  {
   "cell_type": "code",
   "execution_count": 151,
   "id": "9af2b91d",
   "metadata": {},
   "outputs": [
    {
     "data": {
      "text/plain": [
       "array([0])"
      ]
     },
     "execution_count": 151,
     "metadata": {},
     "output_type": "execute_result"
    }
   ],
   "source": [
    "prediction"
   ]
  },
  {
   "cell_type": "code",
   "execution_count": 152,
   "id": "a56a3dcd",
   "metadata": {},
   "outputs": [
    {
     "data": {
      "text/html": [
       "<div>\n",
       "<style scoped>\n",
       "    .dataframe tbody tr th:only-of-type {\n",
       "        vertical-align: middle;\n",
       "    }\n",
       "\n",
       "    .dataframe tbody tr th {\n",
       "        vertical-align: top;\n",
       "    }\n",
       "\n",
       "    .dataframe thead th {\n",
       "        text-align: right;\n",
       "    }\n",
       "</style>\n",
       "<table border=\"1\" class=\"dataframe\">\n",
       "  <thead>\n",
       "    <tr style=\"text-align: right;\">\n",
       "      <th></th>\n",
       "      <th>CASE_STATUS</th>\n",
       "      <th>EMPLOYER_NAME</th>\n",
       "      <th>SOC_NAME</th>\n",
       "      <th>FULL_TIME_POSITION</th>\n",
       "      <th>PREVAILING_WAGE</th>\n",
       "      <th>YEAR</th>\n",
       "      <th>WORKSITE</th>\n",
       "      <th>DATE</th>\n",
       "      <th>WAGE_CATERGORIZED</th>\n",
       "      <th>CASE_STATUS_ENCODED</th>\n",
       "      <th>EMPLOYER_NAME_ENCODED</th>\n",
       "      <th>SOC_NAME_ENCODED</th>\n",
       "      <th>WORKSITE_ENCODED</th>\n",
       "      <th>FULL_TIME_POSITION_ENCODED</th>\n",
       "      <th>WAGE_ENCODED</th>\n",
       "      <th>PREVAILING_WAGE_SCALED</th>\n",
       "    </tr>\n",
       "  </thead>\n",
       "  <tbody>\n",
       "    <tr>\n",
       "      <th>31</th>\n",
       "      <td>CERTIFIED</td>\n",
       "      <td>other</td>\n",
       "      <td>Architecture &amp; Engineering</td>\n",
       "      <td>Y</td>\n",
       "      <td>39541.0</td>\n",
       "      <td>2015.0</td>\n",
       "      <td>other</td>\n",
       "      <td>2015-01-01</td>\n",
       "      <td>MEDIUM</td>\n",
       "      <td>0</td>\n",
       "      <td>15</td>\n",
       "      <td>1</td>\n",
       "      <td>15</td>\n",
       "      <td>1</td>\n",
       "      <td>1</td>\n",
       "      <td>-1.636910</td>\n",
       "    </tr>\n",
       "    <tr>\n",
       "      <th>72</th>\n",
       "      <td>CERTIFIED</td>\n",
       "      <td>other</td>\n",
       "      <td>Medical</td>\n",
       "      <td>Y</td>\n",
       "      <td>40290.0</td>\n",
       "      <td>2012.0</td>\n",
       "      <td>massachusetts</td>\n",
       "      <td>2012-01-01</td>\n",
       "      <td>MEDIUM</td>\n",
       "      <td>0</td>\n",
       "      <td>15</td>\n",
       "      <td>10</td>\n",
       "      <td>7</td>\n",
       "      <td>1</td>\n",
       "      <td>1</td>\n",
       "      <td>-1.585632</td>\n",
       "    </tr>\n",
       "    <tr>\n",
       "      <th>573</th>\n",
       "      <td>CERTIFIED</td>\n",
       "      <td>other</td>\n",
       "      <td>Medical</td>\n",
       "      <td>Y</td>\n",
       "      <td>40498.0</td>\n",
       "      <td>2012.0</td>\n",
       "      <td>california</td>\n",
       "      <td>2012-01-01</td>\n",
       "      <td>MEDIUM</td>\n",
       "      <td>0</td>\n",
       "      <td>15</td>\n",
       "      <td>10</td>\n",
       "      <td>1</td>\n",
       "      <td>1</td>\n",
       "      <td>1</td>\n",
       "      <td>-1.571392</td>\n",
       "    </tr>\n",
       "    <tr>\n",
       "      <th>676</th>\n",
       "      <td>CERTIFIED</td>\n",
       "      <td>other</td>\n",
       "      <td>IT Profession</td>\n",
       "      <td>Y</td>\n",
       "      <td>40456.0</td>\n",
       "      <td>2014.0</td>\n",
       "      <td>pennsylvania</td>\n",
       "      <td>2014-01-01</td>\n",
       "      <td>MEDIUM</td>\n",
       "      <td>0</td>\n",
       "      <td>15</td>\n",
       "      <td>5</td>\n",
       "      <td>16</td>\n",
       "      <td>1</td>\n",
       "      <td>1</td>\n",
       "      <td>-1.574267</td>\n",
       "    </tr>\n",
       "    <tr>\n",
       "      <th>874</th>\n",
       "      <td>CERTIFIED</td>\n",
       "      <td>other</td>\n",
       "      <td>Architecture &amp; Engineering</td>\n",
       "      <td>Y</td>\n",
       "      <td>40040.0</td>\n",
       "      <td>2011.0</td>\n",
       "      <td>newyork</td>\n",
       "      <td>2011-01-01</td>\n",
       "      <td>MEDIUM</td>\n",
       "      <td>0</td>\n",
       "      <td>15</td>\n",
       "      <td>1</td>\n",
       "      <td>12</td>\n",
       "      <td>1</td>\n",
       "      <td>1</td>\n",
       "      <td>-1.602748</td>\n",
       "    </tr>\n",
       "    <tr>\n",
       "      <th>...</th>\n",
       "      <td>...</td>\n",
       "      <td>...</td>\n",
       "      <td>...</td>\n",
       "      <td>...</td>\n",
       "      <td>...</td>\n",
       "      <td>...</td>\n",
       "      <td>...</td>\n",
       "      <td>...</td>\n",
       "      <td>...</td>\n",
       "      <td>...</td>\n",
       "      <td>...</td>\n",
       "      <td>...</td>\n",
       "      <td>...</td>\n",
       "      <td>...</td>\n",
       "      <td>...</td>\n",
       "      <td>...</td>\n",
       "    </tr>\n",
       "    <tr>\n",
       "      <th>78865</th>\n",
       "      <td>DENIED</td>\n",
       "      <td>other</td>\n",
       "      <td>IT Profession</td>\n",
       "      <td>Y</td>\n",
       "      <td>39562.0</td>\n",
       "      <td>2011.0</td>\n",
       "      <td>illinois</td>\n",
       "      <td>2011-01-01</td>\n",
       "      <td>MEDIUM</td>\n",
       "      <td>1</td>\n",
       "      <td>15</td>\n",
       "      <td>5</td>\n",
       "      <td>5</td>\n",
       "      <td>1</td>\n",
       "      <td>1</td>\n",
       "      <td>-1.635473</td>\n",
       "    </tr>\n",
       "    <tr>\n",
       "      <th>79161</th>\n",
       "      <td>DENIED</td>\n",
       "      <td>other</td>\n",
       "      <td>Advance Science</td>\n",
       "      <td>Y</td>\n",
       "      <td>40206.0</td>\n",
       "      <td>2011.0</td>\n",
       "      <td>ohio</td>\n",
       "      <td>2011-01-01</td>\n",
       "      <td>MEDIUM</td>\n",
       "      <td>1</td>\n",
       "      <td>15</td>\n",
       "      <td>0</td>\n",
       "      <td>14</td>\n",
       "      <td>1</td>\n",
       "      <td>1</td>\n",
       "      <td>-1.591383</td>\n",
       "    </tr>\n",
       "    <tr>\n",
       "      <th>79221</th>\n",
       "      <td>DENIED</td>\n",
       "      <td>other</td>\n",
       "      <td>Management</td>\n",
       "      <td>Y</td>\n",
       "      <td>39700.0</td>\n",
       "      <td>2011.0</td>\n",
       "      <td>florida</td>\n",
       "      <td>2011-01-01</td>\n",
       "      <td>MEDIUM</td>\n",
       "      <td>1</td>\n",
       "      <td>15</td>\n",
       "      <td>7</td>\n",
       "      <td>3</td>\n",
       "      <td>1</td>\n",
       "      <td>1</td>\n",
       "      <td>-1.626025</td>\n",
       "    </tr>\n",
       "    <tr>\n",
       "      <th>79375</th>\n",
       "      <td>DENIED</td>\n",
       "      <td>other</td>\n",
       "      <td>Finance</td>\n",
       "      <td>Y</td>\n",
       "      <td>40373.0</td>\n",
       "      <td>2011.0</td>\n",
       "      <td>other</td>\n",
       "      <td>2011-01-01</td>\n",
       "      <td>MEDIUM</td>\n",
       "      <td>1</td>\n",
       "      <td>15</td>\n",
       "      <td>3</td>\n",
       "      <td>15</td>\n",
       "      <td>1</td>\n",
       "      <td>1</td>\n",
       "      <td>-1.579950</td>\n",
       "    </tr>\n",
       "    <tr>\n",
       "      <th>79495</th>\n",
       "      <td>DENIED</td>\n",
       "      <td>other</td>\n",
       "      <td>IT Profession</td>\n",
       "      <td>Y</td>\n",
       "      <td>39749.0</td>\n",
       "      <td>2011.0</td>\n",
       "      <td>other</td>\n",
       "      <td>2011-01-01</td>\n",
       "      <td>MEDIUM</td>\n",
       "      <td>1</td>\n",
       "      <td>15</td>\n",
       "      <td>5</td>\n",
       "      <td>15</td>\n",
       "      <td>1</td>\n",
       "      <td>1</td>\n",
       "      <td>-1.622670</td>\n",
       "    </tr>\n",
       "  </tbody>\n",
       "</table>\n",
       "<p>514 rows × 16 columns</p>\n",
       "</div>"
      ],
      "text/plain": [
       "      CASE_STATUS EMPLOYER_NAME                    SOC_NAME  \\\n",
       "31      CERTIFIED         other  Architecture & Engineering   \n",
       "72      CERTIFIED         other                     Medical   \n",
       "573     CERTIFIED         other                     Medical   \n",
       "676     CERTIFIED         other               IT Profession   \n",
       "874     CERTIFIED         other  Architecture & Engineering   \n",
       "...           ...           ...                         ...   \n",
       "78865      DENIED         other               IT Profession   \n",
       "79161      DENIED         other             Advance Science   \n",
       "79221      DENIED         other                  Management   \n",
       "79375      DENIED         other                     Finance   \n",
       "79495      DENIED         other               IT Profession   \n",
       "\n",
       "      FULL_TIME_POSITION  PREVAILING_WAGE    YEAR       WORKSITE        DATE  \\\n",
       "31                     Y          39541.0  2015.0          other  2015-01-01   \n",
       "72                     Y          40290.0  2012.0  massachusetts  2012-01-01   \n",
       "573                    Y          40498.0  2012.0     california  2012-01-01   \n",
       "676                    Y          40456.0  2014.0   pennsylvania  2014-01-01   \n",
       "874                    Y          40040.0  2011.0        newyork  2011-01-01   \n",
       "...                  ...              ...     ...            ...         ...   \n",
       "78865                  Y          39562.0  2011.0       illinois  2011-01-01   \n",
       "79161                  Y          40206.0  2011.0           ohio  2011-01-01   \n",
       "79221                  Y          39700.0  2011.0        florida  2011-01-01   \n",
       "79375                  Y          40373.0  2011.0          other  2011-01-01   \n",
       "79495                  Y          39749.0  2011.0          other  2011-01-01   \n",
       "\n",
       "      WAGE_CATERGORIZED  CASE_STATUS_ENCODED  EMPLOYER_NAME_ENCODED  \\\n",
       "31               MEDIUM                    0                     15   \n",
       "72               MEDIUM                    0                     15   \n",
       "573              MEDIUM                    0                     15   \n",
       "676              MEDIUM                    0                     15   \n",
       "874              MEDIUM                    0                     15   \n",
       "...                 ...                  ...                    ...   \n",
       "78865            MEDIUM                    1                     15   \n",
       "79161            MEDIUM                    1                     15   \n",
       "79221            MEDIUM                    1                     15   \n",
       "79375            MEDIUM                    1                     15   \n",
       "79495            MEDIUM                    1                     15   \n",
       "\n",
       "       SOC_NAME_ENCODED  WORKSITE_ENCODED  FULL_TIME_POSITION_ENCODED  \\\n",
       "31                    1                15                           1   \n",
       "72                   10                 7                           1   \n",
       "573                  10                 1                           1   \n",
       "676                   5                16                           1   \n",
       "874                   1                12                           1   \n",
       "...                 ...               ...                         ...   \n",
       "78865                 5                 5                           1   \n",
       "79161                 0                14                           1   \n",
       "79221                 7                 3                           1   \n",
       "79375                 3                15                           1   \n",
       "79495                 5                15                           1   \n",
       "\n",
       "       WAGE_ENCODED  PREVAILING_WAGE_SCALED  \n",
       "31                1               -1.636910  \n",
       "72                1               -1.585632  \n",
       "573               1               -1.571392  \n",
       "676               1               -1.574267  \n",
       "874               1               -1.602748  \n",
       "...             ...                     ...  \n",
       "78865             1               -1.635473  \n",
       "79161             1               -1.591383  \n",
       "79221             1               -1.626025  \n",
       "79375             1               -1.579950  \n",
       "79495             1               -1.622670  \n",
       "\n",
       "[514 rows x 16 columns]"
      ]
     },
     "execution_count": 152,
     "metadata": {},
     "output_type": "execute_result"
    }
   ],
   "source": [
    "df[(df_input['PREVAILING_WAGE'] > 39500) & (df_input['PREVAILING_WAGE'] < 40500)]"
   ]
  },
  {
   "cell_type": "code",
   "execution_count": 153,
   "id": "ee33d794",
   "metadata": {},
   "outputs": [],
   "source": [
    "pred = (40290, 'Y', 'other', 'Medical', 'massachusetts', 'MEDIUM')"
   ]
  },
  {
   "cell_type": "code",
   "execution_count": 154,
   "id": "e7e6f6e2",
   "metadata": {},
   "outputs": [
    {
     "data": {
      "text/plain": [
       "array([['40290', 'Y', 'other', 'Medical', 'massachusetts', 'MEDIUM']],\n",
       "      dtype='<U13')"
      ]
     },
     "execution_count": 154,
     "metadata": {},
     "output_type": "execute_result"
    }
   ],
   "source": [
    "import numpy as np\n",
    "x=np.array([pred])\n",
    "x"
   ]
  },
  {
   "cell_type": "code",
   "execution_count": 155,
   "id": "ec9cded6",
   "metadata": {},
   "outputs": [],
   "source": [
    "x[:,1] = encode_full_time_position(x[:,1])\n",
    "x[:,2] = le_emp_name.transform(x[:,2])\n",
    "x[:,3] = le_soc_name.transform(x[:,3])\n",
    "x[:,4] = le_worksite.transform(x[:,4])\n",
    "x[:,5] = wage_categorizer(x[:,5])"
   ]
  },
  {
   "cell_type": "code",
   "execution_count": 156,
   "id": "b6fff75f",
   "metadata": {},
   "outputs": [
    {
     "data": {
      "text/plain": [
       "array([[4.029e+04, 1.000e+00, 1.500e+01, 1.000e+01, 7.000e+00, 1.000e+00]])"
      ]
     },
     "execution_count": 156,
     "metadata": {},
     "output_type": "execute_result"
    }
   ],
   "source": [
    "x = x.astype(float)\n",
    "x"
   ]
  },
  {
   "cell_type": "code",
   "execution_count": 157,
   "id": "22086c92",
   "metadata": {},
   "outputs": [],
   "source": [
    "prediction = model_random_forest.predict(x)"
   ]
  },
  {
   "cell_type": "code",
   "execution_count": 158,
   "id": "1cbcb576",
   "metadata": {},
   "outputs": [
    {
     "data": {
      "text/plain": [
       "array([0])"
      ]
     },
     "execution_count": 158,
     "metadata": {},
     "output_type": "execute_result"
    }
   ],
   "source": [
    "prediction"
   ]
  },
  {
   "cell_type": "code",
   "execution_count": null,
   "id": "e3ab318f",
   "metadata": {},
   "outputs": [],
   "source": [
    "# we observe that manual prediction is working now we will use these pickle files, in flask application for predicting"
   ]
  }
 ],
 "metadata": {
  "kernelspec": {
   "display_name": "Python 3 (ipykernel)",
   "language": "python",
   "name": "python3"
  },
  "language_info": {
   "codemirror_mode": {
    "name": "ipython",
    "version": 3
   },
   "file_extension": ".py",
   "mimetype": "text/x-python",
   "name": "python",
   "nbconvert_exporter": "python",
   "pygments_lexer": "ipython3",
   "version": "3.9.7"
  }
 },
 "nbformat": 4,
 "nbformat_minor": 5
}

{
 "cells": [
  {
   "cell_type": "code",
   "execution_count": 1,
   "id": "d32516f1",
   "metadata": {},
   "outputs": [],
   "source": [
    "# importing necessary libraries\n",
    "import pandas as pd\n",
    "import numpy as np\n",
    "import matplotlib.pyplot as plt\n",
    "import seaborn as sns\n",
    "import warnings as wn"
   ]
  },
  {
   "cell_type": "code",
   "execution_count": 2,
   "id": "b863b4a1",
   "metadata": {},
   "outputs": [],
   "source": [
    "wn.filterwarnings(action='ignore')"
   ]
  },
  {
   "cell_type": "code",
   "execution_count": 3,
   "id": "d52c65b1",
   "metadata": {},
   "outputs": [],
   "source": [
    "from sklearn.model_selection import train_test_split\n",
    "from sklearn.preprocessing import LabelEncoder, OneHotEncoder, StandardScaler, OrdinalEncoder\n",
    "from sklearn.model_selection import GridSearchCV\n",
    "from sklearn.linear_model import LogisticRegressionCV\n",
    "from sklearn.tree import DecisionTreeClassifier\n",
    "from sklearn.ensemble import RandomForestClassifier\n",
    "from sklearn.ensemble import GradientBoostingClassifier\n",
    "from sklearn.ensemble import AdaBoostClassifier\n",
    "from xgboost import XGBClassifier"
   ]
  },
  {
   "cell_type": "code",
   "execution_count": 4,
   "id": "e875a17a",
   "metadata": {},
   "outputs": [],
   "source": [
    "# importing the preprocessed dataset for model making\n",
    "df_input = pd.read_csv('./h1b_for_model_making_02',index_col= None)"
   ]
  },
  {
   "cell_type": "code",
   "execution_count": 5,
   "id": "2f08bdd2",
   "metadata": {},
   "outputs": [
    {
     "data": {
      "text/html": [
       "<div>\n",
       "<style scoped>\n",
       "    .dataframe tbody tr th:only-of-type {\n",
       "        vertical-align: middle;\n",
       "    }\n",
       "\n",
       "    .dataframe tbody tr th {\n",
       "        vertical-align: top;\n",
       "    }\n",
       "\n",
       "    .dataframe thead th {\n",
       "        text-align: right;\n",
       "    }\n",
       "</style>\n",
       "<table border=\"1\" class=\"dataframe\">\n",
       "  <thead>\n",
       "    <tr style=\"text-align: right;\">\n",
       "      <th></th>\n",
       "      <th>Unnamed: 0</th>\n",
       "      <th>CASE_STATUS</th>\n",
       "      <th>EMPLOYER_NAME</th>\n",
       "      <th>SOC_NAME</th>\n",
       "      <th>FULL_TIME_POSITION</th>\n",
       "      <th>PREVAILING_WAGE</th>\n",
       "      <th>YEAR</th>\n",
       "      <th>WORKSITE</th>\n",
       "      <th>DATE</th>\n",
       "      <th>WAGE_CATERGORIZED</th>\n",
       "    </tr>\n",
       "  </thead>\n",
       "  <tbody>\n",
       "    <tr>\n",
       "      <th>0</th>\n",
       "      <td>1373320</td>\n",
       "      <td>CERTIFIED</td>\n",
       "      <td>xenosoft technologies inc</td>\n",
       "      <td>IT Profession</td>\n",
       "      <td>Y</td>\n",
       "      <td>58011.0</td>\n",
       "      <td>2014.0</td>\n",
       "      <td>iowa</td>\n",
       "      <td>2014-01-01</td>\n",
       "      <td>MEDIUM</td>\n",
       "    </tr>\n",
       "    <tr>\n",
       "      <th>1</th>\n",
       "      <td>1926007</td>\n",
       "      <td>CERTIFIED</td>\n",
       "      <td>infosys limited</td>\n",
       "      <td>IT Profession</td>\n",
       "      <td>Y</td>\n",
       "      <td>70948.8</td>\n",
       "      <td>2013.0</td>\n",
       "      <td>california</td>\n",
       "      <td>2013-01-01</td>\n",
       "      <td>HIGH</td>\n",
       "    </tr>\n",
       "    <tr>\n",
       "      <th>2</th>\n",
       "      <td>1601710</td>\n",
       "      <td>CERTIFIED</td>\n",
       "      <td>tata consultancy services limited</td>\n",
       "      <td>IT Profession</td>\n",
       "      <td>Y</td>\n",
       "      <td>41558.0</td>\n",
       "      <td>2014.0</td>\n",
       "      <td>ohio</td>\n",
       "      <td>2014-01-01</td>\n",
       "      <td>MEDIUM</td>\n",
       "    </tr>\n",
       "    <tr>\n",
       "      <th>3</th>\n",
       "      <td>2417561</td>\n",
       "      <td>CERTIFIED</td>\n",
       "      <td>acxiom corporation</td>\n",
       "      <td>IT Profession</td>\n",
       "      <td>Y</td>\n",
       "      <td>47570.0</td>\n",
       "      <td>2012.0</td>\n",
       "      <td>arkansas</td>\n",
       "      <td>2012-01-01</td>\n",
       "      <td>MEDIUM</td>\n",
       "    </tr>\n",
       "    <tr>\n",
       "      <th>4</th>\n",
       "      <td>2420331</td>\n",
       "      <td>CERTIFIED</td>\n",
       "      <td>automotive robotics inc</td>\n",
       "      <td>Architecture &amp; Engineering</td>\n",
       "      <td>Y</td>\n",
       "      <td>55598.0</td>\n",
       "      <td>2012.0</td>\n",
       "      <td>illinois</td>\n",
       "      <td>2012-01-01</td>\n",
       "      <td>MEDIUM</td>\n",
       "    </tr>\n",
       "    <tr>\n",
       "      <th>...</th>\n",
       "      <td>...</td>\n",
       "      <td>...</td>\n",
       "      <td>...</td>\n",
       "      <td>...</td>\n",
       "      <td>...</td>\n",
       "      <td>...</td>\n",
       "      <td>...</td>\n",
       "      <td>...</td>\n",
       "      <td>...</td>\n",
       "      <td>...</td>\n",
       "    </tr>\n",
       "    <tr>\n",
       "      <th>79577</th>\n",
       "      <td>3002354</td>\n",
       "      <td>DENIED</td>\n",
       "      <td>centers for disease control and preventiondhhs</td>\n",
       "      <td>Teaching</td>\n",
       "      <td>Y</td>\n",
       "      <td>33134.0</td>\n",
       "      <td>2011.0</td>\n",
       "      <td>ohio</td>\n",
       "      <td>2011-01-01</td>\n",
       "      <td>MEDIUM</td>\n",
       "    </tr>\n",
       "    <tr>\n",
       "      <th>79578</th>\n",
       "      <td>3002355</td>\n",
       "      <td>DENIED</td>\n",
       "      <td>iidya corporation</td>\n",
       "      <td>IT Profession</td>\n",
       "      <td>Y</td>\n",
       "      <td>43368.0</td>\n",
       "      <td>2011.0</td>\n",
       "      <td>oregon</td>\n",
       "      <td>2011-01-01</td>\n",
       "      <td>MEDIUM</td>\n",
       "    </tr>\n",
       "    <tr>\n",
       "      <th>79579</th>\n",
       "      <td>3002357</td>\n",
       "      <td>DENIED</td>\n",
       "      <td>iidya corporation</td>\n",
       "      <td>IT Profession</td>\n",
       "      <td>Y</td>\n",
       "      <td>46488.0</td>\n",
       "      <td>2011.0</td>\n",
       "      <td>texas</td>\n",
       "      <td>2011-01-01</td>\n",
       "      <td>MEDIUM</td>\n",
       "    </tr>\n",
       "    <tr>\n",
       "      <th>79580</th>\n",
       "      <td>3002365</td>\n",
       "      <td>DENIED</td>\n",
       "      <td>university of california santa cruz</td>\n",
       "      <td>Medical</td>\n",
       "      <td>Y</td>\n",
       "      <td>38496.0</td>\n",
       "      <td>2011.0</td>\n",
       "      <td>california</td>\n",
       "      <td>2011-01-01</td>\n",
       "      <td>MEDIUM</td>\n",
       "    </tr>\n",
       "    <tr>\n",
       "      <th>79581</th>\n",
       "      <td>3002368</td>\n",
       "      <td>DENIED</td>\n",
       "      <td>oregon health and science university</td>\n",
       "      <td>Medical</td>\n",
       "      <td>Y</td>\n",
       "      <td>50357.0</td>\n",
       "      <td>2011.0</td>\n",
       "      <td>oregon</td>\n",
       "      <td>2011-01-01</td>\n",
       "      <td>MEDIUM</td>\n",
       "    </tr>\n",
       "  </tbody>\n",
       "</table>\n",
       "<p>79582 rows × 10 columns</p>\n",
       "</div>"
      ],
      "text/plain": [
       "       Unnamed: 0 CASE_STATUS                                   EMPLOYER_NAME  \\\n",
       "0         1373320   CERTIFIED                       xenosoft technologies inc   \n",
       "1         1926007   CERTIFIED                                 infosys limited   \n",
       "2         1601710   CERTIFIED               tata consultancy services limited   \n",
       "3         2417561   CERTIFIED                              acxiom corporation   \n",
       "4         2420331   CERTIFIED                         automotive robotics inc   \n",
       "...           ...         ...                                             ...   \n",
       "79577     3002354      DENIED  centers for disease control and preventiondhhs   \n",
       "79578     3002355      DENIED                               iidya corporation   \n",
       "79579     3002357      DENIED                               iidya corporation   \n",
       "79580     3002365      DENIED             university of california santa cruz   \n",
       "79581     3002368      DENIED            oregon health and science university   \n",
       "\n",
       "                         SOC_NAME FULL_TIME_POSITION  PREVAILING_WAGE    YEAR  \\\n",
       "0                   IT Profession                  Y          58011.0  2014.0   \n",
       "1                   IT Profession                  Y          70948.8  2013.0   \n",
       "2                   IT Profession                  Y          41558.0  2014.0   \n",
       "3                   IT Profession                  Y          47570.0  2012.0   \n",
       "4      Architecture & Engineering                  Y          55598.0  2012.0   \n",
       "...                           ...                ...              ...     ...   \n",
       "79577                    Teaching                  Y          33134.0  2011.0   \n",
       "79578               IT Profession                  Y          43368.0  2011.0   \n",
       "79579               IT Profession                  Y          46488.0  2011.0   \n",
       "79580                     Medical                  Y          38496.0  2011.0   \n",
       "79581                     Medical                  Y          50357.0  2011.0   \n",
       "\n",
       "         WORKSITE        DATE WAGE_CATERGORIZED  \n",
       "0            iowa  2014-01-01            MEDIUM  \n",
       "1      california  2013-01-01              HIGH  \n",
       "2            ohio  2014-01-01            MEDIUM  \n",
       "3        arkansas  2012-01-01            MEDIUM  \n",
       "4        illinois  2012-01-01            MEDIUM  \n",
       "...           ...         ...               ...  \n",
       "79577        ohio  2011-01-01            MEDIUM  \n",
       "79578      oregon  2011-01-01            MEDIUM  \n",
       "79579       texas  2011-01-01            MEDIUM  \n",
       "79580  california  2011-01-01            MEDIUM  \n",
       "79581      oregon  2011-01-01            MEDIUM  \n",
       "\n",
       "[79582 rows x 10 columns]"
      ]
     },
     "execution_count": 5,
     "metadata": {},
     "output_type": "execute_result"
    }
   ],
   "source": [
    "df_input"
   ]
  },
  {
   "cell_type": "code",
   "execution_count": 6,
   "id": "bd2bd465",
   "metadata": {},
   "outputs": [
    {
     "data": {
      "text/plain": [
       "Index(['Unnamed: 0', 'CASE_STATUS', 'EMPLOYER_NAME', 'SOC_NAME',\n",
       "       'FULL_TIME_POSITION', 'PREVAILING_WAGE', 'YEAR', 'WORKSITE', 'DATE',\n",
       "       'WAGE_CATERGORIZED'],\n",
       "      dtype='object')"
      ]
     },
     "execution_count": 6,
     "metadata": {},
     "output_type": "execute_result"
    }
   ],
   "source": [
    "df_input.columns"
   ]
  },
  {
   "cell_type": "code",
   "execution_count": 7,
   "id": "a4a1ae2c",
   "metadata": {},
   "outputs": [],
   "source": [
    "df = df_input.drop('Unnamed: 0', axis=1)"
   ]
  },
  {
   "cell_type": "code",
   "execution_count": 8,
   "id": "2e41a1e0",
   "metadata": {},
   "outputs": [
    {
     "data": {
      "text/plain": [
       "Index(['CASE_STATUS', 'EMPLOYER_NAME', 'SOC_NAME', 'FULL_TIME_POSITION',\n",
       "       'PREVAILING_WAGE', 'YEAR', 'WORKSITE', 'DATE', 'WAGE_CATERGORIZED'],\n",
       "      dtype='object')"
      ]
     },
     "execution_count": 8,
     "metadata": {},
     "output_type": "execute_result"
    }
   ],
   "source": [
    "df.columns"
   ]
  },
  {
   "cell_type": "code",
   "execution_count": 9,
   "id": "612f79bc",
   "metadata": {},
   "outputs": [],
   "source": [
    "# Encoding Categorical Data"
   ]
  },
  {
   "cell_type": "code",
   "execution_count": 10,
   "id": "2fa3ed41",
   "metadata": {},
   "outputs": [],
   "source": [
    "encoding_cols = ['CASE_STATUS', 'EMPLOYER_NAME', 'SOC_NAME', 'WORKSITE', 'FULL_TIME_POSITION', 'WAGE_CATERGORIZED']\n",
    "# we will use label encoder for converting categorical columns to numerical columns"
   ]
  },
  {
   "cell_type": "code",
   "execution_count": 11,
   "id": "64100a9a",
   "metadata": {},
   "outputs": [],
   "source": [
    "le_case_status = LabelEncoder()\n",
    "le_case_status.fit(df['CASE_STATUS'])\n",
    "df['CASE_STATUS_ENCODED'] = le_case_status.transform(df['CASE_STATUS'])"
   ]
  },
  {
   "cell_type": "code",
   "execution_count": 12,
   "id": "ac748ee9",
   "metadata": {
    "scrolled": false
   },
   "outputs": [
    {
     "name": "stdout",
     "output_type": "stream",
     "text": [
      "['CERTIFIED' 'DENIED']\n",
      "[0 1]\n",
      "2\n"
     ]
    }
   ],
   "source": [
    "print(le_case_status.classes_)\n",
    "print(df['CASE_STATUS_ENCODED'].unique())\n",
    "print(df['CASE_STATUS_ENCODED'].nunique())"
   ]
  },
  {
   "cell_type": "code",
   "execution_count": 13,
   "id": "95a61b6a",
   "metadata": {},
   "outputs": [],
   "source": [
    "ohe_col_empname = ['EMPLOYER_NAME']"
   ]
  },
  {
   "cell_type": "code",
   "execution_count": 14,
   "id": "89043527",
   "metadata": {},
   "outputs": [
    {
     "data": {
      "text/html": [
       "<style>#sk-container-id-1 {color: black;}#sk-container-id-1 pre{padding: 0;}#sk-container-id-1 div.sk-toggleable {background-color: white;}#sk-container-id-1 label.sk-toggleable__label {cursor: pointer;display: block;width: 100%;margin-bottom: 0;padding: 0.3em;box-sizing: border-box;text-align: center;}#sk-container-id-1 label.sk-toggleable__label-arrow:before {content: \"▸\";float: left;margin-right: 0.25em;color: #696969;}#sk-container-id-1 label.sk-toggleable__label-arrow:hover:before {color: black;}#sk-container-id-1 div.sk-estimator:hover label.sk-toggleable__label-arrow:before {color: black;}#sk-container-id-1 div.sk-toggleable__content {max-height: 0;max-width: 0;overflow: hidden;text-align: left;background-color: #f0f8ff;}#sk-container-id-1 div.sk-toggleable__content pre {margin: 0.2em;color: black;border-radius: 0.25em;background-color: #f0f8ff;}#sk-container-id-1 input.sk-toggleable__control:checked~div.sk-toggleable__content {max-height: 200px;max-width: 100%;overflow: auto;}#sk-container-id-1 input.sk-toggleable__control:checked~label.sk-toggleable__label-arrow:before {content: \"▾\";}#sk-container-id-1 div.sk-estimator input.sk-toggleable__control:checked~label.sk-toggleable__label {background-color: #d4ebff;}#sk-container-id-1 div.sk-label input.sk-toggleable__control:checked~label.sk-toggleable__label {background-color: #d4ebff;}#sk-container-id-1 input.sk-hidden--visually {border: 0;clip: rect(1px 1px 1px 1px);clip: rect(1px, 1px, 1px, 1px);height: 1px;margin: -1px;overflow: hidden;padding: 0;position: absolute;width: 1px;}#sk-container-id-1 div.sk-estimator {font-family: monospace;background-color: #f0f8ff;border: 1px dotted black;border-radius: 0.25em;box-sizing: border-box;margin-bottom: 0.5em;}#sk-container-id-1 div.sk-estimator:hover {background-color: #d4ebff;}#sk-container-id-1 div.sk-parallel-item::after {content: \"\";width: 100%;border-bottom: 1px solid gray;flex-grow: 1;}#sk-container-id-1 div.sk-label:hover label.sk-toggleable__label {background-color: #d4ebff;}#sk-container-id-1 div.sk-serial::before {content: \"\";position: absolute;border-left: 1px solid gray;box-sizing: border-box;top: 0;bottom: 0;left: 50%;z-index: 0;}#sk-container-id-1 div.sk-serial {display: flex;flex-direction: column;align-items: center;background-color: white;padding-right: 0.2em;padding-left: 0.2em;position: relative;}#sk-container-id-1 div.sk-item {position: relative;z-index: 1;}#sk-container-id-1 div.sk-parallel {display: flex;align-items: stretch;justify-content: center;background-color: white;position: relative;}#sk-container-id-1 div.sk-item::before, #sk-container-id-1 div.sk-parallel-item::before {content: \"\";position: absolute;border-left: 1px solid gray;box-sizing: border-box;top: 0;bottom: 0;left: 50%;z-index: -1;}#sk-container-id-1 div.sk-parallel-item {display: flex;flex-direction: column;z-index: 1;position: relative;background-color: white;}#sk-container-id-1 div.sk-parallel-item:first-child::after {align-self: flex-end;width: 50%;}#sk-container-id-1 div.sk-parallel-item:last-child::after {align-self: flex-start;width: 50%;}#sk-container-id-1 div.sk-parallel-item:only-child::after {width: 0;}#sk-container-id-1 div.sk-dashed-wrapped {border: 1px dashed gray;margin: 0 0.4em 0.5em 0.4em;box-sizing: border-box;padding-bottom: 0.4em;background-color: white;}#sk-container-id-1 div.sk-label label {font-family: monospace;font-weight: bold;display: inline-block;line-height: 1.2em;}#sk-container-id-1 div.sk-label-container {text-align: center;}#sk-container-id-1 div.sk-container {/* jupyter's `normalize.less` sets `[hidden] { display: none; }` but bootstrap.min.css set `[hidden] { display: none !important; }` so we also need the `!important` here to be able to override the default hidden behavior on the sphinx rendered scikit-learn.org. See: https://github.com/scikit-learn/scikit-learn/issues/21755 */display: inline-block !important;position: relative;}#sk-container-id-1 div.sk-text-repr-fallback {display: none;}</style><div id=\"sk-container-id-1\" class=\"sk-top-container\"><div class=\"sk-text-repr-fallback\"><pre>OneHotEncoder(handle_unknown=&#x27;ignore&#x27;)</pre><b>In a Jupyter environment, please rerun this cell to show the HTML representation or trust the notebook. <br />On GitHub, the HTML representation is unable to render, please try loading this page with nbviewer.org.</b></div><div class=\"sk-container\" hidden><div class=\"sk-item\"><div class=\"sk-estimator sk-toggleable\"><input class=\"sk-toggleable__control sk-hidden--visually\" id=\"sk-estimator-id-1\" type=\"checkbox\" checked><label for=\"sk-estimator-id-1\" class=\"sk-toggleable__label sk-toggleable__label-arrow\">OneHotEncoder</label><div class=\"sk-toggleable__content\"><pre>OneHotEncoder(handle_unknown=&#x27;ignore&#x27;)</pre></div></div></div></div></div>"
      ],
      "text/plain": [
       "OneHotEncoder(handle_unknown='ignore')"
      ]
     },
     "execution_count": 14,
     "metadata": {},
     "output_type": "execute_result"
    }
   ],
   "source": [
    "ohe_emp_name = OneHotEncoder(handle_unknown='ignore')\n",
    "ohe_emp_name.fit(df[['EMPLOYER_NAME']])"
   ]
  },
  {
   "cell_type": "code",
   "execution_count": 15,
   "id": "27bba62e",
   "metadata": {},
   "outputs": [],
   "source": [
    "emp_name_array = ohe_emp_name.transform(df[['EMPLOYER_NAME']]).toarray()"
   ]
  },
  {
   "cell_type": "code",
   "execution_count": 16,
   "id": "b001da8c",
   "metadata": {},
   "outputs": [],
   "source": [
    "emp_name = list(ohe_emp_name.get_feature_names_out(ohe_col_empname))"
   ]
  },
  {
   "cell_type": "code",
   "execution_count": 17,
   "id": "de7cf9fb",
   "metadata": {},
   "outputs": [],
   "source": [
    "emp_name_df = pd.DataFrame(data=emp_name_array, columns=emp_name)"
   ]
  },
  {
   "cell_type": "code",
   "execution_count": 18,
   "id": "85693024",
   "metadata": {},
   "outputs": [
    {
     "data": {
      "text/plain": [
       "(79582, 3485)"
      ]
     },
     "execution_count": 18,
     "metadata": {},
     "output_type": "execute_result"
    }
   ],
   "source": [
    "emp_name_df.shape"
   ]
  },
  {
   "cell_type": "code",
   "execution_count": 19,
   "id": "87eb7333",
   "metadata": {},
   "outputs": [
    {
     "data": {
      "text/html": [
       "<div>\n",
       "<style scoped>\n",
       "    .dataframe tbody tr th:only-of-type {\n",
       "        vertical-align: middle;\n",
       "    }\n",
       "\n",
       "    .dataframe tbody tr th {\n",
       "        vertical-align: top;\n",
       "    }\n",
       "\n",
       "    .dataframe thead th {\n",
       "        text-align: right;\n",
       "    }\n",
       "</style>\n",
       "<table border=\"1\" class=\"dataframe\">\n",
       "  <thead>\n",
       "    <tr style=\"text-align: right;\">\n",
       "      <th></th>\n",
       "      <th>EMPLOYER_NAME_22nd century technologies inc</th>\n",
       "      <th>EMPLOYER_NAME_3a soft inc</th>\n",
       "      <th>EMPLOYER_NAME_3core systems inc</th>\n",
       "      <th>EMPLOYER_NAME_3edgeusagroup llc</th>\n",
       "      <th>EMPLOYER_NAME_3i infotech inc</th>\n",
       "      <th>EMPLOYER_NAME_3k technologies llc</th>\n",
       "      <th>EMPLOYER_NAME_3m company</th>\n",
       "      <th>EMPLOYER_NAME_3s business corporation</th>\n",
       "      <th>EMPLOYER_NAME_3s network inc</th>\n",
       "      <th>EMPLOYER_NAME_3ved inc</th>\n",
       "      <th>...</th>\n",
       "      <th>EMPLOYER_NAME_zimmer inc</th>\n",
       "      <th>EMPLOYER_NAME_ziontech solutions inc</th>\n",
       "      <th>EMPLOYER_NAME_ziontech solutionsinc</th>\n",
       "      <th>EMPLOYER_NAME_zodiac solutions inc</th>\n",
       "      <th>EMPLOYER_NAME_zolon tech solutions inc</th>\n",
       "      <th>EMPLOYER_NAME_zs associates inc</th>\n",
       "      <th>EMPLOYER_NAME_zume it inc</th>\n",
       "      <th>EMPLOYER_NAME_zuven technologies inc</th>\n",
       "      <th>EMPLOYER_NAME_zylog systems limited</th>\n",
       "      <th>EMPLOYER_NAME_zynga inc</th>\n",
       "    </tr>\n",
       "  </thead>\n",
       "  <tbody>\n",
       "    <tr>\n",
       "      <th>0</th>\n",
       "      <td>0.0</td>\n",
       "      <td>0.0</td>\n",
       "      <td>0.0</td>\n",
       "      <td>0.0</td>\n",
       "      <td>0.0</td>\n",
       "      <td>0.0</td>\n",
       "      <td>0.0</td>\n",
       "      <td>0.0</td>\n",
       "      <td>0.0</td>\n",
       "      <td>0.0</td>\n",
       "      <td>...</td>\n",
       "      <td>0.0</td>\n",
       "      <td>0.0</td>\n",
       "      <td>0.0</td>\n",
       "      <td>0.0</td>\n",
       "      <td>0.0</td>\n",
       "      <td>0.0</td>\n",
       "      <td>0.0</td>\n",
       "      <td>0.0</td>\n",
       "      <td>0.0</td>\n",
       "      <td>0.0</td>\n",
       "    </tr>\n",
       "    <tr>\n",
       "      <th>1</th>\n",
       "      <td>0.0</td>\n",
       "      <td>0.0</td>\n",
       "      <td>0.0</td>\n",
       "      <td>0.0</td>\n",
       "      <td>0.0</td>\n",
       "      <td>0.0</td>\n",
       "      <td>0.0</td>\n",
       "      <td>0.0</td>\n",
       "      <td>0.0</td>\n",
       "      <td>0.0</td>\n",
       "      <td>...</td>\n",
       "      <td>0.0</td>\n",
       "      <td>0.0</td>\n",
       "      <td>0.0</td>\n",
       "      <td>0.0</td>\n",
       "      <td>0.0</td>\n",
       "      <td>0.0</td>\n",
       "      <td>0.0</td>\n",
       "      <td>0.0</td>\n",
       "      <td>0.0</td>\n",
       "      <td>0.0</td>\n",
       "    </tr>\n",
       "    <tr>\n",
       "      <th>2</th>\n",
       "      <td>0.0</td>\n",
       "      <td>0.0</td>\n",
       "      <td>0.0</td>\n",
       "      <td>0.0</td>\n",
       "      <td>0.0</td>\n",
       "      <td>0.0</td>\n",
       "      <td>0.0</td>\n",
       "      <td>0.0</td>\n",
       "      <td>0.0</td>\n",
       "      <td>0.0</td>\n",
       "      <td>...</td>\n",
       "      <td>0.0</td>\n",
       "      <td>0.0</td>\n",
       "      <td>0.0</td>\n",
       "      <td>0.0</td>\n",
       "      <td>0.0</td>\n",
       "      <td>0.0</td>\n",
       "      <td>0.0</td>\n",
       "      <td>0.0</td>\n",
       "      <td>0.0</td>\n",
       "      <td>0.0</td>\n",
       "    </tr>\n",
       "    <tr>\n",
       "      <th>3</th>\n",
       "      <td>0.0</td>\n",
       "      <td>0.0</td>\n",
       "      <td>0.0</td>\n",
       "      <td>0.0</td>\n",
       "      <td>0.0</td>\n",
       "      <td>0.0</td>\n",
       "      <td>0.0</td>\n",
       "      <td>0.0</td>\n",
       "      <td>0.0</td>\n",
       "      <td>0.0</td>\n",
       "      <td>...</td>\n",
       "      <td>0.0</td>\n",
       "      <td>0.0</td>\n",
       "      <td>0.0</td>\n",
       "      <td>0.0</td>\n",
       "      <td>0.0</td>\n",
       "      <td>0.0</td>\n",
       "      <td>0.0</td>\n",
       "      <td>0.0</td>\n",
       "      <td>0.0</td>\n",
       "      <td>0.0</td>\n",
       "    </tr>\n",
       "    <tr>\n",
       "      <th>4</th>\n",
       "      <td>0.0</td>\n",
       "      <td>0.0</td>\n",
       "      <td>0.0</td>\n",
       "      <td>0.0</td>\n",
       "      <td>0.0</td>\n",
       "      <td>0.0</td>\n",
       "      <td>0.0</td>\n",
       "      <td>0.0</td>\n",
       "      <td>0.0</td>\n",
       "      <td>0.0</td>\n",
       "      <td>...</td>\n",
       "      <td>0.0</td>\n",
       "      <td>0.0</td>\n",
       "      <td>0.0</td>\n",
       "      <td>0.0</td>\n",
       "      <td>0.0</td>\n",
       "      <td>0.0</td>\n",
       "      <td>0.0</td>\n",
       "      <td>0.0</td>\n",
       "      <td>0.0</td>\n",
       "      <td>0.0</td>\n",
       "    </tr>\n",
       "  </tbody>\n",
       "</table>\n",
       "<p>5 rows × 3485 columns</p>\n",
       "</div>"
      ],
      "text/plain": [
       "   EMPLOYER_NAME_22nd century technologies inc  EMPLOYER_NAME_3a soft inc  \\\n",
       "0                                          0.0                        0.0   \n",
       "1                                          0.0                        0.0   \n",
       "2                                          0.0                        0.0   \n",
       "3                                          0.0                        0.0   \n",
       "4                                          0.0                        0.0   \n",
       "\n",
       "   EMPLOYER_NAME_3core systems inc  EMPLOYER_NAME_3edgeusagroup llc  \\\n",
       "0                              0.0                              0.0   \n",
       "1                              0.0                              0.0   \n",
       "2                              0.0                              0.0   \n",
       "3                              0.0                              0.0   \n",
       "4                              0.0                              0.0   \n",
       "\n",
       "   EMPLOYER_NAME_3i infotech inc  EMPLOYER_NAME_3k technologies llc  \\\n",
       "0                            0.0                                0.0   \n",
       "1                            0.0                                0.0   \n",
       "2                            0.0                                0.0   \n",
       "3                            0.0                                0.0   \n",
       "4                            0.0                                0.0   \n",
       "\n",
       "   EMPLOYER_NAME_3m company  EMPLOYER_NAME_3s business corporation  \\\n",
       "0                       0.0                                    0.0   \n",
       "1                       0.0                                    0.0   \n",
       "2                       0.0                                    0.0   \n",
       "3                       0.0                                    0.0   \n",
       "4                       0.0                                    0.0   \n",
       "\n",
       "   EMPLOYER_NAME_3s network inc  EMPLOYER_NAME_3ved inc  ...  \\\n",
       "0                           0.0                     0.0  ...   \n",
       "1                           0.0                     0.0  ...   \n",
       "2                           0.0                     0.0  ...   \n",
       "3                           0.0                     0.0  ...   \n",
       "4                           0.0                     0.0  ...   \n",
       "\n",
       "   EMPLOYER_NAME_zimmer inc  EMPLOYER_NAME_ziontech solutions inc  \\\n",
       "0                       0.0                                   0.0   \n",
       "1                       0.0                                   0.0   \n",
       "2                       0.0                                   0.0   \n",
       "3                       0.0                                   0.0   \n",
       "4                       0.0                                   0.0   \n",
       "\n",
       "   EMPLOYER_NAME_ziontech solutionsinc  EMPLOYER_NAME_zodiac solutions inc  \\\n",
       "0                                  0.0                                 0.0   \n",
       "1                                  0.0                                 0.0   \n",
       "2                                  0.0                                 0.0   \n",
       "3                                  0.0                                 0.0   \n",
       "4                                  0.0                                 0.0   \n",
       "\n",
       "   EMPLOYER_NAME_zolon tech solutions inc  EMPLOYER_NAME_zs associates inc  \\\n",
       "0                                     0.0                              0.0   \n",
       "1                                     0.0                              0.0   \n",
       "2                                     0.0                              0.0   \n",
       "3                                     0.0                              0.0   \n",
       "4                                     0.0                              0.0   \n",
       "\n",
       "   EMPLOYER_NAME_zume it inc  EMPLOYER_NAME_zuven technologies inc  \\\n",
       "0                        0.0                                   0.0   \n",
       "1                        0.0                                   0.0   \n",
       "2                        0.0                                   0.0   \n",
       "3                        0.0                                   0.0   \n",
       "4                        0.0                                   0.0   \n",
       "\n",
       "   EMPLOYER_NAME_zylog systems limited  EMPLOYER_NAME_zynga inc  \n",
       "0                                  0.0                      0.0  \n",
       "1                                  0.0                      0.0  \n",
       "2                                  0.0                      0.0  \n",
       "3                                  0.0                      0.0  \n",
       "4                                  0.0                      0.0  \n",
       "\n",
       "[5 rows x 3485 columns]"
      ]
     },
     "execution_count": 19,
     "metadata": {},
     "output_type": "execute_result"
    }
   ],
   "source": [
    "emp_name_df.head()"
   ]
  },
  {
   "cell_type": "code",
   "execution_count": 20,
   "id": "67d9ed27",
   "metadata": {},
   "outputs": [],
   "source": [
    "le_soc_name = LabelEncoder()\n",
    "le_soc_name.fit(df['SOC_NAME'])\n",
    "df['SOC_NAME_ENCODED'] = le_soc_name.transform(df['SOC_NAME'])"
   ]
  },
  {
   "cell_type": "code",
   "execution_count": 21,
   "id": "b26f1c14",
   "metadata": {},
   "outputs": [
    {
     "name": "stdout",
     "output_type": "stream",
     "text": [
      "['Advance Science' 'Architecture & Engineering' 'Fashion & Entertainment'\n",
      " 'Finance' 'Food & Service' 'IT Profession' 'Lawyer' 'Management'\n",
      " 'Marketing' 'Mathematician' 'Medical' 'Others' 'Teaching' 'Technician'\n",
      " 'actuaries' 'animal breeders' 'archivists'\n",
      " 'atmospheric earth marine and space sciences tea'\n",
      " 'business intelligence analysts' 'chiropractors'\n",
      " 'compensation benefits and job analysis'\n",
      " 'compensation benefits and job analysis specialis'\n",
      " 'executive secretaries and administrative assistant'\n",
      " 'executive secretaries and executive administrative'\n",
      " 'firstline supervisors of construction trades and'\n",
      " 'firstline supervisors of office and administrativ'\n",
      " 'firstline supervisors of retail sales workers' 'geographers'\n",
      " 'hairdressers hairstylists and cosmetologists' 'hydrologists'\n",
      " 'internists general' 'librarians' 'mechanical drafters'\n",
      " 'office and administrative support workers all oth'\n",
      " 'operation research analysts' 'personnel recruiters'\n",
      " 'plumbers pipefitters and steamfitters'\n",
      " 'production planning and expediting clerks' 'psychologists '\n",
      " 'social workers ' 'sociologists']\n",
      "[ 5  1 12  7 10  8  3  9 34  0  2  4 30 13 11 32 15 25 14 38 29  6 40 31\n",
      " 17 21 18 20 27 35 23 37 19 16 28 36 39 33 24 26 22]\n",
      "41\n"
     ]
    }
   ],
   "source": [
    "print(le_soc_name.classes_)\n",
    "print(df['SOC_NAME_ENCODED'].unique())\n",
    "print(df['SOC_NAME_ENCODED'].nunique())"
   ]
  },
  {
   "cell_type": "code",
   "execution_count": 22,
   "id": "cb638a17",
   "metadata": {},
   "outputs": [],
   "source": [
    "le_worksite = LabelEncoder()\n",
    "le_worksite.fit(df['WORKSITE'])\n",
    "df['WORKSITE_ENCODED'] = le_worksite.transform(df['WORKSITE'])"
   ]
  },
  {
   "cell_type": "code",
   "execution_count": 23,
   "id": "02f3fae1",
   "metadata": {
    "scrolled": true
   },
   "outputs": [
    {
     "name": "stdout",
     "output_type": "stream",
     "text": [
      "['alabama' 'alaska' 'arizona' 'arkansas' 'california' 'colorado'\n",
      " 'connecticut' 'delaware' 'districtofcolumbia' 'florida' 'georgia'\n",
      " 'hawaii' 'idaho' 'illinois' 'indiana' 'iowa' 'kansas' 'kentucky'\n",
      " 'louisiana' 'maine' 'maryland' 'massachusetts' 'michigan' 'minnesota'\n",
      " 'mississippi' 'missouri' 'montana' 'na' 'nebraska' 'nevada'\n",
      " 'newhampshire' 'newjersey' 'newmexico' 'newyork' 'northcarolina'\n",
      " 'northdakota' 'ohio' 'oklahoma' 'oregon' 'pennsylvania' 'puertorico'\n",
      " 'rhodeisland' 'southcarolina' 'southdakota' 'tennessee' 'texas' 'utah'\n",
      " 'vermont' 'virginia' 'washington' 'westvirginia' 'wisconsin' 'wyoming']\n",
      "[15  4 36  3 13 33 45 22 39 21 37 50 46 10  2  6  5  9 31 16 34 30  0 48\n",
      " 44 25 51 18 43 17 23 42 14 40 49  8 41  7 20 29  1 19 38 47 11 28 24 12\n",
      " 52 26 32 35 27]\n",
      "53\n"
     ]
    }
   ],
   "source": [
    "print(le_worksite.classes_)\n",
    "print(df['WORKSITE_ENCODED'].unique())\n",
    "print(df['WORKSITE_ENCODED'].nunique())"
   ]
  },
  {
   "cell_type": "code",
   "execution_count": 24,
   "id": "0fe46d35",
   "metadata": {},
   "outputs": [],
   "source": [
    "le_fulltime = LabelEncoder()\n",
    "le_fulltime.fit(df['FULL_TIME_POSITION'])\n",
    "df['FULL_TIME_POSITION_ENCODED'] = le_fulltime.transform(df['FULL_TIME_POSITION'])"
   ]
  },
  {
   "cell_type": "code",
   "execution_count": 25,
   "id": "22252009",
   "metadata": {
    "scrolled": true
   },
   "outputs": [
    {
     "name": "stdout",
     "output_type": "stream",
     "text": [
      "['N' 'Y']\n",
      "[1 0]\n",
      "2\n"
     ]
    }
   ],
   "source": [
    "print(le_fulltime.classes_)\n",
    "print(df['FULL_TIME_POSITION_ENCODED'].unique())\n",
    "print(df['FULL_TIME_POSITION_ENCODED'].nunique())"
   ]
  },
  {
   "cell_type": "code",
   "execution_count": 26,
   "id": "5296cf09",
   "metadata": {},
   "outputs": [],
   "source": [
    "oe_wagecat = OrdinalEncoder(categories=[['LOW','MEDIUM','HIGH']], dtype=np.int64)\n",
    "oe_wagecat.fit(df[['WAGE_CATERGORIZED']])\n",
    "df['WAGE_ENCODED'] = oe_wagecat.transform(df[['WAGE_CATERGORIZED']])"
   ]
  },
  {
   "cell_type": "code",
   "execution_count": 27,
   "id": "81ced832",
   "metadata": {},
   "outputs": [
    {
     "name": "stdout",
     "output_type": "stream",
     "text": [
      "[['LOW', 'MEDIUM', 'HIGH']]\n",
      "[1 2 0]\n",
      "3\n"
     ]
    }
   ],
   "source": [
    "print(oe_wagecat.categories)\n",
    "print(df['WAGE_ENCODED'].unique())\n",
    "print(df['WAGE_ENCODED'].nunique())"
   ]
  },
  {
   "cell_type": "code",
   "execution_count": 28,
   "id": "0651ec02",
   "metadata": {},
   "outputs": [],
   "source": [
    "# we need to merge data frame horizontally with the one hot encoded dataframe of employer name"
   ]
  },
  {
   "cell_type": "code",
   "execution_count": 29,
   "id": "8c73e0cd",
   "metadata": {},
   "outputs": [],
   "source": [
    "df_new = pd.concat([df, emp_name_df], axis=1)"
   ]
  },
  {
   "cell_type": "code",
   "execution_count": 30,
   "id": "6d5388de",
   "metadata": {
    "scrolled": true
   },
   "outputs": [
    {
     "data": {
      "text/html": [
       "<div>\n",
       "<style scoped>\n",
       "    .dataframe tbody tr th:only-of-type {\n",
       "        vertical-align: middle;\n",
       "    }\n",
       "\n",
       "    .dataframe tbody tr th {\n",
       "        vertical-align: top;\n",
       "    }\n",
       "\n",
       "    .dataframe thead th {\n",
       "        text-align: right;\n",
       "    }\n",
       "</style>\n",
       "<table border=\"1\" class=\"dataframe\">\n",
       "  <thead>\n",
       "    <tr style=\"text-align: right;\">\n",
       "      <th></th>\n",
       "      <th>CASE_STATUS</th>\n",
       "      <th>EMPLOYER_NAME</th>\n",
       "      <th>SOC_NAME</th>\n",
       "      <th>FULL_TIME_POSITION</th>\n",
       "      <th>PREVAILING_WAGE</th>\n",
       "      <th>YEAR</th>\n",
       "      <th>WORKSITE</th>\n",
       "      <th>DATE</th>\n",
       "      <th>WAGE_CATERGORIZED</th>\n",
       "      <th>CASE_STATUS_ENCODED</th>\n",
       "      <th>...</th>\n",
       "      <th>EMPLOYER_NAME_zimmer inc</th>\n",
       "      <th>EMPLOYER_NAME_ziontech solutions inc</th>\n",
       "      <th>EMPLOYER_NAME_ziontech solutionsinc</th>\n",
       "      <th>EMPLOYER_NAME_zodiac solutions inc</th>\n",
       "      <th>EMPLOYER_NAME_zolon tech solutions inc</th>\n",
       "      <th>EMPLOYER_NAME_zs associates inc</th>\n",
       "      <th>EMPLOYER_NAME_zume it inc</th>\n",
       "      <th>EMPLOYER_NAME_zuven technologies inc</th>\n",
       "      <th>EMPLOYER_NAME_zylog systems limited</th>\n",
       "      <th>EMPLOYER_NAME_zynga inc</th>\n",
       "    </tr>\n",
       "  </thead>\n",
       "  <tbody>\n",
       "    <tr>\n",
       "      <th>0</th>\n",
       "      <td>CERTIFIED</td>\n",
       "      <td>xenosoft technologies inc</td>\n",
       "      <td>IT Profession</td>\n",
       "      <td>Y</td>\n",
       "      <td>58011.0</td>\n",
       "      <td>2014.0</td>\n",
       "      <td>iowa</td>\n",
       "      <td>2014-01-01</td>\n",
       "      <td>MEDIUM</td>\n",
       "      <td>0</td>\n",
       "      <td>...</td>\n",
       "      <td>0.0</td>\n",
       "      <td>0.0</td>\n",
       "      <td>0.0</td>\n",
       "      <td>0.0</td>\n",
       "      <td>0.0</td>\n",
       "      <td>0.0</td>\n",
       "      <td>0.0</td>\n",
       "      <td>0.0</td>\n",
       "      <td>0.0</td>\n",
       "      <td>0.0</td>\n",
       "    </tr>\n",
       "    <tr>\n",
       "      <th>1</th>\n",
       "      <td>CERTIFIED</td>\n",
       "      <td>infosys limited</td>\n",
       "      <td>IT Profession</td>\n",
       "      <td>Y</td>\n",
       "      <td>70948.8</td>\n",
       "      <td>2013.0</td>\n",
       "      <td>california</td>\n",
       "      <td>2013-01-01</td>\n",
       "      <td>HIGH</td>\n",
       "      <td>0</td>\n",
       "      <td>...</td>\n",
       "      <td>0.0</td>\n",
       "      <td>0.0</td>\n",
       "      <td>0.0</td>\n",
       "      <td>0.0</td>\n",
       "      <td>0.0</td>\n",
       "      <td>0.0</td>\n",
       "      <td>0.0</td>\n",
       "      <td>0.0</td>\n",
       "      <td>0.0</td>\n",
       "      <td>0.0</td>\n",
       "    </tr>\n",
       "    <tr>\n",
       "      <th>2</th>\n",
       "      <td>CERTIFIED</td>\n",
       "      <td>tata consultancy services limited</td>\n",
       "      <td>IT Profession</td>\n",
       "      <td>Y</td>\n",
       "      <td>41558.0</td>\n",
       "      <td>2014.0</td>\n",
       "      <td>ohio</td>\n",
       "      <td>2014-01-01</td>\n",
       "      <td>MEDIUM</td>\n",
       "      <td>0</td>\n",
       "      <td>...</td>\n",
       "      <td>0.0</td>\n",
       "      <td>0.0</td>\n",
       "      <td>0.0</td>\n",
       "      <td>0.0</td>\n",
       "      <td>0.0</td>\n",
       "      <td>0.0</td>\n",
       "      <td>0.0</td>\n",
       "      <td>0.0</td>\n",
       "      <td>0.0</td>\n",
       "      <td>0.0</td>\n",
       "    </tr>\n",
       "    <tr>\n",
       "      <th>3</th>\n",
       "      <td>CERTIFIED</td>\n",
       "      <td>acxiom corporation</td>\n",
       "      <td>IT Profession</td>\n",
       "      <td>Y</td>\n",
       "      <td>47570.0</td>\n",
       "      <td>2012.0</td>\n",
       "      <td>arkansas</td>\n",
       "      <td>2012-01-01</td>\n",
       "      <td>MEDIUM</td>\n",
       "      <td>0</td>\n",
       "      <td>...</td>\n",
       "      <td>0.0</td>\n",
       "      <td>0.0</td>\n",
       "      <td>0.0</td>\n",
       "      <td>0.0</td>\n",
       "      <td>0.0</td>\n",
       "      <td>0.0</td>\n",
       "      <td>0.0</td>\n",
       "      <td>0.0</td>\n",
       "      <td>0.0</td>\n",
       "      <td>0.0</td>\n",
       "    </tr>\n",
       "    <tr>\n",
       "      <th>4</th>\n",
       "      <td>CERTIFIED</td>\n",
       "      <td>automotive robotics inc</td>\n",
       "      <td>Architecture &amp; Engineering</td>\n",
       "      <td>Y</td>\n",
       "      <td>55598.0</td>\n",
       "      <td>2012.0</td>\n",
       "      <td>illinois</td>\n",
       "      <td>2012-01-01</td>\n",
       "      <td>MEDIUM</td>\n",
       "      <td>0</td>\n",
       "      <td>...</td>\n",
       "      <td>0.0</td>\n",
       "      <td>0.0</td>\n",
       "      <td>0.0</td>\n",
       "      <td>0.0</td>\n",
       "      <td>0.0</td>\n",
       "      <td>0.0</td>\n",
       "      <td>0.0</td>\n",
       "      <td>0.0</td>\n",
       "      <td>0.0</td>\n",
       "      <td>0.0</td>\n",
       "    </tr>\n",
       "  </tbody>\n",
       "</table>\n",
       "<p>5 rows × 3499 columns</p>\n",
       "</div>"
      ],
      "text/plain": [
       "  CASE_STATUS                      EMPLOYER_NAME                    SOC_NAME  \\\n",
       "0   CERTIFIED          xenosoft technologies inc               IT Profession   \n",
       "1   CERTIFIED                    infosys limited               IT Profession   \n",
       "2   CERTIFIED  tata consultancy services limited               IT Profession   \n",
       "3   CERTIFIED                 acxiom corporation               IT Profession   \n",
       "4   CERTIFIED            automotive robotics inc  Architecture & Engineering   \n",
       "\n",
       "  FULL_TIME_POSITION  PREVAILING_WAGE    YEAR    WORKSITE        DATE  \\\n",
       "0                  Y          58011.0  2014.0        iowa  2014-01-01   \n",
       "1                  Y          70948.8  2013.0  california  2013-01-01   \n",
       "2                  Y          41558.0  2014.0        ohio  2014-01-01   \n",
       "3                  Y          47570.0  2012.0    arkansas  2012-01-01   \n",
       "4                  Y          55598.0  2012.0    illinois  2012-01-01   \n",
       "\n",
       "  WAGE_CATERGORIZED  CASE_STATUS_ENCODED  ...  EMPLOYER_NAME_zimmer inc  \\\n",
       "0            MEDIUM                    0  ...                       0.0   \n",
       "1              HIGH                    0  ...                       0.0   \n",
       "2            MEDIUM                    0  ...                       0.0   \n",
       "3            MEDIUM                    0  ...                       0.0   \n",
       "4            MEDIUM                    0  ...                       0.0   \n",
       "\n",
       "   EMPLOYER_NAME_ziontech solutions inc  EMPLOYER_NAME_ziontech solutionsinc  \\\n",
       "0                                   0.0                                  0.0   \n",
       "1                                   0.0                                  0.0   \n",
       "2                                   0.0                                  0.0   \n",
       "3                                   0.0                                  0.0   \n",
       "4                                   0.0                                  0.0   \n",
       "\n",
       "   EMPLOYER_NAME_zodiac solutions inc  EMPLOYER_NAME_zolon tech solutions inc  \\\n",
       "0                                 0.0                                     0.0   \n",
       "1                                 0.0                                     0.0   \n",
       "2                                 0.0                                     0.0   \n",
       "3                                 0.0                                     0.0   \n",
       "4                                 0.0                                     0.0   \n",
       "\n",
       "   EMPLOYER_NAME_zs associates inc  EMPLOYER_NAME_zume it inc  \\\n",
       "0                              0.0                        0.0   \n",
       "1                              0.0                        0.0   \n",
       "2                              0.0                        0.0   \n",
       "3                              0.0                        0.0   \n",
       "4                              0.0                        0.0   \n",
       "\n",
       "   EMPLOYER_NAME_zuven technologies inc  EMPLOYER_NAME_zylog systems limited  \\\n",
       "0                                   0.0                                  0.0   \n",
       "1                                   0.0                                  0.0   \n",
       "2                                   0.0                                  0.0   \n",
       "3                                   0.0                                  0.0   \n",
       "4                                   0.0                                  0.0   \n",
       "\n",
       "   EMPLOYER_NAME_zynga inc  \n",
       "0                      0.0  \n",
       "1                      0.0  \n",
       "2                      0.0  \n",
       "3                      0.0  \n",
       "4                      0.0  \n",
       "\n",
       "[5 rows x 3499 columns]"
      ]
     },
     "execution_count": 30,
     "metadata": {},
     "output_type": "execute_result"
    }
   ],
   "source": [
    "df_new.head()"
   ]
  },
  {
   "cell_type": "code",
   "execution_count": 31,
   "id": "125c7f93",
   "metadata": {},
   "outputs": [
    {
     "data": {
      "text/plain": [
       "(79582, 3499)"
      ]
     },
     "execution_count": 31,
     "metadata": {},
     "output_type": "execute_result"
    }
   ],
   "source": [
    "df_new.shape"
   ]
  },
  {
   "cell_type": "code",
   "execution_count": 32,
   "id": "b7b49a74",
   "metadata": {},
   "outputs": [
    {
     "data": {
      "text/plain": [
       "CERTIFIED    55761\n",
       "DENIED       23821\n",
       "Name: CASE_STATUS, dtype: int64"
      ]
     },
     "execution_count": 32,
     "metadata": {},
     "output_type": "execute_result"
    }
   ],
   "source": [
    "df_new['CASE_STATUS'].value_counts()"
   ]
  },
  {
   "cell_type": "code",
   "execution_count": 33,
   "id": "a2eda7fc",
   "metadata": {},
   "outputs": [
    {
     "data": {
      "text/html": [
       "<div>\n",
       "<style scoped>\n",
       "    .dataframe tbody tr th:only-of-type {\n",
       "        vertical-align: middle;\n",
       "    }\n",
       "\n",
       "    .dataframe tbody tr th {\n",
       "        vertical-align: top;\n",
       "    }\n",
       "\n",
       "    .dataframe thead th {\n",
       "        text-align: right;\n",
       "    }\n",
       "</style>\n",
       "<table border=\"1\" class=\"dataframe\">\n",
       "  <thead>\n",
       "    <tr style=\"text-align: right;\">\n",
       "      <th></th>\n",
       "      <th>Feature</th>\n",
       "      <th>Chi_Square</th>\n",
       "      <th>P_val</th>\n",
       "    </tr>\n",
       "  </thead>\n",
       "  <tbody>\n",
       "    <tr>\n",
       "      <th>0</th>\n",
       "      <td>FULL_TIME_POSITION_ENCODED</td>\n",
       "      <td>51.220268</td>\n",
       "      <td>0.0</td>\n",
       "    </tr>\n",
       "    <tr>\n",
       "      <th>1</th>\n",
       "      <td>SOC_NAME_ENCODED</td>\n",
       "      <td>781.323531</td>\n",
       "      <td>0.0</td>\n",
       "    </tr>\n",
       "    <tr>\n",
       "      <th>2</th>\n",
       "      <td>WORKSITE_ENCODED</td>\n",
       "      <td>42.401147</td>\n",
       "      <td>0.0</td>\n",
       "    </tr>\n",
       "    <tr>\n",
       "      <th>3</th>\n",
       "      <td>WAGE_ENCODED</td>\n",
       "      <td>46.044732</td>\n",
       "      <td>0.0</td>\n",
       "    </tr>\n",
       "  </tbody>\n",
       "</table>\n",
       "</div>"
      ],
      "text/plain": [
       "                      Feature  Chi_Square  P_val\n",
       "0  FULL_TIME_POSITION_ENCODED   51.220268    0.0\n",
       "1            SOC_NAME_ENCODED  781.323531    0.0\n",
       "2            WORKSITE_ENCODED   42.401147    0.0\n",
       "3                WAGE_ENCODED   46.044732    0.0"
      ]
     },
     "execution_count": 33,
     "metadata": {},
     "output_type": "execute_result"
    },
    {
     "data": {
      "image/png": "[encoded data removed]",
      "text/plain": [
       "<Figure size 432x288 with 1 Axes>"
      ]
     },
     "metadata": {
      "needs_background": "light"
     },
     "output_type": "display_data"
    }
   ],
   "source": [
    "# using chi square test to check which categorical column is important with categorical output variable\n",
    "# df.info()\n",
    "from sklearn.feature_selection import mutual_info_classif\n",
    "xchi = df_new[['FULL_TIME_POSITION_ENCODED','SOC_NAME_ENCODED','WORKSITE_ENCODED', 'WAGE_ENCODED']]\n",
    "ychi = df_new['CASE_STATUS_ENCODED']\n",
    "array = mutual_info_classif(xchi,ychi)\n",
    "s1 = pd.Series(array)\n",
    "s1.index = xchi.columns\n",
    "s1.sort_values(ascending=True).plot(kind = 'barh')\n",
    "\n",
    "# chi2\n",
    "from sklearn.feature_selection import SelectKBest,chi2\n",
    "\n",
    "best_features = SelectKBest(score_func=chi2,k = 'all')\n",
    "best_features.fit(xchi,ychi)\n",
    "\n",
    "df_chi2 = pd.DataFrame({'Feature':xchi.columns,\"Chi_Square\":best_features.scores_})\n",
    "df_chi2.sort_values('Chi_Square',ascending=False)\n",
    "\n",
    "chi2_score, p_val = chi2(xchi,ychi)\n",
    "df_chi2 = pd.DataFrame({'Feature':xchi.columns,\"Chi_Square\":chi2_score,'P_val':np.around(p_val,5)})\n",
    "df_chi2.sort_values('P_val')"
   ]
  },
  {
   "cell_type": "code",
   "execution_count": 34,
   "id": "658e6ffc",
   "metadata": {},
   "outputs": [],
   "source": [
    "# Since, from the Chi Square Test it is visible that the P Value for all the categorical columns is less than 0.05, hence\n",
    "# all columns are important for model making"
   ]
  },
  {
   "cell_type": "code",
   "execution_count": 35,
   "id": "4c06a7bd",
   "metadata": {},
   "outputs": [
    {
     "data": {
      "text/html": [
       "<div>\n",
       "<style scoped>\n",
       "    .dataframe tbody tr th:only-of-type {\n",
       "        vertical-align: middle;\n",
       "    }\n",
       "\n",
       "    .dataframe tbody tr th {\n",
       "        vertical-align: top;\n",
       "    }\n",
       "\n",
       "    .dataframe thead th {\n",
       "        text-align: right;\n",
       "    }\n",
       "</style>\n",
       "<table border=\"1\" class=\"dataframe\">\n",
       "  <thead>\n",
       "    <tr style=\"text-align: right;\">\n",
       "      <th></th>\n",
       "      <th>CASE_STATUS</th>\n",
       "      <th>EMPLOYER_NAME</th>\n",
       "      <th>SOC_NAME</th>\n",
       "      <th>FULL_TIME_POSITION</th>\n",
       "      <th>PREVAILING_WAGE</th>\n",
       "      <th>YEAR</th>\n",
       "      <th>WORKSITE</th>\n",
       "      <th>DATE</th>\n",
       "      <th>WAGE_CATERGORIZED</th>\n",
       "      <th>CASE_STATUS_ENCODED</th>\n",
       "      <th>...</th>\n",
       "      <th>EMPLOYER_NAME_zimmer inc</th>\n",
       "      <th>EMPLOYER_NAME_ziontech solutions inc</th>\n",
       "      <th>EMPLOYER_NAME_ziontech solutionsinc</th>\n",
       "      <th>EMPLOYER_NAME_zodiac solutions inc</th>\n",
       "      <th>EMPLOYER_NAME_zolon tech solutions inc</th>\n",
       "      <th>EMPLOYER_NAME_zs associates inc</th>\n",
       "      <th>EMPLOYER_NAME_zume it inc</th>\n",
       "      <th>EMPLOYER_NAME_zuven technologies inc</th>\n",
       "      <th>EMPLOYER_NAME_zylog systems limited</th>\n",
       "      <th>EMPLOYER_NAME_zynga inc</th>\n",
       "    </tr>\n",
       "  </thead>\n",
       "  <tbody>\n",
       "    <tr>\n",
       "      <th>0</th>\n",
       "      <td>CERTIFIED</td>\n",
       "      <td>xenosoft technologies inc</td>\n",
       "      <td>IT Profession</td>\n",
       "      <td>Y</td>\n",
       "      <td>58011.0</td>\n",
       "      <td>2014.0</td>\n",
       "      <td>iowa</td>\n",
       "      <td>2014-01-01</td>\n",
       "      <td>MEDIUM</td>\n",
       "      <td>0</td>\n",
       "      <td>...</td>\n",
       "      <td>0.0</td>\n",
       "      <td>0.0</td>\n",
       "      <td>0.0</td>\n",
       "      <td>0.0</td>\n",
       "      <td>0.0</td>\n",
       "      <td>0.0</td>\n",
       "      <td>0.0</td>\n",
       "      <td>0.0</td>\n",
       "      <td>0.0</td>\n",
       "      <td>0.0</td>\n",
       "    </tr>\n",
       "    <tr>\n",
       "      <th>1</th>\n",
       "      <td>CERTIFIED</td>\n",
       "      <td>infosys limited</td>\n",
       "      <td>IT Profession</td>\n",
       "      <td>Y</td>\n",
       "      <td>70948.8</td>\n",
       "      <td>2013.0</td>\n",
       "      <td>california</td>\n",
       "      <td>2013-01-01</td>\n",
       "      <td>HIGH</td>\n",
       "      <td>0</td>\n",
       "      <td>...</td>\n",
       "      <td>0.0</td>\n",
       "      <td>0.0</td>\n",
       "      <td>0.0</td>\n",
       "      <td>0.0</td>\n",
       "      <td>0.0</td>\n",
       "      <td>0.0</td>\n",
       "      <td>0.0</td>\n",
       "      <td>0.0</td>\n",
       "      <td>0.0</td>\n",
       "      <td>0.0</td>\n",
       "    </tr>\n",
       "    <tr>\n",
       "      <th>2</th>\n",
       "      <td>CERTIFIED</td>\n",
       "      <td>tata consultancy services limited</td>\n",
       "      <td>IT Profession</td>\n",
       "      <td>Y</td>\n",
       "      <td>41558.0</td>\n",
       "      <td>2014.0</td>\n",
       "      <td>ohio</td>\n",
       "      <td>2014-01-01</td>\n",
       "      <td>MEDIUM</td>\n",
       "      <td>0</td>\n",
       "      <td>...</td>\n",
       "      <td>0.0</td>\n",
       "      <td>0.0</td>\n",
       "      <td>0.0</td>\n",
       "      <td>0.0</td>\n",
       "      <td>0.0</td>\n",
       "      <td>0.0</td>\n",
       "      <td>0.0</td>\n",
       "      <td>0.0</td>\n",
       "      <td>0.0</td>\n",
       "      <td>0.0</td>\n",
       "    </tr>\n",
       "    <tr>\n",
       "      <th>3</th>\n",
       "      <td>CERTIFIED</td>\n",
       "      <td>acxiom corporation</td>\n",
       "      <td>IT Profession</td>\n",
       "      <td>Y</td>\n",
       "      <td>47570.0</td>\n",
       "      <td>2012.0</td>\n",
       "      <td>arkansas</td>\n",
       "      <td>2012-01-01</td>\n",
       "      <td>MEDIUM</td>\n",
       "      <td>0</td>\n",
       "      <td>...</td>\n",
       "      <td>0.0</td>\n",
       "      <td>0.0</td>\n",
       "      <td>0.0</td>\n",
       "      <td>0.0</td>\n",
       "      <td>0.0</td>\n",
       "      <td>0.0</td>\n",
       "      <td>0.0</td>\n",
       "      <td>0.0</td>\n",
       "      <td>0.0</td>\n",
       "      <td>0.0</td>\n",
       "    </tr>\n",
       "    <tr>\n",
       "      <th>4</th>\n",
       "      <td>CERTIFIED</td>\n",
       "      <td>automotive robotics inc</td>\n",
       "      <td>Architecture &amp; Engineering</td>\n",
       "      <td>Y</td>\n",
       "      <td>55598.0</td>\n",
       "      <td>2012.0</td>\n",
       "      <td>illinois</td>\n",
       "      <td>2012-01-01</td>\n",
       "      <td>MEDIUM</td>\n",
       "      <td>0</td>\n",
       "      <td>...</td>\n",
       "      <td>0.0</td>\n",
       "      <td>0.0</td>\n",
       "      <td>0.0</td>\n",
       "      <td>0.0</td>\n",
       "      <td>0.0</td>\n",
       "      <td>0.0</td>\n",
       "      <td>0.0</td>\n",
       "      <td>0.0</td>\n",
       "      <td>0.0</td>\n",
       "      <td>0.0</td>\n",
       "    </tr>\n",
       "  </tbody>\n",
       "</table>\n",
       "<p>5 rows × 3499 columns</p>\n",
       "</div>"
      ],
      "text/plain": [
       "  CASE_STATUS                      EMPLOYER_NAME                    SOC_NAME  \\\n",
       "0   CERTIFIED          xenosoft technologies inc               IT Profession   \n",
       "1   CERTIFIED                    infosys limited               IT Profession   \n",
       "2   CERTIFIED  tata consultancy services limited               IT Profession   \n",
       "3   CERTIFIED                 acxiom corporation               IT Profession   \n",
       "4   CERTIFIED            automotive robotics inc  Architecture & Engineering   \n",
       "\n",
       "  FULL_TIME_POSITION  PREVAILING_WAGE    YEAR    WORKSITE        DATE  \\\n",
       "0                  Y          58011.0  2014.0        iowa  2014-01-01   \n",
       "1                  Y          70948.8  2013.0  california  2013-01-01   \n",
       "2                  Y          41558.0  2014.0        ohio  2014-01-01   \n",
       "3                  Y          47570.0  2012.0    arkansas  2012-01-01   \n",
       "4                  Y          55598.0  2012.0    illinois  2012-01-01   \n",
       "\n",
       "  WAGE_CATERGORIZED  CASE_STATUS_ENCODED  ...  EMPLOYER_NAME_zimmer inc  \\\n",
       "0            MEDIUM                    0  ...                       0.0   \n",
       "1              HIGH                    0  ...                       0.0   \n",
       "2            MEDIUM                    0  ...                       0.0   \n",
       "3            MEDIUM                    0  ...                       0.0   \n",
       "4            MEDIUM                    0  ...                       0.0   \n",
       "\n",
       "   EMPLOYER_NAME_ziontech solutions inc  EMPLOYER_NAME_ziontech solutionsinc  \\\n",
       "0                                   0.0                                  0.0   \n",
       "1                                   0.0                                  0.0   \n",
       "2                                   0.0                                  0.0   \n",
       "3                                   0.0                                  0.0   \n",
       "4                                   0.0                                  0.0   \n",
       "\n",
       "   EMPLOYER_NAME_zodiac solutions inc  EMPLOYER_NAME_zolon tech solutions inc  \\\n",
       "0                                 0.0                                     0.0   \n",
       "1                                 0.0                                     0.0   \n",
       "2                                 0.0                                     0.0   \n",
       "3                                 0.0                                     0.0   \n",
       "4                                 0.0                                     0.0   \n",
       "\n",
       "   EMPLOYER_NAME_zs associates inc  EMPLOYER_NAME_zume it inc  \\\n",
       "0                              0.0                        0.0   \n",
       "1                              0.0                        0.0   \n",
       "2                              0.0                        0.0   \n",
       "3                              0.0                        0.0   \n",
       "4                              0.0                        0.0   \n",
       "\n",
       "   EMPLOYER_NAME_zuven technologies inc  EMPLOYER_NAME_zylog systems limited  \\\n",
       "0                                   0.0                                  0.0   \n",
       "1                                   0.0                                  0.0   \n",
       "2                                   0.0                                  0.0   \n",
       "3                                   0.0                                  0.0   \n",
       "4                                   0.0                                  0.0   \n",
       "\n",
       "   EMPLOYER_NAME_zynga inc  \n",
       "0                      0.0  \n",
       "1                      0.0  \n",
       "2                      0.0  \n",
       "3                      0.0  \n",
       "4                      0.0  \n",
       "\n",
       "[5 rows x 3499 columns]"
      ]
     },
     "execution_count": 35,
     "metadata": {},
     "output_type": "execute_result"
    }
   ],
   "source": [
    "df_new.head()"
   ]
  },
  {
   "cell_type": "code",
   "execution_count": 36,
   "id": "6d50a73c",
   "metadata": {},
   "outputs": [
    {
     "data": {
      "text/plain": [
       "0    55761\n",
       "1    23821\n",
       "Name: CASE_STATUS_ENCODED, dtype: int64"
      ]
     },
     "execution_count": 36,
     "metadata": {},
     "output_type": "execute_result"
    }
   ],
   "source": [
    "df_new['CASE_STATUS_ENCODED'].value_counts()"
   ]
  },
  {
   "cell_type": "code",
   "execution_count": 37,
   "id": "6c09c6c9",
   "metadata": {},
   "outputs": [],
   "source": [
    "# using standard scaler for converting the values into standard normal range for faster convergence of model\n",
    "from sklearn.preprocessing import StandardScaler\n",
    "s_sc = StandardScaler()"
   ]
  },
  {
   "cell_type": "code",
   "execution_count": 38,
   "id": "14ca623d",
   "metadata": {},
   "outputs": [
    {
     "data": {
      "text/plain": [
       "2"
      ]
     },
     "execution_count": 38,
     "metadata": {},
     "output_type": "execute_result"
    }
   ],
   "source": [
    "df_new[['PREVAILING_WAGE']].ndim"
   ]
  },
  {
   "cell_type": "code",
   "execution_count": 39,
   "id": "bdabf939",
   "metadata": {},
   "outputs": [],
   "source": [
    "s_sc.fit(df_new[['PREVAILING_WAGE']])\n",
    "df_new['PREVAILING_WAGE_SCALED'] = s_sc.transform(df_new[['PREVAILING_WAGE']])"
   ]
  },
  {
   "cell_type": "code",
   "execution_count": 40,
   "id": "9f3870e4",
   "metadata": {},
   "outputs": [
    {
     "data": {
      "text/plain": [
       "Index(['CASE_STATUS', 'EMPLOYER_NAME', 'SOC_NAME', 'FULL_TIME_POSITION',\n",
       "       'PREVAILING_WAGE', 'YEAR', 'WORKSITE', 'DATE', 'WAGE_CATERGORIZED',\n",
       "       'CASE_STATUS_ENCODED',\n",
       "       ...\n",
       "       'EMPLOYER_NAME_ziontech solutions inc',\n",
       "       'EMPLOYER_NAME_ziontech solutionsinc',\n",
       "       'EMPLOYER_NAME_zodiac solutions inc',\n",
       "       'EMPLOYER_NAME_zolon tech solutions inc',\n",
       "       'EMPLOYER_NAME_zs associates inc', 'EMPLOYER_NAME_zume it inc',\n",
       "       'EMPLOYER_NAME_zuven technologies inc',\n",
       "       'EMPLOYER_NAME_zylog systems limited', 'EMPLOYER_NAME_zynga inc',\n",
       "       'PREVAILING_WAGE_SCALED'],\n",
       "      dtype='object', length=3500)"
      ]
     },
     "execution_count": 40,
     "metadata": {},
     "output_type": "execute_result"
    }
   ],
   "source": [
    "df_new.columns"
   ]
  },
  {
   "cell_type": "code",
   "execution_count": 41,
   "id": "b20d05db",
   "metadata": {},
   "outputs": [],
   "source": [
    "dropping_cols = ['PREVAILING_WAGE', \n",
    "                 'CASE_STATUS', \n",
    "                 'FULL_TIME_POSITION',\n",
    "                 'EMPLOYER_NAME', \n",
    "                 'SOC_NAME', \n",
    "                 'WORKSITE', \n",
    "                 'YEAR', \n",
    "                 'DATE', \n",
    "                 'WAGE_CATERGORIZED']"
   ]
  },
  {
   "cell_type": "code",
   "execution_count": 42,
   "id": "daece2b7",
   "metadata": {},
   "outputs": [
    {
     "data": {
      "text/plain": [
       "['PREVAILING_WAGE',\n",
       " 'CASE_STATUS',\n",
       " 'FULL_TIME_POSITION',\n",
       " 'EMPLOYER_NAME',\n",
       " 'SOC_NAME',\n",
       " 'WORKSITE',\n",
       " 'YEAR',\n",
       " 'DATE',\n",
       " 'WAGE_CATERGORIZED']"
      ]
     },
     "execution_count": 42,
     "metadata": {},
     "output_type": "execute_result"
    }
   ],
   "source": [
    "dropping_cols"
   ]
  },
  {
   "cell_type": "code",
   "execution_count": 43,
   "id": "6877c5e1",
   "metadata": {},
   "outputs": [
    {
     "data": {
      "text/html": [
       "<div>\n",
       "<style scoped>\n",
       "    .dataframe tbody tr th:only-of-type {\n",
       "        vertical-align: middle;\n",
       "    }\n",
       "\n",
       "    .dataframe tbody tr th {\n",
       "        vertical-align: top;\n",
       "    }\n",
       "\n",
       "    .dataframe thead th {\n",
       "        text-align: right;\n",
       "    }\n",
       "</style>\n",
       "<table border=\"1\" class=\"dataframe\">\n",
       "  <thead>\n",
       "    <tr style=\"text-align: right;\">\n",
       "      <th></th>\n",
       "      <th>CASE_STATUS</th>\n",
       "      <th>EMPLOYER_NAME</th>\n",
       "      <th>SOC_NAME</th>\n",
       "      <th>FULL_TIME_POSITION</th>\n",
       "      <th>PREVAILING_WAGE</th>\n",
       "      <th>YEAR</th>\n",
       "      <th>WORKSITE</th>\n",
       "      <th>DATE</th>\n",
       "      <th>WAGE_CATERGORIZED</th>\n",
       "      <th>CASE_STATUS_ENCODED</th>\n",
       "      <th>...</th>\n",
       "      <th>EMPLOYER_NAME_ziontech solutions inc</th>\n",
       "      <th>EMPLOYER_NAME_ziontech solutionsinc</th>\n",
       "      <th>EMPLOYER_NAME_zodiac solutions inc</th>\n",
       "      <th>EMPLOYER_NAME_zolon tech solutions inc</th>\n",
       "      <th>EMPLOYER_NAME_zs associates inc</th>\n",
       "      <th>EMPLOYER_NAME_zume it inc</th>\n",
       "      <th>EMPLOYER_NAME_zuven technologies inc</th>\n",
       "      <th>EMPLOYER_NAME_zylog systems limited</th>\n",
       "      <th>EMPLOYER_NAME_zynga inc</th>\n",
       "      <th>PREVAILING_WAGE_SCALED</th>\n",
       "    </tr>\n",
       "  </thead>\n",
       "  <tbody>\n",
       "    <tr>\n",
       "      <th>0</th>\n",
       "      <td>CERTIFIED</td>\n",
       "      <td>xenosoft technologies inc</td>\n",
       "      <td>IT Profession</td>\n",
       "      <td>Y</td>\n",
       "      <td>58011.0</td>\n",
       "      <td>2014.0</td>\n",
       "      <td>iowa</td>\n",
       "      <td>2014-01-01</td>\n",
       "      <td>MEDIUM</td>\n",
       "      <td>0</td>\n",
       "      <td>...</td>\n",
       "      <td>0.0</td>\n",
       "      <td>0.0</td>\n",
       "      <td>0.0</td>\n",
       "      <td>0.0</td>\n",
       "      <td>0.0</td>\n",
       "      <td>0.0</td>\n",
       "      <td>0.0</td>\n",
       "      <td>0.0</td>\n",
       "      <td>0.0</td>\n",
       "      <td>-0.372412</td>\n",
       "    </tr>\n",
       "    <tr>\n",
       "      <th>1</th>\n",
       "      <td>CERTIFIED</td>\n",
       "      <td>infosys limited</td>\n",
       "      <td>IT Profession</td>\n",
       "      <td>Y</td>\n",
       "      <td>70948.8</td>\n",
       "      <td>2013.0</td>\n",
       "      <td>california</td>\n",
       "      <td>2013-01-01</td>\n",
       "      <td>HIGH</td>\n",
       "      <td>0</td>\n",
       "      <td>...</td>\n",
       "      <td>0.0</td>\n",
       "      <td>0.0</td>\n",
       "      <td>0.0</td>\n",
       "      <td>0.0</td>\n",
       "      <td>0.0</td>\n",
       "      <td>0.0</td>\n",
       "      <td>0.0</td>\n",
       "      <td>0.0</td>\n",
       "      <td>0.0</td>\n",
       "      <td>0.513339</td>\n",
       "    </tr>\n",
       "    <tr>\n",
       "      <th>2</th>\n",
       "      <td>CERTIFIED</td>\n",
       "      <td>tata consultancy services limited</td>\n",
       "      <td>IT Profession</td>\n",
       "      <td>Y</td>\n",
       "      <td>41558.0</td>\n",
       "      <td>2014.0</td>\n",
       "      <td>ohio</td>\n",
       "      <td>2014-01-01</td>\n",
       "      <td>MEDIUM</td>\n",
       "      <td>0</td>\n",
       "      <td>...</td>\n",
       "      <td>0.0</td>\n",
       "      <td>0.0</td>\n",
       "      <td>0.0</td>\n",
       "      <td>0.0</td>\n",
       "      <td>0.0</td>\n",
       "      <td>0.0</td>\n",
       "      <td>0.0</td>\n",
       "      <td>0.0</td>\n",
       "      <td>0.0</td>\n",
       "      <td>-1.498822</td>\n",
       "    </tr>\n",
       "    <tr>\n",
       "      <th>3</th>\n",
       "      <td>CERTIFIED</td>\n",
       "      <td>acxiom corporation</td>\n",
       "      <td>IT Profession</td>\n",
       "      <td>Y</td>\n",
       "      <td>47570.0</td>\n",
       "      <td>2012.0</td>\n",
       "      <td>arkansas</td>\n",
       "      <td>2012-01-01</td>\n",
       "      <td>MEDIUM</td>\n",
       "      <td>0</td>\n",
       "      <td>...</td>\n",
       "      <td>0.0</td>\n",
       "      <td>0.0</td>\n",
       "      <td>0.0</td>\n",
       "      <td>0.0</td>\n",
       "      <td>0.0</td>\n",
       "      <td>0.0</td>\n",
       "      <td>0.0</td>\n",
       "      <td>0.0</td>\n",
       "      <td>0.0</td>\n",
       "      <td>-1.087227</td>\n",
       "    </tr>\n",
       "    <tr>\n",
       "      <th>4</th>\n",
       "      <td>CERTIFIED</td>\n",
       "      <td>automotive robotics inc</td>\n",
       "      <td>Architecture &amp; Engineering</td>\n",
       "      <td>Y</td>\n",
       "      <td>55598.0</td>\n",
       "      <td>2012.0</td>\n",
       "      <td>illinois</td>\n",
       "      <td>2012-01-01</td>\n",
       "      <td>MEDIUM</td>\n",
       "      <td>0</td>\n",
       "      <td>...</td>\n",
       "      <td>0.0</td>\n",
       "      <td>0.0</td>\n",
       "      <td>0.0</td>\n",
       "      <td>0.0</td>\n",
       "      <td>0.0</td>\n",
       "      <td>0.0</td>\n",
       "      <td>0.0</td>\n",
       "      <td>0.0</td>\n",
       "      <td>0.0</td>\n",
       "      <td>-0.537611</td>\n",
       "    </tr>\n",
       "  </tbody>\n",
       "</table>\n",
       "<p>5 rows × 3500 columns</p>\n",
       "</div>"
      ],
      "text/plain": [
       "  CASE_STATUS                      EMPLOYER_NAME                    SOC_NAME  \\\n",
       "0   CERTIFIED          xenosoft technologies inc               IT Profession   \n",
       "1   CERTIFIED                    infosys limited               IT Profession   \n",
       "2   CERTIFIED  tata consultancy services limited               IT Profession   \n",
       "3   CERTIFIED                 acxiom corporation               IT Profession   \n",
       "4   CERTIFIED            automotive robotics inc  Architecture & Engineering   \n",
       "\n",
       "  FULL_TIME_POSITION  PREVAILING_WAGE    YEAR    WORKSITE        DATE  \\\n",
       "0                  Y          58011.0  2014.0        iowa  2014-01-01   \n",
       "1                  Y          70948.8  2013.0  california  2013-01-01   \n",
       "2                  Y          41558.0  2014.0        ohio  2014-01-01   \n",
       "3                  Y          47570.0  2012.0    arkansas  2012-01-01   \n",
       "4                  Y          55598.0  2012.0    illinois  2012-01-01   \n",
       "\n",
       "  WAGE_CATERGORIZED  CASE_STATUS_ENCODED  ...  \\\n",
       "0            MEDIUM                    0  ...   \n",
       "1              HIGH                    0  ...   \n",
       "2            MEDIUM                    0  ...   \n",
       "3            MEDIUM                    0  ...   \n",
       "4            MEDIUM                    0  ...   \n",
       "\n",
       "   EMPLOYER_NAME_ziontech solutions inc  EMPLOYER_NAME_ziontech solutionsinc  \\\n",
       "0                                   0.0                                  0.0   \n",
       "1                                   0.0                                  0.0   \n",
       "2                                   0.0                                  0.0   \n",
       "3                                   0.0                                  0.0   \n",
       "4                                   0.0                                  0.0   \n",
       "\n",
       "   EMPLOYER_NAME_zodiac solutions inc  EMPLOYER_NAME_zolon tech solutions inc  \\\n",
       "0                                 0.0                                     0.0   \n",
       "1                                 0.0                                     0.0   \n",
       "2                                 0.0                                     0.0   \n",
       "3                                 0.0                                     0.0   \n",
       "4                                 0.0                                     0.0   \n",
       "\n",
       "   EMPLOYER_NAME_zs associates inc  EMPLOYER_NAME_zume it inc  \\\n",
       "0                              0.0                        0.0   \n",
       "1                              0.0                        0.0   \n",
       "2                              0.0                        0.0   \n",
       "3                              0.0                        0.0   \n",
       "4                              0.0                        0.0   \n",
       "\n",
       "   EMPLOYER_NAME_zuven technologies inc  EMPLOYER_NAME_zylog systems limited  \\\n",
       "0                                   0.0                                  0.0   \n",
       "1                                   0.0                                  0.0   \n",
       "2                                   0.0                                  0.0   \n",
       "3                                   0.0                                  0.0   \n",
       "4                                   0.0                                  0.0   \n",
       "\n",
       "   EMPLOYER_NAME_zynga inc  PREVAILING_WAGE_SCALED  \n",
       "0                      0.0               -0.372412  \n",
       "1                      0.0                0.513339  \n",
       "2                      0.0               -1.498822  \n",
       "3                      0.0               -1.087227  \n",
       "4                      0.0               -0.537611  \n",
       "\n",
       "[5 rows x 3500 columns]"
      ]
     },
     "execution_count": 43,
     "metadata": {},
     "output_type": "execute_result"
    }
   ],
   "source": [
    "df_new.head()"
   ]
  },
  {
   "cell_type": "code",
   "execution_count": 44,
   "id": "3ef2a1d6",
   "metadata": {},
   "outputs": [],
   "source": [
    "df_final = df_new.drop(columns=['PREVAILING_WAGE', 'CASE_STATUS', 'FULL_TIME_POSITION',\n",
    "       'EMPLOYER_NAME', 'SOC_NAME', 'WORKSITE', 'YEAR', 'DATE', 'WAGE_CATERGORIZED'], axis=1)"
   ]
  },
  {
   "cell_type": "code",
   "execution_count": 45,
   "id": "0b15c8fe",
   "metadata": {
    "scrolled": true
   },
   "outputs": [
    {
     "data": {
      "text/plain": [
       "0    55761\n",
       "1    23821\n",
       "Name: CASE_STATUS_ENCODED, dtype: int64"
      ]
     },
     "execution_count": 45,
     "metadata": {},
     "output_type": "execute_result"
    }
   ],
   "source": [
    "df_final['CASE_STATUS_ENCODED'].value_counts()"
   ]
  },
  {
   "cell_type": "code",
   "execution_count": 46,
   "id": "abce6e42",
   "metadata": {
    "scrolled": true
   },
   "outputs": [
    {
     "data": {
      "text/plain": [
       "'\\n# we will do upsampling in our dataset as our dataset is imbalanced\\nfrom imblearn import over_sampling,under_sampling\\nfrom imblearn.over_sampling import SMOTE\\nfrom collections import Counter\\n\\nX = df_final.drop(columns=[\\'CASE_STATUS_ENCODED\\'], axis=1)\\n\\ny = df_final[\\'CASE_STATUS_ENCODED\\']\\n\\n# Print the original class distribution\\nprint(\"Original class distribution:\", Counter(y))\\n\\n# Instantiate the SMOTE algorithm\\nsmote = SMOTE(sampling_strategy=\\'auto\\', random_state=42)\\n\\n# Apply SMOTE to generate synthetic samples\\nX_resampled, y_resampled = smote.fit_resample(X, y)\\n\\n# Print the resampled class distribution\\nprint(\"Resampled class distribution:\", Counter(y_resampled))\\n'"
      ]
     },
     "execution_count": 46,
     "metadata": {},
     "output_type": "execute_result"
    }
   ],
   "source": [
    "'''\n",
    "# we will do upsampling in our dataset as our dataset is imbalanced\n",
    "from imblearn import over_sampling,under_sampling\n",
    "from imblearn.over_sampling import SMOTE\n",
    "from collections import Counter\n",
    "\n",
    "X = df_final.drop(columns=['CASE_STATUS_ENCODED'], axis=1)\n",
    "\n",
    "y = df_final['CASE_STATUS_ENCODED']\n",
    "\n",
    "# Print the original class distribution\n",
    "print(\"Original class distribution:\", Counter(y))\n",
    "\n",
    "# Instantiate the SMOTE algorithm\n",
    "smote = SMOTE(sampling_strategy='auto', random_state=42)\n",
    "\n",
    "# Apply SMOTE to generate synthetic samples\n",
    "X_resampled, y_resampled = smote.fit_resample(X, y)\n",
    "\n",
    "# Print the resampled class distribution\n",
    "print(\"Resampled class distribution:\", Counter(y_resampled))\n",
    "'''"
   ]
  },
  {
   "cell_type": "code",
   "execution_count": 47,
   "id": "6becc50a",
   "metadata": {},
   "outputs": [],
   "source": [
    "# we will use this resampled data from model making\n",
    "# also we will see results with worksite dropped and present in the accuracy and then decide wether to use it or not"
   ]
  },
  {
   "cell_type": "code",
   "execution_count": 48,
   "id": "8e9d905f",
   "metadata": {},
   "outputs": [],
   "source": [
    "# X_resampled"
   ]
  },
  {
   "cell_type": "code",
   "execution_count": 49,
   "id": "8965de2b",
   "metadata": {},
   "outputs": [],
   "source": [
    "# y_resampled"
   ]
  },
  {
   "cell_type": "code",
   "execution_count": 50,
   "id": "bff145f0",
   "metadata": {},
   "outputs": [],
   "source": [
    "X = df_final.drop(columns=['CASE_STATUS_ENCODED'], axis=1)"
   ]
  },
  {
   "cell_type": "code",
   "execution_count": 51,
   "id": "32f105fa",
   "metadata": {},
   "outputs": [],
   "source": [
    "y = df_final['CASE_STATUS_ENCODED']"
   ]
  },
  {
   "cell_type": "code",
   "execution_count": 52,
   "id": "ee8b686f",
   "metadata": {},
   "outputs": [
    {
     "ename": "MemoryError",
     "evalue": "Unable to allocate 1.45 GiB for an array with shape (3486, 55707) and data type float64",
     "output_type": "error",
     "traceback": [
      "\u001b[1;31m---------------------------------------------------------------------------\u001b[0m",
      "\u001b[1;31mMemoryError\u001b[0m                               Traceback (most recent call last)",
      "\u001b[1;32mC:\\Users\\UNDERA~1\\AppData\\Local\\Temp/ipykernel_1484/3632940156.py\u001b[0m in \u001b[0;36m<module>\u001b[1;34m\u001b[0m\n\u001b[0;32m      1\u001b[0m \u001b[1;32mfrom\u001b[0m \u001b[0msklearn\u001b[0m\u001b[1;33m.\u001b[0m\u001b[0mmodel_selection\u001b[0m \u001b[1;32mimport\u001b[0m \u001b[0mtrain_test_split\u001b[0m\u001b[1;33m\u001b[0m\u001b[1;33m\u001b[0m\u001b[0m\n\u001b[1;32m----> 2\u001b[1;33m \u001b[0mX_train\u001b[0m\u001b[1;33m,\u001b[0m \u001b[0mX_test\u001b[0m\u001b[1;33m,\u001b[0m \u001b[0my_train\u001b[0m\u001b[1;33m,\u001b[0m \u001b[0my_test\u001b[0m \u001b[1;33m=\u001b[0m \u001b[0mtrain_test_split\u001b[0m\u001b[1;33m(\u001b[0m\u001b[0mX\u001b[0m\u001b[1;33m,\u001b[0m \u001b[0my\u001b[0m\u001b[1;33m,\u001b[0m \u001b[0mtest_size\u001b[0m \u001b[1;33m=\u001b[0m \u001b[1;36m0.3\u001b[0m\u001b[1;33m,\u001b[0m \u001b[0mrandom_state\u001b[0m \u001b[1;33m=\u001b[0m \u001b[1;36m123456789\u001b[0m\u001b[1;33m)\u001b[0m\u001b[1;33m\u001b[0m\u001b[1;33m\u001b[0m\u001b[0m\n\u001b[0m",
      "\u001b[1;32m~\\anaconda3\\lib\\site-packages\\sklearn\\utils\\_param_validation.py\u001b[0m in \u001b[0;36mwrapper\u001b[1;34m(*args, **kwargs)\u001b[0m\n\u001b[0;32m    209\u001b[0m                     )\n\u001b[0;32m    210\u001b[0m                 ):\n\u001b[1;32m--> 211\u001b[1;33m                     \u001b[1;32mreturn\u001b[0m \u001b[0mfunc\u001b[0m\u001b[1;33m(\u001b[0m\u001b[1;33m*\u001b[0m\u001b[0margs\u001b[0m\u001b[1;33m,\u001b[0m \u001b[1;33m**\u001b[0m\u001b[0mkwargs\u001b[0m\u001b[1;33m)\u001b[0m\u001b[1;33m\u001b[0m\u001b[1;33m\u001b[0m\u001b[0m\n\u001b[0m\u001b[0;32m    212\u001b[0m             \u001b[1;32mexcept\u001b[0m \u001b[0mInvalidParameterError\u001b[0m \u001b[1;32mas\u001b[0m \u001b[0me\u001b[0m\u001b[1;33m:\u001b[0m\u001b[1;33m\u001b[0m\u001b[1;33m\u001b[0m\u001b[0m\n\u001b[0;32m    213\u001b[0m                 \u001b[1;31m# When the function is just a wrapper around an estimator, we allow\u001b[0m\u001b[1;33m\u001b[0m\u001b[1;33m\u001b[0m\u001b[0m\n",
      "\u001b[1;32m~\\anaconda3\\lib\\site-packages\\sklearn\\model_selection\\_split.py\u001b[0m in \u001b[0;36mtrain_test_split\u001b[1;34m(test_size, train_size, random_state, shuffle, stratify, *arrays)\u001b[0m\n\u001b[0;32m   2638\u001b[0m         \u001b[0mtrain\u001b[0m\u001b[1;33m,\u001b[0m \u001b[0mtest\u001b[0m \u001b[1;33m=\u001b[0m \u001b[0mnext\u001b[0m\u001b[1;33m(\u001b[0m\u001b[0mcv\u001b[0m\u001b[1;33m.\u001b[0m\u001b[0msplit\u001b[0m\u001b[1;33m(\u001b[0m\u001b[0mX\u001b[0m\u001b[1;33m=\u001b[0m\u001b[0marrays\u001b[0m\u001b[1;33m[\u001b[0m\u001b[1;36m0\u001b[0m\u001b[1;33m]\u001b[0m\u001b[1;33m,\u001b[0m \u001b[0my\u001b[0m\u001b[1;33m=\u001b[0m\u001b[0mstratify\u001b[0m\u001b[1;33m)\u001b[0m\u001b[1;33m)\u001b[0m\u001b[1;33m\u001b[0m\u001b[1;33m\u001b[0m\u001b[0m\n\u001b[0;32m   2639\u001b[0m \u001b[1;33m\u001b[0m\u001b[0m\n\u001b[1;32m-> 2640\u001b[1;33m     return list(\n\u001b[0m\u001b[0;32m   2641\u001b[0m         chain.from_iterable(\n\u001b[0;32m   2642\u001b[0m             \u001b[1;33m(\u001b[0m\u001b[0m_safe_indexing\u001b[0m\u001b[1;33m(\u001b[0m\u001b[0ma\u001b[0m\u001b[1;33m,\u001b[0m \u001b[0mtrain\u001b[0m\u001b[1;33m)\u001b[0m\u001b[1;33m,\u001b[0m \u001b[0m_safe_indexing\u001b[0m\u001b[1;33m(\u001b[0m\u001b[0ma\u001b[0m\u001b[1;33m,\u001b[0m \u001b[0mtest\u001b[0m\u001b[1;33m)\u001b[0m\u001b[1;33m)\u001b[0m \u001b[1;32mfor\u001b[0m \u001b[0ma\u001b[0m \u001b[1;32min\u001b[0m \u001b[0marrays\u001b[0m\u001b[1;33m\u001b[0m\u001b[1;33m\u001b[0m\u001b[0m\n",
      "\u001b[1;32m~\\anaconda3\\lib\\site-packages\\sklearn\\model_selection\\_split.py\u001b[0m in \u001b[0;36m<genexpr>\u001b[1;34m(.0)\u001b[0m\n\u001b[0;32m   2640\u001b[0m     return list(\n\u001b[0;32m   2641\u001b[0m         chain.from_iterable(\n\u001b[1;32m-> 2642\u001b[1;33m             \u001b[1;33m(\u001b[0m\u001b[0m_safe_indexing\u001b[0m\u001b[1;33m(\u001b[0m\u001b[0ma\u001b[0m\u001b[1;33m,\u001b[0m \u001b[0mtrain\u001b[0m\u001b[1;33m)\u001b[0m\u001b[1;33m,\u001b[0m \u001b[0m_safe_indexing\u001b[0m\u001b[1;33m(\u001b[0m\u001b[0ma\u001b[0m\u001b[1;33m,\u001b[0m \u001b[0mtest\u001b[0m\u001b[1;33m)\u001b[0m\u001b[1;33m)\u001b[0m \u001b[1;32mfor\u001b[0m \u001b[0ma\u001b[0m \u001b[1;32min\u001b[0m \u001b[0marrays\u001b[0m\u001b[1;33m\u001b[0m\u001b[1;33m\u001b[0m\u001b[0m\n\u001b[0m\u001b[0;32m   2643\u001b[0m         )\n\u001b[0;32m   2644\u001b[0m     )\n",
      "\u001b[1;32m~\\anaconda3\\lib\\site-packages\\sklearn\\utils\\__init__.py\u001b[0m in \u001b[0;36m_safe_indexing\u001b[1;34m(X, indices, axis)\u001b[0m\n\u001b[0;32m    351\u001b[0m \u001b[1;33m\u001b[0m\u001b[0m\n\u001b[0;32m    352\u001b[0m     \u001b[1;32mif\u001b[0m \u001b[0mhasattr\u001b[0m\u001b[1;33m(\u001b[0m\u001b[0mX\u001b[0m\u001b[1;33m,\u001b[0m \u001b[1;34m\"iloc\"\u001b[0m\u001b[1;33m)\u001b[0m\u001b[1;33m:\u001b[0m\u001b[1;33m\u001b[0m\u001b[1;33m\u001b[0m\u001b[0m\n\u001b[1;32m--> 353\u001b[1;33m         \u001b[1;32mreturn\u001b[0m \u001b[0m_pandas_indexing\u001b[0m\u001b[1;33m(\u001b[0m\u001b[0mX\u001b[0m\u001b[1;33m,\u001b[0m \u001b[0mindices\u001b[0m\u001b[1;33m,\u001b[0m \u001b[0mindices_dtype\u001b[0m\u001b[1;33m,\u001b[0m \u001b[0maxis\u001b[0m\u001b[1;33m=\u001b[0m\u001b[0maxis\u001b[0m\u001b[1;33m)\u001b[0m\u001b[1;33m\u001b[0m\u001b[1;33m\u001b[0m\u001b[0m\n\u001b[0m\u001b[0;32m    354\u001b[0m     \u001b[1;32melif\u001b[0m \u001b[0mhasattr\u001b[0m\u001b[1;33m(\u001b[0m\u001b[0mX\u001b[0m\u001b[1;33m,\u001b[0m \u001b[1;34m\"shape\"\u001b[0m\u001b[1;33m)\u001b[0m\u001b[1;33m:\u001b[0m\u001b[1;33m\u001b[0m\u001b[1;33m\u001b[0m\u001b[0m\n\u001b[0;32m    355\u001b[0m         \u001b[1;32mreturn\u001b[0m \u001b[0m_array_indexing\u001b[0m\u001b[1;33m(\u001b[0m\u001b[0mX\u001b[0m\u001b[1;33m,\u001b[0m \u001b[0mindices\u001b[0m\u001b[1;33m,\u001b[0m \u001b[0mindices_dtype\u001b[0m\u001b[1;33m,\u001b[0m \u001b[0maxis\u001b[0m\u001b[1;33m=\u001b[0m\u001b[0maxis\u001b[0m\u001b[1;33m)\u001b[0m\u001b[1;33m\u001b[0m\u001b[1;33m\u001b[0m\u001b[0m\n",
      "\u001b[1;32m~\\anaconda3\\lib\\site-packages\\sklearn\\utils\\__init__.py\u001b[0m in \u001b[0;36m_pandas_indexing\u001b[1;34m(X, key, key_dtype, axis)\u001b[0m\n\u001b[0;32m    193\u001b[0m         \u001b[1;31m# using take() instead of iloc[] ensures the return value is a \"proper\"\u001b[0m\u001b[1;33m\u001b[0m\u001b[1;33m\u001b[0m\u001b[0m\n\u001b[0;32m    194\u001b[0m         \u001b[1;31m# copy that will not raise SettingWithCopyWarning\u001b[0m\u001b[1;33m\u001b[0m\u001b[1;33m\u001b[0m\u001b[0m\n\u001b[1;32m--> 195\u001b[1;33m         \u001b[1;32mreturn\u001b[0m \u001b[0mX\u001b[0m\u001b[1;33m.\u001b[0m\u001b[0mtake\u001b[0m\u001b[1;33m(\u001b[0m\u001b[0mkey\u001b[0m\u001b[1;33m,\u001b[0m \u001b[0maxis\u001b[0m\u001b[1;33m=\u001b[0m\u001b[0maxis\u001b[0m\u001b[1;33m)\u001b[0m\u001b[1;33m\u001b[0m\u001b[1;33m\u001b[0m\u001b[0m\n\u001b[0m\u001b[0;32m    196\u001b[0m     \u001b[1;32melse\u001b[0m\u001b[1;33m:\u001b[0m\u001b[1;33m\u001b[0m\u001b[1;33m\u001b[0m\u001b[0m\n\u001b[0;32m    197\u001b[0m         \u001b[1;31m# check whether we should index with loc or iloc\u001b[0m\u001b[1;33m\u001b[0m\u001b[1;33m\u001b[0m\u001b[0m\n",
      "\u001b[1;32m~\\anaconda3\\lib\\site-packages\\pandas\\core\\generic.py\u001b[0m in \u001b[0;36mtake\u001b[1;34m(self, indices, axis, is_copy, **kwargs)\u001b[0m\n\u001b[0;32m   3613\u001b[0m         \u001b[0mself\u001b[0m\u001b[1;33m.\u001b[0m\u001b[0m_consolidate_inplace\u001b[0m\u001b[1;33m(\u001b[0m\u001b[1;33m)\u001b[0m\u001b[1;33m\u001b[0m\u001b[1;33m\u001b[0m\u001b[0m\n\u001b[0;32m   3614\u001b[0m \u001b[1;33m\u001b[0m\u001b[0m\n\u001b[1;32m-> 3615\u001b[1;33m         new_data = self._mgr.take(\n\u001b[0m\u001b[0;32m   3616\u001b[0m             \u001b[0mindices\u001b[0m\u001b[1;33m,\u001b[0m \u001b[0maxis\u001b[0m\u001b[1;33m=\u001b[0m\u001b[0mself\u001b[0m\u001b[1;33m.\u001b[0m\u001b[0m_get_block_manager_axis\u001b[0m\u001b[1;33m(\u001b[0m\u001b[0maxis\u001b[0m\u001b[1;33m)\u001b[0m\u001b[1;33m,\u001b[0m \u001b[0mverify\u001b[0m\u001b[1;33m=\u001b[0m\u001b[1;32mTrue\u001b[0m\u001b[1;33m\u001b[0m\u001b[1;33m\u001b[0m\u001b[0m\n\u001b[0;32m   3617\u001b[0m         )\n",
      "\u001b[1;32m~\\anaconda3\\lib\\site-packages\\pandas\\core\\internals\\managers.py\u001b[0m in \u001b[0;36mtake\u001b[1;34m(self, indexer, axis, verify)\u001b[0m\n\u001b[0;32m    863\u001b[0m \u001b[1;33m\u001b[0m\u001b[0m\n\u001b[0;32m    864\u001b[0m         \u001b[0mnew_labels\u001b[0m \u001b[1;33m=\u001b[0m \u001b[0mself\u001b[0m\u001b[1;33m.\u001b[0m\u001b[0maxes\u001b[0m\u001b[1;33m[\u001b[0m\u001b[0maxis\u001b[0m\u001b[1;33m]\u001b[0m\u001b[1;33m.\u001b[0m\u001b[0mtake\u001b[0m\u001b[1;33m(\u001b[0m\u001b[0mindexer\u001b[0m\u001b[1;33m)\u001b[0m\u001b[1;33m\u001b[0m\u001b[1;33m\u001b[0m\u001b[0m\n\u001b[1;32m--> 865\u001b[1;33m         return self.reindex_indexer(\n\u001b[0m\u001b[0;32m    866\u001b[0m             \u001b[0mnew_axis\u001b[0m\u001b[1;33m=\u001b[0m\u001b[0mnew_labels\u001b[0m\u001b[1;33m,\u001b[0m\u001b[1;33m\u001b[0m\u001b[1;33m\u001b[0m\u001b[0m\n\u001b[0;32m    867\u001b[0m             \u001b[0mindexer\u001b[0m\u001b[1;33m=\u001b[0m\u001b[0mindexer\u001b[0m\u001b[1;33m,\u001b[0m\u001b[1;33m\u001b[0m\u001b[1;33m\u001b[0m\u001b[0m\n",
      "\u001b[1;32m~\\anaconda3\\lib\\site-packages\\pandas\\core\\internals\\managers.py\u001b[0m in \u001b[0;36mreindex_indexer\u001b[1;34m(self, new_axis, indexer, axis, fill_value, allow_dups, copy, consolidate, only_slice)\u001b[0m\n\u001b[0;32m    678\u001b[0m             )\n\u001b[0;32m    679\u001b[0m         \u001b[1;32melse\u001b[0m\u001b[1;33m:\u001b[0m\u001b[1;33m\u001b[0m\u001b[1;33m\u001b[0m\u001b[0m\n\u001b[1;32m--> 680\u001b[1;33m             new_blocks = [\n\u001b[0m\u001b[0;32m    681\u001b[0m                 blk.take_nd(\n\u001b[0;32m    682\u001b[0m                     \u001b[0mindexer\u001b[0m\u001b[1;33m,\u001b[0m\u001b[1;33m\u001b[0m\u001b[1;33m\u001b[0m\u001b[0m\n",
      "\u001b[1;32m~\\anaconda3\\lib\\site-packages\\pandas\\core\\internals\\managers.py\u001b[0m in \u001b[0;36m<listcomp>\u001b[1;34m(.0)\u001b[0m\n\u001b[0;32m    679\u001b[0m         \u001b[1;32melse\u001b[0m\u001b[1;33m:\u001b[0m\u001b[1;33m\u001b[0m\u001b[1;33m\u001b[0m\u001b[0m\n\u001b[0;32m    680\u001b[0m             new_blocks = [\n\u001b[1;32m--> 681\u001b[1;33m                 blk.take_nd(\n\u001b[0m\u001b[0;32m    682\u001b[0m                     \u001b[0mindexer\u001b[0m\u001b[1;33m,\u001b[0m\u001b[1;33m\u001b[0m\u001b[1;33m\u001b[0m\u001b[0m\n\u001b[0;32m    683\u001b[0m                     \u001b[0maxis\u001b[0m\u001b[1;33m=\u001b[0m\u001b[1;36m1\u001b[0m\u001b[1;33m,\u001b[0m\u001b[1;33m\u001b[0m\u001b[1;33m\u001b[0m\u001b[0m\n",
      "\u001b[1;32m~\\anaconda3\\lib\\site-packages\\pandas\\core\\internals\\blocks.py\u001b[0m in \u001b[0;36mtake_nd\u001b[1;34m(self, indexer, axis, new_mgr_locs, fill_value)\u001b[0m\n\u001b[0;32m   1142\u001b[0m             \u001b[0mallow_fill\u001b[0m \u001b[1;33m=\u001b[0m \u001b[1;32mTrue\u001b[0m\u001b[1;33m\u001b[0m\u001b[1;33m\u001b[0m\u001b[0m\n\u001b[0;32m   1143\u001b[0m \u001b[1;33m\u001b[0m\u001b[0m\n\u001b[1;32m-> 1144\u001b[1;33m         new_values = algos.take_nd(\n\u001b[0m\u001b[0;32m   1145\u001b[0m             \u001b[0mvalues\u001b[0m\u001b[1;33m,\u001b[0m \u001b[0mindexer\u001b[0m\u001b[1;33m,\u001b[0m \u001b[0maxis\u001b[0m\u001b[1;33m=\u001b[0m\u001b[0maxis\u001b[0m\u001b[1;33m,\u001b[0m \u001b[0mallow_fill\u001b[0m\u001b[1;33m=\u001b[0m\u001b[0mallow_fill\u001b[0m\u001b[1;33m,\u001b[0m \u001b[0mfill_value\u001b[0m\u001b[1;33m=\u001b[0m\u001b[0mfill_value\u001b[0m\u001b[1;33m\u001b[0m\u001b[1;33m\u001b[0m\u001b[0m\n\u001b[0;32m   1146\u001b[0m         )\n",
      "\u001b[1;32m~\\anaconda3\\lib\\site-packages\\pandas\\core\\array_algos\\take.py\u001b[0m in \u001b[0;36mtake_nd\u001b[1;34m(arr, indexer, axis, fill_value, allow_fill)\u001b[0m\n\u001b[0;32m    106\u001b[0m \u001b[1;33m\u001b[0m\u001b[0m\n\u001b[0;32m    107\u001b[0m     \u001b[0marr\u001b[0m \u001b[1;33m=\u001b[0m \u001b[0mnp\u001b[0m\u001b[1;33m.\u001b[0m\u001b[0masarray\u001b[0m\u001b[1;33m(\u001b[0m\u001b[0marr\u001b[0m\u001b[1;33m)\u001b[0m\u001b[1;33m\u001b[0m\u001b[1;33m\u001b[0m\u001b[0m\n\u001b[1;32m--> 108\u001b[1;33m     \u001b[1;32mreturn\u001b[0m \u001b[0m_take_nd_ndarray\u001b[0m\u001b[1;33m(\u001b[0m\u001b[0marr\u001b[0m\u001b[1;33m,\u001b[0m \u001b[0mindexer\u001b[0m\u001b[1;33m,\u001b[0m \u001b[0maxis\u001b[0m\u001b[1;33m,\u001b[0m \u001b[0mfill_value\u001b[0m\u001b[1;33m,\u001b[0m \u001b[0mallow_fill\u001b[0m\u001b[1;33m)\u001b[0m\u001b[1;33m\u001b[0m\u001b[1;33m\u001b[0m\u001b[0m\n\u001b[0m\u001b[0;32m    109\u001b[0m \u001b[1;33m\u001b[0m\u001b[0m\n\u001b[0;32m    110\u001b[0m \u001b[1;33m\u001b[0m\u001b[0m\n",
      "\u001b[1;32m~\\anaconda3\\lib\\site-packages\\pandas\\core\\array_algos\\take.py\u001b[0m in \u001b[0;36m_take_nd_ndarray\u001b[1;34m(arr, indexer, axis, fill_value, allow_fill)\u001b[0m\n\u001b[0;32m    147\u001b[0m         \u001b[0mout\u001b[0m \u001b[1;33m=\u001b[0m \u001b[0mnp\u001b[0m\u001b[1;33m.\u001b[0m\u001b[0mempty\u001b[0m\u001b[1;33m(\u001b[0m\u001b[0mout_shape\u001b[0m\u001b[1;33m,\u001b[0m \u001b[0mdtype\u001b[0m\u001b[1;33m=\u001b[0m\u001b[0mdtype\u001b[0m\u001b[1;33m,\u001b[0m \u001b[0morder\u001b[0m\u001b[1;33m=\u001b[0m\u001b[1;34m\"F\"\u001b[0m\u001b[1;33m)\u001b[0m\u001b[1;33m\u001b[0m\u001b[1;33m\u001b[0m\u001b[0m\n\u001b[0;32m    148\u001b[0m     \u001b[1;32melse\u001b[0m\u001b[1;33m:\u001b[0m\u001b[1;33m\u001b[0m\u001b[1;33m\u001b[0m\u001b[0m\n\u001b[1;32m--> 149\u001b[1;33m         \u001b[0mout\u001b[0m \u001b[1;33m=\u001b[0m \u001b[0mnp\u001b[0m\u001b[1;33m.\u001b[0m\u001b[0mempty\u001b[0m\u001b[1;33m(\u001b[0m\u001b[0mout_shape\u001b[0m\u001b[1;33m,\u001b[0m \u001b[0mdtype\u001b[0m\u001b[1;33m=\u001b[0m\u001b[0mdtype\u001b[0m\u001b[1;33m)\u001b[0m\u001b[1;33m\u001b[0m\u001b[1;33m\u001b[0m\u001b[0m\n\u001b[0m\u001b[0;32m    150\u001b[0m \u001b[1;33m\u001b[0m\u001b[0m\n\u001b[0;32m    151\u001b[0m     func = _get_take_nd_function(\n",
      "\u001b[1;31mMemoryError\u001b[0m: Unable to allocate 1.45 GiB for an array with shape (3486, 55707) and data type float64"
     ]
    }
   ],
   "source": [
    "from sklearn.model_selection import train_test_split\n",
    "X_train, X_test, y_train, y_test = train_test_split(X, y, test_size = 0.3, random_state = 123456789)"
   ]
  },
  {
   "cell_type": "code",
   "execution_count": null,
   "id": "59261ac1",
   "metadata": {},
   "outputs": [],
   "source": [
    "X_train.shape, X_test.shape, y_train.shape, y_test.shape"
   ]
  },
  {
   "cell_type": "code",
   "execution_count": null,
   "id": "6dd77d47",
   "metadata": {},
   "outputs": [],
   "source": [
    "# For plotting roc graph & area under curve\n",
    "from sklearn.metrics import roc_curve\n",
    "from sklearn.metrics import auc\n",
    "def roc_curve_graph(X_test,y_test,model):\n",
    "    preds = model.predict_proba(X_test) [:,1]\n",
    "    #Compute Receiver operating characteristic (ROC) curve\n",
    "    fpr, tpr, threshold = roc_curve(y_test, preds)\n",
    "    #ROC Score\n",
    "    roc_auc = auc(fpr, tpr)\n",
    "    plt.title('Receiver Operating Characteristic (ROC)')\n",
    "    plt.plot(fpr, tpr, 'b', label = 'AUC = %0.2f' % roc_auc)\n",
    "    plt.legend(loc = 'lower right')\n",
    "    plt.plot([0, 1], [0, 1],'r--')\n",
    "    plt.xlim([0, 1])\n",
    "    plt.ylim([0, 1])\n",
    "    plt.ylabel('True Positive Rate')\n",
    "    plt.xlabel('False Positive Rate')\n",
    "    plt.show()"
   ]
  },
  {
   "cell_type": "code",
   "execution_count": null,
   "id": "7dcba431",
   "metadata": {},
   "outputs": [],
   "source": [
    "# Defining Evaluation metrics \n",
    "def evaluate_model(model):\n",
    "    from sklearn.metrics import accuracy_score, precision_score, recall_score, f1_score\n",
    "    from sklearn.metrics import classification_report, confusion_matrix, roc_auc_score\n",
    "\n",
    "    y_true = y_test\n",
    "    y_pred = model.predict(X_test)\n",
    "    \n",
    "    accuracy = accuracy_score(y_true, y_pred)\n",
    "    precision = precision_score(y_true, y_pred)\n",
    "    recall = recall_score(y_true, y_pred)\n",
    "    f1 = f1_score(y_true, y_pred)\n",
    "    auc = roc_auc_score(y_true, y_pred)\n",
    "    # print(\"Confusion Matrix :\\n\")\n",
    "    # print(confusion_matrix(y_test,y_pred))\n",
    "    print(f\"accuracy : {accuracy:0.2f}\")\n",
    "    print(f\"precision : {precision:0.2f}\")\n",
    "    print(f\"recall : {recall:0.2f}\")\n",
    "    print(f\"f1 score : {f1:0.2f}\")\n",
    "    print(f\"auc score : {auc:0.2f}\")"
   ]
  },
  {
   "cell_type": "code",
   "execution_count": null,
   "id": "bca595a5",
   "metadata": {},
   "outputs": [],
   "source": [
    "# Model 1, Logistic Regression Model"
   ]
  },
  {
   "cell_type": "code",
   "execution_count": null,
   "id": "b7f630ef",
   "metadata": {},
   "outputs": [],
   "source": [
    "model_logistic_regression = LogisticRegressionCV()"
   ]
  },
  {
   "cell_type": "code",
   "execution_count": null,
   "id": "4ea21b71",
   "metadata": {},
   "outputs": [],
   "source": [
    "model_logistic_regression.fit(X_train, y_train)"
   ]
  },
  {
   "cell_type": "code",
   "execution_count": null,
   "id": "0a53c637",
   "metadata": {},
   "outputs": [],
   "source": [
    "model_logistic_regression.get_params()"
   ]
  },
  {
   "cell_type": "code",
   "execution_count": null,
   "id": "b2fe3ca3",
   "metadata": {},
   "outputs": [],
   "source": [
    "model_logistic_regression.score(X_test, y_test)"
   ]
  },
  {
   "cell_type": "code",
   "execution_count": null,
   "id": "e6045347",
   "metadata": {
    "scrolled": true
   },
   "outputs": [],
   "source": [
    "evaluate_model(model_logistic_regression)"
   ]
  },
  {
   "cell_type": "code",
   "execution_count": null,
   "id": "95b924e6",
   "metadata": {},
   "outputs": [],
   "source": [
    "roc_curve_graph(X_test,y_test,model_logistic_regression)"
   ]
  },
  {
   "cell_type": "code",
   "execution_count": null,
   "id": "d9a6c705",
   "metadata": {},
   "outputs": [],
   "source": [
    "# lets make model without the input column worksite and check the accuracy\n",
    "X_without_worksite= X_resampled.drop(['WORKSITE_ENCODED'], axis = 1)"
   ]
  },
  {
   "cell_type": "code",
   "execution_count": null,
   "id": "a2959857",
   "metadata": {},
   "outputs": [],
   "source": [
    "X_without_worksite"
   ]
  },
  {
   "cell_type": "code",
   "execution_count": null,
   "id": "7665a606",
   "metadata": {
    "scrolled": true
   },
   "outputs": [],
   "source": [
    "X_train_we, X_test_we, y_train_we, y_test_we = train_test_split(X_without_worksite,y_resampled, test_size=0.3)"
   ]
  },
  {
   "cell_type": "code",
   "execution_count": null,
   "id": "7f8f32c5",
   "metadata": {},
   "outputs": [],
   "source": [
    "print(X_train_we.shape,X_test_we.shape,y_train_we.shape,y_test_we.shape)"
   ]
  },
  {
   "cell_type": "code",
   "execution_count": null,
   "id": "cffc0838",
   "metadata": {},
   "outputs": [],
   "source": [
    "model_logistic_regression_without_worksite = LogisticRegressionCV(cv=5)"
   ]
  },
  {
   "cell_type": "code",
   "execution_count": null,
   "id": "f7dbbe18",
   "metadata": {},
   "outputs": [],
   "source": [
    "model_logistic_regression_without_worksite.fit(X_train_we, y_train_we)"
   ]
  },
  {
   "cell_type": "code",
   "execution_count": null,
   "id": "9dc2a11a",
   "metadata": {},
   "outputs": [],
   "source": [
    "model_logistic_regression_without_worksite.score(X_test_we,y_test_we)"
   ]
  },
  {
   "cell_type": "code",
   "execution_count": null,
   "id": "5d63ff04",
   "metadata": {},
   "outputs": [],
   "source": [
    "# since there is little change in accuracy we will consider the worksite column in our model"
   ]
  },
  {
   "cell_type": "code",
   "execution_count": null,
   "id": "a5432425",
   "metadata": {},
   "outputs": [],
   "source": [
    "LogisticRegressionCV()"
   ]
  },
  {
   "cell_type": "code",
   "execution_count": null,
   "id": "a44bb4d3",
   "metadata": {},
   "outputs": [],
   "source": [
    "# hyper parameter tuning of logistic regression model\n",
    "logistic_regression_grid = {\n",
    "    'cv' : [3,4,5],\n",
    "    'penalty' : ['l1', 'l2', 'elasticnet']\n",
    "}"
   ]
  },
  {
   "cell_type": "code",
   "execution_count": null,
   "id": "be5c2904",
   "metadata": {},
   "outputs": [],
   "source": [
    "grid_search_logistic_regression = GridSearchCV(estimator=model_logistic_regression,\n",
    "                          param_grid = logistic_regression_grid,\n",
    "                          n_jobs=-1,\n",
    "                          verbose=4,\n",
    "                          scoring='f1')"
   ]
  },
  {
   "cell_type": "code",
   "execution_count": null,
   "id": "a1ffff12",
   "metadata": {
    "scrolled": false
   },
   "outputs": [],
   "source": [
    "grid_search_logistic_regression.fit(X_train,y_train)"
   ]
  },
  {
   "cell_type": "code",
   "execution_count": null,
   "id": "11403069",
   "metadata": {},
   "outputs": [],
   "source": [
    "grid_search_logistic_regression.best_params_"
   ]
  },
  {
   "cell_type": "code",
   "execution_count": null,
   "id": "27b929ae",
   "metadata": {},
   "outputs": [],
   "source": [
    "logistic_regression_best = grid_search_logistic_regression.best_estimator_"
   ]
  },
  {
   "cell_type": "code",
   "execution_count": null,
   "id": "91ab8ed5",
   "metadata": {
    "scrolled": true
   },
   "outputs": [],
   "source": [
    "evaluate_model(logistic_regression_best)"
   ]
  },
  {
   "cell_type": "code",
   "execution_count": null,
   "id": "56a6e63a",
   "metadata": {},
   "outputs": [],
   "source": [
    "roc_curve_graph(X_test, y_test, logistic_regression_best)"
   ]
  },
  {
   "cell_type": "code",
   "execution_count": null,
   "id": "3cd46c5a",
   "metadata": {},
   "outputs": [],
   "source": [
    "# Model 2, Decision Tree Classifier\n",
    "model_decission_tree = DecisionTreeClassifier()\n",
    "model_decission_tree.fit(X_train, y_train)"
   ]
  },
  {
   "cell_type": "code",
   "execution_count": null,
   "id": "094ac229",
   "metadata": {},
   "outputs": [],
   "source": [
    "evaluate_model(model_decission_tree)"
   ]
  },
  {
   "cell_type": "code",
   "execution_count": null,
   "id": "0b55c0fc",
   "metadata": {},
   "outputs": [],
   "source": [
    "roc_curve_graph(X_test,y_test,model_decission_tree)"
   ]
  },
  {
   "cell_type": "code",
   "execution_count": null,
   "id": "979972aa",
   "metadata": {},
   "outputs": [],
   "source": [
    "decission_tree_grid = {\n",
    "    'criterion' : ['gini','entropy'],\n",
    "    'splitter' : ['best','random'],\n",
    "    'max_depth' : [4,6,8,10],\n",
    "    'min_samples_split' : [2,4,6,8],\n",
    "    'min_samples_leaf' : [2,3,4,5]\n",
    "}"
   ]
  },
  {
   "cell_type": "code",
   "execution_count": null,
   "id": "23ffed2f",
   "metadata": {},
   "outputs": [],
   "source": [
    "grid_search_decission_tree = GridSearchCV(estimator=model_decission_tree,\n",
    "                          param_grid=decission_tree_grid,\n",
    "                          cv = 4,\n",
    "                          n_jobs=-1,\n",
    "                          verbose=4,\n",
    "                          scoring='f1')"
   ]
  },
  {
   "cell_type": "code",
   "execution_count": null,
   "id": "4bc85a98",
   "metadata": {
    "scrolled": false
   },
   "outputs": [],
   "source": [
    "grid_search_decission_tree.fit(X_train,y_train)"
   ]
  },
  {
   "cell_type": "code",
   "execution_count": null,
   "id": "c4c367ba",
   "metadata": {},
   "outputs": [],
   "source": [
    "grid_search_decission_tree.best_estimator_"
   ]
  },
  {
   "cell_type": "code",
   "execution_count": null,
   "id": "0739189d",
   "metadata": {},
   "outputs": [],
   "source": [
    "decission_tree_best = grid_search_decission_tree.best_estimator_"
   ]
  },
  {
   "cell_type": "code",
   "execution_count": null,
   "id": "30a750c9",
   "metadata": {},
   "outputs": [],
   "source": [
    "evaluate_model(decission_tree_best)"
   ]
  },
  {
   "cell_type": "code",
   "execution_count": null,
   "id": "2230a5c5",
   "metadata": {},
   "outputs": [],
   "source": [
    "roc_curve_graph(X_test, y_test, decission_tree_best)"
   ]
  },
  {
   "cell_type": "code",
   "execution_count": null,
   "id": "3987c625",
   "metadata": {},
   "outputs": [],
   "source": [
    "# Model 3, Random Forest Classifier\n",
    "model_random_forest = RandomForestClassifier()\n",
    "model_random_forest.fit(X_train, y_train)"
   ]
  },
  {
   "cell_type": "code",
   "execution_count": null,
   "id": "9512cf3c",
   "metadata": {},
   "outputs": [],
   "source": [
    "evaluate_model(model_random_forest)"
   ]
  },
  {
   "cell_type": "code",
   "execution_count": null,
   "id": "1caa4416",
   "metadata": {},
   "outputs": [],
   "source": [
    "roc_curve_graph(X_test, y_test, model_random_forest)"
   ]
  },
  {
   "cell_type": "code",
   "execution_count": null,
   "id": "b8a20225",
   "metadata": {},
   "outputs": [],
   "source": [
    "random_forest_grid = {\n",
    "    'criterion' : ['gini'],\n",
    "    'max_depth' : [4,6,8],\n",
    "    'min_samples_split' : [2,4,6,8],\n",
    "    'min_samples_leaf' : [2,3,4],\n",
    "    'n_estimators' : [50,75,100]\n",
    "}"
   ]
  },
  {
   "cell_type": "code",
   "execution_count": null,
   "id": "5dc0f299",
   "metadata": {},
   "outputs": [],
   "source": [
    "grid_search_random_forest = GridSearchCV(estimator=model_random_forest,\n",
    "                          param_grid=random_forest_grid,\n",
    "                          cv = 4,\n",
    "                          n_jobs=-1,\n",
    "                          verbose=3,\n",
    "                          scoring='f1')"
   ]
  },
  {
   "cell_type": "code",
   "execution_count": null,
   "id": "56241927",
   "metadata": {},
   "outputs": [],
   "source": [
    "grid_search_random_forest.fit(X_train,y_train)"
   ]
  },
  {
   "cell_type": "code",
   "execution_count": null,
   "id": "5682ba05",
   "metadata": {},
   "outputs": [],
   "source": [
    "random_forest_best = grid_search_random_forest.best_estimator_\n",
    "evaluate_model(random_forest_best)"
   ]
  },
  {
   "cell_type": "code",
   "execution_count": null,
   "id": "c764d28e",
   "metadata": {},
   "outputs": [],
   "source": [
    "roc_curve_graph(X_test, y_test, random_forest_best)"
   ]
  },
  {
   "cell_type": "code",
   "execution_count": null,
   "id": "07be5023",
   "metadata": {},
   "outputs": [],
   "source": [
    "# Model 4, Gradient Boosting Classifier\n",
    "model_gradboost = GradientBoostingClassifier()\n",
    "model_gradboost.fit(X_train, y_train)"
   ]
  },
  {
   "cell_type": "code",
   "execution_count": null,
   "id": "cd5333f5",
   "metadata": {},
   "outputs": [],
   "source": [
    "evaluate_model(model_gradboost)"
   ]
  },
  {
   "cell_type": "code",
   "execution_count": null,
   "id": "b4b1ac8e",
   "metadata": {},
   "outputs": [],
   "source": [
    "roc_curve_graph(X_test,y_test, model_gradboost)"
   ]
  },
  {
   "cell_type": "code",
   "execution_count": null,
   "id": "39947d86",
   "metadata": {},
   "outputs": [],
   "source": [
    "# Model 5, ada Boosting Classifier\n",
    "model_adaboost = AdaBoostClassifier()\n",
    "model_adaboost.fit(X_train, y_train)"
   ]
  },
  {
   "cell_type": "code",
   "execution_count": null,
   "id": "b0aae106",
   "metadata": {
    "scrolled": true
   },
   "outputs": [],
   "source": [
    "evaluate_model(model_adaboost)"
   ]
  },
  {
   "cell_type": "code",
   "execution_count": null,
   "id": "a8a654d4",
   "metadata": {
    "scrolled": true
   },
   "outputs": [],
   "source": [
    "roc_curve_graph(X_test,y_test, model_adaboost)"
   ]
  },
  {
   "cell_type": "code",
   "execution_count": null,
   "id": "183ea957",
   "metadata": {},
   "outputs": [],
   "source": [
    "# Model 6, XG Boost Classifier\n",
    "from xgboost import XGBClassifier\n",
    "model_xgboost = XGBClassifier()\n",
    "model_xgboost.fit(X_train, y_train)"
   ]
  },
  {
   "cell_type": "code",
   "execution_count": null,
   "id": "884b5c6f",
   "metadata": {},
   "outputs": [],
   "source": [
    "evaluate_model(model_xgboost)"
   ]
  },
  {
   "cell_type": "code",
   "execution_count": null,
   "id": "b3440e93",
   "metadata": {
    "scrolled": true
   },
   "outputs": [],
   "source": [
    "roc_curve_graph(X_test, y_test, model_xgboost)"
   ]
  },
  {
   "cell_type": "code",
   "execution_count": null,
   "id": "3e291a74",
   "metadata": {},
   "outputs": [],
   "source": [
    "models = [logistic_regression_best, decision_tree_best, random_forest_best, model_gradboost, model_adaboost, model_xgboost]"
   ]
  },
  {
   "cell_type": "code",
   "execution_count": null,
   "id": "5a9447a6",
   "metadata": {
    "scrolled": false
   },
   "outputs": [],
   "source": [
    "for model in models:\n",
    "    print(f'{model}')\n",
    "    evaluate_model(model)\n",
    "    print()"
   ]
  },
  {
   "cell_type": "code",
   "execution_count": null,
   "id": "20a15698",
   "metadata": {},
   "outputs": [],
   "source": [
    "print(X_train.shape)\n",
    "print(X_train.iloc[2].shape) # this will be the input shape to our ann model"
   ]
  },
  {
   "cell_type": "code",
   "execution_count": null,
   "id": "7e070088",
   "metadata": {},
   "outputs": [],
   "source": [
    "import math\n",
    "import tensorflow as tf\n",
    "from tensorflow.keras import Model\n",
    "from tensorflow.keras.utils import to_categorical #for converting our y data ie from alphabets a-z to catergorical form\n",
    "from tensorflow.keras.models import Sequential \n",
    "#for creating sequential model of different dense layers,all layers together make sequential model\n",
    "from tensorflow.keras.layers import Dense, Dropout, Conv2D, MaxPool2D, Flatten \n",
    "#for creating layers of training, dense means connected to each other, Conv2d,maxpool2d,flattern for cnn transfer ler model\n",
    "#for creating layers of training, dense means connected to each other, Conv2d,maxpool2d,flattern for cnn transfer lerning model\n",
    "from tensorflow.keras.losses import binary_crossentropy"
   ]
  },
  {
   "cell_type": "code",
   "execution_count": null,
   "id": "596eebb8",
   "metadata": {},
   "outputs": [],
   "source": [
    "from tensorflow.keras.applications.vgg16 import VGG16\n",
    "from tensorflow.keras.applications.resnet50 import ResNet50\n",
    "from tensorflow.keras.applications.inception_v3 import InceptionV3\n",
    "from tensorflow.keras.applications.densenet import DenseNet201"
   ]
  },
  {
   "cell_type": "code",
   "execution_count": null,
   "id": "d7dfc3fd",
   "metadata": {},
   "outputs": [],
   "source": [
    "#ann model\n",
    "model = Sequential()\n",
    "model.add(Dense(32, activation = 'relu', input_shape=(6,))) #trainable parameters = 6x32 + 32 bias\n",
    "model.add(Dense(32, activation = 'relu')) #trainable parameters = 32x32 + 32 bias\n",
    "model.add(Dense(1, activation = 'softmax')) #trainable parameters = 32x26 + 26 bias\n",
    "\n",
    "model.compile(loss='binary_crossentropy', metrics=['accuracy']) \n",
    "#the parameters whcih are common to whole model need to be given in compile line code\n",
    "#common parametrs are loss function, optimizer, metrics used for our model\n",
    "#each layer can have diff numbers of neuron and diff activation function & diff kernel initializers"
   ]
  },
  {
   "cell_type": "code",
   "execution_count": null,
   "id": "fb4e3a79",
   "metadata": {},
   "outputs": [],
   "source": [
    "model.summary()"
   ]
  },
  {
   "cell_type": "code",
   "execution_count": null,
   "id": "f7517c1c",
   "metadata": {},
   "outputs": [],
   "source": [
    "import time"
   ]
  },
  {
   "cell_type": "code",
   "execution_count": null,
   "id": "5357b813",
   "metadata": {},
   "outputs": [],
   "source": [
    "from tensorflow.keras.callbacks import EarlyStopping"
   ]
  },
  {
   "cell_type": "code",
   "execution_count": null,
   "id": "b0b09345",
   "metadata": {},
   "outputs": [],
   "source": [
    "es = EarlyStopping(monitor='loss', verbose=1,patience=3)\n",
    "#Stops training when a monitored metric has stopped improving, checking 3 recent loss and accuracy improvement"
   ]
  },
  {
   "cell_type": "code",
   "execution_count": null,
   "id": "3add3291",
   "metadata": {},
   "outputs": [],
   "source": [
    "init = time.time()\n",
    "ann_model = model.fit(X_train,y_train, epochs = 100, batch_size=32,verbose=0,callbacks=es) #mini batch gd, value should be in power of 2\n",
    "end = time.time()\n",
    "print('Training Time is:',int(end-init))\n",
    "#returns the epoch where training has stopped"
   ]
  },
  {
   "cell_type": "code",
   "execution_count": null,
   "id": "6013750f",
   "metadata": {},
   "outputs": [],
   "source": [
    "plt.plot(ann_model.history['loss'],marker='o') \n",
    "#this plots the loss function graph for mini batch gd\n",
    "#as we can observe that the loss after a certain pt is increasing so we need to stop training our model at that point\n",
    "#this can be achived by the callback parameter and earlystopping"
   ]
  },
  {
   "cell_type": "code",
   "execution_count": null,
   "id": "00c6b203",
   "metadata": {},
   "outputs": [],
   "source": [
    "ann_pred = model.predict(X_test)"
   ]
  },
  {
   "cell_type": "code",
   "execution_count": null,
   "id": "1bf81c01",
   "metadata": {},
   "outputs": [],
   "source": [
    "from sklearn.metrics import accuracy_score, precision_score, recall_score, f1_score\n",
    "print(accuracy_score(y_test, ann_pred))\n",
    "print(precision_score(y_test,ann_pred))\n",
    "print(recall_score(y_test, ann_pred))\n",
    "print(f1_score(y_test, ann_pred))"
   ]
  },
  {
   "cell_type": "code",
   "execution_count": null,
   "id": "92a32182",
   "metadata": {},
   "outputs": [],
   "source": [
    "# lets try transfer learning in our model with vgg16, resnet50, inceptionv3 & DenseNet201"
   ]
  },
  {
   "cell_type": "code",
   "execution_count": null,
   "id": "36229731",
   "metadata": {},
   "outputs": [],
   "source": [
    "# vgg_model = VGG16(include_top=False, input_shape=(6,))\n",
    "# resnet_model = ResNet50(include_top=False, input_shape=(6,))\n",
    "# InceptionV3_model = InceptionV3(include_top=False, input_shape=(6,))\n",
    "# DenseNet201_model = DenseNet201(include_top=False, input_shape=(6,))"
   ]
  },
  {
   "cell_type": "code",
   "execution_count": null,
   "id": "187e7bb0",
   "metadata": {},
   "outputs": [],
   "source": [
    "import kerastuner as kt"
   ]
  },
  {
   "cell_type": "code",
   "execution_count": null,
   "id": "18e2bae7",
   "metadata": {},
   "outputs": [],
   "source": [
    "def build_model(hp):\n",
    "  model = tf.keras.Sequential()\n",
    "  \n",
    "  # Tune the number of units in the first Dense layer\n",
    "  # Choose an optimal value between 32-512\n",
    "  hp_units1 = hp.Int('units1', min_value=32, max_value=512, step=32)\n",
    "  hp_units2 = hp.Int('units2', min_value=32, max_value=512, step=32)\n",
    "  hp_units3 = hp.Int('units3', min_value=32, max_value=512, step=32)\n",
    "  model.add(Dense(units=hp_units1, activation='relu'))\n",
    "  model.add(tf.keras.layers.Dense(units=hp_units2, activation='relu'))\n",
    "  model.add(tf.keras.layers.Dense(units=hp_units3, activation='relu'))\n",
    "  model.add(Dense(1, kernel_initializer='normal', activation='linear'))\n",
    "\n",
    "  # Tune the learning rate for the optimizer\n",
    "  # Choose an optimal value from 0.01, 0.001, or 0.0001\n",
    "  hp_learning_rate = hp.Choice('learning_rate', values=[1e-2, 1e-3, 1e-4])\n",
    "\n",
    "  model.compile(\n",
    "      optimizer=tf.keras.optimizers.Adam(learning_rate=hp_learning_rate),\n",
    "      loss=binary_crossentropy,\n",
    "      metrics=['accuracy']\n",
    "  )\n",
    "\n",
    "  return model"
   ]
  },
  {
   "cell_type": "code",
   "execution_count": null,
   "id": "02641007",
   "metadata": {},
   "outputs": [],
   "source": [
    "# HyperBand algorithm from keras tuner\n",
    "tuner = kt.Hyperband(build_model,\n",
    "                     objective='val_accuracy',\n",
    "                     max_epochs=10,\n",
    "                     factor=3,\n",
    "                     directory='my_dir',\n",
    "                     project_name='h1b')"
   ]
  },
  {
   "cell_type": "code",
   "execution_count": null,
   "id": "7ade9be6",
   "metadata": {},
   "outputs": [],
   "source": [
    "stop_early = tf.keras.callbacks.EarlyStopping(monitor='val_loss', patience=5)"
   ]
  },
  {
   "cell_type": "code",
   "execution_count": null,
   "id": "14055a2f",
   "metadata": {},
   "outputs": [],
   "source": [
    "tuner.search(X_train, y_train, epochs=10, validation_split=0.2, callbacks=[stop_early])"
   ]
  },
  {
   "cell_type": "code",
   "execution_count": null,
   "id": "e26b0029",
   "metadata": {},
   "outputs": [],
   "source": [
    "best_hps=tuner.get_best_hyperparameters(num_trials=1)[0]"
   ]
  },
  {
   "cell_type": "code",
   "execution_count": null,
   "id": "374600f2",
   "metadata": {},
   "outputs": [],
   "source": [
    "model = tuner.hypermodel.build(best_hps)"
   ]
  },
  {
   "cell_type": "code",
   "execution_count": null,
   "id": "7a630aa0",
   "metadata": {
    "scrolled": true
   },
   "outputs": [],
   "source": [
    "history = model.fit(X_train, y_train, epochs=50, validation_split=0.2)\n",
    "\n",
    "val_acc_per_epoch = history.history['val_accuracy']\n",
    "best_epoch = val_acc_per_epoch.index(max(val_acc_per_epoch)) + 1\n",
    "print('Best epoch: %d' % (best_epoch,))"
   ]
  },
  {
   "cell_type": "code",
   "execution_count": null,
   "id": "83b8340a",
   "metadata": {
    "scrolled": true
   },
   "outputs": [],
   "source": [
    "hypermodel = tuner.hypermodel.build(best_hps)\n",
    "\n",
    "# Retrain the model\n",
    "hypermodel.fit(X_train, y_train, epochs=best_epoch, validation_split=0.2)"
   ]
  },
  {
   "cell_type": "code",
   "execution_count": null,
   "id": "7805c083",
   "metadata": {},
   "outputs": [],
   "source": [
    "hypermodel_pred = hypermodel.predict(X_test)"
   ]
  },
  {
   "cell_type": "code",
   "execution_count": null,
   "id": "9217deeb",
   "metadata": {},
   "outputs": [],
   "source": [
    "eval_result = hypermodel.evaluate(X_test, y_test)\n",
    "print(\"[test loss, test accuracy]:\", eval_result)"
   ]
  },
  {
   "cell_type": "code",
   "execution_count": null,
   "id": "c648e8fe",
   "metadata": {},
   "outputs": [],
   "source": [
    "# hence comparing all the accuracies we come to know that the best model is decision tree we will use that as final model"
   ]
  },
  {
   "cell_type": "code",
   "execution_count": null,
   "id": "84273293",
   "metadata": {},
   "outputs": [],
   "source": [
    "import pickle\n",
    "pickle.dump(model_xgb, open('model_xgb.pkl', 'wb'))"
   ]
  },
  {
   "cell_type": "code",
   "execution_count": null,
   "id": "90a374c0",
   "metadata": {},
   "outputs": [],
   "source": [
    "pickle.dump(le_emp_name, open('le_emp_name.pkl', 'wb'))\n",
    "pickle.dump(le_soc_name, open('le_soc_name.pkl', 'wb'))\n",
    "pickle.dump(le_worksite, open('le_worksite.pkl', 'wb'))\n",
    "pickle.dump(s_sc, open('s_sc.pkl', 'wb'))"
   ]
  },
  {
   "cell_type": "code",
   "execution_count": null,
   "id": "78fa53ae",
   "metadata": {},
   "outputs": [],
   "source": [
    "df_input.columns"
   ]
  },
  {
   "cell_type": "code",
   "execution_count": null,
   "id": "584abce7",
   "metadata": {},
   "outputs": [],
   "source": [
    "df_input['EMPLOYER_NAME'].unique()"
   ]
  },
  {
   "cell_type": "code",
   "execution_count": null,
   "id": "12c2bc18",
   "metadata": {},
   "outputs": [],
   "source": [
    "df_input['SOC_NAME'].unique()"
   ]
  },
  {
   "cell_type": "code",
   "execution_count": null,
   "id": "37def84f",
   "metadata": {},
   "outputs": [],
   "source": [
    "df_input['WORKSITE'].unique()"
   ]
  },
  {
   "cell_type": "code",
   "execution_count": null,
   "id": "7ce83fa9",
   "metadata": {},
   "outputs": [],
   "source": [
    "X_test"
   ]
  },
  {
   "cell_type": "code",
   "execution_count": null,
   "id": "64892ead",
   "metadata": {},
   "outputs": [],
   "source": [
    "df_input['PREVAILING_WAGE']"
   ]
  },
  {
   "cell_type": "code",
   "execution_count": null,
   "id": "db6e7ba1",
   "metadata": {},
   "outputs": [],
   "source": [
    "# Trying the prediction from constructed input\n",
    "pred = (40000, 'Y', 'tata consultancy services limited', 'IT Profession', 'california')"
   ]
  },
  {
   "cell_type": "code",
   "execution_count": null,
   "id": "c9f3da54",
   "metadata": {},
   "outputs": [],
   "source": [
    "import numpy as np\n",
    "x=np.array([pred])\n",
    "x"
   ]
  },
  {
   "cell_type": "code",
   "execution_count": null,
   "id": "b103916f",
   "metadata": {},
   "outputs": [],
   "source": [
    "def encode_full_time_position(x):\n",
    "    return 1 if x == 'Y' else 0"
   ]
  },
  {
   "cell_type": "code",
   "execution_count": null,
   "id": "78b1ccf1",
   "metadata": {},
   "outputs": [],
   "source": [
    "encode_full_time_position('N')"
   ]
  },
  {
   "cell_type": "code",
   "execution_count": null,
   "id": "2134afca",
   "metadata": {},
   "outputs": [],
   "source": [
    "x[:,1] = encode_full_time_position(x[:,1])\n",
    "x[:,2] = le_emp_name.transform(x[:,2])\n",
    "x[:,3] = le_soc_name.transform(x[:,3])\n",
    "x[:,4] = le_worksite.transform(x[:,4])"
   ]
  },
  {
   "cell_type": "code",
   "execution_count": null,
   "id": "84b2f401",
   "metadata": {},
   "outputs": [],
   "source": [
    "x = x.astype(float)\n",
    "x"
   ]
  },
  {
   "cell_type": "code",
   "execution_count": null,
   "id": "af4b82f6",
   "metadata": {},
   "outputs": [],
   "source": [
    "prediction = model_xgb.predict(x)"
   ]
  },
  {
   "cell_type": "code",
   "execution_count": null,
   "id": "9af2b91d",
   "metadata": {},
   "outputs": [],
   "source": [
    "prediction"
   ]
  },
  {
   "cell_type": "code",
   "execution_count": null,
   "id": "a56a3dcd",
   "metadata": {},
   "outputs": [],
   "source": [
    "df[(df_input['PREVAILING_WAGE'] > 39500) & (df_input['PREVAILING_WAGE'] < 40500)]"
   ]
  },
  {
   "cell_type": "code",
   "execution_count": null,
   "id": "ee33d794",
   "metadata": {},
   "outputs": [],
   "source": [
    "pred = (40290, 'Y', 'other', 'Medical', 'massachusetts')"
   ]
  },
  {
   "cell_type": "code",
   "execution_count": null,
   "id": "e7e6f6e2",
   "metadata": {},
   "outputs": [],
   "source": [
    "import numpy as np\n",
    "x=np.array([pred])\n",
    "x"
   ]
  },
  {
   "cell_type": "code",
   "execution_count": null,
   "id": "ec9cded6",
   "metadata": {},
   "outputs": [],
   "source": [
    "x[:,1] = encode_full_time_position(x[:,1])\n",
    "x[:,2] = le_emp_name.transform(x[:,2])\n",
    "x[:,3] = le_soc_name.transform(x[:,3])\n",
    "x[:,4] = le_worksite.transform(x[:,4])"
   ]
  },
  {
   "cell_type": "code",
   "execution_count": null,
   "id": "b6fff75f",
   "metadata": {},
   "outputs": [],
   "source": [
    "x = x.astype(float)\n",
    "x"
   ]
  },
  {
   "cell_type": "code",
   "execution_count": null,
   "id": "22086c92",
   "metadata": {},
   "outputs": [],
   "source": [
    "prediction = model_xgb.predict(x)"
   ]
  },
  {
   "cell_type": "code",
   "execution_count": null,
   "id": "1cbcb576",
   "metadata": {},
   "outputs": [],
   "source": [
    "prediction"
   ]
  },
  {
   "cell_type": "code",
   "execution_count": null,
   "id": "e3ab318f",
   "metadata": {},
   "outputs": [],
   "source": []
  },
  {
   "cell_type": "code",
   "execution_count": null,
   "id": "d79adf70",
   "metadata": {},
   "outputs": [],
   "source": []
  }
 ],
 "metadata": {
  "kernelspec": {
   "display_name": "Python 3 (ipykernel)",
   "language": "python",
   "name": "python3"
  },
  "language_info": {
   "codemirror_mode": {
    "name": "ipython",
    "version": 3
   },
   "file_extension": ".py",
   "mimetype": "text/x-python",
   "name": "python",
   "nbconvert_exporter": "python",
   "pygments_lexer": "ipython3",
   "version": "3.9.7"
  }
 },
 "nbformat": 4,
 "nbformat_minor": 5
}

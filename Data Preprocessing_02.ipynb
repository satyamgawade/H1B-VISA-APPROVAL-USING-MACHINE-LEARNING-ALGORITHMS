{
 "cells": [
  {
   "cell_type": "code",
   "execution_count": 1,
   "metadata": {
    "colab": {
     "base_uri": "https://localhost:8080/"
    },
    "executionInfo": {
     "elapsed": 29581,
     "status": "ok",
     "timestamp": 1693311080009,
     "user": {
      "displayName": "Satyam Gawade",
      "userId": "11292038899515897940"
     },
     "user_tz": -330
    },
    "id": "NKsyJJxYsFm3",
    "outputId": "f9c4c7a4-2d89-4d9c-c60e-b3ab5b6a300c"
   },
   "outputs": [],
   "source": [
    "# from google.colab import drive\n",
    "# drive.mount('/content/drive')"
   ]
  },
  {
   "cell_type": "markdown",
   "metadata": {
    "id": "LJH39nRoqFQp"
   },
   "source": [
    "## Introduction\n",
    "\n",
    "In this assignment, We have used H1B visa application dataset. H1B visa is a non-immigrant temporary work visa that lets people with special skills to work in USA. To apply for this visa, the applicant must have a job offer from an employer in the USA. The employer then files H1B visa petition with the US Immigration Service (USCIS) for the employee with relevant attestations, including attestations about wages and working conditions. After the approval from USCIS, this petition allows employee to obtain a visa stamp and work in the U.S. for that employer. We have chosen this dataset to discover the influence of attributes of user applicant on visa status. Our goal is to develop an algorithm that can predict the petition outcome based on application information.\n",
    "\n",
    "Since, We are planning to forecast the visa petition status, the outcome of the analysis is divided into two classes (Denied or Certified). Considering it as a binary classification problem, We have applied multiple model on this dataset. The report initially represents the analysis of available Dataset by plotting relationship bettewn various attributes. In the next sections, the following have been described in brief: data processing, feature selection, implement of different classification models on the available data and its evaluation."
   ]
  },
  {
   "cell_type": "markdown",
   "metadata": {
    "id": "ovqeOoM0q1eA"
   },
   "source": [
    "### Data Set and Features\n",
    "\n",
    "The dataset comes from kaggle repository. It contains H-1B visa petition information from 2011-2016. It includes 10 columns with approximately 30 lakh rows. Here is the list of all columns:\n",
    "\n",
    "##### CASE_STATUS:\n",
    "This feature defines the final decision of application. It is divided into seven classes, CERTIFIED, CERTIFIED-WITHDRAWN, WITHDRAWN, DENIED, PENDING QUALITY AND COMPLIANCE REVIEW – UNASSIGNED, REJECTED, INVALIDATED.\n",
    "\n",
    "##### EMPLOYER_NAME:\n",
    "Represents the company name who files the petition to recruit employee.\n",
    "\n",
    "##### SOC_NAME:\n",
    "States occupational name that is classified by the Standard Occupational Classification (SOC) System.\n",
    "\n",
    "##### JOB_TITLE:\n",
    "Title of the job.\n",
    "\n",
    "##### FULL_TIME_POSITION:\n",
    "represents job status where,\n",
    "Y= full time and N=part time.\n",
    "\n",
    "##### PREVAILING_WAGE:\n",
    "Defines the average wage paid to similarly employed workers in the requested occupation in the area of intended employment\n",
    "\n",
    "##### YEAR:\n",
    "Year in which the visa petition filed\n",
    "\n",
    "##### WORKSITE:\n",
    "The employee’s intended area of employment.\n",
    "\n",
    "##### LON:\n",
    "longitude of the worksite.\n",
    "\n",
    "##### LAT:\n",
    "latitude of the worksite."
   ]
  },
  {
   "cell_type": "code",
   "execution_count": 2,
   "metadata": {
    "executionInfo": {
     "elapsed": 826,
     "status": "ok",
     "timestamp": 1693311380302,
     "user": {
      "displayName": "Satyam Gawade",
      "userId": "11292038899515897940"
     },
     "user_tz": -330
    },
    "id": "vwejDkVXq2rD"
   },
   "outputs": [],
   "source": [
    "#import all the libraries\n",
    "from sklearn.model_selection import train_test_split\n",
    "import matplotlib.pyplot as plt\n",
    "import pandas as pd\n",
    "import numpy as np\n",
    "import seaborn as sns\n",
    "import re\n",
    "import warnings"
   ]
  },
  {
   "cell_type": "code",
   "execution_count": 3,
   "metadata": {
    "executionInfo": {
     "elapsed": 545,
     "status": "ok",
     "timestamp": 1693311410701,
     "user": {
      "displayName": "Satyam Gawade",
      "userId": "11292038899515897940"
     },
     "user_tz": -330
    },
    "id": "7Dyt0BfdOSnf"
   },
   "outputs": [],
   "source": [
    "warnings.filterwarnings(action='ignore')"
   ]
  },
  {
   "cell_type": "code",
   "execution_count": 4,
   "metadata": {
    "executionInfo": {
     "elapsed": 13511,
     "status": "ok",
     "timestamp": 1693311100714,
     "user": {
      "displayName": "Satyam Gawade",
      "userId": "11292038899515897940"
     },
     "user_tz": -330
    },
    "id": "imyBkjD-rbbj"
   },
   "outputs": [],
   "source": [
    "#read the csv.file\n",
    "data = pd.read_csv('./h1b_records.csv',index_col=0)"
   ]
  },
  {
   "cell_type": "code",
   "execution_count": 5,
   "metadata": {
    "colab": {
     "base_uri": "https://localhost:8080/",
     "height": 397
    },
    "executionInfo": {
     "elapsed": 46,
     "status": "ok",
     "timestamp": 1693311100720,
     "user": {
      "displayName": "Satyam Gawade",
      "userId": "11292038899515897940"
     },
     "user_tz": -330
    },
    "id": "Fa1eWXBmspJX",
    "outputId": "e520752a-138d-4bf5-ff0b-1ed597630196"
   },
   "outputs": [
    {
     "data": {
      "text/html": [
       "<div>\n",
       "<style scoped>\n",
       "    .dataframe tbody tr th:only-of-type {\n",
       "        vertical-align: middle;\n",
       "    }\n",
       "\n",
       "    .dataframe tbody tr th {\n",
       "        vertical-align: top;\n",
       "    }\n",
       "\n",
       "    .dataframe thead th {\n",
       "        text-align: right;\n",
       "    }\n",
       "</style>\n",
       "<table border=\"1\" class=\"dataframe\">\n",
       "  <thead>\n",
       "    <tr style=\"text-align: right;\">\n",
       "      <th></th>\n",
       "      <th>CASE_STATUS</th>\n",
       "      <th>EMPLOYER_NAME</th>\n",
       "      <th>SOC_NAME</th>\n",
       "      <th>JOB_TITLE</th>\n",
       "      <th>FULL_TIME_POSITION</th>\n",
       "      <th>PREVAILING_WAGE</th>\n",
       "      <th>YEAR</th>\n",
       "      <th>WORKSITE</th>\n",
       "      <th>lon</th>\n",
       "      <th>lat</th>\n",
       "    </tr>\n",
       "  </thead>\n",
       "  <tbody>\n",
       "    <tr>\n",
       "      <th>1</th>\n",
       "      <td>CERTIFIED-WITHDRAWN</td>\n",
       "      <td>UNIVERSITY OF MICHIGAN</td>\n",
       "      <td>BIOCHEMISTS AND BIOPHYSICISTS</td>\n",
       "      <td>POSTDOCTORAL RESEARCH FELLOW</td>\n",
       "      <td>N</td>\n",
       "      <td>36067.0</td>\n",
       "      <td>2016.0</td>\n",
       "      <td>ANN ARBOR, MICHIGAN</td>\n",
       "      <td>-83.743038</td>\n",
       "      <td>42.280826</td>\n",
       "    </tr>\n",
       "    <tr>\n",
       "      <th>2</th>\n",
       "      <td>CERTIFIED-WITHDRAWN</td>\n",
       "      <td>GOODMAN NETWORKS, INC.</td>\n",
       "      <td>CHIEF EXECUTIVES</td>\n",
       "      <td>CHIEF OPERATING OFFICER</td>\n",
       "      <td>Y</td>\n",
       "      <td>242674.0</td>\n",
       "      <td>2016.0</td>\n",
       "      <td>PLANO, TEXAS</td>\n",
       "      <td>-96.698886</td>\n",
       "      <td>33.019843</td>\n",
       "    </tr>\n",
       "    <tr>\n",
       "      <th>3</th>\n",
       "      <td>CERTIFIED-WITHDRAWN</td>\n",
       "      <td>PORTS AMERICA GROUP, INC.</td>\n",
       "      <td>CHIEF EXECUTIVES</td>\n",
       "      <td>CHIEF PROCESS OFFICER</td>\n",
       "      <td>Y</td>\n",
       "      <td>193066.0</td>\n",
       "      <td>2016.0</td>\n",
       "      <td>JERSEY CITY, NEW JERSEY</td>\n",
       "      <td>-74.077642</td>\n",
       "      <td>40.728158</td>\n",
       "    </tr>\n",
       "    <tr>\n",
       "      <th>4</th>\n",
       "      <td>CERTIFIED-WITHDRAWN</td>\n",
       "      <td>GATES CORPORATION, A WHOLLY-OWNED SUBSIDIARY O...</td>\n",
       "      <td>CHIEF EXECUTIVES</td>\n",
       "      <td>REGIONAL PRESIDEN, AMERICAS</td>\n",
       "      <td>Y</td>\n",
       "      <td>220314.0</td>\n",
       "      <td>2016.0</td>\n",
       "      <td>DENVER, COLORADO</td>\n",
       "      <td>-104.990251</td>\n",
       "      <td>39.739236</td>\n",
       "    </tr>\n",
       "    <tr>\n",
       "      <th>5</th>\n",
       "      <td>WITHDRAWN</td>\n",
       "      <td>PEABODY INVESTMENTS CORP.</td>\n",
       "      <td>CHIEF EXECUTIVES</td>\n",
       "      <td>PRESIDENT MONGOLIA AND INDIA</td>\n",
       "      <td>Y</td>\n",
       "      <td>157518.4</td>\n",
       "      <td>2016.0</td>\n",
       "      <td>ST. LOUIS, MISSOURI</td>\n",
       "      <td>-90.199404</td>\n",
       "      <td>38.627003</td>\n",
       "    </tr>\n",
       "  </tbody>\n",
       "</table>\n",
       "</div>"
      ],
      "text/plain": [
       "           CASE_STATUS                                      EMPLOYER_NAME  \\\n",
       "1  CERTIFIED-WITHDRAWN                             UNIVERSITY OF MICHIGAN   \n",
       "2  CERTIFIED-WITHDRAWN                             GOODMAN NETWORKS, INC.   \n",
       "3  CERTIFIED-WITHDRAWN                          PORTS AMERICA GROUP, INC.   \n",
       "4  CERTIFIED-WITHDRAWN  GATES CORPORATION, A WHOLLY-OWNED SUBSIDIARY O...   \n",
       "5            WITHDRAWN                          PEABODY INVESTMENTS CORP.   \n",
       "\n",
       "                        SOC_NAME                     JOB_TITLE  \\\n",
       "1  BIOCHEMISTS AND BIOPHYSICISTS  POSTDOCTORAL RESEARCH FELLOW   \n",
       "2               CHIEF EXECUTIVES       CHIEF OPERATING OFFICER   \n",
       "3               CHIEF EXECUTIVES         CHIEF PROCESS OFFICER   \n",
       "4               CHIEF EXECUTIVES   REGIONAL PRESIDEN, AMERICAS   \n",
       "5               CHIEF EXECUTIVES  PRESIDENT MONGOLIA AND INDIA   \n",
       "\n",
       "  FULL_TIME_POSITION  PREVAILING_WAGE    YEAR                 WORKSITE  \\\n",
       "1                  N          36067.0  2016.0      ANN ARBOR, MICHIGAN   \n",
       "2                  Y         242674.0  2016.0             PLANO, TEXAS   \n",
       "3                  Y         193066.0  2016.0  JERSEY CITY, NEW JERSEY   \n",
       "4                  Y         220314.0  2016.0         DENVER, COLORADO   \n",
       "5                  Y         157518.4  2016.0      ST. LOUIS, MISSOURI   \n",
       "\n",
       "          lon        lat  \n",
       "1  -83.743038  42.280826  \n",
       "2  -96.698886  33.019843  \n",
       "3  -74.077642  40.728158  \n",
       "4 -104.990251  39.739236  \n",
       "5  -90.199404  38.627003  "
      ]
     },
     "execution_count": 5,
     "metadata": {},
     "output_type": "execute_result"
    }
   ],
   "source": [
    "data.head()"
   ]
  },
  {
   "cell_type": "code",
   "execution_count": 6,
   "metadata": {
    "colab": {
     "base_uri": "https://localhost:8080/"
    },
    "executionInfo": {
     "elapsed": 2734,
     "status": "ok",
     "timestamp": 1693311103425,
     "user": {
      "displayName": "Satyam Gawade",
      "userId": "11292038899515897940"
     },
     "user_tz": -330
    },
    "id": "M4M6nLqnsut2",
    "outputId": "a55c80ea-4b02-4fcd-e5d5-09dfc8e354a4"
   },
   "outputs": [
    {
     "name": "stdout",
     "output_type": "stream",
     "text": [
      "No of rows and columns:  (3002458, 10)\n",
      "Total no of entry in each column: \n",
      " CASE_STATUS           3002445\n",
      "EMPLOYER_NAME         3002399\n",
      "SOC_NAME              2984724\n",
      "JOB_TITLE             3002415\n",
      "FULL_TIME_POSITION    3002443\n",
      "PREVAILING_WAGE       3002373\n",
      "YEAR                  3002445\n",
      "WORKSITE              3002458\n",
      "lon                   2895216\n",
      "lat                   2895216\n",
      "dtype: int64\n",
      "\n",
      "<class 'pandas.core.frame.DataFrame'>\n",
      "Int64Index: 3002458 entries, 1 to 3002458\n",
      "Data columns (total 10 columns):\n",
      " #   Column              Dtype  \n",
      "---  ------              -----  \n",
      " 0   CASE_STATUS         object \n",
      " 1   EMPLOYER_NAME       object \n",
      " 2   SOC_NAME            object \n",
      " 3   JOB_TITLE           object \n",
      " 4   FULL_TIME_POSITION  object \n",
      " 5   PREVAILING_WAGE     float64\n",
      " 6   YEAR                float64\n",
      " 7   WORKSITE            object \n",
      " 8   lon                 float64\n",
      " 9   lat                 float64\n",
      "dtypes: float64(4), object(6)\n",
      "memory usage: 252.0+ MB\n",
      "Types of Data:\n",
      " None\n"
     ]
    }
   ],
   "source": [
    "# no of rows and columns in dataset\n",
    "print('No of rows and columns: ',data.shape)\n",
    "print('Total no of entry in each column: \\n', data.count())\n",
    "\n",
    "print()\n",
    "print('Types of Data:\\n',data.info())\n",
    "\n",
    "#made a deep copy of dataset\n",
    "cdf = data.copy()"
   ]
  },
  {
   "cell_type": "markdown",
   "metadata": {
    "id": "jBbA6m78sUDl"
   },
   "source": [
    "### Data Exploration\n",
    "\n",
    "After loading the dataset, it is important to explore it to see the structure and format of all variables or features. In this dataset, 6 variables are float and 4 variables are in object format. With the help of graphical representation, we are going to check the status of each variable."
   ]
  },
  {
   "cell_type": "code",
   "execution_count": 7,
   "metadata": {
    "colab": {
     "base_uri": "https://localhost:8080/"
    },
    "executionInfo": {
     "elapsed": 5653,
     "status": "ok",
     "timestamp": 1693311125433,
     "user": {
      "displayName": "Satyam Gawade",
      "userId": "11292038899515897940"
     },
     "user_tz": -330
    },
    "id": "E9DDk1Vws6I_",
    "outputId": "7ea46fe8-20f1-49fc-c756-06663232bc84"
   },
   "outputs": [
    {
     "name": "stdout",
     "output_type": "stream",
     "text": [
      "CASE_STATUS               13\n",
      "EMPLOYER_NAME             59\n",
      "SOC_NAME               17734\n",
      "JOB_TITLE                 43\n",
      "FULL_TIME_POSITION        15\n",
      "PREVAILING_WAGE           85\n",
      "YEAR                      13\n",
      "WORKSITE                   0\n",
      "lon                   107242\n",
      "lat                   107242\n",
      "dtype: int64\n"
     ]
    }
   ],
   "source": [
    "print(cdf.isnull().sum())"
   ]
  },
  {
   "cell_type": "markdown",
   "metadata": {
    "id": "EfN2ZO1nLUi5"
   },
   "source": [
    "##### Missing Values:\n",
    "From the following list, it is quiet clear that variable _lon_ and _lat_ has the highest number of missing values.\n",
    "_SOC_NAME_ has the second most number of missing values. These values will be taken care of in data cleaning section.\n",
    "Lets Starts analysing all these columns separately and prepare our dataset for Visualization on Tableau"
   ]
  },
  {
   "cell_type": "markdown",
   "metadata": {
    "id": "pseLx01VtjpY"
   },
   "source": [
    "##### CASE_STATUS: \n",
    "\n",
    "The frequency of result for the number of petition filed over the year is represented by a bar chart. The chart shows that number of certified visa status is way more than denied status. Number of withdrawl cases after certification is also huge. Whereas, *Pending*, *Rejection* and *Invalid* cases are quite low. As we will only classify between certified and denial cases, we will convert the categories into either denied or certified.\n",
    "\n",
    "Since, *Rejection* and *Invalid* are both cases of a denied visa, we convert those case status to *Denied*. *Pending* is most likely to be rejected in case of US visa, so it will be changed to *Denied* as well. *Certified Withdrawn* decision is made by USCIS but then the employer or the applicant change it. That’s why, we merged it with *Certified* label. We removed data with *Withdrawn* label as it has no influence on USCIS’s decision. Finally the target variable have only 2 classes i.e. *Certified* and *Denied*. It is highly imbalanced dataset where number of *Denied* class is very low."
   ]
  },
  {
   "cell_type": "code",
   "execution_count": 8,
   "metadata": {
    "colab": {
     "base_uri": "https://localhost:8080/"
    },
    "executionInfo": {
     "elapsed": 464,
     "status": "ok",
     "timestamp": 1693311134730,
     "user": {
      "displayName": "Satyam Gawade",
      "userId": "11292038899515897940"
     },
     "user_tz": -330
    },
    "id": "EtpKIFHGseZg",
    "outputId": "00ac3697-1895-461f-c5ee-3934ecb371c5"
   },
   "outputs": [
    {
     "data": {
      "text/plain": [
       "CERTIFIED                                             2615623\n",
       "CERTIFIED-WITHDRAWN                                    202659\n",
       "DENIED                                                  94346\n",
       "WITHDRAWN                                               89799\n",
       "PENDING QUALITY AND COMPLIANCE REVIEW - UNASSIGNED         15\n",
       "REJECTED                                                    2\n",
       "INVALIDATED                                                 1\n",
       "Name: CASE_STATUS, dtype: int64"
      ]
     },
     "execution_count": 8,
     "metadata": {},
     "output_type": "execute_result"
    }
   ],
   "source": [
    "cdf.CASE_STATUS.value_counts()"
   ]
  },
  {
   "cell_type": "code",
   "execution_count": 9,
   "metadata": {
    "executionInfo": {
     "elapsed": 8786,
     "status": "ok",
     "timestamp": 1693311145383,
     "user": {
      "displayName": "Satyam Gawade",
      "userId": "11292038899515897940"
     },
     "user_tz": -330
    },
    "id": "jnqtguepteWP"
   },
   "outputs": [],
   "source": [
    "case_status = {\n",
    "   'CASE_STATUS': {\n",
    "      r'(PENDING QUALITY AND COMPLIANCE REVIEW - UNASSIGNED|REJECTED|INVALIDATED)':'DENIED',\n",
    "      r'CERTIFIED-WITHDRAWN': 'CERTIFIED'}\n",
    "}\n",
    "cdf.replace(case_status, regex=True, inplace=True)\n",
    "\n",
    "# drop rows with 'WITHDRAWN' value\n",
    "indexNames = cdf[cdf['CASE_STATUS']=='WITHDRAWN'].index\n",
    "cdf.drop(indexNames , inplace=True)"
   ]
  },
  {
   "cell_type": "code",
   "execution_count": 10,
   "metadata": {
    "colab": {
     "base_uri": "https://localhost:8080/",
     "height": 807
    },
    "executionInfo": {
     "elapsed": 2193,
     "status": "ok",
     "timestamp": 1693311149861,
     "user": {
      "displayName": "Satyam Gawade",
      "userId": "11292038899515897940"
     },
     "user_tz": -330
    },
    "id": "BjICV3Wktq6d",
    "outputId": "a0058e99-f549-4f1e-8edb-e51157cf33b2"
   },
   "outputs": [
    {
     "data": {
      "image/png": "[encoded data removed]",
      "text/plain": [
       "<Figure size 1296x720 with 2 Axes>"
      ]
     },
     "metadata": {
      "needs_background": "light"
     },
     "output_type": "display_data"
    }
   ],
   "source": [
    "plt.figure(figsize=(18,10))\n",
    "plt.subplot(1, 2, 1)\n",
    "data['CASE_STATUS'].value_counts().plot(kind='bar',title='Frequency of Visa Petition Case(with all status)')\n",
    "plt.subplot(1, 2, 2)\n",
    "cdf['CASE_STATUS'].value_counts().plot(kind='bar',title='Frequency of Visa Petition Case(Only CERTIFIED and DENIED)')\n",
    "plt.tight_layout()\n",
    "plt.show()"
   ]
  },
  {
   "cell_type": "markdown",
   "metadata": {
    "id": "llK3D2getz-T"
   },
   "source": [
    "##### EMPLOYER_NAME and SOC_NAME:\n",
    "In EMPLOYER_NAME column, number of unique value is 234089 and top company is Infosys Limited. Top five companies that file the most visa petition case is IT related according to following bar chart.\n",
    "\n",
    "The number of unique value for *SOC_NAME* is also huge. The chart below displays that *Computer Analysts* is the top most job position for which people are recruited."
   ]
  },
  {
   "cell_type": "code",
   "execution_count": 11,
   "metadata": {
    "colab": {
     "base_uri": "https://localhost:8080/"
    },
    "executionInfo": {
     "elapsed": 2502,
     "status": "ok",
     "timestamp": 1693311186636,
     "user": {
      "displayName": "Satyam Gawade",
      "userId": "11292038899515897940"
     },
     "user_tz": -330
    },
    "id": "64g0apEZtu6t",
    "outputId": "8efc4a0d-f454-4a28-8675-bb7762cf0e11"
   },
   "outputs": [
    {
     "name": "stdout",
     "output_type": "stream",
     "text": [
      "Summary of EMPLOYER_NAME column:  count             2912628\n",
      "unique             234089\n",
      "top       INFOSYS LIMITED\n",
      "freq               130317\n",
      "Name: EMPLOYER_NAME, dtype: object\n"
     ]
    }
   ],
   "source": [
    "print('Summary of EMPLOYER_NAME column: ',cdf['EMPLOYER_NAME'].describe())"
   ]
  },
  {
   "cell_type": "code",
   "execution_count": 12,
   "metadata": {
    "colab": {
     "base_uri": "https://localhost:8080/"
    },
    "executionInfo": {
     "elapsed": 1159,
     "status": "ok",
     "timestamp": 1693311190924,
     "user": {
      "displayName": "Satyam Gawade",
      "userId": "11292038899515897940"
     },
     "user_tz": -330
    },
    "id": "AFJSf2bfNjEq",
    "outputId": "04d7196f-c6c0-4690-e1a2-e0b7aee71d79"
   },
   "outputs": [
    {
     "name": "stdout",
     "output_type": "stream",
     "text": [
      "Summary of SOC_NAME column: :  count                       2895573\n",
      "unique                         2108\n",
      "top       Computer Systems Analysts\n",
      "freq                         284987\n",
      "Name: SOC_NAME, dtype: object\n"
     ]
    }
   ],
   "source": [
    "print('Summary of SOC_NAME column: : ',cdf['SOC_NAME'].describe())"
   ]
  },
  {
   "cell_type": "code",
   "execution_count": 13,
   "metadata": {
    "colab": {
     "base_uri": "https://localhost:8080/",
     "height": 723
    },
    "executionInfo": {
     "elapsed": 1315,
     "status": "ok",
     "timestamp": 1693311227031,
     "user": {
      "displayName": "Satyam Gawade",
      "userId": "11292038899515897940"
     },
     "user_tz": -330
    },
    "id": "jIP3XiQXt3Os",
    "outputId": "a73cc6ce-1ca6-47ea-df88-090799a9640f"
   },
   "outputs": [
    {
     "data": {
      "image/png": "[encoded data removed]",
      "text/plain": [
       "<Figure size 720x360 with 1 Axes>"
      ]
     },
     "metadata": {
      "needs_background": "light"
     },
     "output_type": "display_data"
    }
   ],
   "source": [
    "plt.figure(figsize=(10,5))\n",
    "cdf.EMPLOYER_NAME.value_counts().head(5).plot(kind='bar',title='Top 5 Company')\n",
    "plt.show()"
   ]
  },
  {
   "cell_type": "code",
   "execution_count": 14,
   "metadata": {
    "colab": {
     "base_uri": "https://localhost:8080/",
     "height": 733
    },
    "executionInfo": {
     "elapsed": 980,
     "status": "ok",
     "timestamp": 1693311235654,
     "user": {
      "displayName": "Satyam Gawade",
      "userId": "11292038899515897940"
     },
     "user_tz": -330
    },
    "id": "BhKgJfCUNuSC",
    "outputId": "483c2c39-2586-46c0-b2b3-dd38de5dfbf6"
   },
   "outputs": [
    {
     "data": {
      "image/png": "[encoded data removed]",
      "text/plain": [
       "<Figure size 720x360 with 1 Axes>"
      ]
     },
     "metadata": {
      "needs_background": "light"
     },
     "output_type": "display_data"
    }
   ],
   "source": [
    "plt.figure(figsize=(10,5))\n",
    "cdf.SOC_NAME.value_counts().head(5).plot(kind='bar',title='Top 5 Job Position')\n",
    "plt.show()"
   ]
  },
  {
   "cell_type": "markdown",
   "metadata": {
    "id": "AjXW2Jg6uBp4"
   },
   "source": [
    "##### PREVAILING_WAGE:\n",
    "In PREVAILING_WAGE column, minimum salary is 0.0 where, maximum is 6000 million. Median value is 65000.0 but mean is 142891. It can be seen that there is extreme difference between the minimum and maximum value. So, it is clear that multiple outliers exist in the dataset. From the box plot of 500 rows of data, it shows the existence of outlier. Interestingly, in case_status vs wage plot, more outlier is identified in denial cases."
   ]
  },
  {
   "cell_type": "code",
   "execution_count": 15,
   "metadata": {
    "colab": {
     "base_uri": "https://localhost:8080/"
    },
    "executionInfo": {
     "elapsed": 546,
     "status": "ok",
     "timestamp": 1693311241175,
     "user": {
      "displayName": "Satyam Gawade",
      "userId": "11292038899515897940"
     },
     "user_tz": -330
    },
    "id": "kIsecSaJt8tL",
    "outputId": "cb8f9744-389a-48ed-f893-d1f205119ad3"
   },
   "outputs": [
    {
     "name": "stdout",
     "output_type": "stream",
     "text": [
      "Median:  65000.0\n",
      "Mean:  142891.0350401751\n"
     ]
    },
    {
     "data": {
      "text/plain": [
       "count    2.912593e+06\n",
       "mean     1.428910e+05\n",
       "std      5.282312e+06\n",
       "min      0.000000e+00\n",
       "25%      5.441300e+04\n",
       "50%      6.500000e+04\n",
       "75%      8.143200e+04\n",
       "max      6.997607e+09\n",
       "Name: PREVAILING_WAGE, dtype: float64"
      ]
     },
     "execution_count": 15,
     "metadata": {},
     "output_type": "execute_result"
    }
   ],
   "source": [
    "print('Median: ',np.nanmedian(cdf['PREVAILING_WAGE']))\n",
    "print('Mean: ',np.nanmean(cdf['PREVAILING_WAGE']))\n",
    "cdf.PREVAILING_WAGE.describe()"
   ]
  },
  {
   "cell_type": "code",
   "execution_count": 16,
   "metadata": {
    "colab": {
     "base_uri": "https://localhost:8080/",
     "height": 449
    },
    "executionInfo": {
     "elapsed": 28,
     "status": "ok",
     "timestamp": 1693311343769,
     "user": {
      "displayName": "Satyam Gawade",
      "userId": "11292038899515897940"
     },
     "user_tz": -330
    },
    "id": "KkKXT2lbN8Dm",
    "outputId": "d88362c5-0f2b-4880-8f6f-9dacf3b20fb2"
   },
   "outputs": [
    {
     "data": {
      "image/png": "[encoded data removed]",
      "text/plain": [
       "<Figure size 720x432 with 1 Axes>"
      ]
     },
     "metadata": {
      "needs_background": "light"
     },
     "output_type": "display_data"
    }
   ],
   "source": [
    "plt.figure(figsize=(10,6))\n",
    "sns.boxplot(x=data.PREVAILING_WAGE.head(500))\n",
    "plt.show()"
   ]
  },
  {
   "cell_type": "code",
   "execution_count": 17,
   "metadata": {
    "colab": {
     "base_uri": "https://localhost:8080/",
     "height": 449
    },
    "executionInfo": {
     "elapsed": 48,
     "status": "ok",
     "timestamp": 1693311347011,
     "user": {
      "displayName": "Satyam Gawade",
      "userId": "11292038899515897940"
     },
     "user_tz": -330
    },
    "id": "wjeSOCb4ODQB",
    "outputId": "c4428217-17d8-4adb-f67d-9141b0152596"
   },
   "outputs": [
    {
     "data": {
      "image/png": "[encoded data removed]",
      "text/plain": [
       "<Figure size 720x432 with 1 Axes>"
      ]
     },
     "metadata": {
      "needs_background": "light"
     },
     "output_type": "display_data"
    }
   ],
   "source": [
    "plt.figure(figsize=(10,6))\n",
    "sns.boxplot(x=\"CASE_STATUS\", y=\"PREVAILING_WAGE\", data=cdf.head(100),palette=\"Blues\")\n",
    "plt.show()"
   ]
  },
  {
   "cell_type": "markdown",
   "metadata": {
    "id": "CEZICCNRuP1E"
   },
   "source": [
    "##### Year:\n",
    "In following density plot, it shows the trend of wage pattern over the year from 2011-2016. All the patterns are right skewed and indicate a number of outliers.\n",
    "Since here the visualization is not proper we will visualize the same in Tableau"
   ]
  },
  {
   "cell_type": "code",
   "execution_count": 18,
   "metadata": {
    "colab": {
     "base_uri": "https://localhost:8080/",
     "height": 735
    },
    "executionInfo": {
     "elapsed": 20720,
     "status": "ok",
     "timestamp": 1693311447568,
     "user": {
      "displayName": "Satyam Gawade",
      "userId": "11292038899515897940"
     },
     "user_tz": -330
    },
    "id": "PnB9IpORuReD",
    "outputId": "7c06667d-85ed-4780-fa33-b585746b8df2"
   },
   "outputs": [
    {
     "data": {
      "text/plain": [
       "(-100000.0, 300000000.0)"
      ]
     },
     "execution_count": 18,
     "metadata": {},
     "output_type": "execute_result"
    },
    {
     "data": {
      "image/png": "[encoded data removed]",
      "text/plain": [
       "<Figure size 1440x576 with 1 Axes>"
      ]
     },
     "metadata": {
      "needs_background": "light"
     },
     "output_type": "display_data"
    }
   ],
   "source": [
    "years = [2011,2012,2013,2014,2015,2016]\n",
    "\n",
    "plt.figure(figsize=(20,8))\n",
    "# Iterate through the five airlines\n",
    "for year in years:\n",
    "    # Subset to the airline\n",
    "    subset = data[data['YEAR'] == year]\n",
    "    # Draw the density plot\n",
    "    sns.distplot(subset['PREVAILING_WAGE'], hist = False, kde = True,\n",
    "                 kde_kws = {'linewidth': 1},\n",
    "                 label = year)\n",
    "\n",
    "# Plot formatting\n",
    "plt.legend(prop={'size': 10}, title = 'Wage Trend')\n",
    "plt.title('Density Plot with Wage')\n",
    "plt.xlabel('Wage')\n",
    "plt.ylabel('Density')\n",
    "plt.xlim(-100000,300000000)"
   ]
  },
  {
   "cell_type": "markdown",
   "metadata": {
    "id": "HRnEYT_zuhw6"
   },
   "source": [
    "##### WORKSITE: \n",
    "In this column, total unique city is 18189. New York is the top city from where most of the visa petition has been filed."
   ]
  },
  {
   "cell_type": "code",
   "execution_count": 19,
   "metadata": {
    "colab": {
     "base_uri": "https://localhost:8080/"
    },
    "executionInfo": {
     "elapsed": 770,
     "status": "ok",
     "timestamp": 1693311455290,
     "user": {
      "displayName": "Satyam Gawade",
      "userId": "11292038899515897940"
     },
     "user_tz": -330
    },
    "id": "17J9WjpmuUKg",
    "outputId": "54a6bf07-5dce-4ebe-a3e2-6cdaaa014f87"
   },
   "outputs": [
    {
     "data": {
      "text/plain": [
       "count                2912659\n",
       "unique                 18189\n",
       "top       NEW YORK, NEW YORK\n",
       "freq                  185817\n",
       "Name: WORKSITE, dtype: object"
      ]
     },
     "execution_count": 19,
     "metadata": {},
     "output_type": "execute_result"
    }
   ],
   "source": [
    "cdf.WORKSITE.describe()"
   ]
  },
  {
   "cell_type": "code",
   "execution_count": 20,
   "metadata": {
    "colab": {
     "base_uri": "https://localhost:8080/",
     "height": 661
    },
    "executionInfo": {
     "elapsed": 1667,
     "status": "ok",
     "timestamp": 1693311460176,
     "user": {
      "displayName": "Satyam Gawade",
      "userId": "11292038899515897940"
     },
     "user_tz": -330
    },
    "id": "PF3P6wU9ulOW",
    "outputId": "0bcb6ccb-1dcc-4483-f43b-c6ab696c4b32"
   },
   "outputs": [
    {
     "data": {
      "text/plain": [
       "<AxesSubplot:title={'center':'Top 5 City with Most Working Position'}>"
      ]
     },
     "execution_count": 20,
     "metadata": {},
     "output_type": "execute_result"
    },
    {
     "data": {
      "image/png": "[encoded data removed]",
      "text/plain": [
       "<Figure size 432x288 with 1 Axes>"
      ]
     },
     "metadata": {
      "needs_background": "light"
     },
     "output_type": "display_data"
    }
   ],
   "source": [
    "cdf.WORKSITE.value_counts().head(5).plot(kind='bar',title='Top 5 City with Most Working Position')"
   ]
  },
  {
   "cell_type": "markdown",
   "metadata": {
    "id": "S3CsrZK-urSb"
   },
   "source": [
    "### Data Preprocessing\n",
    "\n",
    "##### Missing Value Handling: \n",
    "From previous section, it is clear that lon and lat variable has the most missing values. These two variables indicate the location of employer. As we are going to use WORKSITE variable for this purpose, we will drop these columns. Moreover, JOB_TITLE and SOC_NAME are both indicated the job title which can be represented by any of these columns. That's why we have removed the JOB_TITLE column as well. After that, if there is any row with NAN value, we are going to drop them as well."
   ]
  },
  {
   "cell_type": "code",
   "execution_count": 21,
   "metadata": {
    "colab": {
     "base_uri": "https://localhost:8080/"
    },
    "executionInfo": {
     "elapsed": 973,
     "status": "ok",
     "timestamp": 1693311464927,
     "user": {
      "displayName": "Satyam Gawade",
      "userId": "11292038899515897940"
     },
     "user_tz": -330
    },
    "id": "EyWRifDBu2Nw",
    "outputId": "e6cf96f7-ff26-4e62-cc79-5fd5acd4ee41"
   },
   "outputs": [
    {
     "data": {
      "text/plain": [
       "PROGRAMMER ANALYST                              249038\n",
       "SOFTWARE ENGINEER                               121307\n",
       "COMPUTER PROGRAMMER                              70570\n",
       "SYSTEMS ANALYST                                  61965\n",
       "SOFTWARE DEVELOPER                               42907\n",
       "                                                 ...  \n",
       "MANAGER-PRODUCTION/PROCESS MANAGER                   1\n",
       "MANAGER (TECHNOLOGY)                                 1\n",
       "ASSOCIATE PROJECT MANAGER-RELEASE MANAGEMENT         1\n",
       "PROFESSIONAL DATA ANALYSIS                           1\n",
       "SYSWTEMS ADMINISTRATOR                               1\n",
       "Name: JOB_TITLE, Length: 287549, dtype: int64"
      ]
     },
     "execution_count": 21,
     "metadata": {},
     "output_type": "execute_result"
    }
   ],
   "source": [
    "data['JOB_TITLE'].value_counts()"
   ]
  },
  {
   "cell_type": "code",
   "execution_count": 22,
   "metadata": {
    "colab": {
     "base_uri": "https://localhost:8080/"
    },
    "executionInfo": {
     "elapsed": 608,
     "status": "ok",
     "timestamp": 1693311485368,
     "user": {
      "displayName": "Satyam Gawade",
      "userId": "11292038899515897940"
     },
     "user_tz": -330
    },
    "id": "LGCE1eUau6Ad",
    "outputId": "c1522652-ba3a-4d7d-efed-8d89daccaa2b"
   },
   "outputs": [
    {
     "data": {
      "text/plain": [
       "Computer Systems Analysts                          291170\n",
       "Computer Programmers                               226574\n",
       "SOFTWARE DEVELOPERS, APPLICATIONS                  221783\n",
       "COMPUTER SYSTEMS ANALYSTS                          215353\n",
       "Software Developers, Applications                  192933\n",
       "                                                    ...  \n",
       "ELEMENTARY SCHOOL TEACHERS, EXCEPT SPECIAL EDU          1\n",
       "27-3031                                                 1\n",
       "HEALTH PROFESSIONALS AND TECHNICIANS, ALL OTHER         1\n",
       "15-1132                                                 1\n",
       "Earth Drillers, Except Oil and Gas                      1\n",
       "Name: SOC_NAME, Length: 2132, dtype: int64"
      ]
     },
     "execution_count": 22,
     "metadata": {},
     "output_type": "execute_result"
    }
   ],
   "source": [
    "data['SOC_NAME'].value_counts()"
   ]
  },
  {
   "cell_type": "code",
   "execution_count": 23,
   "metadata": {
    "executionInfo": {
     "elapsed": 1255,
     "status": "ok",
     "timestamp": 1693311488179,
     "user": {
      "displayName": "Satyam Gawade",
      "userId": "11292038899515897940"
     },
     "user_tz": -330
    },
    "id": "XAjzEhMXunvO"
   },
   "outputs": [],
   "source": [
    "#drop JOB_TITLE, lattitude and longitutde\n",
    "cdf.drop('JOB_TITLE',inplace=True,axis=1)\n",
    "cdf.drop('lon',inplace=True,axis=1)\n",
    "cdf.drop('lat',inplace=True,axis=1)"
   ]
  },
  {
   "cell_type": "code",
   "execution_count": 24,
   "metadata": {
    "colab": {
     "base_uri": "https://localhost:8080/"
    },
    "executionInfo": {
     "elapsed": 12,
     "status": "ok",
     "timestamp": 1693311491529,
     "user": {
      "displayName": "Satyam Gawade",
      "userId": "11292038899515897940"
     },
     "user_tz": -330
    },
    "id": "Tv1sHEIVvJUV",
    "outputId": "1e07dc7a-c53b-4d10-b886-7f689d565118"
   },
   "outputs": [
    {
     "name": "stdout",
     "output_type": "stream",
     "text": [
      "<class 'pandas.core.frame.DataFrame'>\n",
      "Int64Index: 2912659 entries, 1 to 3002458\n",
      "Data columns (total 7 columns):\n",
      " #   Column              Dtype  \n",
      "---  ------              -----  \n",
      " 0   CASE_STATUS         object \n",
      " 1   EMPLOYER_NAME       object \n",
      " 2   SOC_NAME            object \n",
      " 3   FULL_TIME_POSITION  object \n",
      " 4   PREVAILING_WAGE     float64\n",
      " 5   YEAR                float64\n",
      " 6   WORKSITE            object \n",
      "dtypes: float64(2), object(5)\n",
      "memory usage: 177.8+ MB\n"
     ]
    }
   ],
   "source": [
    "cdf.info()"
   ]
  },
  {
   "cell_type": "code",
   "execution_count": 25,
   "metadata": {
    "colab": {
     "base_uri": "https://localhost:8080/"
    },
    "executionInfo": {
     "elapsed": 2740,
     "status": "ok",
     "timestamp": 1693311499688,
     "user": {
      "displayName": "Satyam Gawade",
      "userId": "11292038899515897940"
     },
     "user_tz": -330
    },
    "id": "y7JVEYy7vzkP",
    "outputId": "c6a493b0-364b-4769-e9c7-974ecc643c74"
   },
   "outputs": [
    {
     "data": {
      "text/plain": [
       "CASE_STATUS              13\n",
       "EMPLOYER_NAME            31\n",
       "SOC_NAME              17086\n",
       "FULL_TIME_POSITION       14\n",
       "PREVAILING_WAGE          66\n",
       "YEAR                     13\n",
       "WORKSITE                  0\n",
       "dtype: int64"
      ]
     },
     "execution_count": 25,
     "metadata": {},
     "output_type": "execute_result"
    }
   ],
   "source": [
    "cdf.isna().sum()"
   ]
  },
  {
   "cell_type": "code",
   "execution_count": 26,
   "metadata": {
    "colab": {
     "base_uri": "https://localhost:8080/",
     "height": 258
    },
    "executionInfo": {
     "elapsed": 527,
     "status": "ok",
     "timestamp": 1693311509301,
     "user": {
      "displayName": "Satyam Gawade",
      "userId": "11292038899515897940"
     },
     "user_tz": -330
    },
    "id": "6TObqLZm9B4r",
    "outputId": "4681b864-dd52-479f-d49e-93f7f1f73b5b"
   },
   "outputs": [
    {
     "data": {
      "text/html": [
       "<div>\n",
       "<style scoped>\n",
       "    .dataframe tbody tr th:only-of-type {\n",
       "        vertical-align: middle;\n",
       "    }\n",
       "\n",
       "    .dataframe tbody tr th {\n",
       "        vertical-align: top;\n",
       "    }\n",
       "\n",
       "    .dataframe thead th {\n",
       "        text-align: right;\n",
       "    }\n",
       "</style>\n",
       "<table border=\"1\" class=\"dataframe\">\n",
       "  <thead>\n",
       "    <tr style=\"text-align: right;\">\n",
       "      <th></th>\n",
       "      <th>CASE_STATUS</th>\n",
       "      <th>EMPLOYER_NAME</th>\n",
       "      <th>SOC_NAME</th>\n",
       "      <th>FULL_TIME_POSITION</th>\n",
       "      <th>PREVAILING_WAGE</th>\n",
       "      <th>YEAR</th>\n",
       "      <th>WORKSITE</th>\n",
       "    </tr>\n",
       "  </thead>\n",
       "  <tbody>\n",
       "    <tr>\n",
       "      <th>1</th>\n",
       "      <td>CERTIFIED</td>\n",
       "      <td>UNIVERSITY OF MICHIGAN</td>\n",
       "      <td>BIOCHEMISTS AND BIOPHYSICISTS</td>\n",
       "      <td>N</td>\n",
       "      <td>36067.0</td>\n",
       "      <td>2016.0</td>\n",
       "      <td>ANN ARBOR, MICHIGAN</td>\n",
       "    </tr>\n",
       "    <tr>\n",
       "      <th>2</th>\n",
       "      <td>CERTIFIED</td>\n",
       "      <td>GOODMAN NETWORKS, INC.</td>\n",
       "      <td>CHIEF EXECUTIVES</td>\n",
       "      <td>Y</td>\n",
       "      <td>242674.0</td>\n",
       "      <td>2016.0</td>\n",
       "      <td>PLANO, TEXAS</td>\n",
       "    </tr>\n",
       "    <tr>\n",
       "      <th>3</th>\n",
       "      <td>CERTIFIED</td>\n",
       "      <td>PORTS AMERICA GROUP, INC.</td>\n",
       "      <td>CHIEF EXECUTIVES</td>\n",
       "      <td>Y</td>\n",
       "      <td>193066.0</td>\n",
       "      <td>2016.0</td>\n",
       "      <td>JERSEY CITY, NEW JERSEY</td>\n",
       "    </tr>\n",
       "    <tr>\n",
       "      <th>4</th>\n",
       "      <td>CERTIFIED</td>\n",
       "      <td>GATES CORPORATION, A WHOLLY-OWNED SUBSIDIARY O...</td>\n",
       "      <td>CHIEF EXECUTIVES</td>\n",
       "      <td>Y</td>\n",
       "      <td>220314.0</td>\n",
       "      <td>2016.0</td>\n",
       "      <td>DENVER, COLORADO</td>\n",
       "    </tr>\n",
       "    <tr>\n",
       "      <th>6</th>\n",
       "      <td>CERTIFIED</td>\n",
       "      <td>BURGER KING CORPORATION</td>\n",
       "      <td>CHIEF EXECUTIVES</td>\n",
       "      <td>Y</td>\n",
       "      <td>225000.0</td>\n",
       "      <td>2016.0</td>\n",
       "      <td>MIAMI, FLORIDA</td>\n",
       "    </tr>\n",
       "  </tbody>\n",
       "</table>\n",
       "</div>"
      ],
      "text/plain": [
       "  CASE_STATUS                                      EMPLOYER_NAME  \\\n",
       "1   CERTIFIED                             UNIVERSITY OF MICHIGAN   \n",
       "2   CERTIFIED                             GOODMAN NETWORKS, INC.   \n",
       "3   CERTIFIED                          PORTS AMERICA GROUP, INC.   \n",
       "4   CERTIFIED  GATES CORPORATION, A WHOLLY-OWNED SUBSIDIARY O...   \n",
       "6   CERTIFIED                            BURGER KING CORPORATION   \n",
       "\n",
       "                        SOC_NAME FULL_TIME_POSITION  PREVAILING_WAGE    YEAR  \\\n",
       "1  BIOCHEMISTS AND BIOPHYSICISTS                  N          36067.0  2016.0   \n",
       "2               CHIEF EXECUTIVES                  Y         242674.0  2016.0   \n",
       "3               CHIEF EXECUTIVES                  Y         193066.0  2016.0   \n",
       "4               CHIEF EXECUTIVES                  Y         220314.0  2016.0   \n",
       "6               CHIEF EXECUTIVES                  Y         225000.0  2016.0   \n",
       "\n",
       "                  WORKSITE  \n",
       "1      ANN ARBOR, MICHIGAN  \n",
       "2             PLANO, TEXAS  \n",
       "3  JERSEY CITY, NEW JERSEY  \n",
       "4         DENVER, COLORADO  \n",
       "6           MIAMI, FLORIDA  "
      ]
     },
     "execution_count": 26,
     "metadata": {},
     "output_type": "execute_result"
    }
   ],
   "source": [
    "cdf.head()"
   ]
  },
  {
   "cell_type": "code",
   "execution_count": 27,
   "metadata": {
    "executionInfo": {
     "elapsed": 592,
     "status": "ok",
     "timestamp": 1693311633956,
     "user": {
      "displayName": "Satyam Gawade",
      "userId": "11292038899515897940"
     },
     "user_tz": -330
    },
    "id": "mfkN8UMd5L3l"
   },
   "outputs": [],
   "source": [
    "from sklearn.impute import SimpleImputer"
   ]
  },
  {
   "cell_type": "code",
   "execution_count": 28,
   "metadata": {
    "executionInfo": {
     "elapsed": 740,
     "status": "ok",
     "timestamp": 1693311640874,
     "user": {
      "displayName": "Satyam Gawade",
      "userId": "11292038899515897940"
     },
     "user_tz": -330
    },
    "id": "OaHR0aeH5MR2"
   },
   "outputs": [],
   "source": [
    "si_mean = SimpleImputer(strategy='mean') # for imputing with mean values for numerical columns\n",
    "si_median = SimpleImputer(strategy='median') # for imputing columns with median values for numerical columns\n",
    "si_mode = SimpleImputer(strategy='most_frequent') # for imputing columns with mode values for categorical columns"
   ]
  },
  {
   "cell_type": "code",
   "execution_count": 29,
   "metadata": {
    "executionInfo": {
     "elapsed": 4480,
     "status": "ok",
     "timestamp": 1693311652904,
     "user": {
      "displayName": "Satyam Gawade",
      "userId": "11292038899515897940"
     },
     "user_tz": -330
    },
    "id": "UmdnkmNM5LFE"
   },
   "outputs": [],
   "source": [
    "cdf['EMPLOYER_NAME'] = si_mode.fit_transform(cdf[['EMPLOYER_NAME']])\n",
    "cdf['FULL_TIME_POSITION'] = si_mode.fit_transform(cdf[['FULL_TIME_POSITION']])\n",
    "cdf['PREVAILING_WAGE'] = si_median.fit_transform(cdf[['PREVAILING_WAGE']])\n",
    "cdf['YEAR'] = si_mean.fit_transform(cdf[['YEAR']])"
   ]
  },
  {
   "cell_type": "code",
   "execution_count": 30,
   "metadata": {
    "colab": {
     "base_uri": "https://localhost:8080/"
    },
    "executionInfo": {
     "elapsed": 2313,
     "status": "ok",
     "timestamp": 1693311656770,
     "user": {
      "displayName": "Satyam Gawade",
      "userId": "11292038899515897940"
     },
     "user_tz": -330
    },
    "id": "fiZcn0JD8jG5",
    "outputId": "e94a6013-2383-42c3-9413-49d3a75769dc"
   },
   "outputs": [
    {
     "data": {
      "text/plain": [
       "CASE_STATUS              13\n",
       "EMPLOYER_NAME             0\n",
       "SOC_NAME              17086\n",
       "FULL_TIME_POSITION        0\n",
       "PREVAILING_WAGE           0\n",
       "YEAR                      0\n",
       "WORKSITE                  0\n",
       "dtype: int64"
      ]
     },
     "execution_count": 30,
     "metadata": {},
     "output_type": "execute_result"
    }
   ],
   "source": [
    "cdf.isna().sum()"
   ]
  },
  {
   "cell_type": "markdown",
   "metadata": {
    "id": "K7lefCHC9vAM"
   },
   "source": [
    "Dropping those rows which contans missing values from SOC_NAME & Case Status Column"
   ]
  },
  {
   "cell_type": "code",
   "execution_count": 31,
   "metadata": {
    "executionInfo": {
     "elapsed": 4816,
     "status": "ok",
     "timestamp": 1693311664913,
     "user": {
      "displayName": "Satyam Gawade",
      "userId": "11292038899515897940"
     },
     "user_tz": -330
    },
    "id": "XbWj8jvlwbFH"
   },
   "outputs": [],
   "source": [
    "cdf.dropna(inplace=True)"
   ]
  },
  {
   "cell_type": "markdown",
   "metadata": {
    "id": "id6qwnSsw63L"
   },
   "source": [
    "Imbalanced Class: \n",
    "In this dataset, the target(CASE_STATUS) variable have 2818282 Certified and 94364 Denied cases which makes this dataset highly imbalanced. It can influence the classification task. To make it balance, I have downsampled the Certified cases to the count of the Denied cases."
   ]
  },
  {
   "cell_type": "code",
   "execution_count": 32,
   "metadata": {
    "colab": {
     "base_uri": "https://localhost:8080/"
    },
    "executionInfo": {
     "elapsed": 474,
     "status": "ok",
     "timestamp": 1693311668571,
     "user": {
      "displayName": "Satyam Gawade",
      "userId": "11292038899515897940"
     },
     "user_tz": -330
    },
    "id": "uorZTJ4SSzWj",
    "outputId": "6e6b065e-1302-49da-d69b-f9caf8f1feb4"
   },
   "outputs": [
    {
     "data": {
      "text/plain": [
       "CERTIFIED    2801733\n",
       "DENIED         93840\n",
       "Name: CASE_STATUS, dtype: int64"
      ]
     },
     "execution_count": 32,
     "metadata": {},
     "output_type": "execute_result"
    }
   ],
   "source": [
    "cdf['CASE_STATUS'].value_counts()"
   ]
  },
  {
   "cell_type": "code",
   "execution_count": 33,
   "metadata": {
    "colab": {
     "base_uri": "https://localhost:8080/"
    },
    "executionInfo": {
     "elapsed": 842,
     "status": "ok",
     "timestamp": 1693311680789,
     "user": {
      "displayName": "Satyam Gawade",
      "userId": "11292038899515897940"
     },
     "user_tz": -330
    },
    "id": "6HYy02KIwoJc",
    "outputId": "c18a61a1-9e5e-458d-a785-8023f43be187"
   },
   "outputs": [
    {
     "name": "stdout",
     "output_type": "stream",
     "text": [
      "Random under-sampling:\n",
      "CERTIFIED    93840\n",
      "DENIED       93840\n",
      "Name: CASE_STATUS, dtype: int64\n"
     ]
    }
   ],
   "source": [
    "# Down sampling\n",
    "class_certified, class_denied = cdf.CASE_STATUS.value_counts()\n",
    "# Divide by class\n",
    "cdf_class_c = cdf[cdf.CASE_STATUS=='CERTIFIED']\n",
    "cdf_class_d = cdf[cdf.CASE_STATUS=='DENIED']\n",
    "\n",
    "cdf_class_c_under =cdf_class_c.sample(class_denied,random_state=1234563)\n",
    "cdf_down = pd.concat([cdf_class_c_under, cdf_class_d], axis=0)\n",
    "\n",
    "print('Random under-sampling:')\n",
    "print(cdf_down.CASE_STATUS.value_counts())"
   ]
  },
  {
   "cell_type": "markdown",
   "metadata": {
    "id": "XChbBRU-AW71"
   },
   "source": [
    "Advantages of Undersampling:\n",
    "\n",
    "Reduced Training Time: By reducing the number of majority class samples, undersampling can lead to faster training times, as the model processes a smaller amount of data.\n",
    "\n",
    "Mitigation of Overfitting: Undersampling can help prevent the model from overfitting to the majority class, as it is exposed to a more balanced representation of both classes.\n",
    "\n",
    "Improved Model Interpretability: With a balanced dataset, the model may have an easier time learning the patterns of the minority class, which can lead to improved interpretability of the model's decisions.\n",
    "\n",
    "Elimination of Noise: In some cases, the majority class may contain noisy or irrelevant samples. Undersampling can help in removing such noise, leading to a more focused and accurate model.\n",
    "\n",
    "Disadvantages of Undersampling:\n",
    "\n",
    "Loss of Information: Undersampling involves removing samples from the majority class, potentially leading to the loss of valuable information that could aid in training a more robust model.\n",
    "\n",
    "Risk of Bias: If the majority class samples that are removed during undersampling contain important information, the model might become biased towards the minority class and perform poorly on the majority class.\n",
    "\n",
    "Reduced Representativeness: With fewer majority class samples, the training data might not be as representative of the true data distribution, leading to poorer generalization to unseen data.\n",
    "\n",
    "Increased Variance: A smaller dataset due to undersampling can increase the variance of the model's performance, making it more sensitive to fluctuations in the data.\n",
    "\n",
    "Possibility of Underfitting: If the dataset becomes too unrepresentative of the original distribution, the model might struggle to capture the underlying patterns of both classes, leading to underfitting.\n",
    "\n",
    "Loss of Context: The relationships between the majority and minority classes might be important for accurate classification. Undersampling can reduce the context in which the minority class operates.\n",
    "\n",
    "Dependency on Sampling Strategy: The effectiveness of undersampling can vary based on the specific strategy used (e.g., random undersampling, cluster-based undersampling). Choosing the right strategy is crucial for achieving good results.\n",
    "\n",
    "Data Scarcity: In cases where the dataset is already small or lacks sufficient samples, further reducing the dataset size through undersampling can exacerbate the problem.\n",
    "\n",
    "In summary, undersampling can be a useful approach to handle class imbalance in certain situations, especially when the majority class contains noise or when computational resources are limited. However, it comes with significant trade-offs in terms of information loss and potential bias. Careful consideration of the dataset, the characteristics of the classes, and the desired outcomes is essential when deciding whether to use undersampling or to combine it with other techniques like oversampling or generating synthetic samples."
   ]
  },
  {
   "cell_type": "code",
   "execution_count": 34,
   "metadata": {
    "colab": {
     "base_uri": "https://localhost:8080/",
     "height": 491
    },
    "executionInfo": {
     "elapsed": 1477,
     "status": "ok",
     "timestamp": 1693311695938,
     "user": {
      "displayName": "Satyam Gawade",
      "userId": "11292038899515897940"
     },
     "user_tz": -330
    },
    "id": "TxxZUjFjxBj7",
    "outputId": "ab738bb1-a784-493e-f6e8-56bc8bf8ee23"
   },
   "outputs": [
    {
     "data": {
      "image/png": "[encoded data removed]",
      "text/plain": [
       "<Figure size 1152x432 with 2 Axes>"
      ]
     },
     "metadata": {
      "needs_background": "light"
     },
     "output_type": "display_data"
    }
   ],
   "source": [
    "#Graph before after down sampling\n",
    "plt.figure(figsize=(16,6))\n",
    "plt.subplot(1, 2, 1)\n",
    "cdf['CASE_STATUS'].value_counts().plot(kind='bar', title='Count(CASE_STATUS)- Before Downsample');\n",
    "plt.subplot(1, 2, 2)\n",
    "cdf_down.CASE_STATUS.value_counts().plot(kind='bar', title='Count(CASE_STATUS)-After Downsample');\n",
    "plt.tight_layout()\n",
    "plt.show()"
   ]
  },
  {
   "cell_type": "markdown",
   "metadata": {
    "id": "iWGhCaSkxKSf"
   },
   "source": [
    "Outlier: We have checked PREVAILING_WAGE if there was any outliers affecting the dataset. In most of the cases, petitions have a wage in the range between 40k and 80k US Dollars. There are certain petitions with wages of more than 500k, and some with 0 dollars. Since these are very extreme cases, they should be treated as outliers. We have used IQR test to find the outlier that is if data point is above the third quartile or below the first quartile it should be removed. Finally, We have replaced the NA value with mean."
   ]
  },
  {
   "cell_type": "code",
   "execution_count": 35,
   "metadata": {
    "colab": {
     "base_uri": "https://localhost:8080/"
    },
    "executionInfo": {
     "elapsed": 548,
     "status": "ok",
     "timestamp": 1693311716007,
     "user": {
      "displayName": "Satyam Gawade",
      "userId": "11292038899515897940"
     },
     "user_tz": -330
    },
    "id": "4QqPjqVexFtX",
    "outputId": "bd44ab5b-c1ab-405b-e63d-4855d8d1a70b"
   },
   "outputs": [
    {
     "name": "stdout",
     "output_type": "stream",
     "text": [
      "Lower Whisker : 5825.0\n",
      "Upper Whisker : 124633.0\n",
      "No of outliers:  9676\n"
     ]
    }
   ],
   "source": [
    "## Feature: Wage\n",
    "#detect outlier in PREVAILING_WAGE\n",
    "q1 = cdf_down[\"PREVAILING_WAGE\"].quantile(0.25)\n",
    "q3 = cdf_down[\"PREVAILING_WAGE\"].quantile(0.75)\n",
    "IQR = q3 - q1\n",
    "outliers = ((cdf_down[\"PREVAILING_WAGE\"] < (q1 - 1.5 * IQR)) | (cdf_down[\"PREVAILING_WAGE\"] > (q3 + 1.5 * IQR))).sum()\n",
    "print(f'Lower Whisker : {q1 - 1.5*IQR}')\n",
    "print(f'Upper Whisker : {q3 + 1.5*IQR}')\n",
    "print('No of outliers: ', outliers)"
   ]
  },
  {
   "cell_type": "code",
   "execution_count": 36,
   "metadata": {
    "colab": {
     "base_uri": "https://localhost:8080/"
    },
    "executionInfo": {
     "elapsed": 10,
     "status": "ok",
     "timestamp": 1693311718299,
     "user": {
      "displayName": "Satyam Gawade",
      "userId": "11292038899515897940"
     },
     "user_tz": -330
    },
    "id": "9bdABNZSVYrO",
    "outputId": "c60c7645-fa17-4179-c449-e153d60f03ca"
   },
   "outputs": [
    {
     "data": {
      "text/plain": [
       "Int64Index([1294975,  373090, 1641446, 1338669, 1661392,  893394, 1854107,\n",
       "             784675,  719755,  389023,\n",
       "            ...\n",
       "            3001379, 3001517, 3001847, 3002102, 3002152, 3002212, 3002306,\n",
       "            3002310, 3002313, 3002340],\n",
       "           dtype='int64', length=9639)"
      ]
     },
     "execution_count": 36,
     "metadata": {},
     "output_type": "execute_result"
    }
   ],
   "source": [
    "cdf_down[cdf_down['PREVAILING_WAGE'] < (q1 - 1.5*IQR)].index\n",
    "cdf_down[cdf_down['PREVAILING_WAGE'] > (q3 + 1.5*IQR)].index"
   ]
  },
  {
   "cell_type": "code",
   "execution_count": 37,
   "metadata": {
    "executionInfo": {
     "elapsed": 12,
     "status": "ok",
     "timestamp": 1693311723302,
     "user": {
      "displayName": "Satyam Gawade",
      "userId": "11292038899515897940"
     },
     "user_tz": -330
    },
    "id": "ygBiAglKxTv0"
   },
   "outputs": [],
   "source": [
    "# drop outlier\n",
    "cdf_down = cdf_down.drop(cdf_down[cdf_down.PREVAILING_WAGE < (q1 - 1.5 * IQR)].index)\n",
    "cdf_down = cdf_down.drop(cdf_down[cdf_down.PREVAILING_WAGE > (q1 + 1.5 * IQR)].index)"
   ]
  },
  {
   "cell_type": "markdown",
   "metadata": {
    "id": "eFf359X3xa72"
   },
   "source": [
    "After capping the wages with second quartile and third quartile, the mean and median are very similar. The following density plot shows a better distribution of data than without outlier."
   ]
  },
  {
   "cell_type": "code",
   "execution_count": 38,
   "metadata": {
    "colab": {
     "base_uri": "https://localhost:8080/",
     "height": 504
    },
    "executionInfo": {
     "elapsed": 16534,
     "status": "ok",
     "timestamp": 1693311744839,
     "user": {
      "displayName": "Satyam Gawade",
      "userId": "11292038899515897940"
     },
     "user_tz": -330
    },
    "id": "5OdJG7vGxYOz",
    "outputId": "7a683164-4701-42da-f45f-2da128ca50c0"
   },
   "outputs": [
    {
     "data": {
      "text/plain": [
       "<Figure size 1296x720 with 0 Axes>"
      ]
     },
     "metadata": {},
     "output_type": "display_data"
    },
    {
     "data": {
      "image/png": "[encoded data removed]",
      "text/plain": [
       "<Figure size 432x288 with 2 Axes>"
      ]
     },
     "metadata": {
      "needs_background": "light"
     },
     "output_type": "display_data"
    }
   ],
   "source": [
    "# plot density of PREVAILING_WAGE\n",
    "plt.figure(figsize=(18,10))\n",
    "fig, ax =plt.subplots(2,1)\n",
    "plt.title('Distribution of PREVAILING_WAGE with and without outlier')\n",
    "sns.distplot(cdf['PREVAILING_WAGE'], hist=False,kde=True,color='darkblue',kde_kws={'linewidth':4},ax=ax[0])\n",
    "sns.distplot(cdf_down['PREVAILING_WAGE'], hist=False,kde=True,color='darkblue',kde_kws={'linewidth':4},ax=ax[1])\n",
    "plt.tight_layout()\n",
    "fig.show()"
   ]
  },
  {
   "cell_type": "code",
   "execution_count": 39,
   "metadata": {
    "colab": {
     "base_uri": "https://localhost:8080/"
    },
    "executionInfo": {
     "elapsed": 544,
     "status": "ok",
     "timestamp": 1693311749214,
     "user": {
      "displayName": "Satyam Gawade",
      "userId": "11292038899515897940"
     },
     "user_tz": -330
    },
    "id": "K_5WR2JMXFi2",
    "outputId": "90c115d4-6b98-4d27-dc48-2b4929704a19"
   },
   "outputs": [
    {
     "data": {
      "text/plain": [
       "CERTIFIED    81105\n",
       "DENIED       80288\n",
       "Name: CASE_STATUS, dtype: int64"
      ]
     },
     "execution_count": 39,
     "metadata": {},
     "output_type": "execute_result"
    }
   ],
   "source": [
    "cdf_down['CASE_STATUS'].value_counts()\n",
    "# after removing outliers these are the counts of certified and denied cases"
   ]
  },
  {
   "cell_type": "code",
   "execution_count": 40,
   "metadata": {
    "colab": {
     "base_uri": "https://localhost:8080/"
    },
    "executionInfo": {
     "elapsed": 590,
     "status": "ok",
     "timestamp": 1693311753768,
     "user": {
      "displayName": "Satyam Gawade",
      "userId": "11292038899515897940"
     },
     "user_tz": -330
    },
    "id": "pogUwcHWYFdU",
    "outputId": "bb193e9c-6665-4b5b-ea36-be80709f38ec"
   },
   "outputs": [
    {
     "data": {
      "text/plain": [
       "count    161393.000000\n",
       "mean      59894.744724\n",
       "std       16331.834885\n",
       "min        7799.000000\n",
       "25%       48131.000000\n",
       "50%       59634.000000\n",
       "75%       71300.000000\n",
       "max       94931.000000\n",
       "Name: PREVAILING_WAGE, dtype: float64"
      ]
     },
     "execution_count": 40,
     "metadata": {},
     "output_type": "execute_result"
    }
   ],
   "source": [
    "cdf_down['PREVAILING_WAGE'].describe()"
   ]
  },
  {
   "cell_type": "code",
   "execution_count": 41,
   "metadata": {
    "colab": {
     "base_uri": "https://localhost:8080/"
    },
    "executionInfo": {
     "elapsed": 19,
     "status": "ok",
     "timestamp": 1693311756002,
     "user": {
      "displayName": "Satyam Gawade",
      "userId": "11292038899515897940"
     },
     "user_tz": -330
    },
    "id": "SP6V5wygnn45",
    "outputId": "86293e31-4074-4319-841f-fbfdb4825bfb"
   },
   "outputs": [
    {
     "name": "stdout",
     "output_type": "stream",
     "text": [
      "<class 'pandas.core.frame.DataFrame'>\n",
      "Int64Index: 161393 entries, 790904 to 3002393\n",
      "Data columns (total 7 columns):\n",
      " #   Column              Non-Null Count   Dtype  \n",
      "---  ------              --------------   -----  \n",
      " 0   CASE_STATUS         161393 non-null  object \n",
      " 1   EMPLOYER_NAME       161393 non-null  object \n",
      " 2   SOC_NAME            161393 non-null  object \n",
      " 3   FULL_TIME_POSITION  161393 non-null  object \n",
      " 4   PREVAILING_WAGE     161393 non-null  float64\n",
      " 5   YEAR                161393 non-null  float64\n",
      " 6   WORKSITE            161393 non-null  object \n",
      "dtypes: float64(2), object(5)\n",
      "memory usage: 9.9+ MB\n"
     ]
    }
   ],
   "source": [
    "cdf_down.info()"
   ]
  },
  {
   "cell_type": "code",
   "execution_count": 42,
   "metadata": {
    "executionInfo": {
     "elapsed": 580,
     "status": "ok",
     "timestamp": 1693311780172,
     "user": {
      "displayName": "Satyam Gawade",
      "userId": "11292038899515897940"
     },
     "user_tz": -330
    },
    "id": "HCAzrSjdnzXp"
   },
   "outputs": [],
   "source": [
    "# adding a new column date column which consists of\n",
    "cdf_down['DATE'] = cdf_down['YEAR'].astype('int')\n",
    "cdf_down['DATE'] = pd.to_datetime(cdf_down['DATE'],yearfirst=True,format=\"%Y\")"
   ]
  },
  {
   "cell_type": "code",
   "execution_count": 43,
   "metadata": {
    "colab": {
     "base_uri": "https://localhost:8080/",
     "height": 363
    },
    "executionInfo": {
     "elapsed": 755,
     "status": "ok",
     "timestamp": 1693311786402,
     "user": {
      "displayName": "Satyam Gawade",
      "userId": "11292038899515897940"
     },
     "user_tz": -330
    },
    "id": "axfbUdIloOov",
    "outputId": "ad97a4cf-8862-479d-d6ee-9b6763e3270d"
   },
   "outputs": [
    {
     "data": {
      "text/html": [
       "<div>\n",
       "<style scoped>\n",
       "    .dataframe tbody tr th:only-of-type {\n",
       "        vertical-align: middle;\n",
       "    }\n",
       "\n",
       "    .dataframe tbody tr th {\n",
       "        vertical-align: top;\n",
       "    }\n",
       "\n",
       "    .dataframe thead th {\n",
       "        text-align: right;\n",
       "    }\n",
       "</style>\n",
       "<table border=\"1\" class=\"dataframe\">\n",
       "  <thead>\n",
       "    <tr style=\"text-align: right;\">\n",
       "      <th></th>\n",
       "      <th>CASE_STATUS</th>\n",
       "      <th>EMPLOYER_NAME</th>\n",
       "      <th>SOC_NAME</th>\n",
       "      <th>FULL_TIME_POSITION</th>\n",
       "      <th>PREVAILING_WAGE</th>\n",
       "      <th>YEAR</th>\n",
       "      <th>WORKSITE</th>\n",
       "      <th>DATE</th>\n",
       "    </tr>\n",
       "  </thead>\n",
       "  <tbody>\n",
       "    <tr>\n",
       "      <th>790904</th>\n",
       "      <td>CERTIFIED</td>\n",
       "      <td>STATE FARM MUTUAL AUTOMOBILE INSURANCE COMPANY</td>\n",
       "      <td>COMPUTER SYSTEMS ANALYSTS</td>\n",
       "      <td>Y</td>\n",
       "      <td>76586.0</td>\n",
       "      <td>2015.0</td>\n",
       "      <td>BLOOMINGTON, ILLINOIS</td>\n",
       "      <td>2015-01-01</td>\n",
       "    </tr>\n",
       "    <tr>\n",
       "      <th>1373320</th>\n",
       "      <td>CERTIFIED</td>\n",
       "      <td>XENOSOFT TECHNOLOGIES, INC</td>\n",
       "      <td>Computer Programmers</td>\n",
       "      <td>Y</td>\n",
       "      <td>58011.0</td>\n",
       "      <td>2014.0</td>\n",
       "      <td>MUSCATINE, IOWA</td>\n",
       "      <td>2014-01-01</td>\n",
       "    </tr>\n",
       "    <tr>\n",
       "      <th>2858579</th>\n",
       "      <td>CERTIFIED</td>\n",
       "      <td>VIDEOMINING CORPORATION</td>\n",
       "      <td>Computer Software Engineers, Applications</td>\n",
       "      <td>Y</td>\n",
       "      <td>73590.0</td>\n",
       "      <td>2011.0</td>\n",
       "      <td>STATE COLLEGE, PENNSYLVANIA</td>\n",
       "      <td>2011-01-01</td>\n",
       "    </tr>\n",
       "    <tr>\n",
       "      <th>1095251</th>\n",
       "      <td>CERTIFIED</td>\n",
       "      <td>SMARTINSIGHT, LLC</td>\n",
       "      <td>SOFTWARE DEVELOPERS, APPLICATIONS</td>\n",
       "      <td>Y</td>\n",
       "      <td>71802.0</td>\n",
       "      <td>2015.0</td>\n",
       "      <td>QUINCY, MASSACHUSETTS</td>\n",
       "      <td>2015-01-01</td>\n",
       "    </tr>\n",
       "    <tr>\n",
       "      <th>1926007</th>\n",
       "      <td>CERTIFIED</td>\n",
       "      <td>INFOSYS LIMITED</td>\n",
       "      <td>Computer Programmers</td>\n",
       "      <td>Y</td>\n",
       "      <td>70948.8</td>\n",
       "      <td>2013.0</td>\n",
       "      <td>SAN FRANCISCO, CALIFORNIA</td>\n",
       "      <td>2013-01-01</td>\n",
       "    </tr>\n",
       "  </tbody>\n",
       "</table>\n",
       "</div>"
      ],
      "text/plain": [
       "        CASE_STATUS                                   EMPLOYER_NAME  \\\n",
       "790904    CERTIFIED  STATE FARM MUTUAL AUTOMOBILE INSURANCE COMPANY   \n",
       "1373320   CERTIFIED                      XENOSOFT TECHNOLOGIES, INC   \n",
       "2858579   CERTIFIED                         VIDEOMINING CORPORATION   \n",
       "1095251   CERTIFIED                               SMARTINSIGHT, LLC   \n",
       "1926007   CERTIFIED                                 INFOSYS LIMITED   \n",
       "\n",
       "                                          SOC_NAME FULL_TIME_POSITION  \\\n",
       "790904                   COMPUTER SYSTEMS ANALYSTS                  Y   \n",
       "1373320                       Computer Programmers                  Y   \n",
       "2858579  Computer Software Engineers, Applications                  Y   \n",
       "1095251          SOFTWARE DEVELOPERS, APPLICATIONS                  Y   \n",
       "1926007                       Computer Programmers                  Y   \n",
       "\n",
       "         PREVAILING_WAGE    YEAR                     WORKSITE       DATE  \n",
       "790904           76586.0  2015.0        BLOOMINGTON, ILLINOIS 2015-01-01  \n",
       "1373320          58011.0  2014.0              MUSCATINE, IOWA 2014-01-01  \n",
       "2858579          73590.0  2011.0  STATE COLLEGE, PENNSYLVANIA 2011-01-01  \n",
       "1095251          71802.0  2015.0        QUINCY, MASSACHUSETTS 2015-01-01  \n",
       "1926007          70948.8  2013.0    SAN FRANCISCO, CALIFORNIA 2013-01-01  "
      ]
     },
     "execution_count": 43,
     "metadata": {},
     "output_type": "execute_result"
    }
   ],
   "source": [
    "cdf_down.head()"
   ]
  },
  {
   "cell_type": "markdown",
   "metadata": {
    "id": "SkRNEJSnxuj6"
   },
   "source": [
    "##### Data Cleaning and Filtering:\n",
    "\n",
    "In EMPLOYER_NAME column, there are lot of unique employers. We removed the special characters and lowercase the name to uniform the format and enforce consistency. Inspite of that, it has got more than 500 categories. So we removed those employees name who filed less than 4 applications."
   ]
  },
  {
   "cell_type": "code",
   "execution_count": 44,
   "metadata": {
    "executionInfo": {
     "elapsed": 3231,
     "status": "ok",
     "timestamp": 1693311803034,
     "user": {
      "displayName": "Satyam Gawade",
      "userId": "11292038899515897940"
     },
     "user_tz": -330
    },
    "id": "2knZd5wtxm3o"
   },
   "outputs": [],
   "source": [
    "cdf_down.EMPLOYER_NAME = cdf_down.EMPLOYER_NAME.str.lower()\n",
    "emp_name = {\n",
    "   'EMPLOYER_NAME': {\n",
    "      r\"[.\\-,);\\\"'(+/]|(&QUOT;)\":'',\n",
    "      r'ltd':'limited',\n",
    "      r'(&amp;)|&':'and',\n",
    "      r'(.*gates corporation.*$)':'gates corporation',\n",
    "      r'corp$':'corporation',\n",
    "      r'^europeanamerican':'european american',\n",
    "      r'(.*euromarket designs inc.*$)':'euro market designs inc',\n",
    "      r'(.*eurofins lancaster laboratories*$)':'eurofins lancaster laboratories inc',\n",
    "      r'^eurocolletion|^eurocollection':'euro collection',\n",
    "      r'^technosoft':'techno soft',\n",
    "      r'^healthcare':'health care',\n",
    "      r'^healthplan':'health plan',\n",
    "      r'warner university inc':'warner university',\n",
    "      r'grouppc$':'group pc',\n",
    "      r'americasinc$':'americas inc'}\n",
    "}\n",
    "cdf_down.replace(emp_name, regex=True, inplace=True)"
   ]
  },
  {
   "cell_type": "code",
   "execution_count": 45,
   "metadata": {},
   "outputs": [
    {
     "data": {
      "text/plain": [
       "CERTIFIED    81105\n",
       "DENIED       80288\n",
       "Name: CASE_STATUS, dtype: int64"
      ]
     },
     "execution_count": 45,
     "metadata": {},
     "output_type": "execute_result"
    }
   ],
   "source": [
    "cdf_down['CASE_STATUS'].value_counts()"
   ]
  },
  {
   "cell_type": "code",
   "execution_count": 46,
   "metadata": {
    "colab": {
     "base_uri": "https://localhost:8080/"
    },
    "executionInfo": {
     "elapsed": 783,
     "status": "ok",
     "timestamp": 1693311808008,
     "user": {
      "displayName": "Satyam Gawade",
      "userId": "11292038899515897940"
     },
     "user_tz": -330
    },
    "id": "-9tfSZJD-whM",
    "outputId": "b1549e9a-2e85-434b-d7d3-f39f9ebc169a"
   },
   "outputs": [
    {
     "data": {
      "text/plain": [
       "{'infosys limited': 4389,\n",
       " 'tata consultancy services limited': 2238,\n",
       " 'wipro limited': 1649,\n",
       " 'deloitte consulting llp': 1547,\n",
       " 'ibm india private limited': 1407,\n",
       " 'accenture llp': 1138,\n",
       " 'ernst and young us llp': 869,\n",
       " 'hcl america inc': 766,\n",
       " 'cognizant technology solutions us corporation': 756,\n",
       " 'capgemini america inc': 581,\n",
       " 'microsoft corporation': 565,\n",
       " 'igate technologies inc': 543,\n",
       " 'larsen and toubro infotech limited': 530,\n",
       " 'ust global inc': 464,\n",
       " 'ibm corporation': 452,\n",
       " 'deloitte and touche llp': 451,\n",
       " 'tech mahindra americasinc': 383,\n",
       " 'fujitsu america inc': 339,\n",
       " 'tech mahindra americas inc': 338,\n",
       " 'intel corporation': 336,\n",
       " 'satyam computer services limited': 252,\n",
       " 'amazon corporate llc': 239,\n",
       " 'google inc': 237,\n",
       " 'mphasis corporation': 235,\n",
       " 'hexaware technologies inc': 216,\n",
       " 'pricewaterhousecoopers llp': 215,\n",
       " 'jpmorgan chase and co': 211,\n",
       " 'mastech inc a mastech holdings inc company': 194,\n",
       " 'qualcomm technologies inc': 187,\n",
       " 'oracle america inc': 184,\n",
       " 'kpmg llp': 183,\n",
       " 'cummins inc': 169,\n",
       " 'mindtree limited': 166,\n",
       " 'capgemini financial services usa inc': 164,\n",
       " 'capgemini us llc': 162,\n",
       " 'vsoft consulting group inc': 158,\n",
       " 'bank of america na': 158,\n",
       " 'system soft technologies llc': 157,\n",
       " 'patni americas inc': 154,\n",
       " 'compunnel software group inc': 152,\n",
       " 'kpit infosystems inc': 146,\n",
       " 'qualcomm incorporated': 146,\n",
       " 'ntt data inc': 145,\n",
       " 'goldman sachs and co': 144,\n",
       " 'synechron inc': 138,\n",
       " 'hcl global systems inc': 138,\n",
       " 'htc global services inc': 136,\n",
       " 'landt technology services limited': 135,\n",
       " 'syntel consulting inc': 135,\n",
       " 'emc corporation': 132,\n",
       " 'persistent systems inc': 126,\n",
       " 'deloitte tax llp': 117,\n",
       " 'consultadd inc': 114,\n",
       " 'hitachi consulting corporation': 114,\n",
       " 'ericsson inc': 114,\n",
       " 'university of michigan': 111,\n",
       " 'randstad technologies lp': 111,\n",
       " 'micron technology inc': 109,\n",
       " 'cerner corporation': 107,\n",
       " 'larsen and toubro limited': 107,\n",
       " 'diaspark inc': 107,\n",
       " 'national institutes of health hhs': 106,\n",
       " 'dell marketing lp': 105,\n",
       " '3i infotech inc': 104,\n",
       " 'cisco systems inc': 104,\n",
       " 'globallogicinc': 101,\n",
       " 'schlumberger technology corporation': 99,\n",
       " 'marlabs inc': 99,\n",
       " 'trustees of the university of pennsylvania': 96,\n",
       " 'virtusa corporation': 96,\n",
       " 'harvard university': 95,\n",
       " 'birlasoft inc': 95,\n",
       " 'capital one services llc': 93,\n",
       " 'duke university and medical center': 91,\n",
       " 'emory university': 90,\n",
       " 'university of california davis': 89,\n",
       " 'cgi technologies and solutions inc': 88,\n",
       " 'eclinicalworks llc': 87,\n",
       " 'csc covansys corporation': 87,\n",
       " 'ncs pearson inc': 86,\n",
       " 'beta soft systems inc': 85,\n",
       " 'the ohio state university': 84,\n",
       " 'accenz llc': 82,\n",
       " 'northwestern university': 82,\n",
       " 'yale university': 82,\n",
       " 'management health systems inc': 82,\n",
       " 'erp analysts inc': 82,\n",
       " 'headstrong services llc': 81,\n",
       " 'the pennsylvania state university': 80,\n",
       " 'itech us inc': 80,\n",
       " 'university of colorado': 78,\n",
       " 'baylor college of medicine': 78,\n",
       " 'the mathworks inc': 77,\n",
       " 'partners healthcare': 77,\n",
       " 'populus group': 76,\n",
       " 'rjt compuquest inc': 76,\n",
       " 'horizon technologies inc': 75,\n",
       " 'itc infotech usa inc': 74,\n",
       " 'infosys technologies limited': 73,\n",
       " 'mayo clinic': 72,\n",
       " 'university of florida': 72,\n",
       " 'university of california san diego': 72,\n",
       " 'globalfoundries us inc': 72,\n",
       " 'venturesoft global inc': 72,\n",
       " 'credit suisse securities usa llc': 71,\n",
       " 'university of maryland college park': 71,\n",
       " 'avco consulting inc': 71,\n",
       " 'yash technologies inc': 70,\n",
       " 'polaris software lab india limited': 70,\n",
       " 'grandison management inc': 70,\n",
       " 'texas aandm university': 69,\n",
       " 'ciber inc': 69,\n",
       " 'global teachers research and resources inc': 69,\n",
       " 'the university of arizona': 69,\n",
       " 'everest consulting group inc': 68,\n",
       " 'intone networks inc': 68,\n",
       " 'indiana univ purdue univ indianapolis': 68,\n",
       " 'niit technologies limited': 68,\n",
       " 'lead it corporation': 68,\n",
       " 'washington university in st louis': 67,\n",
       " 'sunera technologies inc': 67,\n",
       " 'university of illinois': 66,\n",
       " 'cyberthink inc': 66,\n",
       " 'advanced micro devices inc': 65,\n",
       " 'verizon data services llc': 65,\n",
       " 'sapient corporation': 65,\n",
       " 'columbia university': 65,\n",
       " 'mississippi state university': 64,\n",
       " 'reliable software resources inc': 64,\n",
       " 'wayne state university': 64,\n",
       " 'massachusetts institute of technology': 64,\n",
       " 'pyramid technology solutions inc': 64,\n",
       " 'howard hughes medical institute': 64,\n",
       " 'walmart associates inc': 63,\n",
       " 'siri infosolutions inc': 63,\n",
       " 'akvarr inc': 63,\n",
       " 'intraedge inc': 62,\n",
       " 'syntel inc': 62,\n",
       " 'zylog systems limited': 62,\n",
       " 'university of pittsburgh': 62,\n",
       " 'johns hopkins university': 61,\n",
       " 'engineering technology associates inc': 61,\n",
       " 'cyient inc': 61,\n",
       " 'university of washington': 60,\n",
       " 'techno soft corporation': 60,\n",
       " 'yahoo! inc': 60,\n",
       " 'rite aid corp': 60,\n",
       " 'synerzy software solutions inc': 60,\n",
       " 'photon infotech inc': 60,\n",
       " 'pricewaterhousecoopers advisory services llc': 60,\n",
       " 'astir it solutions inc': 59,\n",
       " 'multivision inc': 59,\n",
       " 'the university of texas at austin': 58,\n",
       " 'university of minnesota': 58,\n",
       " 'the univ of ala at birmingham uab': 58,\n",
       " 'caterpillar inc': 58,\n",
       " 'university of california san francisco': 58,\n",
       " 'dallas independent school district': 58,\n",
       " 'general hospital corporation': 57,\n",
       " 'citibank na': 57,\n",
       " 'microexcel inc': 57,\n",
       " 'uhcp dba upmc mep': 57,\n",
       " 'marvell semiconductor inc': 57,\n",
       " 'verinon technology solutions limited': 56,\n",
       " 'apple inc': 56,\n",
       " 'orion systems integrators inc': 56,\n",
       " 'experis us inc': 56,\n",
       " 'slk america inc': 56,\n",
       " 'mount sinai medical center': 56,\n",
       " 'morgan stanley and co llc': 55,\n",
       " 'kforce inc': 55,\n",
       " 'usm business systems inc': 55,\n",
       " 'university of california los angeles': 55,\n",
       " 'charter global inc': 54,\n",
       " 'collaborate solutions inc': 54,\n",
       " 'virgo inc': 54,\n",
       " 'vedicsoft': 54,\n",
       " 'symantec corporation': 53,\n",
       " 'sudhi infomatics inc': 53,\n",
       " 'geometric americas inc': 52,\n",
       " 'brookhaven national laboratory': 52,\n",
       " 'idhasoft inc': 52,\n",
       " 'the university of texas southwestern medical cente': 52,\n",
       " 'yash and lujan consulting inc': 52,\n",
       " 'salesforcecom inc': 52,\n",
       " 'discover products inc': 51,\n",
       " 'hewlettpackard company': 51,\n",
       " 'medtronic inc': 51,\n",
       " 'tech mahindra  americas inc': 51,\n",
       " 'software paradigms international group llc': 51,\n",
       " 'tmobile usa inc': 51,\n",
       " 'american information technology corporation': 51,\n",
       " 'american unit inc': 50,\n",
       " 'north carolina state university': 50,\n",
       " 'sysintelli inc': 50,\n",
       " 'oracle financial services software inc': 50,\n",
       " 'fidelity technology group llc': 50,\n",
       " 'georgia institute of technology': 50,\n",
       " 'lawrence berkeley national laboratory': 50,\n",
       " 'amdocs inc': 50,\n",
       " 'natsoft corporation': 49,\n",
       " 'quality matrix inc': 49,\n",
       " 'brigham and womens hospital': 49,\n",
       " 'vsquare infotech inc': 48,\n",
       " 'the university of iowa': 48,\n",
       " 'perficient inc': 48,\n",
       " 'albert einstein college of medicine of yeshiva uni': 48,\n",
       " 'progressive casualty insurance company': 47,\n",
       " 'indiana university': 47,\n",
       " 'beth israel deaconess medical center inc': 47,\n",
       " 'smartsoft international inc': 47,\n",
       " 'university of virginia': 47,\n",
       " 'vedicsoft solutions llc': 47,\n",
       " 'dgn technologies inc': 47,\n",
       " 'genesis eldercare rehabilitation services inc': 47,\n",
       " 'hp enterprise services llc': 47,\n",
       " 'ads alliance data systems inc': 47,\n",
       " 'delasoft inc': 47,\n",
       " 'the university of texas md anderson cancer cente': 47,\n",
       " 'murphybrown llc': 47,\n",
       " 'dell usa lp': 47,\n",
       " 'promatrix corporation': 47,\n",
       " 'prokarma inc': 46,\n",
       " 'purdue university': 46,\n",
       " 'the university of southern california': 46,\n",
       " 'temple universitya commonwealth university': 46,\n",
       " 'childrens hospital corporation': 46,\n",
       " 'avant healthcare professionals': 46,\n",
       " 'the university of chicago': 46,\n",
       " 'camelot integrated solutions inc': 46,\n",
       " 'northstar group inc': 46,\n",
       " 'vanderbilt university': 45,\n",
       " 'university of illinois at chicago': 45,\n",
       " 'deemsys inc': 45,\n",
       " 'anjaneyap inc': 45,\n",
       " 'merrill lynch': 45,\n",
       " 'st barnabas hospital': 45,\n",
       " 'sap labs llc': 45,\n",
       " 'university of utah': 45,\n",
       " 'alpha net consulting llc': 45,\n",
       " 'business intelli solutions inc': 45,\n",
       " 'sap america inc': 45,\n",
       " 'washington state university': 45,\n",
       " 'mckinsey and company inc united states': 44,\n",
       " 'it america inc': 44,\n",
       " 'gss infotech ct inc': 44,\n",
       " 'aecom technical services inc': 44,\n",
       " 'the curators of the university of missouri': 44,\n",
       " 'sparta consulting inc': 44,\n",
       " 'trustees of boston university': 43,\n",
       " 'cmc americas inc': 43,\n",
       " 'battelle': 43,\n",
       " 'logistic solutions inc': 43,\n",
       " 'rush university medical center': 43,\n",
       " 'brillio llc': 43,\n",
       " 'university of rochester': 43,\n",
       " 'larsen and toubro technology services limited': 43,\n",
       " 'proficient business systems inc': 43,\n",
       " 'the university of tennessee health science center': 43,\n",
       " 'isync solutions inc': 43,\n",
       " 'global infotech inc': 43,\n",
       " 'tek services llc': 43,\n",
       " 'texas instruments incorporated': 42,\n",
       " 'dell products lp': 42,\n",
       " 'tavant technologies inc': 42,\n",
       " 'oberon it inc': 42,\n",
       " 'new york university school of medicine': 42,\n",
       " 'university of kentucky': 41,\n",
       " 'integrated resources inc': 41,\n",
       " 'advent global solutions inc': 41,\n",
       " 'citadel llc': 41,\n",
       " 'saama technologies inc': 41,\n",
       " 'techdemocracy llc': 41,\n",
       " 'strategic resources international inc': 41,\n",
       " 'computer sciences corporation': 41,\n",
       " 'genpact llc': 41,\n",
       " 'sagarsoft inc': 41,\n",
       " 'michigan state university': 41,\n",
       " 'rapidit inc': 41,\n",
       " 'memorial sloankettering cancer center': 40,\n",
       " 'competent systems inc': 40,\n",
       " 'redeemsoft llc': 40,\n",
       " 'danafarber cancer institute': 40,\n",
       " 'dotcom team llc': 40,\n",
       " 'montefiore medical center': 40,\n",
       " 'citiustech inc': 40,\n",
       " 'deutsche bank securities inc': 40,\n",
       " '8k miles software services inc': 40,\n",
       " 'bloomberg lp': 40,\n",
       " 'citigroup global markets inc': 40,\n",
       " 'exilant technologies private limited': 40,\n",
       " 'new york technology partners inc': 40,\n",
       " 'vls systems inc': 40,\n",
       " 'asta crs inc': 39,\n",
       " 'dmc education and research': 39,\n",
       " 'ness usa inc': 39,\n",
       " 'research foundation of the state university of new': 39,\n",
       " 'board of regents of the university of nebraska': 39,\n",
       " 'infotech enterprises america inc': 39,\n",
       " 'state university of new york at buffalo': 39,\n",
       " 'delta system and software inc': 39,\n",
       " 'sears holdings management corporation': 39,\n",
       " 'premier it solutions inc': 38,\n",
       " 'capital one services ii llc': 38,\n",
       " 'barclays services corp': 38,\n",
       " 'sdlc management inc': 38,\n",
       " 'comcast cable communications llc': 38,\n",
       " 'idexcel inc': 38,\n",
       " 'bitwise inc': 38,\n",
       " 'apex technology systems inc': 37,\n",
       " 'smartplay inc': 37,\n",
       " 'logic planet inc': 37,\n",
       " 'sriven systems inc': 37,\n",
       " 'the florida state university': 37,\n",
       " 'cloudeeva inc': 37,\n",
       " 'ibm india pvt limited': 37,\n",
       " 'niche software solutions inc': 37,\n",
       " 'broadcom corporation': 37,\n",
       " 'ernst andamp young us llp': 37,\n",
       " 'cornell university': 37,\n",
       " 'param consulting services inc': 37,\n",
       " 'computek soulutions inc': 37,\n",
       " 'florida international university': 37,\n",
       " 'cyma systems inc': 37,\n",
       " 'infosys bpo limited': 36,\n",
       " 'johnson controls inc': 36,\n",
       " 'henry ford health system': 36,\n",
       " 'corp2corp inc': 36,\n",
       " 'university of massachusetts medical school': 36,\n",
       " 'lhp software llc': 36,\n",
       " 'clear thought solutions llc': 36,\n",
       " 'qualcomm innovation center inc': 36,\n",
       " 'infosys  limited': 36,\n",
       " 'splendtek inc': 36,\n",
       " 'howard university': 36,\n",
       " 'orian engineers incorporated': 36,\n",
       " 'arizona state university': 35,\n",
       " 'dliflc  defense language institute foreigh langua': 35,\n",
       " 'the university of texas at dallas': 35,\n",
       " 'hsbc bank usa na': 35,\n",
       " 'first tek inc': 35,\n",
       " 'adaequare inc': 35,\n",
       " 'blackrock financial management inc': 35,\n",
       " 'tesla motors inc': 35,\n",
       " 'access therapies inc': 35,\n",
       " 'lenmar consulting inc': 35,\n",
       " 'alindus inc': 35,\n",
       " 'university of north carolina at chapel hill': 35,\n",
       " 'oregon state university': 35,\n",
       " 'motorola mobility inc': 35,\n",
       " 'the university of tennessee': 35,\n",
       " 'gallega software solutions inc': 34,\n",
       " 'divensi inc': 34,\n",
       " 'indus valley consultants inc': 34,\n",
       " 'prosoft it services inc': 34,\n",
       " 'vigna solutions inc': 34,\n",
       " 'maganti it resources llc': 34,\n",
       " 'revereit llc': 34,\n",
       " 'smart works llc': 34,\n",
       " 'virginia polytechnic institute and state university': 34,\n",
       " 'rs software india limited': 34,\n",
       " 'people tech group inc': 34,\n",
       " 'fedex corporate services inc': 34,\n",
       " 'halliburton energy services inc': 34,\n",
       " 'motorola mobility llc': 34,\n",
       " 'aspire systems inc': 34,\n",
       " 'tibco software inc': 34,\n",
       " 'caremark llc': 34,\n",
       " 'tringapps inc': 34,\n",
       " 'cnet global solutions inc': 34,\n",
       " 'uchicago argonne llc': 34,\n",
       " 'pixaware technologies llc': 34,\n",
       " 'university of wisconsinmadison': 34,\n",
       " 'sree infotech llc': 33,\n",
       " 'scopus consulting group inc': 33,\n",
       " 'the university of georgia': 33,\n",
       " 'california creative solutions inc': 33,\n",
       " 'infosytech solutions inc': 33,\n",
       " 'sage it inc': 33,\n",
       " 'ait global inc': 33,\n",
       " 'oslo solutions llc': 33,\n",
       " 'everest computers inc': 33,\n",
       " 'kansas state university': 33,\n",
       " 'neumeric technologies corporation': 33,\n",
       " 'nihaki systems inc': 33,\n",
       " 'xoriant corporation': 33,\n",
       " 'intellect business solutions llc': 33,\n",
       " 'siritek inc': 33,\n",
       " 'rutgers the state university of new jersey': 32,\n",
       " 'infolob solutions inc': 32,\n",
       " 'atandt services inc': 32,\n",
       " 'datacore systems inc': 32,\n",
       " 'unicorn technologies llc': 32,\n",
       " 'euclid technologies llc': 32,\n",
       " 'comprehab inc': 32,\n",
       " 'kronsys inc': 32,\n",
       " 'trans american information systems inc': 32,\n",
       " 'infosmart systems inc': 32,\n",
       " 'university of arkansas for medical sciences': 32,\n",
       " 'qualcomm atheros inc': 32,\n",
       " 'jsmn international inc': 32,\n",
       " 'university of california berkeley': 32,\n",
       " 'bioinfo systems llc': 32,\n",
       " 'srs consulting inc': 32,\n",
       " 'onward technologies inc': 32,\n",
       " 'tanisha systems inc': 32,\n",
       " 'university of maryland baltimore': 32,\n",
       " 'altair productdesign inc': 31,\n",
       " 'los alamos national security llc': 31,\n",
       " 'mmc systems inc': 31,\n",
       " 'systems technology group inc': 31,\n",
       " 'nexage technologies usa inc': 31,\n",
       " 'ebay inc': 31,\n",
       " 'xenosoft technologies inc': 31,\n",
       " 'agreeya solutions inc': 31,\n",
       " 'baltimore city public schools': 31,\n",
       " 'palvai global services inc': 31,\n",
       " 'aqua information systems inc': 31,\n",
       " 'information control corporation': 31,\n",
       " 'dataserv inc': 31,\n",
       " 'comspark international inc': 31,\n",
       " 'linkedin corporation': 31,\n",
       " 'hexacorp llc': 31,\n",
       " 'jcg technologies inc': 31,\n",
       " 'international solutions group inc': 31,\n",
       " 'fiserv global services inc': 31,\n",
       " 'american airlines inc': 31,\n",
       " 'utbattelle llc oak ridge national laboratory': 31,\n",
       " 'deloitte andamp touche llp': 31,\n",
       " 'carnegie mellon university': 31,\n",
       " 'akken inc': 31,\n",
       " 'schneider electric usa inc': 30,\n",
       " 'diversant llc': 30,\n",
       " 'softpath system llc': 30,\n",
       " 'amzur technologies inc': 30,\n",
       " 'adobe systems incorporated': 30,\n",
       " 'iowa state university of science and technology': 30,\n",
       " 'mouri tech llc': 30,\n",
       " 'visionet systems inc': 30,\n",
       " 'national oilwell varco lp': 30,\n",
       " 'xpedite technologies inc': 30,\n",
       " 'weill cornell medical college': 30,\n",
       " 'siemens energy inc': 30,\n",
       " 'xavient information systems inc': 30,\n",
       " 'fmc technologies inc': 30,\n",
       " 'united software group inc': 30,\n",
       " 'swanktek inc': 30,\n",
       " 'the university of texas health science center at h': 30,\n",
       " 'ipolarity llc': 30,\n",
       " 'case western reserve university': 30,\n",
       " 'brown university': 30,\n",
       " 'oregon health and science university': 29,\n",
       " 'vmware inc': 29,\n",
       " 'abbott laboratories': 29,\n",
       " 'sound shore medical center of westchester': 29,\n",
       " 'information control company llc': 29,\n",
       " 'kellton tech inc': 29,\n",
       " 'clairvoyant technosolutions inc': 29,\n",
       " 'health facilities rehab services inc': 29,\n",
       " 'logic soft inc': 29,\n",
       " 'jean martin inc': 29,\n",
       " 'environmental systems research institute inc': 29,\n",
       " 'scm data inc': 29,\n",
       " 'sprint corporation': 29,\n",
       " 'the board of trustees of the leland stanford jr': 29,\n",
       " 'etouch systems corporation': 29,\n",
       " 'cleveland clinic foundation': 29,\n",
       " 'ntt data inc formerly keane inc': 29,\n",
       " 'ez2 technologies inc': 29,\n",
       " 'coolsoft llc': 29,\n",
       " 'iconsoft inc': 29,\n",
       " 'pamten inc': 28,\n",
       " 'advansoft international inc': 28,\n",
       " 'aricent technologies holdings limited': 28,\n",
       " 'axis inc': 28,\n",
       " 'quadrant 4 system corporation': 28,\n",
       " 'argha services inc': 28,\n",
       " 'infomatics corporation': 28,\n",
       " 'imetris corporation': 28,\n",
       " 'mavrick software and telecom services inc': 28,\n",
       " 'spruce technology inc': 28,\n",
       " 'epam systems inc': 28,\n",
       " 'agility technologies llc': 28,\n",
       " 'mckesson corporation': 28,\n",
       " 'w3global inc': 28,\n",
       " 'infobahn softworld inc': 28,\n",
       " 'edata experts inc': 28,\n",
       " 'technology consultants inc': 28,\n",
       " 'dw practice llc': 28,\n",
       " 'reliance global services inc': 28,\n",
       " 'saksoft inc': 27,\n",
       " 'new york university': 27,\n",
       " 'stratedge inc': 27,\n",
       " 'manhattan associates inc': 27,\n",
       " 'cavalier it inc': 27,\n",
       " 'comtec consultants inc': 27,\n",
       " 'precision global consulting inc': 27,\n",
       " 'the university of houston': 27,\n",
       " 'epeople technologies inc': 27,\n",
       " 'miami university': 27,\n",
       " 'miracle software sysytems inc': 27,\n",
       " 'aditi technologies pvt limited': 27,\n",
       " 'zensar technologies inc': 27,\n",
       " 'virtue group llc': 27,\n",
       " 'lsi corporation': 27,\n",
       " 'airwatch llc': 27,\n",
       " 'factset research systems inc': 27,\n",
       " 'sonata software north america inc': 27,\n",
       " 'cigniti inc': 27,\n",
       " 'kbr inc': 27,\n",
       " 'nic info tek inc': 27,\n",
       " 'netapp inc': 27,\n",
       " 'cedarssinai medical center': 27,\n",
       " 'orpine inc': 27,\n",
       " 'canvas infotech inc': 27,\n",
       " 'universal software corporation': 27,\n",
       " 'humetis technologies inc': 27,\n",
       " 'vsys inc': 27,\n",
       " 'value consulting inc': 26,\n",
       " 'iblesoft inc': 26,\n",
       " 'the university of kansas': 26,\n",
       " 'silicon staff it services inc': 26,\n",
       " 'ernst and  young us llp': 26,\n",
       " 'it trailblazers llc': 26,\n",
       " 'saicon consultants inc': 26,\n",
       " 'cvision inc': 26,\n",
       " 'core tech international': 26,\n",
       " 'techwave consulting inc': 26,\n",
       " 'freescale semiconductor inc': 26,\n",
       " 'baker hughes incorporated': 26,\n",
       " 'west virginia university': 26,\n",
       " 'oasys technologies inc': 26,\n",
       " 'barclays capital inc': 26,\n",
       " 'international technologies pro llc': 26,\n",
       " 'mu sigma inc': 26,\n",
       " '3s network inc': 26,\n",
       " 'client network services inc': 26,\n",
       " 'deloitte transactions and business analytics llp': 26,\n",
       " 'navistar inc': 26,\n",
       " 'nationwide insurance': 26,\n",
       " 'fusion plus solutions inc': 26,\n",
       " 'astir services llc': 26,\n",
       " 'louisiana state university and a and m college': 26,\n",
       " 'medical university of south carolina': 26,\n",
       " 'trisync technologies inc': 26,\n",
       " 'primesoft inc': 26,\n",
       " 'numbers only inc': 26,\n",
       " 'citrix systems inc': 26,\n",
       " 'fast switch limited': 26,\n",
       " 'rockwell collins inc': 26,\n",
       " 'teradata operations inc': 25,\n",
       " 'chateck inc': 25,\n",
       " 'national instruments corporation': 25,\n",
       " 'chinese bible church international inc': 25,\n",
       " 'american express travel related services company inc': 25,\n",
       " 'monsanto company': 25,\n",
       " 'iconma llc': 25,\n",
       " 'collabera inc previously known as gci': 25,\n",
       " 'kindred rehab services inc': 25,\n",
       " 'wellpoint inc': 25,\n",
       " 'oak ridge associated universities': 25,\n",
       " 'sbase technologies inc': 25,\n",
       " 'zeninfotech llc': 25,\n",
       " 'motorola solutions inc': 25,\n",
       " 'philips electronics north america corporation': 25,\n",
       " 'samsung telecommunications america llc': 25,\n",
       " 'populus group llc': 25,\n",
       " 'axis technology solutions inc': 25,\n",
       " 'resource logistics inc': 25,\n",
       " 'pace computer solutions inc': 25,\n",
       " 'tekwissen llc': 25,\n",
       " 'ecom consulting inc': 25,\n",
       " 'jackson therapy partners holdings llc': 25,\n",
       " 'a1 kaiser inc': 25,\n",
       " 'akt llc': 25,\n",
       " 'fidelity brokerage services llc': 25,\n",
       " 'musigma inc': 25,\n",
       " 'unify solutions inc': 25,\n",
       " 'kaizen technologies inc': 25,\n",
       " 'klatencor corporation': 25,\n",
       " 'smart source technologies inc': 25,\n",
       " 'adtran inc': 25,\n",
       " 'international systems technologies inc': 24,\n",
       " 'samsung austin semiconductor llc': 24,\n",
       " 'the advisory board company': 24,\n",
       " 'crispin porter and bogusky llc': 24,\n",
       " 'ramp technology group llc': 24,\n",
       " 'sqa concepts inc': 24,\n",
       " 'intelliswift software inc': 24,\n",
       " 'belcan engineering group inc': 24,\n",
       " 'sysfore technologies inc': 24,\n",
       " 'fermi research alliance llc': 24,\n",
       " 'the trustees of princeton university': 24,\n",
       " 'saras america inc': 24,\n",
       " 'general motors company': 24,\n",
       " 'sunray enterprise inc': 24,\n",
       " 'university of oklahoma': 24,\n",
       " 'university of connecticut': 24,\n",
       " 'lancesoft inc': 24,\n",
       " 'anira solutions inc': 24,\n",
       " 'george mason university': 24,\n",
       " 'the university of texas medical branch': 24,\n",
       " 'sarayu consultants inc': 24,\n",
       " 'vst consulting inc': 24,\n",
       " 'alphavista services inc': 24,\n",
       " 'technocomp inc': 24,\n",
       " 'tenazx inc': 24,\n",
       " 'university of california at santa barbara': 24,\n",
       " 'black and veatch corporation': 24,\n",
       " 'itrace foundaiton inc': 24,\n",
       " 'houston independent school district': 24,\n",
       " 'isite technologies inc': 24,\n",
       " 'enterprise solutions inc': 24,\n",
       " 'vsln international inc': 24,\n",
       " 'paypal inc': 24,\n",
       " 'isr info way inc': 24,\n",
       " 'frontier technologies llc': 24,\n",
       " 'new york city department of education': 24,\n",
       " 'university of oregon': 24,\n",
       " 'akamai technologies inc': 24,\n",
       " 'zs associates inc': 24,\n",
       " 'softpath technologies llc': 24,\n",
       " 'health carousel ii llc': 24,\n",
       " 'scepter technologies inc': 24,\n",
       " 'tekmark global solutions llc': 23,\n",
       " 'najsoft inc': 23,\n",
       " 'bally gaming inc': 23,\n",
       " 'econtenti inc': 23,\n",
       " 'ebusiness international inc': 23,\n",
       " 'first object inc': 23,\n",
       " 'florida hospital': 23,\n",
       " 'tata technologies inc': 23,\n",
       " 'vastika inc': 23,\n",
       " 'abb inc': 23,\n",
       " 'soft tech source': 23,\n",
       " 'genome international corporation': 23,\n",
       " 'bilinguals inc': 23,\n",
       " 'ubs securities llc': 23,\n",
       " 'whiz it solutions inc': 23,\n",
       " 'indu llc': 23,\n",
       " 'analog devices inc': 23,\n",
       " 'capital one national association': 23,\n",
       " 'r3 technology inc': 23,\n",
       " 'expedia inc': 23,\n",
       " 'california department of transportation': 23,\n",
       " 'vedicsoft solutions inc': 23,\n",
       " 'polaris consulting and services limited': 23,\n",
       " 'optum services inc': 23,\n",
       " 'california institute of technology': 23,\n",
       " 'georgetown university': 23,\n",
       " 'sasken communication technologies limited': 23,\n",
       " 'nexius solutions inc': 23,\n",
       " 'amerisoftpro systems llc': 23,\n",
       " 'emeteors inc': 23,\n",
       " 'openbox solutions inc': 23,\n",
       " 'infologitech inc': 23,\n",
       " 'speridian technologies llc': 23,\n",
       " 'lowes companies inc': 23,\n",
       " 'inovant llc': 23,\n",
       " 'boston scientific corporation': 23,\n",
       " 'jnit technologies': 22,\n",
       " 'federal home loan mortgage co': 22,\n",
       " 'virginia commonwealth university': 22,\n",
       " 'estrada consulting inc': 22,\n",
       " 'bdo usa llp': 22,\n",
       " 'detroit engineered products inc': 22,\n",
       " 'thoughtworks inc': 22,\n",
       " 'aptiva corporation': 22,\n",
       " 'vision it services usa inc': 22,\n",
       " 'tachyon technologies llc': 22,\n",
       " 'facebook inc': 22,\n",
       " 'juniper networks inc': 22,\n",
       " 'enternet business systems inc': 22,\n",
       " 'duke university health system': 22,\n",
       " 'nitya software solutions inc': 22,\n",
       " 'st jude childrens research hospital': 22,\n",
       " 'object frontier inc': 22,\n",
       " 'a2z development center inc': 22,\n",
       " 'pyramid consulting inc': 22,\n",
       " 'sat solutions llc': 22,\n",
       " 'intergraph corporation': 22,\n",
       " 'it cats llc': 22,\n",
       " 'it spin inc': 22,\n",
       " 'decipher software solutions': 22,\n",
       " 'infomerica inc': 22,\n",
       " 'cardinal health inc': 22,\n",
       " 'synopsys inc': 22,\n",
       " 'equinett inc': 22,\n",
       " 'mc dean inc': 22,\n",
       " 'infor us inc': 22,\n",
       " 'york hospital': 22,\n",
       " 'alcatellucent usa inc': 22,\n",
       " 'spartan solutions inc': 22,\n",
       " 'marvel technologies inc': 22,\n",
       " 'r systems inc': 22,\n",
       " 'principle information technology company': 22,\n",
       " 'libsys inc': 22,\n",
       " 'shinewell technologies inc': 22,\n",
       " 'university of rhode island': 22,\n",
       " 'morgan stanley smith barney llc': 22,\n",
       " 'tender touch rehab services llc': 22,\n",
       " 'the board of trustees of the leland stanford jr university': 22,\n",
       " 'tasacom technologies inc': 22,\n",
       " 'essential technologies inc': 22,\n",
       " 'siemens plm software inc': 22,\n",
       " 'bona fide management inc': 22,\n",
       " 'value consulting llc': 21,\n",
       " 'prabhav services inc': 21,\n",
       " 'state street bank and trust company': 21,\n",
       " 'techorbit inc': 21,\n",
       " 'paramount software solutions': 21,\n",
       " 'aegis therapies inc': 21,\n",
       " 'galaxy software solutions inc': 21,\n",
       " 'riverbed technology inc': 21,\n",
       " 'covant solutions inc': 21,\n",
       " 'selsoft inc': 21,\n",
       " 'university of california irvine': 21,\n",
       " 'estuate inc': 21,\n",
       " 'avant systems inc': 21,\n",
       " 'university of south carolina': 21,\n",
       " 'westchester county health care corporation': 21,\n",
       " 'apex technology group inc': 21,\n",
       " 'faithfulgould inc': 21,\n",
       " 'western digital technologies inc': 21,\n",
       " 'business integra technology solutions inc': 21,\n",
       " 'ramps international inc': 21,\n",
       " 'resource america information technology inc': 21,\n",
       " 'sourceone technology solutions inc': 21,\n",
       " 'codesmart inc': 21,\n",
       " 'university of oklahoma health sciences center': 21,\n",
       " 'heritage care inc': 21,\n",
       " 'connvertex technologies inc': 21,\n",
       " 'finsoft consultants inc': 21,\n",
       " 'university of nebraska medical center': 21,\n",
       " 'university of delaware': 21,\n",
       " 'logic planet cs inc': 21,\n",
       " 'united healthcare services inc': 21,\n",
       " 'rehabcare group east inc': 21,\n",
       " 'datametrics software systems inc': 21,\n",
       " 'techpillars inc': 21,\n",
       " 'db servicing corporation': 21,\n",
       " 'sapvix inc': 21,\n",
       " 'vensar technology inc': 21,\n",
       " 'lovelace respiratory research institute': 21,\n",
       " 'electronic arts inc': 21,\n",
       " 'bodhtree solutions inc': 21,\n",
       " 'geminiitlabs inc': 21,\n",
       " 'idea solutions inc': 21,\n",
       " 'ascendant technology llc': 21,\n",
       " 'vaktech corporation llc': 21,\n",
       " 'satya marg solutions inc': 21,\n",
       " 'university of cincinnati': 21,\n",
       " 'sogeti usa llc': 21,\n",
       " 'the sherwinwilliams company': 21,\n",
       " 'network objects inc': 20,\n",
       " 'advantage it inc': 20,\n",
       " 'trinity consulting inc': 20,\n",
       " 'university of miamimiller school of medicine': 20,\n",
       " 'the dow chemical company': 20,\n",
       " 'fluor enterprises inc': 20,\n",
       " 'texas tech university health sciences center': 20,\n",
       " 'centers for disease control and preventiondhhs': 20,\n",
       " 'horizonsoftsolutions inc': 20,\n",
       " 'bartronics america inc': 20,\n",
       " 'techstar consulting inc': 20,\n",
       " 'ispace inc': 20,\n",
       " 'proser corporation': 20,\n",
       " 'im flash technologies llc': 20,\n",
       " 'novartis institutes for biomedical research inc': 20,\n",
       " 'deebecon inc': 20,\n",
       " 'centraprise corporation': 20,\n",
       " 'dliflc  defense language institute foreigh language center': 20,\n",
       " 'svam international inc': 20,\n",
       " 'jrd systems inc': 20,\n",
       " 'concert tech corporation': 20,\n",
       " 'childrens national medical center': 20,\n",
       " 'keane inc': 20,\n",
       " 'technical strategies inc': 20,\n",
       " 'cignex datamatics inc': 20,\n",
       " 'honeywell international inc': 20,\n",
       " 'deloitte financial advisory services llp': 20,\n",
       " 'virtuosa global solutions llc': 20,\n",
       " 'elite it solutions inc': 20,\n",
       " 'agama solutions inc': 20,\n",
       " 'erp and erp corporation': 20,\n",
       " 'massachusetts general physicians organization': 20,\n",
       " 'the university of texas md anderson cancer center': 20,\n",
       " 'telecom technology services inc': 20,\n",
       " 'the johns hopkins university': 20,\n",
       " 'ca inc': 20,\n",
       " 'saven technologies inc': 20,\n",
       " 'etest it inc': 20,\n",
       " 'new york university hospitals center': 20,\n",
       " 'university of hawaii': 20,\n",
       " 'old dominion university': 20,\n",
       " 'hughes network systems llc': 20,\n",
       " 'msrcosmos llc': 20,\n",
       " 'maruthi technologies llc': 20,\n",
       " 'itcaps llc': 20,\n",
       " 'majescomastek': 20,\n",
       " 'american business solutions inc': 20,\n",
       " 'amatel inc': 20,\n",
       " 'vector systems inc': 20,\n",
       " 'halcyon solutions inc': 20,\n",
       " 'azimetry inc': 20,\n",
       " 'the childrens hospital of philadelphia': 20,\n",
       " 'research foundation of suny at buffalo': 19,\n",
       " 'right click systems llc': 19,\n",
       " 'strategic systems inc': 19,\n",
       " 'sql data solutions inc': 19,\n",
       " 'ws atkins inc': 19,\n",
       " 'informatica corporation': 19,\n",
       " 'eminence it solutions inc': 19,\n",
       " 'prosoft technology group inc': 19,\n",
       " 'sbp consulting inc': 19,\n",
       " 'innate solutionsinc': 19,\n",
       " 'rackspace us inc': 19,\n",
       " 'openlogix corporation': 19,\n",
       " 'university of notre dame du lac': 19,\n",
       " 'igate global solutions an igate company': 19,\n",
       " 'transamerica life insurance company': 19,\n",
       " 'blizzard entertainment inc': 19,\n",
       " 'university of houston system': 19,\n",
       " 'igt solutions inc': 19,\n",
       " 'rn staff inc': 19,\n",
       " 'grant thornton llp': 19,\n",
       " 'sagitec solutions llc': 19,\n",
       " 'logicatechinc': 19,\n",
       " 'aztek inc': 19,\n",
       " 'imatrix corporation': 19,\n",
       " 'university of texas medical branch at galveston': 19,\n",
       " 'sandisk corporation': 19,\n",
       " 'larsen and toubro infotech limted': 19,\n",
       " 'dynpro inc': 19,\n",
       " 'inovalon inc': 19,\n",
       " 'university of california santa cruz': 19,\n",
       " 'prelude systems inc': 19,\n",
       " 'hadiamondstar software solutions llc': 19,\n",
       " 'continental automotive systems inc': 19,\n",
       " 'sourceinfotech inc': 19,\n",
       " 'droisys inc': 19,\n",
       " 'jacobs engineering group inc': 19,\n",
       " 'infostretch corporation': 19,\n",
       " 'esurance insurance services inc': 19,\n",
       " 'kalven technologies inc': 19,\n",
       " 'life technologies corporation': 19,\n",
       " 'infogen software inc': 19,\n",
       " 'rite pros inc': 19,\n",
       " 'bdsn international inc': 19,\n",
       " 'sierra infosys inc': 19,\n",
       " 'schweitzer engineering laboratories inc': 19,\n",
       " 'shubh solutions llc': 19,\n",
       " 'saint louis university': 19,\n",
       " 'cincinnati childrens hospital medical center': 19,\n",
       " 'texas tech university': 19,\n",
       " 'ds soft tech inc': 19,\n",
       " 'pioneer corporate services inc': 19,\n",
       " 'st lukes hospital': 19,\n",
       " 'empower professionals': 19,\n",
       " 'hallmark global technologies inc': 19,\n",
       " 'smithsonian astrophysical observatory': 19,\n",
       " 'core education and consulting solutions inc': 19,\n",
       " 'pristine rehab care llc': 19,\n",
       " 'health carousel llc': 19,\n",
       " 'sapot systems inc': 19,\n",
       " 'palatial technologies inc': 19,\n",
       " 'american professionals inc': 18,\n",
       " 'royal technocrats inc': 18,\n",
       " 'infinity tech group inc': 18,\n",
       " 'geo logic systems corporation': 18,\n",
       " 'massachusetts eye and ear infirmary': 18,\n",
       " 'pantar solutions inc': 18,\n",
       " 'protech solutions inc': 18,\n",
       " 'gulfstream aerospace corporation': 18,\n",
       " 'varnar inc': 18,\n",
       " 'centaurus technology partners llc': 18,\n",
       " 'eateam inc': 18,\n",
       " 'community rehabilitation services inc': 18,\n",
       " 'valtech solutions inc': 18,\n",
       " 'nga group inc': 18,\n",
       " 'codesoft international inc': 18,\n",
       " 'hewlettpackard state and local enterprise services': 18,\n",
       " 'bechtel oil gas andamp chemicals inc': 18,\n",
       " 'ultimate care inc': 18,\n",
       " 'nike inc': 18,\n",
       " 'teksystems global services llc': 18,\n",
       " 'automotive robotics inc': 18,\n",
       " 'trianz consulting inc': 18,\n",
       " 'abington memorial hospital': 18,\n",
       " 'r2 technologies llc': 18,\n",
       " 'los angeles unified school district': 18,\n",
       " 'cerebra consulting inc': 18,\n",
       " 'research foundation of cuny': 18,\n",
       " 'newgen software inc': 18,\n",
       " 'horizon international trd inc': 18,\n",
       " 'iteam inc': 18,\n",
       " 'genzyme corporation': 18,\n",
       " 'tek tree llc': 18,\n",
       " 'stat9 technologies inc': 18,\n",
       " 'gspann technologies inc': 18,\n",
       " 'fred hutchinson cancer research center': 18,\n",
       " 'ved software services inc': 18,\n",
       " 'alpha clinical systems inc': 18,\n",
       " 'i28 technologies corporation': 18,\n",
       " 'span systems corporation': 18,\n",
       " 'exlservicecom llc': 18,\n",
       " 'corporate computer services inc': 18,\n",
       " 'anadata consulting inc': 18,\n",
       " 'eaton corporation': 18,\n",
       " 'goldman sachs services llc': 18,\n",
       " 'capricorn systems inc': 18,\n",
       " 'amirit technologies inc': 18,\n",
       " 'intellisoft technologies inc': 18,\n",
       " 'ascii group llc': 18,\n",
       " 'university of texas health science center at san a': 18,\n",
       " 'youngsoft inc': 18,\n",
       " 'international technology solutions inc': 18,\n",
       " 'staples inc': 18,\n",
       " 'itelligence inc': 18,\n",
       " 'american technology consulting llc': 18,\n",
       " 'object technology solutions inc': 18,\n",
       " 'twitter inc': 18,\n",
       " 'dfs corporate services llc': 18,\n",
       " 'eapt solutions inc': 18,\n",
       " 'aptude inc': 18,\n",
       " 'evantage technologies inc': 18,\n",
       " 'friendly consultants inc': 18,\n",
       " 'paramount global solutions inc': 18,\n",
       " 'research corporation of the university of hawaii': 18,\n",
       " 'kent state university': 18,\n",
       " 'srishti i2i biz solutions inc': 18,\n",
       " 'titan technologies inc': 18,\n",
       " 'it division inc': 18,\n",
       " 'quinnox inc': 18,\n",
       " 'cedent consulting inc': 18,\n",
       " 'amazon web services inc': 18,\n",
       " 'rockwell automation inc': 18,\n",
       " 'programmer resources international inc': 18,\n",
       " 'john h stroger jr hospital of cook county': 18,\n",
       " 'srnl international inc': 18,\n",
       " 'dizer corporation': 18,\n",
       " 'aol inc': 18,\n",
       " 'hs solutions inc': 18,\n",
       " 'capgemini financial services usa inc legacy kanbay': 18,\n",
       " 'infogain corporation': 18,\n",
       " 'the university of mississippi': 18,\n",
       " 'pvr technologies inc': 18,\n",
       " 'rensselaer polytechnic institute': 18,\n",
       " 'thomas jefferson university hospital': 18,\n",
       " 'utis inc': 18,\n",
       " 'international software systems inc': 18,\n",
       " 'techgene solutions llc': 17,\n",
       " 'uber technologies inc': 17,\n",
       " 'akhsaya inc': 17,\n",
       " 'opensoft inc': 17,\n",
       " 'atkins north america inc': 17,\n",
       " 'satin solutions llc': 17,\n",
       " 'artyllect': 17,\n",
       " 'auburn university': 17,\n",
       " 'northern marianas college': 17,\n",
       " 'sunmerge systems inc': 17,\n",
       " 'quest diagnostics incorporated': 17,\n",
       " 'webilent technology inc': 17,\n",
       " 'savi technologies inc': 17,\n",
       " 'first tek dos llc': 17,\n",
       " 'temple university health system': 17,\n",
       " 'applied materials inc': 17,\n",
       " 'michigan technological university': 17,\n",
       " 'acxiom corporation': 17,\n",
       " 'alltech consulting services inc': 17,\n",
       " 'levanture inc': 17,\n",
       " 'bmc software inc': 17,\n",
       " 'vigilant technologies llc': 17,\n",
       " 'hanusoft inc': 17,\n",
       " 'resolve tech solutions inc': 17,\n",
       " 'seagate us llc': 17,\n",
       " 'smart information management systems inc': 17,\n",
       " 'tech matrix inc': 17,\n",
       " 'global bridge infotech inc': 17,\n",
       " 'global it inc': 17,\n",
       " 'kelly services inc': 17,\n",
       " 'anagh technologies inc': 17,\n",
       " 'ishift corporation': 17,\n",
       " 'stowers institute for medical research': 17,\n",
       " 'softech international resources inc': 17,\n",
       " 'summitworks technologies inc': 17,\n",
       " 'marshfield clinic': 17,\n",
       " 'sapphire software solutions inc': 17,\n",
       " 'xceltech inc': 17,\n",
       " 'citicorp credit services inc usa': 17,\n",
       " 'dvr softek inc': 17,\n",
       " 'vlink  inc': 17,\n",
       " 'allied informatics inc': 17,\n",
       " 'jones lang lasalle americas inc': 17,\n",
       " 'lorshi systems llc': 17,\n",
       " 'applexus technologies llc': 17,\n",
       " 'prowise solutions inc': 17,\n",
       " 'the boston consulting group inc': 17,\n",
       " 'avighna global solutions llc': 17,\n",
       " 'siemens medical solutions usa inc': 17,\n",
       " ...}"
      ]
     },
     "execution_count": 46,
     "metadata": {},
     "output_type": "execute_result"
    }
   ],
   "source": [
    "cdf_dict = cdf_down.EMPLOYER_NAME.value_counts().to_dict()\n",
    "cdf_dict"
   ]
  },
  {
   "cell_type": "code",
   "execution_count": 47,
   "metadata": {
    "executionInfo": {
     "elapsed": 545,
     "status": "ok",
     "timestamp": 1693311811154,
     "user": {
      "displayName": "Satyam Gawade",
      "userId": "11292038899515897940"
     },
     "user_tz": -330
    },
    "id": "ET8CyiRwx5cy"
   },
   "outputs": [],
   "source": [
    "#Remove rows of the employers with less than 4 application\n",
    "cdf_dict = cdf_down.EMPLOYER_NAME.value_counts().to_dict()\n",
    "emp_list = [k for k,v in cdf_dict.items() if v<=5]\n",
    "len(emp_list)\n",
    "cdf_down = cdf_down[~cdf_down.EMPLOYER_NAME.isin(emp_list)]"
   ]
  },
  {
   "cell_type": "code",
   "execution_count": 48,
   "metadata": {},
   "outputs": [
    {
     "data": {
      "text/plain": [
       "CERTIFIED    55761\n",
       "DENIED       23821\n",
       "Name: CASE_STATUS, dtype: int64"
      ]
     },
     "execution_count": 48,
     "metadata": {},
     "output_type": "execute_result"
    }
   ],
   "source": [
    "cdf_down['CASE_STATUS'].value_counts()"
   ]
  },
  {
   "cell_type": "code",
   "execution_count": 49,
   "metadata": {
    "colab": {
     "base_uri": "https://localhost:8080/"
    },
    "executionInfo": {
     "elapsed": 931,
     "status": "ok",
     "timestamp": 1693311815305,
     "user": {
      "displayName": "Satyam Gawade",
      "userId": "11292038899515897940"
     },
     "user_tz": -330
    },
    "id": "K0Eyz0Kn_UyT",
    "outputId": "e7083bdf-c3e3-49ae-945c-b7cacdc03e77"
   },
   "outputs": [
    {
     "data": {
      "text/plain": [
       "3485"
      ]
     },
     "execution_count": 49,
     "metadata": {},
     "output_type": "execute_result"
    }
   ],
   "source": [
    "cdf_down['EMPLOYER_NAME'].value_counts().count()"
   ]
  },
  {
   "cell_type": "markdown",
   "metadata": {
    "id": "8xmyQw0fyBJ_"
   },
   "source": [
    "There are also many unique values in *SOC_NAME* column. We did the same special characters removal as *EMPLOYER_NAME*. We have created a dictionary to find out the data that are belonged to specific occupation section. We have created 13 categories for this purpose. Then put the values in **Other** category that have application number less than 5."
   ]
  },
  {
   "cell_type": "code",
   "execution_count": 50,
   "metadata": {
    "executionInfo": {
     "elapsed": 2731,
     "status": "ok",
     "timestamp": 1693311844069,
     "user": {
      "displayName": "Satyam Gawade",
      "userId": "11292038899515897940"
     },
     "user_tz": -330
    },
    "id": "hoBrx_FBx-AW"
   },
   "outputs": [],
   "source": [
    "# Feature 3: SOC_NAME\n",
    "#remove special characters to uniform format\n",
    "cdf_down['SOC_NAME']=cdf_down['SOC_NAME'].str.lower()\n",
    "soc = {\n",
    "   'SOC_NAME': {\n",
    "      r\"[*.\\-,);\\\"'(+/]|<font>|</font>|(^[0-9]$)\":'',\n",
    "      r'&amp|&':' and ',\n",
    "      r'^compute|^computer|^copmuter|^computers|^comuter|^compuer':'computer',\n",
    "      r'induatrial':'industrial',\n",
    "      r'engineers|enginers|engineering|engineerarquitects|enigneers|engineerarchitect':'engineer',\n",
    "      r'analysta|analystt|analyhsts|analys$|anlysts':'analyst',\n",
    "      r'sofware|softare|softwware':'software',\n",
    "      r'^all other|all other$|other$|all othter$':'',\n",
    "      r'systemanalyst':'system analyst',\n",
    "      r'hardward':'hardware',\n",
    "      r'aplications|applications|appllications|applicationsssss':'application',\n",
    "      r'dvelopers|developers|developpers': 'developer',\n",
    "      r'datebase':'database',\n",
    "      r'maanger|mangers|managerse|managers':'manager',\n",
    "      r'sysems|systems':'system',\n",
    "      r'technicans|technicians':'technician',\n",
    "      r'deisgners|designers':'designer',\n",
    "      r'operations':'operation',\n",
    "      r'except computer non|except computer|except compuer':'',\n",
    "      r'software application developer|application developer':'software developer application'}\n",
    "}\n",
    "\n",
    "cdf_down.replace(soc, regex=True, inplace=True)\n",
    "cdf_down=cdf_down[~cdf_down['SOC_NAME'].str.contains('^[0-9]*$',na=False)]"
   ]
  },
  {
   "cell_type": "code",
   "execution_count": 51,
   "metadata": {
    "executionInfo": {
     "elapsed": 14322,
     "status": "ok",
     "timestamp": 1693311871004,
     "user": {
      "displayName": "Satyam Gawade",
      "userId": "11292038899515897940"
     },
     "user_tz": -330
    },
    "id": "_AJP4EKRySuU"
   },
   "outputs": [],
   "source": [
    "#Create dictionary to put the different job title in specific profession section\n",
    "job_sector = {\n",
    "   'SOC_NAME': {\n",
    "      r\".*agricultural(?s).*|.*maids(?s).*|.*cleaner(?s).*|.*bakers(?s).*|.*bartenders(?s).*|.*chefs(?s).*|.*butchers(?s).*|.*meat(?s).*|dishwashers|^laundry(?s).*|^funeral(?s).*|.*janitor(?s).*|^housekeeping(?s).*|^cook(?s).*|.*food(?s).*\":'Food & Service',\n",
    "      r'^computer(?s).*|^information security(?s).*|^web developer(?s).*|^database(?s).*|^data warehousing(?s).*|^graphic(?s).*|^network and computer(?s).*|.*network system(?s).*|^software(?s).*|^information technology(?s).*':'IT Profession',\n",
    "      r\".*mathematician(?s).*|.*statisticians(?s).*|statistican|biostatisticians\":'Mathematician',\n",
    "      r'.*survey(?s).*|.*school(?s).*|.*secondary school(?s).*|.*elementary school(?s).*|.*teachers(?s).*|.*postsecondary(?s).*|.*educators(?s).*|.*research assistants(?s).*|.*education(?s).*|.*translators(?s).*|.*training(?s).*|.*instructors(?s).*|.*instructional coordinators(?s).*':'Teaching',\n",
    "      r'.*physician assistants(?s).*|.*orthodontists(?s).*|.*optometrists(?s).*|.*epidemiologists(?s).*|.*anesthesiologists(?s).*|.*rehabilitation(?s).*|.*dietitians(?s).*|.*nutritionists(?s).*|.*gynecologists(?s).*|.*mental(?s).*|.*health(?s).*|^biochemists(?s).*|^healthcare(?s).*|^health diagnosing(?s).*|.*pediatricians(?s).*|.*surgeons(?s).*|.*physical(?s).*|physicists|.*medical(?s).*|.*nurses(?s).*|.*pathologists(?s).*|.*practitioners$|.*psychiatrists(?s).*|veterinarians|pharmacists|^radiologists(?s).*|.*therapists(?s).*|neurologists|.*dentists(?s).*':'Medical',\n",
    "      r'.*loan(?s).*|.*property(?s).*|.*credit analysts(?s).*|.*financial(?s).*|^budget(?s).*|.*bill(?s).*|.*account(?s).*|.*accountants(?s).*|economists|^cost(?s).*|^statistical assistants(?s).*|^business operation specialists(?s).*|.*fiancial(?s).*':'Finance',\n",
    "      r'.*aircraft(?s).*|.*operating engineer(?s).*|.*structural(?s).*|.*engineer(?s).*|.*electrical(?s).*|.*electronics(?s).*|.*designer(?s).*|.*architect(?s).*':'Architecture & Engineering',\n",
    "      r'.*biologist(?s).*|.*astronomers(?s).*|.*microbiologists(?s).*|.*biophysicist(?s).*|.*scienctists(?s).*|.*scientists(?s).*|chemists|^biological scientists $|^biomedical(?s).*':'Advance Science',\n",
    "      r'.*manager(?s).*|operations research analysts|.*management(?s).*|chief executives|public relations specialists|logisticians|administrative services manager|.*planners(?s).*|human resources specialists|lodging manager|engineer manager':'Management',\n",
    "      r'.*market(?s).*|.*marketing(?s).*|.*wholesale(?s).*|^sales(?s).*|^advertising(?s).*|compliance officers|.*salespersons$':'Marketing',\n",
    "      r'.*judicial(?s).*|.*police(?s).*|.*law(?s).*|lawyers|.*judges(?s).*|.*attorney(?s).*|.*paralegals(?s).*|.*legal(?s).*':'Lawyer',\n",
    "      r'.*technician(?s).*|.*operators(?s).*|.*technologists(?s).*':'Technician',\n",
    "      r'.*audio(?s).*|.*photo(?s).*|.*recreation(?s).*|.*artists(?s).*|.*auditors(?s).*|.*athletic(?s).*|.*video(?s).*|.*writers(?s).*|.*music(?s).*|.*models(?s).*|composers|.*media(?s).*|singers|.*dancers(?s).*|poets and lyricists|coaches and scouts|.*sport(?s).*|.*fashion(?s).*|^media and communication workers$|^multimedia artists and animators|editors|^set designer$|^producers and directors$|^art directors$|^designer$|^reporters and correspondents$|.*entertainment(?s).*':'Fashion & Entertainment',\n",
    "   }\n",
    "}\n",
    "cdf_down.replace(job_sector, regex=True, inplace=True)"
   ]
  },
  {
   "cell_type": "code",
   "execution_count": 52,
   "metadata": {
    "executionInfo": {
     "elapsed": 13,
     "status": "ok",
     "timestamp": 1693311872980,
     "user": {
      "displayName": "Satyam Gawade",
      "userId": "11292038899515897940"
     },
     "user_tz": -330
    },
    "id": "O7PZXzdfyYyV"
   },
   "outputs": [],
   "source": [
    "cdf_dict=cdf_down['SOC_NAME'].value_counts().to_dict()\n",
    "soc_list = [k for k,v in cdf_dict.items() if v<=5]\n",
    "len(soc_list)\n",
    "cdf_down.SOC_NAME = np.where(cdf_down['SOC_NAME'].isin(soc_list), 'Others', cdf_down.SOC_NAME)"
   ]
  },
  {
   "cell_type": "code",
   "execution_count": 53,
   "metadata": {},
   "outputs": [
    {
     "data": {
      "text/plain": [
       "CERTIFIED    55761\n",
       "DENIED       23821\n",
       "Name: CASE_STATUS, dtype: int64"
      ]
     },
     "execution_count": 53,
     "metadata": {},
     "output_type": "execute_result"
    }
   ],
   "source": [
    "cdf_down['CASE_STATUS'].value_counts()"
   ]
  },
  {
   "cell_type": "code",
   "execution_count": 54,
   "metadata": {
    "colab": {
     "base_uri": "https://localhost:8080/"
    },
    "executionInfo": {
     "elapsed": 15,
     "status": "ok",
     "timestamp": 1693311874898,
     "user": {
      "displayName": "Satyam Gawade",
      "userId": "11292038899515897940"
     },
     "user_tz": -330
    },
    "id": "ie-DtHZzdMNv",
    "outputId": "bcf43513-f74e-4345-ed9b-2e2602ac9298"
   },
   "outputs": [
    {
     "data": {
      "text/plain": [
       "41"
      ]
     },
     "execution_count": 54,
     "metadata": {},
     "output_type": "execute_result"
    }
   ],
   "source": [
    "cdf_down['SOC_NAME'].value_counts().count()"
   ]
  },
  {
   "cell_type": "markdown",
   "metadata": {
    "id": "bu2o964eyh_G"
   },
   "source": [
    "WORKSITE represents employee’s intended area of employment. We split this column and consider city name only."
   ]
  },
  {
   "cell_type": "code",
   "execution_count": 55,
   "metadata": {
    "colab": {
     "base_uri": "https://localhost:8080/"
    },
    "executionInfo": {
     "elapsed": 10,
     "status": "ok",
     "timestamp": 1693311878462,
     "user": {
      "displayName": "Satyam Gawade",
      "userId": "11292038899515897940"
     },
     "user_tz": -330
    },
    "id": "uBQYFWwKTg0t",
    "outputId": "b25cc5c8-90cf-4d65-86ba-1eb3c7ac87ff"
   },
   "outputs": [
    {
     "data": {
      "text/plain": [
       "1373320              MUSCATINE, IOWA\n",
       "1926007    SAN FRANCISCO, CALIFORNIA\n",
       "1601710               COLUMBUS, OHIO\n",
       "2417561             CONWAY, ARKANSAS\n",
       "2420331        EAST PEORIA, ILLINOIS\n",
       "                     ...            \n",
       "3002354             CINCINNATI, OHIO\n",
       "3002355            BEAVERTON, OREGON\n",
       "3002357               HOUSTON, TEXAS\n",
       "3002365       SANTA CRUZ, CALIFORNIA\n",
       "3002368             PORTLAND, OREGON\n",
       "Name: WORKSITE, Length: 79582, dtype: object"
      ]
     },
     "execution_count": 55,
     "metadata": {},
     "output_type": "execute_result"
    }
   ],
   "source": [
    "cdf_down['WORKSITE']"
   ]
  },
  {
   "cell_type": "code",
   "execution_count": 56,
   "metadata": {
    "executionInfo": {
     "elapsed": 442,
     "status": "ok",
     "timestamp": 1693311884693,
     "user": {
      "displayName": "Satyam Gawade",
      "userId": "11292038899515897940"
     },
     "user_tz": -330
    },
    "id": "Rlwp2MCgyfO2"
   },
   "outputs": [],
   "source": [
    "# Feature 8: WORKSITE\n",
    "#select state as employer location\n",
    "cdf_down['WORKSITE']=cdf_down['WORKSITE'].str.split(',',1).str[1].str.lower()"
   ]
  },
  {
   "cell_type": "code",
   "execution_count": 57,
   "metadata": {
    "colab": {
     "base_uri": "https://localhost:8080/",
     "height": 241
    },
    "executionInfo": {
     "elapsed": 18,
     "status": "ok",
     "timestamp": 1693311887001,
     "user": {
      "displayName": "Satyam Gawade",
      "userId": "11292038899515897940"
     },
     "user_tz": -330
    },
    "id": "p7DB68Iv_tvS",
    "outputId": "502bd036-9940-4901-d697-7c27fff40960"
   },
   "outputs": [
    {
     "data": {
      "text/html": [
       "<div>\n",
       "<style scoped>\n",
       "    .dataframe tbody tr th:only-of-type {\n",
       "        vertical-align: middle;\n",
       "    }\n",
       "\n",
       "    .dataframe tbody tr th {\n",
       "        vertical-align: top;\n",
       "    }\n",
       "\n",
       "    .dataframe thead th {\n",
       "        text-align: right;\n",
       "    }\n",
       "</style>\n",
       "<table border=\"1\" class=\"dataframe\">\n",
       "  <thead>\n",
       "    <tr style=\"text-align: right;\">\n",
       "      <th></th>\n",
       "      <th>CASE_STATUS</th>\n",
       "      <th>EMPLOYER_NAME</th>\n",
       "      <th>SOC_NAME</th>\n",
       "      <th>FULL_TIME_POSITION</th>\n",
       "      <th>PREVAILING_WAGE</th>\n",
       "      <th>YEAR</th>\n",
       "      <th>WORKSITE</th>\n",
       "      <th>DATE</th>\n",
       "    </tr>\n",
       "  </thead>\n",
       "  <tbody>\n",
       "    <tr>\n",
       "      <th>1373320</th>\n",
       "      <td>CERTIFIED</td>\n",
       "      <td>xenosoft technologies inc</td>\n",
       "      <td>IT Profession</td>\n",
       "      <td>Y</td>\n",
       "      <td>58011.0</td>\n",
       "      <td>2014.0</td>\n",
       "      <td>iowa</td>\n",
       "      <td>2014-01-01</td>\n",
       "    </tr>\n",
       "    <tr>\n",
       "      <th>1926007</th>\n",
       "      <td>CERTIFIED</td>\n",
       "      <td>infosys limited</td>\n",
       "      <td>IT Profession</td>\n",
       "      <td>Y</td>\n",
       "      <td>70948.8</td>\n",
       "      <td>2013.0</td>\n",
       "      <td>california</td>\n",
       "      <td>2013-01-01</td>\n",
       "    </tr>\n",
       "    <tr>\n",
       "      <th>1601710</th>\n",
       "      <td>CERTIFIED</td>\n",
       "      <td>tata consultancy services limited</td>\n",
       "      <td>IT Profession</td>\n",
       "      <td>Y</td>\n",
       "      <td>41558.0</td>\n",
       "      <td>2014.0</td>\n",
       "      <td>ohio</td>\n",
       "      <td>2014-01-01</td>\n",
       "    </tr>\n",
       "    <tr>\n",
       "      <th>2417561</th>\n",
       "      <td>CERTIFIED</td>\n",
       "      <td>acxiom corporation</td>\n",
       "      <td>IT Profession</td>\n",
       "      <td>Y</td>\n",
       "      <td>47570.0</td>\n",
       "      <td>2012.0</td>\n",
       "      <td>arkansas</td>\n",
       "      <td>2012-01-01</td>\n",
       "    </tr>\n",
       "    <tr>\n",
       "      <th>2420331</th>\n",
       "      <td>CERTIFIED</td>\n",
       "      <td>automotive robotics inc</td>\n",
       "      <td>Architecture &amp; Engineering</td>\n",
       "      <td>Y</td>\n",
       "      <td>55598.0</td>\n",
       "      <td>2012.0</td>\n",
       "      <td>illinois</td>\n",
       "      <td>2012-01-01</td>\n",
       "    </tr>\n",
       "  </tbody>\n",
       "</table>\n",
       "</div>"
      ],
      "text/plain": [
       "        CASE_STATUS                      EMPLOYER_NAME  \\\n",
       "1373320   CERTIFIED          xenosoft technologies inc   \n",
       "1926007   CERTIFIED                    infosys limited   \n",
       "1601710   CERTIFIED  tata consultancy services limited   \n",
       "2417561   CERTIFIED                 acxiom corporation   \n",
       "2420331   CERTIFIED            automotive robotics inc   \n",
       "\n",
       "                           SOC_NAME FULL_TIME_POSITION  PREVAILING_WAGE  \\\n",
       "1373320               IT Profession                  Y          58011.0   \n",
       "1926007               IT Profession                  Y          70948.8   \n",
       "1601710               IT Profession                  Y          41558.0   \n",
       "2417561               IT Profession                  Y          47570.0   \n",
       "2420331  Architecture & Engineering                  Y          55598.0   \n",
       "\n",
       "           YEAR     WORKSITE       DATE  \n",
       "1373320  2014.0         iowa 2014-01-01  \n",
       "1926007  2013.0   california 2013-01-01  \n",
       "1601710  2014.0         ohio 2014-01-01  \n",
       "2417561  2012.0     arkansas 2012-01-01  \n",
       "2420331  2012.0     illinois 2012-01-01  "
      ]
     },
     "execution_count": 57,
     "metadata": {},
     "output_type": "execute_result"
    }
   ],
   "source": [
    "cdf_down.head()"
   ]
  },
  {
   "cell_type": "code",
   "execution_count": 58,
   "metadata": {
    "executionInfo": {
     "elapsed": 12,
     "status": "ok",
     "timestamp": 1693311901394,
     "user": {
      "displayName": "Satyam Gawade",
      "userId": "11292038899515897940"
     },
     "user_tz": -330
    },
    "id": "S52XX8-FNOB9"
   },
   "outputs": [],
   "source": [
    "def space_remover(x):\n",
    "  x = x.replace(' ','')\n",
    "  return x"
   ]
  },
  {
   "cell_type": "code",
   "execution_count": 59,
   "metadata": {
    "executionInfo": {
     "elapsed": 12,
     "status": "ok",
     "timestamp": 1693311904490,
     "user": {
      "displayName": "Satyam Gawade",
      "userId": "11292038899515897940"
     },
     "user_tz": -330
    },
    "id": "ykoFvfvcOI64"
   },
   "outputs": [],
   "source": [
    "cdf_down['WORKSITE'] = cdf_down['WORKSITE'].apply(space_remover)"
   ]
  },
  {
   "cell_type": "code",
   "execution_count": 60,
   "metadata": {
    "colab": {
     "base_uri": "https://localhost:8080/"
    },
    "executionInfo": {
     "elapsed": 21,
     "status": "ok",
     "timestamp": 1693311906617,
     "user": {
      "displayName": "Satyam Gawade",
      "userId": "11292038899515897940"
     },
     "user_tz": -330
    },
    "id": "vb6wEm_IOZw7",
    "outputId": "fb21334c-2fe4-42f9-df5f-38a0c3f1b2e3"
   },
   "outputs": [
    {
     "data": {
      "text/plain": [
       "california            11173\n",
       "texas                  8256\n",
       "newjersey              6235\n",
       "newyork                6094\n",
       "illinois               4739\n",
       "pennsylvania           3608\n",
       "massachusetts          3361\n",
       "georgia                3149\n",
       "virginia               2555\n",
       "michigan               2521\n",
       "washington             2519\n",
       "northcarolina          2499\n",
       "florida                2460\n",
       "ohio                   2458\n",
       "minnesota              1539\n",
       "maryland               1469\n",
       "connecticut            1417\n",
       "arizona                1243\n",
       "missouri               1124\n",
       "wisconsin              1029\n",
       "colorado                919\n",
       "indiana                 884\n",
       "tennessee               860\n",
       "oregon                  681\n",
       "delaware                646\n",
       "districtofcolumbia      576\n",
       "iowa                    502\n",
       "arkansas                447\n",
       "kansas                  424\n",
       "rhodeisland             372\n",
       "kentucky                357\n",
       "utah                    349\n",
       "southcarolina           334\n",
       "alabama                 288\n",
       "newhampshire            279\n",
       "louisiana               274\n",
       "oklahoma                266\n",
       "na                      266\n",
       "nebraska                265\n",
       "mississippi             162\n",
       "nevada                  155\n",
       "newmexico               151\n",
       "idaho                   139\n",
       "hawaii                   83\n",
       "westvirginia             80\n",
       "maine                    67\n",
       "northdakota              66\n",
       "montana                  62\n",
       "southdakota              49\n",
       "vermont                  49\n",
       "puertorico               34\n",
       "alaska                   33\n",
       "wyoming                  15\n",
       "Name: WORKSITE, dtype: int64"
      ]
     },
     "execution_count": 60,
     "metadata": {},
     "output_type": "execute_result"
    }
   ],
   "source": [
    "cdf_down['WORKSITE'].value_counts()"
   ]
  },
  {
   "cell_type": "code",
   "execution_count": 61,
   "metadata": {
    "colab": {
     "base_uri": "https://localhost:8080/"
    },
    "executionInfo": {
     "elapsed": 532,
     "status": "ok",
     "timestamp": 1693311913821,
     "user": {
      "displayName": "Satyam Gawade",
      "userId": "11292038899515897940"
     },
     "user_tz": -330
    },
    "id": "4eYDtz_1BmJ0",
    "outputId": "78a9cba2-f8dc-4129-f7f4-6caf0e7783f9"
   },
   "outputs": [
    {
     "data": {
      "text/plain": [
       "CERTIFIED    55761\n",
       "DENIED       23821\n",
       "Name: CASE_STATUS, dtype: int64"
      ]
     },
     "execution_count": 61,
     "metadata": {},
     "output_type": "execute_result"
    }
   ],
   "source": [
    "cdf_down['CASE_STATUS'].value_counts()"
   ]
  },
  {
   "cell_type": "code",
   "execution_count": 62,
   "metadata": {
    "colab": {
     "base_uri": "https://localhost:8080/"
    },
    "executionInfo": {
     "elapsed": 431,
     "status": "ok",
     "timestamp": 1693311916536,
     "user": {
      "displayName": "Satyam Gawade",
      "userId": "11292038899515897940"
     },
     "user_tz": -330
    },
    "id": "Yz90nBM4BKry",
    "outputId": "23f626c5-316d-44a1-e9e8-8e658bd2ba34"
   },
   "outputs": [
    {
     "data": {
      "text/plain": [
       "Index(['CASE_STATUS', 'EMPLOYER_NAME', 'SOC_NAME', 'FULL_TIME_POSITION',\n",
       "       'PREVAILING_WAGE', 'YEAR', 'WORKSITE', 'DATE'],\n",
       "      dtype='object')"
      ]
     },
     "execution_count": 62,
     "metadata": {},
     "output_type": "execute_result"
    }
   ],
   "source": [
    "cdf_down.columns"
   ]
  },
  {
   "cell_type": "code",
   "execution_count": 64,
   "metadata": {
    "colab": {
     "base_uri": "https://localhost:8080/",
     "height": 105
    },
    "executionInfo": {
     "elapsed": 539,
     "status": "ok",
     "timestamp": 1693311922086,
     "user": {
      "displayName": "Satyam Gawade",
      "userId": "11292038899515897940"
     },
     "user_tz": -330
    },
    "id": "r1nlZ1-7_DiN",
    "outputId": "ced0858f-d8f5-4e49-a39b-37de847a5821"
   },
   "outputs": [
    {
     "data": {
      "text/plain": [
       "'\\nfrom imblearn.over_sampling import SMOTE\\nfrom collections import Counter\\n\\nX = cdf_down[[\\'EMPLOYER_NAME\\', \\'SOC_NAME\\', \\'FULL_TIME_POSITION\\',\\'PREVAILING_WAGE\\', \\'YEAR\\', \\'WORKSITE\\', \\'Date\\']]\\ny = cdf_down[\\'CASE_STATUS\\']\\n\\n# Print the original class distribution\\nprint(\"Original class distribution:\", Counter(y))\\n\\n# Instantiate the SMOTE algorithm\\nsmote = SMOTE(sampling_strategy=\\'auto\\', random_state=42)\\n\\n# Apply SMOTE to generate synthetic samples\\nX_resampled, y_resampled = smote.fit_resample(X, y)\\n\\n# Print the resampled class distribution\\nprint(\"Resampled class distribution:\", Counter(y_resampled))\\n'"
      ]
     },
     "execution_count": 64,
     "metadata": {},
     "output_type": "execute_result"
    }
   ],
   "source": [
    "# we will use over sampling after converting categorical to numerical and after scaling since it requires data in numeric form\n",
    "'''\n",
    "from imblearn.over_sampling import SMOTE\n",
    "from collections import Counter\n",
    "\n",
    "X = cdf_down[['EMPLOYER_NAME', 'SOC_NAME', 'FULL_TIME_POSITION','PREVAILING_WAGE', 'YEAR', 'WORKSITE', 'Date']]\n",
    "y = cdf_down['CASE_STATUS']\n",
    "\n",
    "# Print the original class distribution\n",
    "print(\"Original class distribution:\", Counter(y))\n",
    "\n",
    "# Instantiate the SMOTE algorithm\n",
    "smote = SMOTE(sampling_strategy='auto', random_state=42)\n",
    "\n",
    "# Apply SMOTE to generate synthetic samples\n",
    "X_resampled, y_resampled = smote.fit_resample(X, y)\n",
    "\n",
    "# Print the resampled class distribution\n",
    "print(\"Resampled class distribution:\", Counter(y_resampled))\n",
    "'''"
   ]
  },
  {
   "cell_type": "markdown",
   "metadata": {
    "id": "bE2uS9FnAEWL"
   },
   "source": [
    "#### Advantages of SMOTE:\n",
    "\n",
    "Improved Model Performance: SMOTE generates synthetic samples that can help the model learn the characteristics of the minority class more effectively. This can lead to improved generalization and better performance on unseen data.\n",
    "\n",
    "Reduced Overfitting: By creating synthetic samples, SMOTE reduces the risk of overfitting to the majority class, allowing the model to better capture the underlying patterns of the data.\n",
    "\n",
    "Preservation of Information: SMOTE generates synthetic samples by interpolating between real samples, ensuring that the generated data points are representative of the true data distribution and preserve the inherent information of the minority class.\n",
    "\n",
    "Expanded Decision Boundary: The introduction of synthetic samples can lead to a more expanded and better-defined decision boundary between classes, resulting in better class separation.\n",
    "\n",
    "Mitigated Bias: SMOTE reduces the bias towards the majority class, allowing the model to pay more attention to the minority class during training.\n",
    "\n",
    "Compatibility with Various Algorithms: SMOTE can be used in conjunction with a variety of machine learning algorithms, making it versatile and easy to integrate into different modeling approaches.\n",
    "\n",
    "Data Augmentation: SMOTE effectively augments the dataset for the minority class, which can be particularly useful when obtaining more real-world data is challenging.\n",
    "\n",
    "Disadvantages of SMOTE:\n",
    "\n",
    "Risk of Overfitting: While SMOTE helps in mitigating overfitting to the majority class, it might lead to overfitting to the synthetic samples themselves if not used cautiously.\n",
    "\n",
    "Potential for Noise: In some cases, SMOTE might generate noisy samples that do not accurately represent the true distribution of the minority class.\n",
    "\n",
    "Increased Computational Complexity: Generating synthetic samples through SMOTE requires extra computational resources, and the increased dataset size can lead to longer training times.\n",
    "\n",
    "Dependency on Nearest Neighbors: SMOTE relies on the nearest neighbors of existing samples to generate synthetic samples. If the nearest neighbors are not well-representative of the true data distribution, the generated samples may not be accurate.\n",
    "\n",
    "Sensitive to Hyperparameters: The effectiveness of SMOTE can depend on hyperparameters such as the number of synthetic samples generated and the choice of nearest neighbors. These need to be carefully tuned for optimal results.\n",
    "\n",
    "Limited to Feature Space: SMOTE operates in the feature space and may not capture more complex relationships that exist in the input data.\n",
    "\n",
    "Imbalanced Neighborhoods: In cases where the minority class is very sparse and scattered, it might be challenging to find suitable neighbors for generating synthetic samples.\n",
    "\n",
    "In summary, while SMOTE offers several benefits for handling class imbalance, it's not a one-size-fits-all solution. Careful consideration of its advantages and disadvantages, along with experimentation and tuning, is crucial to determine its appropriateness for a given dataset and problem. Additionally, there are variations and improvements on the basic SMOTE algorithm that aim to address some of its limitations."
   ]
  },
  {
   "cell_type": "markdown",
   "metadata": {
    "id": "asViHszLyu3m"
   },
   "source": [
    "##### Convert Categorical Data: \n",
    "\n",
    "These are the columns we now have in our dataset:\n",
    "\n",
    "Ordinal Numeircal Values\n",
    "  PREVAILING_WAGE\n",
    "\n",
    "Nominal Values:\n",
    "  CASE_STATUS\n",
    "  FULL_TIME_POSITION\n",
    "  EMPLOYER_NAME\n",
    "  WORKSITE\n",
    "\n",
    "As *PREVAILING_WAGE* has huge number of unique values, We will do Scaling for this column\n",
    "\n",
    "The conversion of other colums are shown in the table below:\n",
    "\n",
    "      |       Column       |       Conversion      |\n",
    "      |:------------------:|:---------------------:|\n",
    "      |     CASE_STATUS    | CERTIFIED=1, DENIED=0 |\n",
    "      | FULL_TIME_POSITION |        Y=1, N=0       |\n",
    "      |    EMPLOYER_NAME   |          OHE          |\n",
    "      |      WORKSITE      |          OHE          |\n",
    "As four columns of dataset are in object format, we have changed them into category type to fit into the model."
   ]
  },
  {
   "cell_type": "code",
   "execution_count": 65,
   "metadata": {},
   "outputs": [],
   "source": [
    "# Genereting new column related to prevailing wage into 'low', 'medium' and 'high'\n",
    "def wage_categorizer(x):\n",
    "    if x > 0 and x <= 30000:\n",
    "        return 'LOW'\n",
    "    elif x <= 60000:\n",
    "        return 'MEDIUM'\n",
    "    elif x > 60000:\n",
    "        return 'HIGH'    "
   ]
  },
  {
   "cell_type": "code",
   "execution_count": 66,
   "metadata": {},
   "outputs": [],
   "source": [
    "cdf_down['WAGE_CATERGORIZED'] = cdf_down['PREVAILING_WAGE'].apply(wage_categorizer)"
   ]
  },
  {
   "cell_type": "code",
   "execution_count": 67,
   "metadata": {
    "colab": {
     "base_uri": "https://localhost:8080/",
     "height": 241
    },
    "executionInfo": {
     "elapsed": 460,
     "status": "ok",
     "timestamp": 1693311964923,
     "user": {
      "displayName": "Satyam Gawade",
      "userId": "11292038899515897940"
     },
     "user_tz": -330
    },
    "id": "KJEXFULIi2c3",
    "outputId": "63a5f099-e6bd-470a-bea0-cf297262927d",
    "scrolled": true
   },
   "outputs": [
    {
     "data": {
      "text/html": [
       "<div>\n",
       "<style scoped>\n",
       "    .dataframe tbody tr th:only-of-type {\n",
       "        vertical-align: middle;\n",
       "    }\n",
       "\n",
       "    .dataframe tbody tr th {\n",
       "        vertical-align: top;\n",
       "    }\n",
       "\n",
       "    .dataframe thead th {\n",
       "        text-align: right;\n",
       "    }\n",
       "</style>\n",
       "<table border=\"1\" class=\"dataframe\">\n",
       "  <thead>\n",
       "    <tr style=\"text-align: right;\">\n",
       "      <th></th>\n",
       "      <th>CASE_STATUS</th>\n",
       "      <th>EMPLOYER_NAME</th>\n",
       "      <th>SOC_NAME</th>\n",
       "      <th>FULL_TIME_POSITION</th>\n",
       "      <th>PREVAILING_WAGE</th>\n",
       "      <th>YEAR</th>\n",
       "      <th>WORKSITE</th>\n",
       "      <th>DATE</th>\n",
       "      <th>WAGE_CATERGORIZED</th>\n",
       "    </tr>\n",
       "  </thead>\n",
       "  <tbody>\n",
       "    <tr>\n",
       "      <th>1373320</th>\n",
       "      <td>CERTIFIED</td>\n",
       "      <td>xenosoft technologies inc</td>\n",
       "      <td>IT Profession</td>\n",
       "      <td>Y</td>\n",
       "      <td>58011.0</td>\n",
       "      <td>2014.0</td>\n",
       "      <td>iowa</td>\n",
       "      <td>2014-01-01</td>\n",
       "      <td>MEDIUM</td>\n",
       "    </tr>\n",
       "    <tr>\n",
       "      <th>1926007</th>\n",
       "      <td>CERTIFIED</td>\n",
       "      <td>infosys limited</td>\n",
       "      <td>IT Profession</td>\n",
       "      <td>Y</td>\n",
       "      <td>70948.8</td>\n",
       "      <td>2013.0</td>\n",
       "      <td>california</td>\n",
       "      <td>2013-01-01</td>\n",
       "      <td>HIGH</td>\n",
       "    </tr>\n",
       "    <tr>\n",
       "      <th>1601710</th>\n",
       "      <td>CERTIFIED</td>\n",
       "      <td>tata consultancy services limited</td>\n",
       "      <td>IT Profession</td>\n",
       "      <td>Y</td>\n",
       "      <td>41558.0</td>\n",
       "      <td>2014.0</td>\n",
       "      <td>ohio</td>\n",
       "      <td>2014-01-01</td>\n",
       "      <td>MEDIUM</td>\n",
       "    </tr>\n",
       "    <tr>\n",
       "      <th>2417561</th>\n",
       "      <td>CERTIFIED</td>\n",
       "      <td>acxiom corporation</td>\n",
       "      <td>IT Profession</td>\n",
       "      <td>Y</td>\n",
       "      <td>47570.0</td>\n",
       "      <td>2012.0</td>\n",
       "      <td>arkansas</td>\n",
       "      <td>2012-01-01</td>\n",
       "      <td>MEDIUM</td>\n",
       "    </tr>\n",
       "    <tr>\n",
       "      <th>2420331</th>\n",
       "      <td>CERTIFIED</td>\n",
       "      <td>automotive robotics inc</td>\n",
       "      <td>Architecture &amp; Engineering</td>\n",
       "      <td>Y</td>\n",
       "      <td>55598.0</td>\n",
       "      <td>2012.0</td>\n",
       "      <td>illinois</td>\n",
       "      <td>2012-01-01</td>\n",
       "      <td>MEDIUM</td>\n",
       "    </tr>\n",
       "  </tbody>\n",
       "</table>\n",
       "</div>"
      ],
      "text/plain": [
       "        CASE_STATUS                      EMPLOYER_NAME  \\\n",
       "1373320   CERTIFIED          xenosoft technologies inc   \n",
       "1926007   CERTIFIED                    infosys limited   \n",
       "1601710   CERTIFIED  tata consultancy services limited   \n",
       "2417561   CERTIFIED                 acxiom corporation   \n",
       "2420331   CERTIFIED            automotive robotics inc   \n",
       "\n",
       "                           SOC_NAME FULL_TIME_POSITION  PREVAILING_WAGE  \\\n",
       "1373320               IT Profession                  Y          58011.0   \n",
       "1926007               IT Profession                  Y          70948.8   \n",
       "1601710               IT Profession                  Y          41558.0   \n",
       "2417561               IT Profession                  Y          47570.0   \n",
       "2420331  Architecture & Engineering                  Y          55598.0   \n",
       "\n",
       "           YEAR    WORKSITE       DATE WAGE_CATERGORIZED  \n",
       "1373320  2014.0        iowa 2014-01-01            MEDIUM  \n",
       "1926007  2013.0  california 2013-01-01              HIGH  \n",
       "1601710  2014.0        ohio 2014-01-01            MEDIUM  \n",
       "2417561  2012.0    arkansas 2012-01-01            MEDIUM  \n",
       "2420331  2012.0    illinois 2012-01-01            MEDIUM  "
      ]
     },
     "execution_count": 67,
     "metadata": {},
     "output_type": "execute_result"
    }
   ],
   "source": [
    "cdf_down.head()"
   ]
  },
  {
   "cell_type": "code",
   "execution_count": 68,
   "metadata": {},
   "outputs": [
    {
     "data": {
      "text/plain": [
       "HIGH      46280\n",
       "MEDIUM    32582\n",
       "LOW         720\n",
       "Name: WAGE_CATERGORIZED, dtype: int64"
      ]
     },
     "execution_count": 68,
     "metadata": {},
     "output_type": "execute_result"
    }
   ],
   "source": [
    "cdf_down['WAGE_CATERGORIZED'].value_counts()"
   ]
  },
  {
   "cell_type": "code",
   "execution_count": 69,
   "metadata": {
    "executionInfo": {
     "elapsed": 716,
     "status": "ok",
     "timestamp": 1693311968406,
     "user": {
      "displayName": "Satyam Gawade",
      "userId": "11292038899515897940"
     },
     "user_tz": -330
    },
    "id": "Fxm6zFCAlR7y"
   },
   "outputs": [],
   "source": [
    "# Lets Export this to excel format for visualization in tableau and using it for model making\n",
    "cdf_down.to_csv('h1b_for_model_making_02')"
   ]
  },
  {
   "cell_type": "code",
   "execution_count": null,
   "metadata": {
    "executionInfo": {
     "elapsed": 42,
     "status": "ok",
     "timestamp": 1693301821094,
     "user": {
      "displayName": "Satyam Gawade",
      "userId": "11292038899515897940"
     },
     "user_tz": -330
    },
    "id": "fpZF743GCbMY"
   },
   "outputs": [],
   "source": []
  }
 ],
 "metadata": {
  "accelerator": "TPU",
  "colab": {
   "authorship_tag": "ABX9TyM3NELrQHu/ZecaDjW3uoPc",
   "provenance": []
  },
  "kernelspec": {
   "display_name": "Python 3 (ipykernel)",
   "language": "python",
   "name": "python3"
  },
  "language_info": {
   "codemirror_mode": {
    "name": "ipython",
    "version": 3
   },
   "file_extension": ".py",
   "mimetype": "text/x-python",
   "name": "python",
   "nbconvert_exporter": "python",
   "pygments_lexer": "ipython3",
   "version": "3.9.7"
  }
 },
 "nbformat": 4,
 "nbformat_minor": 1
}
